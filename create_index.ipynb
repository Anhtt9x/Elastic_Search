{
 "cells": [
  {
   "cell_type": "code",
   "execution_count": 117,
   "metadata": {},
   "outputs": [
    {
     "name": "stdout",
     "output_type": "stream",
     "text": [
      "{'cluster_name': 'docker-cluster',\n",
      " 'cluster_uuid': 'S88XwI8mTkSFeJBJ4J532w',\n",
      " 'name': 'c0d7ef8c0833',\n",
      " 'tagline': 'You Know, for Search',\n",
      " 'version': {'build_date': '2024-08-05T10:05:34.233336849Z',\n",
      "             'build_flavor': 'default',\n",
      "             'build_hash': '1a77947f34deddb41af25e6f0ddb8e830159c179',\n",
      "             'build_snapshot': False,\n",
      "             'build_type': 'docker',\n",
      "             'lucene_version': '9.11.1',\n",
      "             'minimum_index_compatibility_version': '7.0.0',\n",
      "             'minimum_wire_compatibility_version': '7.17.0',\n",
      "             'number': '8.15.0'}}\n"
     ]
    }
   ],
   "source": [
    "from elasticsearch import Elasticsearch\n",
    "from pprint import pprint\n",
    "\n",
    "es = Elasticsearch(\"http://localhost:9200/\")\n",
    "client_info = es.info()\n",
    "pprint(client_info.body)"
   ]
  },
  {
   "cell_type": "code",
   "execution_count": 118,
   "metadata": {},
   "outputs": [
    {
     "data": {
      "text/plain": [
       "ObjectApiResponse({'acknowledged': True, 'shards_acknowledged': True, 'index': 'my_index'})"
      ]
     },
     "execution_count": 118,
     "metadata": {},
     "output_type": "execute_result"
    }
   ],
   "source": [
    "es.indices.delete(index=\"my_index\",ignore_unavailable=True)\n",
    "es.indices.create(index=\"my_index\",\n",
    "                  settings={\n",
    "                      \"index\":{\n",
    "                      \"number_of_shards\": 3,\n",
    "                      \"number_of_replicas\": 2\n",
    "                      }\n",
    "                  })"
   ]
  },
  {
   "cell_type": "code",
   "execution_count": 119,
   "metadata": {},
   "outputs": [
    {
     "data": {
      "text/plain": [
       "ObjectApiResponse({'_index': 'my_index', '_id': '5PAV3ZMBwUvK-SJlwnbj', '_version': 1, 'result': 'created', '_shards': {'total': 3, 'successful': 1, 'failed': 0}, '_seq_no': 0, '_primary_term': 1})"
      ]
     },
     "execution_count": 119,
     "metadata": {},
     "output_type": "execute_result"
    }
   ],
   "source": [
    "documents = {\n",
    "    'title':'title',\n",
    "    'text':'text',\n",
    "    'created_on':'2024-09-22'\n",
    "}\n",
    "\n",
    "response = es.index(index=\"my_index\",document=documents)\n",
    "response"
   ]
  },
  {
   "cell_type": "code",
   "execution_count": 120,
   "metadata": {},
   "outputs": [],
   "source": [
    "dummy_data = [\n",
    "  {\n",
    "    \"title\": \"Sample Title 1\",\n",
    "    \"text\": \"This is the first sample document text.\",\n",
    "    \"created_on\": \"2024-09-22\"\n",
    "  },\n",
    "  {\n",
    "    \"title\": \"Sample Title 2\",\n",
    "    \"text\": \"Here is another example of a document.\",\n",
    "    \"created_on\": \"2024-09-24\"\n",
    "  },\n",
    "  {\n",
    "    \"title\": \"Sample Title 3\",\n",
    "    \"text\": \"The content of the third document goes here.\",\n",
    "    \"created_on\": \"2024-09-24\"\n",
    "  }\n",
    "]"
   ]
  },
  {
   "cell_type": "code",
   "execution_count": 121,
   "metadata": {},
   "outputs": [
    {
     "name": "stdout",
     "output_type": "stream",
     "text": [
      "Document ID: 5fAV3ZMBwUvK-SJlw3Y7 is created and is split into 3 shards\n",
      "Document ID: 5vAV3ZMBwUvK-SJlw3ZD is created and is split into 3 shards\n",
      "Document ID: 5_AV3ZMBwUvK-SJlw3ZP is created and is split into 3 shards\n"
     ]
    }
   ],
   "source": [
    "def insert_document(document):\n",
    "    response = es.index(index=\"my_index\",document=documents)\n",
    "    return response\n",
    "\n",
    "def print_info(response):\n",
    "    print(f\"\"\"Document ID: {response['_id']} is {\n",
    "        response['result']} and is split into {response['_shards']['total']} shards\"\"\")\n",
    "    \n",
    "for document in dummy_data:\n",
    "    response = insert_document(document)\n",
    "    print_info(response)"
   ]
  },
  {
   "cell_type": "code",
   "execution_count": 122,
   "metadata": {},
   "outputs": [
    {
     "name": "stdout",
     "output_type": "stream",
     "text": [
      "ObjectApiResponse({'my_index': {'mappings': {'properties': {'created_on': {'type': 'date'}, 'text': {'type': 'text', 'fields': {'keyword': {'type': 'keyword', 'ignore_above': 256}}}, 'title': {'type': 'text', 'fields': {'keyword': {'type': 'keyword', 'ignore_above': 256}}}}}}})\n"
     ]
    }
   ],
   "source": [
    "index_mapping = es.indices.get_mapping(index=\"my_index\")\n",
    "pprint(index_mapping)"
   ]
  },
  {
   "cell_type": "code",
   "execution_count": 123,
   "metadata": {},
   "outputs": [
    {
     "name": "stdout",
     "output_type": "stream",
     "text": [
      "{'created_on': {'type': 'date'},\n",
      " 'text': {'fields': {'keyword': {'ignore_above': 256, 'type': 'keyword'}},\n",
      "          'type': 'text'},\n",
      " 'title': {'fields': {'keyword': {'ignore_above': 256, 'type': 'keyword'}},\n",
      "           'type': 'text'}}\n"
     ]
    }
   ],
   "source": [
    "es.indices.delete(index=\"my_index\",ignore_unavailable=True)\n",
    "es.indices.create(index=\"my_index\")\n",
    "\n",
    "mapping = {\n",
    "    'properties': {\n",
    "        'created_on': {'type': 'date'},\n",
    "        'text': {\n",
    "            'type': 'text',\n",
    "            'fields': {\n",
    "                'keyword': {\n",
    "                    'type': 'keyword',\n",
    "                    'ignore_above': 256\n",
    "                }\n",
    "            }\n",
    "        },\n",
    "        'title': {\n",
    "            'type': 'text',\n",
    "            'fields': {\n",
    "                'keyword': {\n",
    "                    'type': 'keyword',\n",
    "                    'ignore_above': 256\n",
    "                }\n",
    "            }\n",
    "        }\n",
    "    }\n",
    "}\n",
    "\n",
    "es.indices.put_mapping(index=\"my_index\",body=mapping)\n",
    "index_mapping = es.indices.get_mapping(index=\"my_index\")\n",
    "pprint(index_mapping[\"my_index\"][\"mappings\"][\"properties\"])"
   ]
  },
  {
   "cell_type": "code",
   "execution_count": 124,
   "metadata": {},
   "outputs": [
    {
     "data": {
      "text/plain": [
       "ObjectApiResponse({'acknowledged': True, 'shards_acknowledged': True, 'index': 'other_common_data_types_index'})"
      ]
     },
     "execution_count": 124,
     "metadata": {},
     "output_type": "execute_result"
    }
   ],
   "source": [
    "es.indices.delete(index='other_common_data_types_index',\n",
    "                  ignore_unavailable=True)\n",
    "es.indices.create(\n",
    "    index='other_common_data_types_index',\n",
    "    mappings={\n",
    "        \"properties\": {\n",
    "            \"book_reference\": {\n",
    "                \"type\": \"keyword\"\n",
    "            },\n",
    "            \"price\": {\n",
    "                \"type\": \"float\"\n",
    "            },\n",
    "            \"publish_date\": {\n",
    "                \"type\": \"date\"\n",
    "            },\n",
    "            \"is_available\": {\n",
    "                \"type\": \"boolean\"\n",
    "            },\n",
    "        }\n",
    "    }\n",
    ")"
   ]
  },
  {
   "cell_type": "code",
   "execution_count": 125,
   "metadata": {},
   "outputs": [
    {
     "data": {
      "text/plain": [
       "ObjectApiResponse({'_index': 'other_common_data_types_index', '_id': '6PAV3ZMBwUvK-SJlxXZU', '_version': 1, 'result': 'created', '_shards': {'total': 2, 'successful': 1, 'failed': 0}, '_seq_no': 0, '_primary_term': 1})"
      ]
     },
     "execution_count": 125,
     "metadata": {},
     "output_type": "execute_result"
    }
   ],
   "source": [
    "document = {\n",
    "    \"book_reference\": \"978-1617294433\",\n",
    "    \"price\": 44.99,\n",
    "    \"publish_date\": \"2021-06-30\",\n",
    "    \"is_available\": True\n",
    "}\n",
    "response = es.index(index='other_common_data_types_index', body=document)\n",
    "response"
   ]
  },
  {
   "cell_type": "code",
   "execution_count": 126,
   "metadata": {},
   "outputs": [
    {
     "data": {
      "text/plain": [
       "ObjectApiResponse({'acknowledged': True, 'shards_acknowledged': True, 'index': 'object_index'})"
      ]
     },
     "execution_count": 126,
     "metadata": {},
     "output_type": "execute_result"
    }
   ],
   "source": [
    "es.indices.delete(index='object_index', ignore_unavailable=True)\n",
    "es.indices.create(\n",
    "    index='object_index',\n",
    "    mappings={\n",
    "        \"properties\": {\n",
    "            \"author\": {\n",
    "                \"properties\": {\n",
    "                    \"first_name\": {\n",
    "                        \"type\": \"text\"\n",
    "                    },\n",
    "                    \"last_name\": {\n",
    "                        \"type\": \"text\"\n",
    "                    }\n",
    "                }\n",
    "            }\n",
    "        }\n",
    "    }\n",
    ")"
   ]
  },
  {
   "cell_type": "code",
   "execution_count": 127,
   "metadata": {},
   "outputs": [
    {
     "data": {
      "text/plain": [
       "ObjectApiResponse({'_index': 'object_index', '_id': '6fAV3ZMBwUvK-SJlxnZW', '_version': 1, 'result': 'created', '_shards': {'total': 2, 'successful': 1, 'failed': 0}, '_seq_no': 0, '_primary_term': 1})"
      ]
     },
     "execution_count": 127,
     "metadata": {},
     "output_type": "execute_result"
    }
   ],
   "source": [
    "document = {\n",
    "    \"author\": {\n",
    "        \"first_name\": \"Imad\",\n",
    "        \"last_name\": \"Saddik\"\n",
    "    }\n",
    "}\n",
    "response = es.index(index='object_index', body=document)\n",
    "response"
   ]
  },
  {
   "cell_type": "code",
   "execution_count": 128,
   "metadata": {},
   "outputs": [
    {
     "data": {
      "text/plain": [
       "ObjectApiResponse({'acknowledged': True, 'shards_acknowledged': True, 'index': 'flattened_object_index'})"
      ]
     },
     "execution_count": 128,
     "metadata": {},
     "output_type": "execute_result"
    }
   ],
   "source": [
    "es.indices.delete(index='flattened_object_index', ignore_unavailable=True)\n",
    "es.indices.create(\n",
    "    index='flattened_object_index',\n",
    "    mappings={\n",
    "        \"properties\": {\n",
    "            \"author\": {\n",
    "                \"type\": \"flattened\"\n",
    "            }\n",
    "        }\n",
    "    }\n",
    ")"
   ]
  },
  {
   "cell_type": "code",
   "execution_count": 129,
   "metadata": {},
   "outputs": [
    {
     "data": {
      "text/plain": [
       "ObjectApiResponse({'_index': 'flattened_object_index', '_id': '6vAV3ZMBwUvK-SJlx3Y8', '_version': 1, 'result': 'created', '_shards': {'total': 2, 'successful': 1, 'failed': 0}, '_seq_no': 0, '_primary_term': 1})"
      ]
     },
     "execution_count": 129,
     "metadata": {},
     "output_type": "execute_result"
    }
   ],
   "source": [
    "document = {\n",
    "    \"author\": {\n",
    "        \"first_name\": \"Imad\",\n",
    "        \"last_name\": \"Saddik\"\n",
    "    }\n",
    "}\n",
    "response = es.index(index='flattened_object_index', body=document)\n",
    "response"
   ]
  },
  {
   "cell_type": "code",
   "execution_count": 130,
   "metadata": {},
   "outputs": [
    {
     "data": {
      "text/plain": [
       "ObjectApiResponse({'acknowledged': True, 'shards_acknowledged': True, 'index': 'nested_object_index'})"
      ]
     },
     "execution_count": 130,
     "metadata": {},
     "output_type": "execute_result"
    }
   ],
   "source": [
    "es.indices.delete(index='nested_object_index', ignore_unavailable=True)\n",
    "es.indices.create(\n",
    "    index='nested_object_index',\n",
    "    mappings={\n",
    "        \"properties\": {\n",
    "            \"user\": {\n",
    "                \"type\": \"nested\",\n",
    "            }\n",
    "        }\n",
    "    }\n",
    ")"
   ]
  },
  {
   "cell_type": "code",
   "execution_count": 131,
   "metadata": {},
   "outputs": [
    {
     "data": {
      "text/plain": [
       "ObjectApiResponse({'_index': 'nested_object_index', '_id': '6_AV3ZMBwUvK-SJlyHYu', '_version': 1, 'result': 'created', '_shards': {'total': 2, 'successful': 1, 'failed': 0}, '_seq_no': 0, '_primary_term': 1})"
      ]
     },
     "execution_count": 131,
     "metadata": {},
     "output_type": "execute_result"
    }
   ],
   "source": [
    "documents = [\n",
    "    {\n",
    "        \"first\": \"John\",\n",
    "        \"last\": \"Smith\"\n",
    "    },\n",
    "    {\n",
    "        \"first\": \"Imad\",\n",
    "        \"last\": \"Saddik\"\n",
    "    }\n",
    "]\n",
    "response = es.index(index='nested_object_index', body={\"user\": documents})\n",
    "response"
   ]
  },
  {
   "cell_type": "code",
   "execution_count": 132,
   "metadata": {},
   "outputs": [
    {
     "data": {
      "text/plain": [
       "ObjectApiResponse({'acknowledged': True, 'shards_acknowledged': True, 'index': 'text_index'})"
      ]
     },
     "execution_count": 132,
     "metadata": {},
     "output_type": "execute_result"
    }
   ],
   "source": [
    "es.indices.delete(index='text_index', ignore_unavailable=True)\n",
    "es.indices.create(\n",
    "    index='text_index',\n",
    "    mappings={\n",
    "        \"properties\": {\n",
    "            \"email_body\": {\n",
    "                \"type\": \"text\"\n",
    "            }\n",
    "        }\n",
    "    }\n",
    ")"
   ]
  },
  {
   "cell_type": "code",
   "execution_count": 133,
   "metadata": {},
   "outputs": [
    {
     "data": {
      "text/plain": [
       "ObjectApiResponse({'_index': 'text_index', '_id': '7PAV3ZMBwUvK-SJlyXY9', '_version': 1, 'result': 'created', '_shards': {'total': 2, 'successful': 1, 'failed': 0}, '_seq_no': 0, '_primary_term': 1})"
      ]
     },
     "execution_count": 133,
     "metadata": {},
     "output_type": "execute_result"
    }
   ],
   "source": [
    "document = {\n",
    "    \"email_body\": \"Hello, this is a test email.\"\n",
    "}\n",
    "response = es.index(index='text_index', body=document)\n",
    "response"
   ]
  },
  {
   "cell_type": "code",
   "execution_count": 134,
   "metadata": {},
   "outputs": [
    {
     "data": {
      "text/plain": [
       "ObjectApiResponse({'acknowledged': True, 'shards_acknowledged': True, 'index': 'text_completion_index'})"
      ]
     },
     "execution_count": 134,
     "metadata": {},
     "output_type": "execute_result"
    }
   ],
   "source": [
    "es.indices.delete(index='text_completion_index', ignore_unavailable=True)\n",
    "es.indices.create(\n",
    "    index='text_completion_index',\n",
    "    mappings={\n",
    "        \"properties\": {\n",
    "            \"suggest\": {\n",
    "                \"type\": \"completion\"\n",
    "            }\n",
    "        }\n",
    "    }\n",
    ")"
   ]
  },
  {
   "cell_type": "code",
   "execution_count": 135,
   "metadata": {},
   "outputs": [
    {
     "data": {
      "text/plain": [
       "ObjectApiResponse({'_index': 'text_completion_index', '_id': '7vAV3ZMBwUvK-SJlynY0', '_version': 1, 'result': 'created', '_shards': {'total': 2, 'successful': 1, 'failed': 0}, '_seq_no': 1, '_primary_term': 1})"
      ]
     },
     "execution_count": 135,
     "metadata": {},
     "output_type": "execute_result"
    }
   ],
   "source": [
    "document_1 = {\n",
    "    \"suggest\": {\n",
    "        \"input\": [\"Mars\", \"Planet\"]\n",
    "    }\n",
    "}\n",
    "\n",
    "document_2 = {\n",
    "    \"suggest\": {\n",
    "        \"input\": [\"Andromeda\", \"Galaxy\"]\n",
    "    }\n",
    "}\n",
    "\n",
    "es.index(index='text_completion_index', body=document_1)\n",
    "es.index(index='text_completion_index', body=document_2)"
   ]
  },
  {
   "cell_type": "code",
   "execution_count": 136,
   "metadata": {},
   "outputs": [
    {
     "data": {
      "text/plain": [
       "ObjectApiResponse({'acknowledged': True, 'shards_acknowledged': True, 'index': 'geo_point_index'})"
      ]
     },
     "execution_count": 136,
     "metadata": {},
     "output_type": "execute_result"
    }
   ],
   "source": [
    "es.indices.delete(index='geo_point_index', ignore_unavailable=True)\n",
    "es.indices.create(\n",
    "    index='geo_point_index',\n",
    "    mappings={\n",
    "        \"properties\": {\n",
    "            \"location\": {\n",
    "                \"type\": \"geo_point\"\n",
    "            }\n",
    "        }\n",
    "    }\n",
    ")"
   ]
  },
  {
   "cell_type": "code",
   "execution_count": 137,
   "metadata": {},
   "outputs": [
    {
     "data": {
      "text/plain": [
       "ObjectApiResponse({'_index': 'geo_point_index', '_id': '7_AV3ZMBwUvK-SJly3Yu', '_version': 1, 'result': 'created', '_shards': {'total': 2, 'successful': 1, 'failed': 0}, '_seq_no': 0, '_primary_term': 1})"
      ]
     },
     "execution_count": 137,
     "metadata": {},
     "output_type": "execute_result"
    }
   ],
   "source": [
    "document = {\n",
    "    \"text\": \"Geopoint as an object using GeoJSON format\",\n",
    "    \"location\": {\n",
    "        \"type\": \"Point\",\n",
    "        \"coordinates\": [\n",
    "            -71.34,\n",
    "            41.12\n",
    "        ]\n",
    "    }\n",
    "}\n",
    "response = es.index(index='geo_point_index', body=document)\n",
    "response"
   ]
  },
  {
   "cell_type": "code",
   "execution_count": 138,
   "metadata": {},
   "outputs": [
    {
     "data": {
      "text/plain": [
       "ObjectApiResponse({'acknowledged': True, 'shards_acknowledged': True, 'index': 'geo_shape_index'})"
      ]
     },
     "execution_count": 138,
     "metadata": {},
     "output_type": "execute_result"
    }
   ],
   "source": [
    "es.indices.delete(index='geo_shape_index', ignore_unavailable=True)\n",
    "es.indices.create(\n",
    "    index='geo_shape_index',\n",
    "    mappings={\n",
    "        \"properties\": {\n",
    "            \"location\": {\n",
    "                \"type\": \"geo_shape\"\n",
    "            }\n",
    "        }\n",
    "    }\n",
    ")"
   ]
  },
  {
   "cell_type": "code",
   "execution_count": 139,
   "metadata": {},
   "outputs": [
    {
     "data": {
      "text/plain": [
       "ObjectApiResponse({'_index': 'geo_shape_index', '_id': '8fAV3ZMBwUvK-SJlzHZh', '_version': 1, 'result': 'created', '_shards': {'total': 2, 'successful': 1, 'failed': 0}, '_seq_no': 1, '_primary_term': 1})"
      ]
     },
     "execution_count": 139,
     "metadata": {},
     "output_type": "execute_result"
    }
   ],
   "source": [
    "document_1 = {\n",
    "    \"location\": {\n",
    "        \"type\": \"LineString\",\n",
    "        \"coordinates\": [\n",
    "            [\n",
    "                -77.03653,\n",
    "                38.897676\n",
    "            ],\n",
    "            [\n",
    "                -77.009051,\n",
    "                38.889939\n",
    "            ]\n",
    "        ]\n",
    "    }\n",
    "}\n",
    "document_2 = {\n",
    "    \"location\": {\n",
    "        \"type\": \"Polygon\",\n",
    "        \"coordinates\": [\n",
    "            [\n",
    "                [100, 0],\n",
    "                [101, 0],\n",
    "                [101, 1],\n",
    "                [100, 1],\n",
    "                [100, 0],\n",
    "            ],\n",
    "            [\n",
    "                [100.2, 0.2],\n",
    "                [100.8, 0.2],\n",
    "                [100.8, 0.8],\n",
    "                [100.2, 0.8],\n",
    "                [100.2, 0.2],\n",
    "            ]\n",
    "        ]\n",
    "    }\n",
    "}\n",
    "\n",
    "es.index(index='geo_shape_index', body=document_1)\n",
    "es.index(index='geo_shape_index', body=document_2)"
   ]
  },
  {
   "cell_type": "code",
   "execution_count": 140,
   "metadata": {},
   "outputs": [
    {
     "data": {
      "text/plain": [
       "ObjectApiResponse({'acknowledged': True, 'shards_acknowledged': True, 'index': 'point_index'})"
      ]
     },
     "execution_count": 140,
     "metadata": {},
     "output_type": "execute_result"
    }
   ],
   "source": [
    "es.indices.delete(index='point_index', ignore_unavailable=True)\n",
    "es.indices.create(\n",
    "    index='point_index',\n",
    "    mappings={\n",
    "        \"properties\": {\n",
    "            \"location\": {\n",
    "                \"type\": \"point\"\n",
    "            }\n",
    "        }\n",
    "    }\n",
    ")"
   ]
  },
  {
   "cell_type": "code",
   "execution_count": 141,
   "metadata": {},
   "outputs": [
    {
     "data": {
      "text/plain": [
       "ObjectApiResponse({'_index': 'point_index', '_id': '8vAV3ZMBwUvK-SJlzXZX', '_version': 1, 'result': 'created', '_shards': {'total': 2, 'successful': 1, 'failed': 0}, '_seq_no': 0, '_primary_term': 1})"
      ]
     },
     "execution_count": 141,
     "metadata": {},
     "output_type": "execute_result"
    }
   ],
   "source": [
    "document = {\n",
    "    \"location\": {\n",
    "        \"type\": \"Point\",\n",
    "        \"coordinates\": [\n",
    "            -71.34,\n",
    "            41.12\n",
    "        ]\n",
    "    }\n",
    "}\n",
    "\n",
    "response = es.index(index='point_index', body=document)\n",
    "response"
   ]
  },
  {
   "cell_type": "code",
   "execution_count": 142,
   "metadata": {},
   "outputs": [
    {
     "data": {
      "text/plain": [
       "ObjectApiResponse({'acknowledged': True, 'shards_acknowledged': True, 'index': 'my_index'})"
      ]
     },
     "execution_count": 142,
     "metadata": {},
     "output_type": "execute_result"
    }
   ],
   "source": [
    "from elasticsearch import Elasticsearch\n",
    "\n",
    "es = Elasticsearch(\"http://localhost:9200/\")\n",
    "es.indices.delete(index=\"my_index\",ignore_unavailable=True)\n",
    "es.indices.create(index=\"my_index\")"
   ]
  },
  {
   "cell_type": "code",
   "execution_count": 143,
   "metadata": {},
   "outputs": [
    {
     "name": "stderr",
     "output_type": "stream",
     "text": [
      "100%|██████████| 3/3 [00:00<00:00, 44.50it/s]\n"
     ]
    }
   ],
   "source": [
    "import json\n",
    "from tqdm import tqdm\n",
    "\n",
    "document_ids = []\n",
    "for document in tqdm(dummy_data,total=len(dummy_data)):\n",
    "    response = es.index(index=\"my_index\",document=document)\n",
    "    document_ids.append(response['_id'])"
   ]
  },
  {
   "cell_type": "code",
   "execution_count": 144,
   "metadata": {},
   "outputs": [],
   "source": [
    "# response = es.delete(index=\"my_index\", id=document_ids[0])"
   ]
  },
  {
   "cell_type": "code",
   "execution_count": 145,
   "metadata": {},
   "outputs": [
    {
     "name": "stdout",
     "output_type": "stream",
     "text": [
      "{'_id': '9fAV3ZMBwUvK-SJlznaI',\n",
      " '_index': 'my_index',\n",
      " '_primary_term': 1,\n",
      " '_seq_no': 2,\n",
      " '_shards': {'failed': 0, 'successful': 1, 'total': 2},\n",
      " '_version': 1,\n",
      " 'result': 'created'}\n"
     ]
    }
   ],
   "source": [
    "pprint(response.body)"
   ]
  },
  {
   "cell_type": "code",
   "execution_count": 146,
   "metadata": {},
   "outputs": [
    {
     "name": "stdout",
     "output_type": "stream",
     "text": [
      "{'_id': '8_AV3ZMBwUvK-SJlznZL',\n",
      " '_index': 'my_index',\n",
      " '_primary_term': 1,\n",
      " '_seq_no': 0,\n",
      " '_source': {'created_on': '2024-09-22',\n",
      "             'text': 'This is the first sample document text.',\n",
      "             'title': 'Sample Title 1'},\n",
      " '_version': 1,\n",
      " 'found': True}\n"
     ]
    }
   ],
   "source": [
    "response = es.get(index=\"my_index\", id=document_ids[0])\n",
    "pprint(response.body)"
   ]
  },
  {
   "cell_type": "code",
   "execution_count": 147,
   "metadata": {},
   "outputs": [
    {
     "name": "stdout",
     "output_type": "stream",
     "text": [
      "0\n"
     ]
    }
   ],
   "source": [
    "response = es.count(index=\"my_index\")\n",
    "print(response['count'])"
   ]
  },
  {
   "cell_type": "code",
   "execution_count": 148,
   "metadata": {},
   "outputs": [
    {
     "data": {
      "text/plain": [
       "ObjectApiResponse({'count': 0, '_shards': {'total': 1, 'successful': 1, 'skipped': 0, 'failed': 0}})"
      ]
     },
     "execution_count": 148,
     "metadata": {},
     "output_type": "execute_result"
    }
   ],
   "source": [
    "response"
   ]
  },
  {
   "cell_type": "code",
   "execution_count": 149,
   "metadata": {},
   "outputs": [
    {
     "name": "stdout",
     "output_type": "stream",
     "text": [
      "The number of documents in the index is 0\n"
     ]
    }
   ],
   "source": [
    "query = {\n",
    "    \"range\": {\n",
    "        \"created_on\": {\n",
    "            \"gte\": \"2024-09-24\",\n",
    "            \"lte\": \"2024-09-24\",\n",
    "            \"format\": \"yyyy-MM-dd\"\n",
    "        }\n",
    "    }\n",
    "}\n",
    "\n",
    "response = es.count(index='my_index', query=query)\n",
    "count = response[\"count\"]\n",
    "\n",
    "print(f\"The number of documents in the index is {count}\")"
   ]
  },
  {
   "cell_type": "code",
   "execution_count": 150,
   "metadata": {},
   "outputs": [
    {
     "data": {
      "text/plain": [
       "True"
      ]
     },
     "execution_count": 150,
     "metadata": {},
     "output_type": "execute_result"
    }
   ],
   "source": [
    "response = es.indices.exists(index=\"my_index\")\n",
    "response.body"
   ]
  },
  {
   "cell_type": "code",
   "execution_count": 151,
   "metadata": {},
   "outputs": [
    {
     "name": "stdout",
     "output_type": "stream",
     "text": [
      "{'_id': '8_AV3ZMBwUvK-SJlznZL',\n",
      " '_index': 'my_index',\n",
      " '_primary_term': 1,\n",
      " '_seq_no': 3,\n",
      " '_shards': {'failed': 0, 'successful': 1, 'total': 2},\n",
      " '_version': 2,\n",
      " 'result': 'updated'}\n"
     ]
    }
   ],
   "source": [
    "response = es.update(\n",
    "    index=\"my_index\",\n",
    "    id= document_ids[0],\n",
    "    script={\n",
    "        \"source\": \"ctx._source.title = params.title\",\n",
    "        \"params\": {\"title\": \"New Title\"}\n",
    "    }\n",
    ")\n",
    "pprint(response.body)"
   ]
  },
  {
   "cell_type": "code",
   "execution_count": 152,
   "metadata": {},
   "outputs": [
    {
     "name": "stdout",
     "output_type": "stream",
     "text": [
      "{'_id': '8_AV3ZMBwUvK-SJlznZL',\n",
      " '_index': 'my_index',\n",
      " '_primary_term': 1,\n",
      " '_seq_no': 4,\n",
      " '_shards': {'failed': 0, 'successful': 1, 'total': 2},\n",
      " '_version': 3,\n",
      " 'result': 'updated'}\n"
     ]
    }
   ],
   "source": [
    "response = es.update(\n",
    "    index=\"my_index\",\n",
    "    id=document_ids[0],\n",
    "    script={\n",
    "        \"source\":\"ctx._source.new_field = 'dmm'\"\n",
    "    }\n",
    ")\n",
    "pprint(response.body)"
   ]
  },
  {
   "cell_type": "code",
   "execution_count": 153,
   "metadata": {},
   "outputs": [
    {
     "name": "stdout",
     "output_type": "stream",
     "text": [
      "{'_id': '8_AV3ZMBwUvK-SJlznZL',\n",
      " '_index': 'my_index',\n",
      " '_primary_term': 1,\n",
      " '_seq_no': 4,\n",
      " '_source': {'created_on': '2024-09-22',\n",
      "             'new_field': 'dmm',\n",
      "             'text': 'This is the first sample document text.',\n",
      "             'title': 'New Title'},\n",
      " '_version': 3,\n",
      " 'found': True}\n"
     ]
    }
   ],
   "source": [
    "response = es.get(index=\"my_index\",id=document_ids[0])\n",
    "pprint(response.body)"
   ]
  },
  {
   "cell_type": "code",
   "execution_count": 154,
   "metadata": {},
   "outputs": [],
   "source": [
    "response = es.update(index=\"my_index\",id=document_ids[0],doc={\"next_field\":\"dmm2\"})"
   ]
  },
  {
   "cell_type": "code",
   "execution_count": 155,
   "metadata": {},
   "outputs": [
    {
     "name": "stdout",
     "output_type": "stream",
     "text": [
      "{'_id': '8_AV3ZMBwUvK-SJlznZL',\n",
      " '_index': 'my_index',\n",
      " '_primary_term': 1,\n",
      " '_seq_no': 5,\n",
      " '_source': {'created_on': '2024-09-22',\n",
      "             'new_field': 'dmm',\n",
      "             'next_field': 'dmm2',\n",
      "             'text': 'This is the first sample document text.',\n",
      "             'title': 'New Title'},\n",
      " '_version': 4,\n",
      " 'found': True}\n"
     ]
    }
   ],
   "source": [
    "response = es.get(index=\"my_index\",id=document_ids[0])\n",
    "pprint(response.body)"
   ]
  },
  {
   "cell_type": "code",
   "execution_count": 156,
   "metadata": {},
   "outputs": [],
   "source": [
    "response = es.update(index=\"my_index\", id=document_ids[0], script={\"source\":\"ctx._source.remove('new_field')\"})"
   ]
  },
  {
   "cell_type": "code",
   "execution_count": 157,
   "metadata": {},
   "outputs": [
    {
     "name": "stdout",
     "output_type": "stream",
     "text": [
      "{'_id': '8_AV3ZMBwUvK-SJlznZL',\n",
      " '_index': 'my_index',\n",
      " '_primary_term': 1,\n",
      " '_seq_no': 6,\n",
      " '_source': {'created_on': '2024-09-22',\n",
      "             'next_field': 'dmm2',\n",
      "             'text': 'This is the first sample document text.',\n",
      "             'title': 'New Title'},\n",
      " '_version': 5,\n",
      " 'found': True}\n"
     ]
    }
   ],
   "source": [
    "response = es.get(index=\"my_index\", id=document_ids[0])\n",
    "pprint(response.body)"
   ]
  },
  {
   "cell_type": "code",
   "execution_count": 158,
   "metadata": {},
   "outputs": [
    {
     "name": "stdout",
     "output_type": "stream",
     "text": [
      "{'_id': '1',\n",
      " '_index': 'my_index',\n",
      " '_primary_term': 1,\n",
      " '_seq_no': 7,\n",
      " '_shards': {'failed': 0, 'successful': 1, 'total': 2},\n",
      " '_version': 1,\n",
      " 'result': 'created'}\n"
     ]
    }
   ],
   "source": [
    "response = es.update(\n",
    "    index=\"my_index\",\n",
    "    id=\"1\",\n",
    "    doc={\n",
    "        \"book_id\":1234,\n",
    "        \"book_name\": \"A book\"\n",
    "    },\n",
    "    doc_as_upsert=True\n",
    ")\n",
    "\n",
    "pprint(response.body)"
   ]
  },
  {
   "cell_type": "code",
   "execution_count": 159,
   "metadata": {},
   "outputs": [
    {
     "name": "stdout",
     "output_type": "stream",
     "text": [
      "{'_id': '1',\n",
      " '_index': 'my_index',\n",
      " '_primary_term': 1,\n",
      " '_seq_no': 7,\n",
      " '_source': {'book_id': 1234, 'book_name': 'A book'},\n",
      " '_version': 1,\n",
      " 'found': True}\n"
     ]
    }
   ],
   "source": [
    "response = es.get(index=\"my_index\", id='1')\n",
    "pprint(response.body)"
   ]
  },
  {
   "cell_type": "code",
   "execution_count": 160,
   "metadata": {},
   "outputs": [
    {
     "data": {
      "text/plain": [
       "ObjectApiResponse({'count': 0, '_shards': {'total': 1, 'successful': 1, 'skipped': 0, 'failed': 0}})"
      ]
     },
     "execution_count": 160,
     "metadata": {},
     "output_type": "execute_result"
    }
   ],
   "source": [
    "es.count(index=\"my_index\")"
   ]
  },
  {
   "cell_type": "code",
   "execution_count": 161,
   "metadata": {},
   "outputs": [
    {
     "data": {
      "text/plain": [
       "ObjectApiResponse({'acknowledged': True, 'shards_acknowledged': True, 'index': 'my_index'})"
      ]
     },
     "execution_count": 161,
     "metadata": {},
     "output_type": "execute_result"
    }
   ],
   "source": [
    "es.indices.delete(index=\"my_index\", ignore_unavailable=True)\n",
    "es.indices.create(index=\"my_index\")"
   ]
  },
  {
   "cell_type": "code",
   "execution_count": 162,
   "metadata": {},
   "outputs": [
    {
     "name": "stdout",
     "output_type": "stream",
     "text": [
      "{'errors': False,\n",
      " 'items': [{'index': {'_id': '1',\n",
      "                      '_index': 'my_index',\n",
      "                      '_primary_term': 1,\n",
      "                      '_seq_no': 0,\n",
      "                      '_shards': {'failed': 0, 'successful': 1, 'total': 2},\n",
      "                      '_version': 1,\n",
      "                      'result': 'created',\n",
      "                      'status': 201}},\n",
      "           {'index': {'_id': '2',\n",
      "                      '_index': 'my_index',\n",
      "                      '_primary_term': 1,\n",
      "                      '_seq_no': 1,\n",
      "                      '_shards': {'failed': 0, 'successful': 1, 'total': 2},\n",
      "                      '_version': 1,\n",
      "                      'result': 'created',\n",
      "                      'status': 201}},\n",
      "           {'index': {'_id': '3',\n",
      "                      '_index': 'my_index',\n",
      "                      '_primary_term': 1,\n",
      "                      '_seq_no': 2,\n",
      "                      '_shards': {'failed': 0, 'successful': 1, 'total': 2},\n",
      "                      '_version': 1,\n",
      "                      'result': 'created',\n",
      "                      'status': 201}},\n",
      "           {'update': {'_id': '1',\n",
      "                       '_index': 'my_index',\n",
      "                       '_primary_term': 1,\n",
      "                       '_seq_no': 3,\n",
      "                       '_shards': {'failed': 0, 'successful': 1, 'total': 2},\n",
      "                       '_version': 2,\n",
      "                       'result': 'updated',\n",
      "                       'status': 200}},\n",
      "           {'update': {'_id': '2',\n",
      "                       '_index': 'my_index',\n",
      "                       '_primary_term': 1,\n",
      "                       '_seq_no': 4,\n",
      "                       '_shards': {'failed': 0, 'successful': 1, 'total': 2},\n",
      "                       '_version': 2,\n",
      "                       'result': 'updated',\n",
      "                       'status': 200}},\n",
      "           {'delete': {'_id': '3',\n",
      "                       '_index': 'my_index',\n",
      "                       '_primary_term': 1,\n",
      "                       '_seq_no': 5,\n",
      "                       '_shards': {'failed': 0, 'successful': 1, 'total': 2},\n",
      "                       '_version': 2,\n",
      "                       'result': 'deleted',\n",
      "                       'status': 200}}],\n",
      " 'took': 501863}\n"
     ]
    }
   ],
   "source": [
    "response = es.bulk(\n",
    "    operations=[\n",
    "        {\n",
    "            \"index\": {\n",
    "                \"_index\": \"my_index\",\n",
    "                \"_id\": \"1\"\n",
    "            }\n",
    "        },\n",
    "        # Source 1\n",
    "        {\n",
    "            \"title\": \"Sample Title 1\",\n",
    "            \"text\": \"This is the first sample document text.\",\n",
    "            \"created_on\": \"2024-09-22\"\n",
    "        },\n",
    "        # Action 2\n",
    "        {\n",
    "            \"index\": {\n",
    "                \"_index\": \"my_index\",\n",
    "                \"_id\": \"2\"\n",
    "            }\n",
    "        },\n",
    "        # Source 2\n",
    "        {\n",
    "            \"title\": \"Sample Title 2\",\n",
    "            \"text\": \"Here is another example of a document.\",\n",
    "            \"created_on\": \"2024-09-24\"\n",
    "        },\n",
    "        # Action 3\n",
    "        {\n",
    "            \"index\": {\n",
    "                \"_index\": \"my_index\",\n",
    "                \"_id\": \"3\"\n",
    "            }\n",
    "        },\n",
    "        # Source 3\n",
    "        {\n",
    "            \"title\": \"Sample Title 3\",\n",
    "            \"text\": \"The content of the third document goes here.\",\n",
    "            \"created_on\": \"2024-09-24\"\n",
    "        },\n",
    "        # Action 4\n",
    "        {\n",
    "            \"update\": {\n",
    "                \"_id\": \"1\",\n",
    "                \"_index\": \"my_index\"\n",
    "            }\n",
    "        },\n",
    "        # Source 4\n",
    "        {\n",
    "            \"doc\": {\n",
    "                \"title\": \"New Title\"\n",
    "            }\n",
    "        },\n",
    "        # Action 5\n",
    "        {\n",
    "            \"update\": {\n",
    "                \"_id\": \"2\",\n",
    "                \"_index\": \"my_index\"\n",
    "            }\n",
    "        },\n",
    "        # Source 5\n",
    "        {\n",
    "            \"doc\": {\n",
    "                \"new_field\": \"dummy_value\"\n",
    "            }\n",
    "        },\n",
    "        # Action 6\n",
    "        {\n",
    "            \"delete\": {\n",
    "                \"_index\": \"my_index\",\n",
    "                \"_id\": \"3\"\n",
    "            }\n",
    "        },\n",
    "    ]\n",
    ")\n",
    "\n",
    "pprint(response.body)"
   ]
  },
  {
   "cell_type": "code",
   "execution_count": 163,
   "metadata": {},
   "outputs": [
    {
     "data": {
      "text/plain": [
       "ObjectApiResponse({'acknowledged': True, 'shards_acknowledged': True, 'index': 'index_2'})"
      ]
     },
     "execution_count": 163,
     "metadata": {},
     "output_type": "execute_result"
    }
   ],
   "source": [
    "es.indices.delete(index=\"index_1\", ignore_unavailable=True)\n",
    "es.indices.create(index=\"index_1\")\n",
    "\n",
    "es.indices.delete(index=\"index_2\", ignore_unavailable=True)\n",
    "es.indices.create(index=\"index_2\")"
   ]
  },
  {
   "cell_type": "code",
   "execution_count": 164,
   "metadata": {},
   "outputs": [
    {
     "name": "stderr",
     "output_type": "stream",
     "text": [
      "100%|██████████| 3/3 [00:00<00:00, 57.03it/s]\n",
      "100%|██████████| 3/3 [00:00<00:00, 62.29it/s]\n"
     ]
    }
   ],
   "source": [
    "for document in tqdm(dummy_data, total=len(dummy_data)):\n",
    "    es.index(index=\"index_1\",document=document)\n",
    "\n",
    "for document in tqdm(dummy_data, total=len(dummy_data)):\n",
    "    es.index(index=\"index_2\",document=document)"
   ]
  },
  {
   "cell_type": "code",
   "execution_count": 165,
   "metadata": {},
   "outputs": [
    {
     "name": "stdout",
     "output_type": "stream",
     "text": [
      "'Found 0 document in index_1'\n"
     ]
    }
   ],
   "source": [
    "response = es.search(\n",
    "    index=\"index_1\",\n",
    "    body={\n",
    "        \"query\": {\"match_all\":{}}\n",
    "    }\n",
    ")\n",
    "\n",
    "pprint(f\"Found {response['hits']['total']['value']} document in index_1\")"
   ]
  },
  {
   "cell_type": "code",
   "execution_count": 166,
   "metadata": {},
   "outputs": [
    {
     "name": "stdout",
     "output_type": "stream",
     "text": [
      "'Found 0 document in index_2'\n"
     ]
    }
   ],
   "source": [
    "response = es.search(\n",
    "    index=\"index_2\",\n",
    "    body={\n",
    "        \"query\": {\"match_all\":{}}\n",
    "    }\n",
    ")\n",
    "\n",
    "pprint(f\"Found {response['hits']['total']['value']} document in index_2\")"
   ]
  },
  {
   "cell_type": "code",
   "execution_count": 167,
   "metadata": {},
   "outputs": [
    {
     "name": "stdout",
     "output_type": "stream",
     "text": [
      "'Found 0 document in index_1,index_2'\n"
     ]
    }
   ],
   "source": [
    "response = es.search(\n",
    "    index=\"index_1,index_2\",\n",
    "    body={\n",
    "        \"query\": {\"match_all\":{}}\n",
    "    }\n",
    ")\n",
    "\n",
    "pprint(f\"Found {response['hits']['total']['value']} document in index_1,index_2\")"
   ]
  },
  {
   "cell_type": "code",
   "execution_count": 168,
   "metadata": {},
   "outputs": [
    {
     "name": "stdout",
     "output_type": "stream",
     "text": [
      "'Found 0 document in index_1,index_2'\n"
     ]
    }
   ],
   "source": [
    "response = es.search(\n",
    "    index=\"index*\",\n",
    "    body={\n",
    "        \"query\": {\"match_all\":{}}\n",
    "    }\n",
    ")\n",
    "\n",
    "pprint(f\"Found {response['hits']['total']['value']} document in index_1,index_2\")"
   ]
  },
  {
   "cell_type": "code",
   "execution_count": 169,
   "metadata": {},
   "outputs": [
    {
     "name": "stdout",
     "output_type": "stream",
     "text": [
      "{'_shards': {'failed': 0, 'skipped': 0, 'successful': 1, 'total': 1},\n",
      " 'hits': {'hits': [],\n",
      "          'max_score': None,\n",
      "          'total': {'relation': 'eq', 'value': 0}},\n",
      " 'timed_out': False,\n",
      " 'took': 1}\n"
     ]
    }
   ],
   "source": [
    "response = es.search(\n",
    "    index=\"my_index\",\n",
    "    body={\n",
    "        \"query\": {\n",
    "            \"term\": {\n",
    "                \"created_on\":\"2024-09-22\"\n",
    "            }\n",
    "        }\n",
    "    }\n",
    ")\n",
    "\n",
    "pprint(response.body)"
   ]
  },
  {
   "cell_type": "code",
   "execution_count": 170,
   "metadata": {},
   "outputs": [
    {
     "name": "stdout",
     "output_type": "stream",
     "text": [
      "{'_shards': {'failed': 0, 'skipped': 0, 'successful': 1, 'total': 1},\n",
      " 'hits': {'hits': [],\n",
      "          'max_score': None,\n",
      "          'total': {'relation': 'eq', 'value': 0}},\n",
      " 'timed_out': False,\n",
      " 'took': 3}\n"
     ]
    }
   ],
   "source": [
    "response = es.search(\n",
    "    index=\"my_index\",\n",
    "    body={\"query\": {\"match\": {\"text\": \"document\"}}}\n",
    ")\n",
    "\n",
    "pprint(response.body)"
   ]
  },
  {
   "cell_type": "code",
   "execution_count": 171,
   "metadata": {},
   "outputs": [
    {
     "name": "stdout",
     "output_type": "stream",
     "text": [
      "{'_shards': {'failed': 0, 'skipped': 0, 'successful': 1, 'total': 1},\n",
      " 'hits': {'hits': [],\n",
      "          'max_score': None,\n",
      "          'total': {'relation': 'eq', 'value': 0}},\n",
      " 'timed_out': False,\n",
      " 'took': 1}\n"
     ]
    }
   ],
   "source": [
    "response = es.search(\n",
    "    index=\"my_index\",\n",
    "    body={\n",
    "        \"query\": {\n",
    "            \"range\":{\n",
    "                \"created_on\": {\n",
    "                    \"lte\":\"2024-09-22\"\n",
    "                }\n",
    "            }\n",
    "        }\n",
    "    }\n",
    ")\n",
    "\n",
    "pprint(response.body)"
   ]
  },
  {
   "cell_type": "code",
   "execution_count": 172,
   "metadata": {},
   "outputs": [
    {
     "name": "stdout",
     "output_type": "stream",
     "text": [
      "{'_shards': {'failed': 0, 'skipped': 0, 'successful': 1, 'total': 1},\n",
      " 'hits': {'hits': [],\n",
      "          'max_score': None,\n",
      "          'total': {'relation': 'eq', 'value': 0}},\n",
      " 'timed_out': False,\n",
      " 'took': 1}\n"
     ]
    }
   ],
   "source": [
    "response = es.search(\n",
    "    index=\"my_index\",\n",
    "    body={\n",
    "        \"query\": {\n",
    "            \"bool\": {\n",
    "                \"must\": [\n",
    "                    {\"match\": {\"text\": \"third\"}},\n",
    "                    {\"range\":{\n",
    "                        \"created_on\":{\n",
    "                            \"gte\":\"2024-09-24\",\n",
    "                            \"lte\":\"2024-09-24\"\n",
    "                        }\n",
    "                    }}\n",
    "                ]\n",
    "            }\n",
    "        }\n",
    "    }\n",
    ")\n",
    "\n",
    "pprint(response.body)"
   ]
  },
  {
   "cell_type": "code",
   "execution_count": 173,
   "metadata": {},
   "outputs": [],
   "source": [
    "dummy_data_2=[\n",
    "    {\n",
    "        \"message\": \"This is an important keyword search result.\",\n",
    "        \"age\": 25,\n",
    "        \"price\": 100.0\n",
    "    },\n",
    "    {\n",
    "        \"message\": \"Another search result with an important keyword.\",\n",
    "        \"age\": 30,\n",
    "        \"price\": 150.0\n",
    "    },\n",
    "    {\n",
    "        \"message\": \"Keyword match in this result as well.\",\n",
    "        \"age\": 40,\n",
    "        \"price\": 200.0\n",
    "    },\n",
    "    {\n",
    "        \"message\": \"Important keyword again in this document.\",\n",
    "        \"age\": 35,\n",
    "        \"price\": 120.0\n",
    "    },\n",
    "    {\n",
    "        \"message\": \"Final document with the important keyword.\",\n",
    "        \"age\": 28,\n",
    "        \"price\": 180.0\n",
    "    }\n",
    "]\n",
    "\n"
   ]
  },
  {
   "cell_type": "code",
   "execution_count": 174,
   "metadata": {},
   "outputs": [
    {
     "data": {
      "text/plain": [
       "ObjectApiResponse({'errors': False, 'took': 502578, 'items': [{'index': {'_index': 'my_index', '_id': '_PAV3ZMBwUvK-SJl1HYe', '_version': 1, 'result': 'created', '_shards': {'total': 2, 'successful': 1, 'failed': 0}, '_seq_no': 6, '_primary_term': 1, 'status': 201}}, {'index': {'_index': 'my_index', '_id': '_fAV3ZMBwUvK-SJl1HYe', '_version': 1, 'result': 'created', '_shards': {'total': 2, 'successful': 1, 'failed': 0}, '_seq_no': 7, '_primary_term': 1, 'status': 201}}, {'index': {'_index': 'my_index', '_id': '_vAV3ZMBwUvK-SJl1HYe', '_version': 1, 'result': 'created', '_shards': {'total': 2, 'successful': 1, 'failed': 0}, '_seq_no': 8, '_primary_term': 1, 'status': 201}}, {'index': {'_index': 'my_index', '_id': '__AV3ZMBwUvK-SJl1HYe', '_version': 1, 'result': 'created', '_shards': {'total': 2, 'successful': 1, 'failed': 0}, '_seq_no': 9, '_primary_term': 1, 'status': 201}}, {'index': {'_index': 'my_index', '_id': 'APAV3ZMBwUvK-SJl1Hce', '_version': 1, 'result': 'created', '_shards': {'total': 2, 'successful': 1, 'failed': 0}, '_seq_no': 10, '_primary_term': 1, 'status': 201}}]})"
      ]
     },
     "execution_count": 174,
     "metadata": {},
     "output_type": "execute_result"
    }
   ],
   "source": [
    "operations = []\n",
    "for document in dummy_data_2:\n",
    "    operations.append({\"index\":{\"_index\":\"my_index\"}})\n",
    "    operations.append(document)\n",
    "\n",
    "es.bulk(operations=operations)"
   ]
  },
  {
   "cell_type": "code",
   "execution_count": 175,
   "metadata": {},
   "outputs": [],
   "source": [
    "response = es.search(\n",
    "    index=\"my_index\",\n",
    "    body={\"query\":{\n",
    "        \"match_all\":{}\n",
    "    },\n",
    "    \"size\":10,\n",
    "    \"from\":10\n",
    "    }\n",
    ")\n",
    "\n",
    "for hit in response['hits']['hits']:\n",
    "    print(hit['_source'])"
   ]
  },
  {
   "cell_type": "code",
   "execution_count": 176,
   "metadata": {},
   "outputs": [
    {
     "name": "stdout",
     "output_type": "stream",
     "text": [
      "{'_shards': {'failed': 0, 'skipped': 0, 'successful': 1, 'total': 1},\n",
      " 'hits': {'hits': [],\n",
      "          'max_score': None,\n",
      "          'total': {'relation': 'eq', 'value': 0}},\n",
      " 'timed_out': False,\n",
      " 'took': 1}\n"
     ]
    }
   ],
   "source": [
    "response = es.search(\n",
    "    index=\"my_index\",\n",
    "    body={\"query\": {\"match\": {\"message\": \"search keyword\"}},\n",
    "          \"timeout\":\"10s\"}\n",
    ")\n",
    "\n",
    "pprint(response.body)"
   ]
  },
  {
   "cell_type": "code",
   "execution_count": 177,
   "metadata": {},
   "outputs": [
    {
     "name": "stdout",
     "output_type": "stream",
     "text": [
      "None\n"
     ]
    }
   ],
   "source": [
    "response = es.search(\n",
    "    index=\"my_index\",\n",
    "    body={\"query\": {\"match_all\": {}},\n",
    "          \"aggs\": {\n",
    "              \"avg_age\":{\n",
    "                  \"avg\":{\n",
    "                      \"field\":\"age\"\n",
    "                  }\n",
    "              }\n",
    "          }}\n",
    ")\n",
    "\n",
    "pprint(response['aggregations']['avg_age']['value'])"
   ]
  },
  {
   "cell_type": "code",
   "execution_count": 178,
   "metadata": {},
   "outputs": [
    {
     "name": "stdout",
     "output_type": "stream",
     "text": [
      "None\n"
     ]
    }
   ],
   "source": [
    "response = es.search(\n",
    "    index=\"my_index\",\n",
    "    body={\n",
    "        \"query\": {\n",
    "            \"match\": {\n",
    "                \"message\": \"important keyword\"\n",
    "            }\n",
    "        },\n",
    "        \"aggs\": {\n",
    "            \"max_price\": {\n",
    "                \"max\": {\n",
    "                    \"field\": \"price\"\n",
    "                }\n",
    "            }\n",
    "        },\n",
    "        \"size\": 5,\n",
    "        \"from\": 20,\n",
    "        \"timeout\": \"5s\"\n",
    "    }\n",
    ")\n",
    "\n",
    "for hit in response['hits']['hits']:\n",
    "    print(hit['_source'])\n",
    "\n",
    "pprint(response['aggregations']['max_price']['value'])"
   ]
  },
  {
   "cell_type": "code",
   "execution_count": 179,
   "metadata": {},
   "outputs": [
    {
     "data": {
      "text/plain": [
       "ObjectApiResponse({'acknowledged': True, 'shards_acknowledged': True, 'index': 'my_index'})"
      ]
     },
     "execution_count": 179,
     "metadata": {},
     "output_type": "execute_result"
    }
   ],
   "source": [
    "es.indices.delete(index=\"my_index\", ignore_unavailable=True)\n",
    "es.indices.create(index=\"my_index\",\n",
    "                  mappings={\n",
    "                      \"properties\":{\n",
    "                          \"sides_length\":{\n",
    "                              \"type\":\"dense_vector\",\n",
    "                              \"dims\":4\n",
    "                          },\n",
    "                          \"shape\":{\n",
    "                              \"type\":\"keyword\"\n",
    "                          }\n",
    "                      }\n",
    "                  })"
   ]
  },
  {
   "cell_type": "code",
   "execution_count": 180,
   "metadata": {},
   "outputs": [
    {
     "name": "stdout",
     "output_type": "stream",
     "text": [
      "{'_id': '1',\n",
      " '_index': 'my_index',\n",
      " '_primary_term': 1,\n",
      " '_seq_no': 0,\n",
      " '_shards': {'failed': 0, 'successful': 1, 'total': 2},\n",
      " '_version': 1,\n",
      " 'result': 'created'}\n"
     ]
    }
   ],
   "source": [
    "response = es.index(\n",
    "    index=\"my_index\",\n",
    "    id=1,\n",
    "    document={\n",
    "        \"shape\":\"square\",\n",
    "        \"sides_length\":[5,5,5,5]\n",
    "    }\n",
    ")\n",
    "\n",
    "pprint(response.body)"
   ]
  },
  {
   "cell_type": "code",
   "execution_count": 181,
   "metadata": {},
   "outputs": [
    {
     "data": {
      "text/plain": [
       "{'my_index': {'mappings': {'properties': {'shape': {'type': 'keyword'},\n",
       "    'sides_length': {'type': 'dense_vector',\n",
       "     'dims': 4,\n",
       "     'index': True,\n",
       "     'similarity': 'cosine',\n",
       "     'index_options': {'type': 'int8_hnsw',\n",
       "      'm': 16,\n",
       "      'ef_construction': 100}}}}}}"
      ]
     },
     "execution_count": 181,
     "metadata": {},
     "output_type": "execute_result"
    }
   ],
   "source": [
    "es.indices.get_mapping(index=\"my_index\").body"
   ]
  },
  {
   "cell_type": "code",
   "execution_count": 182,
   "metadata": {},
   "outputs": [
    {
     "data": {
      "text/plain": [
       "ObjectApiResponse({'acknowledged': True, 'shards_acknowledged': True, 'index': 'my_index'})"
      ]
     },
     "execution_count": 182,
     "metadata": {},
     "output_type": "execute_result"
    }
   ],
   "source": [
    "es.indices.delete(index=\"my_index\",ignore_unavailable=True)\n",
    "es.indices.create(index=\"my_index\",\n",
    "                  mappings={\n",
    "                      \"properties\": {\n",
    "                          \"embedding\":{\n",
    "                              \"type\":\"dense_vector\"\n",
    "                          }\n",
    "                      }\n",
    "                  })"
   ]
  },
  {
   "cell_type": "code",
   "execution_count": 183,
   "metadata": {},
   "outputs": [],
   "source": [
    "from sentence_transformers import SentenceTransformer\n",
    "\n",
    "model = SentenceTransformer(\"all-MiniLM-L6-v2\")"
   ]
  },
  {
   "cell_type": "code",
   "execution_count": 184,
   "metadata": {},
   "outputs": [],
   "source": [
    "import torch\n",
    "device = torch.device(\"cuda\" if torch.cuda.is_available() else \"cpu\")"
   ]
  },
  {
   "cell_type": "code",
   "execution_count": 185,
   "metadata": {},
   "outputs": [],
   "source": [
    "def get_embedding(text):\n",
    "    return model.encode(text)"
   ]
  },
  {
   "cell_type": "code",
   "execution_count": 186,
   "metadata": {},
   "outputs": [
    {
     "name": "stderr",
     "output_type": "stream",
     "text": [
      "100%|██████████| 3/3 [00:00<00:00, 141.99it/s]"
     ]
    },
    {
     "name": "stdout",
     "output_type": "stream",
     "text": [
      "{'errors': False,\n",
      " 'items': [{'index': {'_id': 'AfAV3ZMBwUvK-SJl4XeC',\n",
      "                      '_index': 'my_index',\n",
      "                      '_primary_term': 1,\n",
      "                      '_seq_no': 0,\n",
      "                      '_shards': {'failed': 0, 'successful': 1, 'total': 2},\n",
      "                      '_version': 1,\n",
      "                      'result': 'created',\n",
      "                      'status': 201}},\n",
      "           {'index': {'_id': 'AvAV3ZMBwUvK-SJl4XeC',\n",
      "                      '_index': 'my_index',\n",
      "                      '_primary_term': 1,\n",
      "                      '_seq_no': 1,\n",
      "                      '_shards': {'failed': 0, 'successful': 1, 'total': 2},\n",
      "                      '_version': 1,\n",
      "                      'result': 'created',\n",
      "                      'status': 201}},\n",
      "           {'index': {'_id': 'A_AV3ZMBwUvK-SJl4XeC',\n",
      "                      '_index': 'my_index',\n",
      "                      '_primary_term': 1,\n",
      "                      '_seq_no': 2,\n",
      "                      '_shards': {'failed': 0, 'successful': 1, 'total': 2},\n",
      "                      '_version': 1,\n",
      "                      'result': 'created',\n",
      "                      'status': 201}}],\n",
      " 'took': 506013}\n"
     ]
    },
    {
     "name": "stderr",
     "output_type": "stream",
     "text": [
      "\n"
     ]
    }
   ],
   "source": [
    "operations = []\n",
    "\n",
    "for document in tqdm(dummy_data, total=len(dummy_data)):\n",
    "    operations.append({\"index\":{\"_index\":\"my_index\"}})\n",
    "    operations.append({\n",
    "        **document,\n",
    "        \"embedding\":get_embedding(document['text'])\n",
    "    })\n",
    "\n",
    "response = es.bulk(operations=operations)\n",
    "pprint(response.body)"
   ]
  },
  {
   "cell_type": "code",
   "execution_count": 187,
   "metadata": {},
   "outputs": [
    {
     "name": "stdout",
     "output_type": "stream",
     "text": [
      "[]\n"
     ]
    }
   ],
   "source": [
    "response = es.search(\n",
    "    index=\"my_index\",\n",
    "    body={\n",
    "        \"query\": {\n",
    "            \"match_all\": {}\n",
    "        }\n",
    "    }\n",
    ")\n",
    "\n",
    "pprint(response['hits']['hits'])"
   ]
  },
  {
   "cell_type": "code",
   "execution_count": 188,
   "metadata": {},
   "outputs": [
    {
     "name": "stdout",
     "output_type": "stream",
     "text": [
      "{'my_index': {'mappings': {'properties': {'created_on': {'type': 'date'},\n",
      "                                          'embedding': {'dims': 384,\n",
      "                                                        'index': True,\n",
      "                                                        'index_options': {'ef_construction': 100,\n",
      "                                                                          'm': 16,\n",
      "                                                                          'type': 'int8_hnsw'},\n",
      "                                                        'similarity': 'cosine',\n",
      "                                                        'type': 'dense_vector'},\n",
      "                                          'text': {'fields': {'keyword': {'ignore_above': 256,\n",
      "                                                                          'type': 'keyword'}},\n",
      "                                                   'type': 'text'},\n",
      "                                          'title': {'fields': {'keyword': {'ignore_above': 256,\n",
      "                                                                           'type': 'keyword'}},\n",
      "                                                    'type': 'text'}}}}}\n"
     ]
    }
   ],
   "source": [
    "response = es.indices.get_mapping(\n",
    "    index=\"my_index\"\n",
    ")\n",
    "pprint(response.body)"
   ]
  },
  {
   "cell_type": "code",
   "execution_count": 189,
   "metadata": {},
   "outputs": [
    {
     "data": {
      "text/plain": [
       "ObjectApiResponse({'acknowledged': True, 'shards_acknowledged': True, 'index': 'my_index'})"
      ]
     },
     "execution_count": 189,
     "metadata": {},
     "output_type": "execute_result"
    }
   ],
   "source": [
    "es.indices.delete(index=\"my_index\", ignore_unavailable=True)\n",
    "es.indices.create(\n",
    "    index=\"my_index\",\n",
    "    mappings={\n",
    "        \"properties\": {\n",
    "            \"embedding\":{\n",
    "                \"type\": \"dense_vector\",\n",
    "            }\n",
    "        }\n",
    "        \n",
    "    }\n",
    ")"
   ]
  },
  {
   "cell_type": "code",
   "execution_count": 190,
   "metadata": {},
   "outputs": [],
   "source": [
    "documents=[\n",
    "  {\n",
    "    \"id\": 1,\n",
    "    \"title\": \"The Solar System\",\n",
    "    \"content\": \"The Solar System consists of the Sun and the objects that orbit it, including eight planets, their moons, dwarf planets, and countless small bodies like asteroids and comets.\"\n",
    "  },\n",
    "  {\n",
    "    \"id\": 2,\n",
    "    \"title\": \"Black Holes\",\n",
    "    \"content\": \"A black hole is a region of space where the gravitational pull is so strong that nothing, not even light, can escape from it. They are formed when massive stars collapse under their own gravity.\"\n",
    "  },\n",
    "  {\n",
    "    \"id\": 3,\n",
    "    \"title\": \"Galaxies\",\n",
    "    \"content\": \"Galaxies are vast systems that consist of stars, stellar remnants, interstellar gas, dust, and dark matter. The Milky Way is the galaxy that contains our Solar System.\"\n",
    "  },\n",
    "  {\n",
    "    \"id\": 4,\n",
    "    \"title\": \"The Big Bang Theory\",\n",
    "    \"content\": \"The Big Bang Theory is the leading explanation about how the universe began. It suggests that the universe was once in an extremely hot and dense state and has been expanding ever since.\"\n",
    "  },\n",
    "  {\n",
    "    \"id\": 5,\n",
    "    \"title\": \"Exoplanets\",\n",
    "    \"content\": \"Exoplanets, or extrasolar planets, are planets that exist outside our solar system. They vary greatly in size and composition and are often found using methods like the transit method and radial velocity.\"\n",
    "  },\n",
    "  {\n",
    "    \"id\": 6,\n",
    "    \"title\": \"The Life Cycle of Stars\",\n",
    "    \"content\": \"Stars are born from clouds of gas and dust in space. They undergo a life cycle that includes stages such as main sequence, red giant, and, ultimately, either a supernova explosion or a gentle fade into a white dwarf.\"\n",
    "  },\n",
    "  {\n",
    "    \"id\": 7,\n",
    "    \"title\": \"Astrobiology\",\n",
    "    \"content\": \"Astrobiology is the study of the origin, evolution, distribution, and future of life in the universe. It combines elements of biology, chemistry, and planetary science.\"\n",
    "  },\n",
    "  {\n",
    "    \"id\": 8,\n",
    "    \"title\": \"Dark Matter\",\n",
    "    \"content\": \"Dark matter is a type of matter that does not emit light or energy. It cannot be observed directly but is believed to make up about 27% of the universe's total mass and energy.\"\n",
    "  },\n",
    "  {\n",
    "    \"id\": 9,\n",
    "    \"title\": \"The Expanding Universe\",\n",
    "    \"content\": \"The universe has been expanding since the Big Bang. Observations of distant galaxies show that they are moving away from us, which supports the idea of an expanding universe.\"\n",
    "  },\n",
    "  {\n",
    "    \"id\": 10,\n",
    "    \"title\": \"Space Exploration\",\n",
    "    \"content\": \"Space exploration involves the use of space technology to explore outer space. It includes missions to planets, moons, and other celestial bodies, aiming to discover more about the universe.\"\n",
    "  }\n",
    "]"
   ]
  },
  {
   "cell_type": "code",
   "execution_count": 191,
   "metadata": {},
   "outputs": [
    {
     "name": "stderr",
     "output_type": "stream",
     "text": [
      "100%|██████████| 10/10 [00:00<00:00, 143.53it/s]"
     ]
    },
    {
     "name": "stdout",
     "output_type": "stream",
     "text": [
      "{'errors': False,\n",
      " 'items': [{'index': {'_id': 'BPAV3ZMBwUvK-SJl43cj',\n",
      "                      '_index': 'my_index',\n",
      "                      '_primary_term': 1,\n",
      "                      '_seq_no': 0,\n",
      "                      '_shards': {'failed': 0, 'successful': 1, 'total': 2},\n",
      "                      '_version': 1,\n",
      "                      'result': 'created',\n",
      "                      'status': 201}},\n",
      "           {'index': {'_id': 'BfAV3ZMBwUvK-SJl43cj',\n",
      "                      '_index': 'my_index',\n",
      "                      '_primary_term': 1,\n",
      "                      '_seq_no': 1,\n",
      "                      '_shards': {'failed': 0, 'successful': 1, 'total': 2},\n",
      "                      '_version': 1,\n",
      "                      'result': 'created',\n",
      "                      'status': 201}},\n",
      "           {'index': {'_id': 'BvAV3ZMBwUvK-SJl43cj',\n",
      "                      '_index': 'my_index',\n",
      "                      '_primary_term': 1,\n",
      "                      '_seq_no': 2,\n",
      "                      '_shards': {'failed': 0, 'successful': 1, 'total': 2},\n",
      "                      '_version': 1,\n",
      "                      'result': 'created',\n",
      "                      'status': 201}},\n",
      "           {'index': {'_id': 'B_AV3ZMBwUvK-SJl43cj',\n",
      "                      '_index': 'my_index',\n",
      "                      '_primary_term': 1,\n",
      "                      '_seq_no': 3,\n",
      "                      '_shards': {'failed': 0, 'successful': 1, 'total': 2},\n",
      "                      '_version': 1,\n",
      "                      'result': 'created',\n",
      "                      'status': 201}},\n",
      "           {'index': {'_id': 'CPAV3ZMBwUvK-SJl43cj',\n",
      "                      '_index': 'my_index',\n",
      "                      '_primary_term': 1,\n",
      "                      '_seq_no': 4,\n",
      "                      '_shards': {'failed': 0, 'successful': 1, 'total': 2},\n",
      "                      '_version': 1,\n",
      "                      'result': 'created',\n",
      "                      'status': 201}},\n",
      "           {'index': {'_id': 'CfAV3ZMBwUvK-SJl43cj',\n",
      "                      '_index': 'my_index',\n",
      "                      '_primary_term': 1,\n",
      "                      '_seq_no': 5,\n",
      "                      '_shards': {'failed': 0, 'successful': 1, 'total': 2},\n",
      "                      '_version': 1,\n",
      "                      'result': 'created',\n",
      "                      'status': 201}},\n",
      "           {'index': {'_id': 'CvAV3ZMBwUvK-SJl43cj',\n",
      "                      '_index': 'my_index',\n",
      "                      '_primary_term': 1,\n",
      "                      '_seq_no': 6,\n",
      "                      '_shards': {'failed': 0, 'successful': 1, 'total': 2},\n",
      "                      '_version': 1,\n",
      "                      'result': 'created',\n",
      "                      'status': 201}},\n",
      "           {'index': {'_id': 'C_AV3ZMBwUvK-SJl43cj',\n",
      "                      '_index': 'my_index',\n",
      "                      '_primary_term': 1,\n",
      "                      '_seq_no': 7,\n",
      "                      '_shards': {'failed': 0, 'successful': 1, 'total': 2},\n",
      "                      '_version': 1,\n",
      "                      'result': 'created',\n",
      "                      'status': 201}},\n",
      "           {'index': {'_id': 'DPAV3ZMBwUvK-SJl43cj',\n",
      "                      '_index': 'my_index',\n",
      "                      '_primary_term': 1,\n",
      "                      '_seq_no': 8,\n",
      "                      '_shards': {'failed': 0, 'successful': 1, 'total': 2},\n",
      "                      '_version': 1,\n",
      "                      'result': 'created',\n",
      "                      'status': 201}},\n",
      "           {'index': {'_id': 'DfAV3ZMBwUvK-SJl43cj',\n",
      "                      '_index': 'my_index',\n",
      "                      '_primary_term': 1,\n",
      "                      '_seq_no': 9,\n",
      "                      '_shards': {'failed': 0, 'successful': 1, 'total': 2},\n",
      "                      '_version': 1,\n",
      "                      'result': 'created',\n",
      "                      'status': 201}}],\n",
      " 'took': 506436}\n"
     ]
    },
    {
     "name": "stderr",
     "output_type": "stream",
     "text": [
      "\n"
     ]
    }
   ],
   "source": [
    "def get_embedding(text):\n",
    "    return model.encode(text)\n",
    "\n",
    "operations = []\n",
    "for document in tqdm(documents, total=len(documents)):\n",
    "    operations.append({\"index\":{\"_index\":\"my_index\"}})\n",
    "    operations.append({\n",
    "        **document,\n",
    "        \"embedding\":get_embedding(document['content'])\n",
    "    })\n",
    "\n",
    "response = es.bulk(operations=operations)\n",
    "pprint(response.body)"
   ]
  },
  {
   "cell_type": "code",
   "execution_count": 192,
   "metadata": {},
   "outputs": [
    {
     "name": "stdout",
     "output_type": "stream",
     "text": [
      "[]\n"
     ]
    }
   ],
   "source": [
    "response = es.search(\n",
    "    index=\"my_index\",\n",
    "    body={\n",
    "        \"query\":{\n",
    "            \"match_all\": {}\n",
    "        }\n",
    "    }\n",
    ")\n",
    "\n",
    "pprint(response['hits']['hits'])"
   ]
  },
  {
   "cell_type": "code",
   "execution_count": 193,
   "metadata": {},
   "outputs": [
    {
     "name": "stdout",
     "output_type": "stream",
     "text": [
      "{'my_index': {'mappings': {'properties': {'content': {'fields': {'keyword': {'ignore_above': 256,\n",
      "                                                                             'type': 'keyword'}},\n",
      "                                                      'type': 'text'},\n",
      "                                          'embedding': {'dims': 384,\n",
      "                                                        'index': True,\n",
      "                                                        'index_options': {'ef_construction': 100,\n",
      "                                                                          'm': 16,\n",
      "                                                                          'type': 'int8_hnsw'},\n",
      "                                                        'similarity': 'cosine',\n",
      "                                                        'type': 'dense_vector'},\n",
      "                                          'id': {'type': 'long'},\n",
      "                                          'title': {'fields': {'keyword': {'ignore_above': 256,\n",
      "                                                                           'type': 'keyword'}},\n",
      "                                                    'type': 'text'}}}}}\n"
     ]
    }
   ],
   "source": [
    "response = es.indices.get_mapping(\n",
    "    index=\"my_index\"\n",
    ")\n",
    "\n",
    "pprint(response.body)"
   ]
  },
  {
   "cell_type": "code",
   "execution_count": 194,
   "metadata": {},
   "outputs": [],
   "source": [
    "query = \"What is a black hole ?\"\n",
    "embedding_query = get_embedding(query)"
   ]
  },
  {
   "cell_type": "code",
   "execution_count": 195,
   "metadata": {},
   "outputs": [
    {
     "name": "stdout",
     "output_type": "stream",
     "text": [
      "{'_shards': {'failed': 0, 'skipped': 0, 'successful': 1, 'total': 1},\n",
      " 'hits': {'hits': [],\n",
      "          'max_score': None,\n",
      "          'total': {'relation': 'eq', 'value': 0}},\n",
      " 'timed_out': False,\n",
      " 'took': 1}\n"
     ]
    }
   ],
   "source": [
    "result = es.search(\n",
    "    index=\"my_index\",\n",
    "    knn={\n",
    "        \"field\":\"embedding\",\n",
    "        \"query_vector\": embedding_query,\n",
    "        \"num_candidates\":5,\n",
    "        \"k\":3\n",
    "    }\n",
    ")\n",
    "\n",
    "pprint(result.body)"
   ]
  },
  {
   "cell_type": "code",
   "execution_count": 196,
   "metadata": {},
   "outputs": [],
   "source": [
    "hits = result.body['hits']['hits']\n",
    "for hit in hits:\n",
    "    print(f\"Title: {hit['_source']['title']}\")\n",
    "    print(f\"Content: {hit['_source']['content']}\")\n",
    "    print(f\"Score: {hit['_score']}\")\n",
    "    print(\"*\"*100)\n",
    "\n",
    "    "
   ]
  },
  {
   "cell_type": "code",
   "execution_count": 197,
   "metadata": {},
   "outputs": [
    {
     "data": {
      "text/plain": [
       "ObjectApiResponse({'acknowledged': True, 'shards_acknowledged': True, 'index': 'my_index'})"
      ]
     },
     "execution_count": 197,
     "metadata": {},
     "output_type": "execute_result"
    }
   ],
   "source": [
    "index_name = \"my_index\"\n",
    "mapping = {\n",
    "    \"mappings\":{\n",
    "        \"properties\":{\n",
    "            \"timestamp\": {\"type\":\"date\"},\n",
    "            \"value\": {\"type\":\"float\"},\n",
    "            \"category\": {\"type\":\"keyword\"},\n",
    "            \"description\": {\"type\":\"text\"},\n",
    "            \"id\" : {\"type\": \"keyword\"}\n",
    "        }\n",
    "    },\n",
    "    \"settings\": {\n",
    "        \"number_of_shards\":1,\n",
    "        \"number_of_replicas\":0\n",
    "    }\n",
    "}\n",
    "\n",
    "es.indices.delete(index=index_name, ignore_unavailable=True)\n",
    "es.indices.create(index=index_name,body=mapping)"
   ]
  },
  {
   "cell_type": "code",
   "execution_count": 198,
   "metadata": {},
   "outputs": [],
   "source": [
    "base_documents = [\n",
    "    {\n",
    "        \"category\": \"A\",\n",
    "        \"value\": 100,\n",
    "        \"description\": \"First sample document\"\n",
    "    },\n",
    "    {\n",
    "        \"category\": \"B\",\n",
    "        \"value\": 200,\n",
    "        \"description\": \"Second sample document\"\n",
    "    },\n",
    "    {\n",
    "        \"category\": \"C\",\n",
    "        \"value\": 300,\n",
    "        \"description\": \"Third sample document\"\n",
    "    },\n",
    "    {\n",
    "        \"category\": \"D\",\n",
    "        \"value\": 400,\n",
    "        \"description\": \"Fourth sample document\"\n",
    "    },\n",
    "    {\n",
    "        \"category\": \"E\",\n",
    "        \"value\": 500,\n",
    "        \"description\": \"Fifth sample document\"\n",
    "    }\n",
    "]"
   ]
  },
  {
   "cell_type": "code",
   "execution_count": 199,
   "metadata": {},
   "outputs": [
    {
     "name": "stdout",
     "output_type": "stream",
     "text": [
      "Generated 100000 documents\n"
     ]
    }
   ],
   "source": [
    "import random\n",
    "from datetime import datetime, timedelta\n",
    "\n",
    "def generate_bulk_data(base_documents, target_size=100000):\n",
    "    documents = []\n",
    "    base_count = len(base_documents)\n",
    "    duplications_needed = target_size // base_count\n",
    "\n",
    "    base_timestamp = datetime.now()\n",
    "\n",
    "    for i in range(duplications_needed):\n",
    "        for document in base_documents:\n",
    "            new_doc = document.copy()\n",
    "            new_doc['id'] = f\"doc_{len(documents)}\"\n",
    "            new_doc['timestamp'] = (base_timestamp - timedelta(minutes=len(documents))).isoformat()\n",
    "\n",
    "            new_doc['value'] = document['value'] + random.uniform(-10,10)\n",
    "            documents.append(new_doc)\n",
    "\n",
    "    return documents\n",
    "\n",
    "documents = generate_bulk_data(base_documents)\n",
    "print(f\"Generated {len(documents)} documents\")"
   ]
  },
  {
   "cell_type": "code",
   "execution_count": 200,
   "metadata": {},
   "outputs": [
    {
     "name": "stderr",
     "output_type": "stream",
     "text": [
      "100%|██████████| 100000/100000 [00:00<00:00, 433770.86it/s]\n"
     ]
    },
    {
     "name": "stdout",
     "output_type": "stream",
     "text": [
      "False\n"
     ]
    }
   ],
   "source": [
    "from tqdm import tqdm\n",
    "operations = []\n",
    "\n",
    "for document in tqdm(documents, total=len(documents)):\n",
    "    operations.append({\"index\":{\"_index\":index_name}})\n",
    "    operations.append(document)\n",
    "\n",
    "response = es.bulk(operations=operations)\n",
    "pprint(response.body['errors'])"
   ]
  },
  {
   "cell_type": "code",
   "execution_count": 201,
   "metadata": {},
   "outputs": [
    {
     "name": "stdout",
     "output_type": "stream",
     "text": [
      "Total documents in index my_index: 100000\n"
     ]
    }
   ],
   "source": [
    "es.indices.refresh(index=index_name)\n",
    "count = es.count(index=index_name)['count']\n",
    "print(f\"Total documents in index {index_name}: {count}\")"
   ]
  },
  {
   "cell_type": "code",
   "execution_count": 202,
   "metadata": {},
   "outputs": [
    {
     "name": "stdout",
     "output_type": "stream",
     "text": [
      "ID: doc_0\n",
      "Sort value: [1734606219784, 'doc_0']\n",
      "ID: doc_1\n",
      "Sort value: [1734606159784, 'doc_1']\n",
      "ID: doc_2\n",
      "Sort value: [1734606099784, 'doc_2']\n",
      "ID: doc_3\n",
      "Sort value: [1734606039784, 'doc_3']\n",
      "ID: doc_4\n",
      "Sort value: [1734605979784, 'doc_4']\n",
      "ID: doc_5\n",
      "Sort value: [1734605919784, 'doc_5']\n",
      "ID: doc_6\n",
      "Sort value: [1734605859784, 'doc_6']\n",
      "ID: doc_7\n",
      "Sort value: [1734605799784, 'doc_7']\n",
      "ID: doc_8\n",
      "Sort value: [1734605739784, 'doc_8']\n",
      "ID: doc_9\n",
      "Sort value: [1734605679784, 'doc_9']\n"
     ]
    }
   ],
   "source": [
    "response = es.search(\n",
    "    index=index_name,\n",
    "    body={\n",
    "        \"from\": 0,\n",
    "        \"size\": 10,\n",
    "        \"sort\": [\n",
    "            {\"timestamp\": \"desc\"},\n",
    "            {\"id\":\"desc\"}\n",
    "        ]\n",
    "    }\n",
    ")\n",
    "\n",
    "hits = response['hits']['hits']\n",
    "for hit in hits:\n",
    "    print(f\"ID: {hit['_source']['id']}\")\n",
    "    print(f\"Sort value: {hit['sort']}\")"
   ]
  },
  {
   "cell_type": "code",
   "execution_count": 203,
   "metadata": {},
   "outputs": [
    {
     "name": "stdout",
     "output_type": "stream",
     "text": [
      "ID: doc_10\n",
      "Sort values: [1734605619784, 'doc_10']\n",
      "****************************************************************************************************\n",
      "ID: doc_11\n",
      "Sort values: [1734605559784, 'doc_11']\n",
      "****************************************************************************************************\n",
      "ID: doc_12\n",
      "Sort values: [1734605499784, 'doc_12']\n",
      "****************************************************************************************************\n",
      "ID: doc_13\n",
      "Sort values: [1734605439784, 'doc_13']\n",
      "****************************************************************************************************\n",
      "ID: doc_14\n",
      "Sort values: [1734605379784, 'doc_14']\n",
      "****************************************************************************************************\n",
      "ID: doc_15\n",
      "Sort values: [1734605319784, 'doc_15']\n",
      "****************************************************************************************************\n",
      "ID: doc_16\n",
      "Sort values: [1734605259784, 'doc_16']\n",
      "****************************************************************************************************\n",
      "ID: doc_17\n",
      "Sort values: [1734605199784, 'doc_17']\n",
      "****************************************************************************************************\n",
      "ID: doc_18\n",
      "Sort values: [1734605139784, 'doc_18']\n",
      "****************************************************************************************************\n",
      "ID: doc_19\n",
      "Sort values: [1734605079784, 'doc_19']\n",
      "****************************************************************************************************\n"
     ]
    }
   ],
   "source": [
    "last_sort_value = hits[-1]['sort']\n",
    "response = es.search(\n",
    "    index=index_name,\n",
    "    body={\n",
    "        \"size\":10,\n",
    "        \"sort\": [\n",
    "            {\"timestamp\": \"desc\"},\n",
    "            {\"id\": \"desc\"}\n",
    "        ],\n",
    "        \"search_after\":last_sort_value\n",
    "    }\n",
    ")\n",
    "\n",
    "hits = response[\"hits\"][\"hits\"]\n",
    "for hit in hits:\n",
    "    print(f\"ID: {hit['_source']['id']}\")\n",
    "    print(f\"Sort values: {hit['sort']}\")\n",
    "    print(\"*\"*100)"
   ]
  },
  {
   "cell_type": "code",
   "execution_count": 204,
   "metadata": {},
   "outputs": [],
   "source": [
    "import time\n",
    "from tqdm import tqdm\n",
    "\n",
    "def test_from_size_pagination(es, index_name, page_size=100, max_pages=50):\n",
    "    timings = []\n",
    "\n",
    "    for page in tqdm(range(max_pages)):\n",
    "        start_time = time.time()\n",
    "\n",
    "        _ = es.search(\n",
    "            index = index_name,\n",
    "            body = {\n",
    "                \"from\": page * page_size,\n",
    "                \"size\": page_size,\n",
    "                \"sort\": [\n",
    "                    {\"timestamp\": \"desc\"},\n",
    "                    {\"id\": \"desc\"}\n",
    "                ]\n",
    "            }\n",
    "        )\n",
    "\n",
    "        end_time = time.time()\n",
    "        final_time = (end_time - start_time) *1000\n",
    "        timings.append((page + 1,final_time))\n",
    "\n",
    "    return timings"
   ]
  },
  {
   "cell_type": "code",
   "execution_count": 205,
   "metadata": {},
   "outputs": [
    {
     "name": "stderr",
     "output_type": "stream",
     "text": [
      "100%|██████████| 50/50 [00:00<00:00, 100.29it/s]\n"
     ]
    }
   ],
   "source": [
    "from_size_timings = test_from_size_pagination(es=es,index_name=index_name,page_size=200,max_pages=50)"
   ]
  },
  {
   "cell_type": "code",
   "execution_count": 206,
   "metadata": {},
   "outputs": [
    {
     "data": {
      "text/plain": [
       "[(1, 8.47315788269043),\n",
       " (2, 7.4405670166015625),\n",
       " (3, 6.393194198608398),\n",
       " (4, 6.56437873840332),\n",
       " (5, 7.065057754516602),\n",
       " (6, 7.209062576293945),\n",
       " (7, 7.163047790527344),\n",
       " (8, 9.217977523803711),\n",
       " (9, 8.805036544799805),\n",
       " (10, 9.282827377319336),\n",
       " (11, 8.826017379760742),\n",
       " (12, 10.376214981079102),\n",
       " (13, 9.624242782592773),\n",
       " (14, 11.832952499389648),\n",
       " (15, 8.447885513305664),\n",
       " (16, 8.497238159179688),\n",
       " (17, 8.263587951660156),\n",
       " (18, 7.394552230834961),\n",
       " (19, 8.654356002807617),\n",
       " (20, 7.961273193359375),\n",
       " (21, 11.540651321411133),\n",
       " (22, 8.819580078125),\n",
       " (23, 10.596990585327148),\n",
       " (24, 9.612083435058594),\n",
       " (25, 10.076522827148438),\n",
       " (26, 9.727954864501953),\n",
       " (27, 9.653806686401367),\n",
       " (28, 10.04481315612793),\n",
       " (29, 9.597539901733398),\n",
       " (30, 9.117364883422852),\n",
       " (31, 9.963035583496094),\n",
       " (32, 9.788274765014648),\n",
       " (33, 10.139226913452148),\n",
       " (34, 12.608528137207031),\n",
       " (35, 9.752750396728516),\n",
       " (36, 10.422945022583008),\n",
       " (37, 10.165691375732422),\n",
       " (38, 10.634660720825195),\n",
       " (39, 10.785818099975586),\n",
       " (40, 13.289451599121094),\n",
       " (41, 10.587215423583984),\n",
       " (42, 11.160135269165039),\n",
       " (43, 11.715412139892578),\n",
       " (44, 10.686159133911133),\n",
       " (45, 12.288331985473633),\n",
       " (46, 11.344194412231445),\n",
       " (47, 14.956951141357422),\n",
       " (48, 12.14456558227539),\n",
       " (49, 12.531518936157227),\n",
       " (50, 14.123916625976562)]"
      ]
     },
     "execution_count": 206,
     "metadata": {},
     "output_type": "execute_result"
    }
   ],
   "source": [
    "from_size_timings"
   ]
  },
  {
   "cell_type": "code",
   "execution_count": 207,
   "metadata": {},
   "outputs": [],
   "source": [
    "def test_search_after_pagination(es, index_name, page_size=100, max_pages=50):\n",
    "    timings = []\n",
    "    search_after = None\n",
    "\n",
    "    for page in tqdm(range(max_pages)):\n",
    "        start_time = time.time()\n",
    "\n",
    "        body = {\n",
    "            \"size\": page_size,\n",
    "            \"sort\": [\n",
    "                {\"timestamp\":\"desc\"},\n",
    "                {\"id\": \"desc\"}\n",
    "            ]\n",
    "        }\n",
    "\n",
    "        if search_after :\n",
    "            body[\"search_after\"] = search_after\n",
    "        \n",
    "        response = es.search(\n",
    "            index=index_name,\n",
    "            body=body\n",
    "        )\n",
    "\n",
    "        hits = response['hits']['hits']\n",
    "        if hits:\n",
    "            search_after = hits[-1]['sort']\n",
    "        \n",
    "        end_time = time.time()\n",
    "        final_time = (end_time - start_time) * 1000\n",
    "        timings.append((page+1,final_time))\n",
    "\n",
    "    return timings"
   ]
  },
  {
   "cell_type": "code",
   "execution_count": 208,
   "metadata": {},
   "outputs": [
    {
     "name": "stderr",
     "output_type": "stream",
     "text": [
      "100%|██████████| 50/50 [00:00<00:00, 204.02it/s]\n"
     ]
    }
   ],
   "source": [
    "times_search_after=test_search_after_pagination(es=es,index_name=index_name)"
   ]
  },
  {
   "cell_type": "code",
   "execution_count": 209,
   "metadata": {},
   "outputs": [
    {
     "data": {
      "image/png": "[encoded data removed]",
      "text/plain": [
       "<Figure size 1200x600 with 1 Axes>"
      ]
     },
     "metadata": {},
     "output_type": "display_data"
    }
   ],
   "source": [
    "import matplotlib.pyplot as plt\n",
    "\n",
    "def plot_comparison(from_size_timings, search_after_timings):\n",
    "    plt.figure(figsize=(12,6))\n",
    "\n",
    "    pages_from_size , times_from_size = zip(*from_size_timings)\n",
    "    page_search_after, times_search_after = zip(*search_after_timings)\n",
    "\n",
    "    plt.plot(pages_from_size, times_from_size,\"b-\", label='From/Size')\n",
    "    plt.plot(page_search_after, times_search_after,\"r-\", label='Search_After')\n",
    "\n",
    "    plt.xlabel(\"Page number\")\n",
    "    plt.ylabel(\"Response time (milliseconds)\")\n",
    "    plt.title(\"Comparison of response times\")\n",
    "    plt.legend()\n",
    "    plt.grid(True)\n",
    "    plt.show()\n",
    "\n",
    "plot_comparison(from_size_timings,times_search_after)"
   ]
  },
  {
   "cell_type": "code",
   "execution_count": 210,
   "metadata": {},
   "outputs": [
    {
     "data": {
      "image/png": "[encoded data removed]",
      "text/plain": [
       "<Figure size 1200x600 with 1 Axes>"
      ]
     },
     "metadata": {},
     "output_type": "display_data"
    }
   ],
   "source": [
    "plt.figure(figsize=(12,6))\n",
    "_, times_from_size = zip(*from_size_timings)\n",
    "_, times_search_after = zip(*times_search_after)\n",
    "\n",
    "plt.hist(times_from_size,alpha=0.5,label=\"from/size\",bins=20)\n",
    "plt.hist(times_search_after,alpha=0.5, label=\"search_after\", bins=20)\n",
    "plt.xlabel(\"Response time (milliseconds)\")\n",
    "plt.ylabel(\"Frequency\")\n",
    "plt.title(\"Distribution of response times\")\n",
    "plt.legend()\n",
    "plt.grid(True)\n",
    "plt.show()"
   ]
  },
  {
   "cell_type": "code",
   "execution_count": 211,
   "metadata": {},
   "outputs": [
    {
     "name": "stdout",
     "output_type": "stream",
     "text": [
      "{'acknowledged': True}\n"
     ]
    }
   ],
   "source": [
    "response = es.ingest.put_pipeline(\n",
    "    id='lowercase_pipeline',\n",
    "    description=\"This pipeline transforms the text to lowercase\",\n",
    "    processors=[\n",
    "        {\n",
    "            \"lowercase\": {\n",
    "                \"field\":\"text\"\n",
    "            }\n",
    "        }\n",
    "    ]\n",
    ")\n",
    "\n",
    "pprint(response.body)"
   ]
  },
  {
   "cell_type": "code",
   "execution_count": 212,
   "metadata": {},
   "outputs": [
    {
     "name": "stdout",
     "output_type": "stream",
     "text": [
      "{'lowercase_pipeline': {'description': 'This pipeline transforms the text to '\n",
      "                                       'lowercase',\n",
      "                        'processors': [{'lowercase': {'field': 'text'}}]}}\n"
     ]
    }
   ],
   "source": [
    "response = es.ingest.get_pipeline(\n",
    "    id=\"lowercase_pipeline\"\n",
    ")\n",
    "pprint(response.body)"
   ]
  },
  {
   "cell_type": "code",
   "execution_count": 213,
   "metadata": {},
   "outputs": [
    {
     "name": "stdout",
     "output_type": "stream",
     "text": [
      "{'acknowledged': True}\n"
     ]
    }
   ],
   "source": [
    "response = es.ingest.delete_pipeline(id=\"lowercase_pipeline\")\n",
    "pprint(response.body)"
   ]
  },
  {
   "cell_type": "code",
   "execution_count": 214,
   "metadata": {},
   "outputs": [
    {
     "name": "stdout",
     "output_type": "stream",
     "text": [
      "{'acknowledged': True}\n"
     ]
    }
   ],
   "source": [
    "response = es.ingest.put_pipeline(\n",
    "    id='lowercase_pipeline',\n",
    "    description=\"This pipeline transforms the text to lowercase\",\n",
    "    processors=[\n",
    "        {\n",
    "            \"lowercase\": {\n",
    "                \"field\":\"text\"\n",
    "            }\n",
    "        }\n",
    "    ]\n",
    ")\n",
    "\n",
    "pprint(response.body)"
   ]
  },
  {
   "cell_type": "code",
   "execution_count": 215,
   "metadata": {},
   "outputs": [
    {
     "name": "stdout",
     "output_type": "stream",
     "text": [
      "{'docs': [{'doc': {'_id': '1',\n",
      "                   '_index': 'my_index',\n",
      "                   '_ingest': {'timestamp': '2024-12-19T04:03:45.337726502Z'},\n",
      "                   '_source': {'text': 'hello world'},\n",
      "                   '_version': '-3'}}]}\n"
     ]
    }
   ],
   "source": [
    "response = es.ingest.simulate(\n",
    "    id=\"lowercase_pipeline\",\n",
    "    docs=[\n",
    "        {\n",
    "            \"_index\":\"my_index\",\n",
    "            \"_id\": \"1\",\n",
    "            \"_source\": {\n",
    "                \"text\": \"Hello World\"\n",
    "            }\n",
    "        }\n",
    "    ]\n",
    ")\n",
    "\n",
    "pprint(response.body)"
   ]
  },
  {
   "cell_type": "code",
   "execution_count": 216,
   "metadata": {},
   "outputs": [
    {
     "data": {
      "text/plain": [
       "[{'title': 'Sample Title 1',\n",
       "  'text': 'THIS IS THE FIRST SAMPLE DOCUMENT TEXT.',\n",
       "  'created_on': '2024-09-22'},\n",
       " {'title': 'Sample Title 2',\n",
       "  'text': 'HERE IS ANOTHER EXAMPLE OF A DOCUMENT.',\n",
       "  'created_on': '2024-09-24'},\n",
       " {'title': 'Sample Title 3',\n",
       "  'text': 'THE CONTENT OF THE THIRD DOCUMENT GOES HERE.',\n",
       "  'created_on': '2024-09-24'}]"
      ]
     },
     "execution_count": 216,
     "metadata": {},
     "output_type": "execute_result"
    }
   ],
   "source": [
    "for i , document in enumerate(dummy_data):\n",
    "    document['text'] = document['text'].upper()\n",
    "    dummy_data[i] = document\n",
    "\n",
    "dummy_data"
   ]
  },
  {
   "cell_type": "code",
   "execution_count": 217,
   "metadata": {},
   "outputs": [
    {
     "data": {
      "text/plain": [
       "ObjectApiResponse({'acknowledged': True, 'shards_acknowledged': True, 'index': 'my_index'})"
      ]
     },
     "execution_count": 217,
     "metadata": {},
     "output_type": "execute_result"
    }
   ],
   "source": [
    "es.indices.delete(index=\"my_index\", ignore_unavailable=True)\n",
    "es.indices.create(index=\"my_index\")"
   ]
  },
  {
   "cell_type": "code",
   "execution_count": 218,
   "metadata": {},
   "outputs": [
    {
     "name": "stdout",
     "output_type": "stream",
     "text": [
      "{'errors': False,\n",
      " 'ingest_took': 0,\n",
      " 'items': [{'index': {'_id': 'rvEV3ZMBwUvK-SJl-_0m',\n",
      "                      '_index': 'my_index',\n",
      "                      '_primary_term': 1,\n",
      "                      '_seq_no': 0,\n",
      "                      '_shards': {'failed': 0, 'successful': 1, 'total': 2},\n",
      "                      '_version': 1,\n",
      "                      'result': 'created',\n",
      "                      'status': 201}},\n",
      "           {'index': {'_id': 'r_EV3ZMBwUvK-SJl-_0m',\n",
      "                      '_index': 'my_index',\n",
      "                      '_primary_term': 1,\n",
      "                      '_seq_no': 1,\n",
      "                      '_shards': {'failed': 0, 'successful': 1, 'total': 2},\n",
      "                      '_version': 1,\n",
      "                      'result': 'created',\n",
      "                      'status': 201}},\n",
      "           {'index': {'_id': 'sPEV3ZMBwUvK-SJl-_0m',\n",
      "                      '_index': 'my_index',\n",
      "                      '_primary_term': 1,\n",
      "                      '_seq_no': 2,\n",
      "                      '_shards': {'failed': 0, 'successful': 1, 'total': 2},\n",
      "                      '_version': 1,\n",
      "                      'result': 'created',\n",
      "                      'status': 201}}],\n",
      " 'took': 512582}\n"
     ]
    }
   ],
   "source": [
    "operations = []\n",
    "\n",
    "for document in dummy_data:\n",
    "    operations.append({\"index\": {\"_index\": \"my_index\"}})\n",
    "    operations.append(document)\n",
    "\n",
    "response = es.bulk(operations=operations, pipeline=\"lowercase_pipeline\")\n",
    "pprint(response.body)"
   ]
  },
  {
   "cell_type": "code",
   "execution_count": 219,
   "metadata": {},
   "outputs": [
    {
     "name": "stdout",
     "output_type": "stream",
     "text": [
      "{'acknowledged': True}\n"
     ]
    }
   ],
   "source": [
    "response = es.ingest.put_pipeline(\n",
    "    id='pipeline_1',\n",
    "    description=\"Pipeline with multiple transformations, handling and ignoring failures\",\n",
    "    processors=[\n",
    "        {\n",
    "            \"lowercase\": {\n",
    "                \"field\": \"text\"\n",
    "            }\n",
    "        },\n",
    "        {\n",
    "            \"set\": {\n",
    "                \"field\": \"text\",\n",
    "                \"value\": \"CHANGED BY PIPELINE\"\n",
    "            }\n",
    "        }\n",
    "    ]\n",
    ")\n",
    "\n",
    "pprint(response.body)"
   ]
  },
  {
   "cell_type": "code",
   "execution_count": 220,
   "metadata": {},
   "outputs": [
    {
     "name": "stdout",
     "output_type": "stream",
     "text": [
      "{'acknowledged': True}\n"
     ]
    }
   ],
   "source": [
    "response = es.ingest.put_pipeline(\n",
    "    id=\"pipeline_2\",\n",
    "    description=\"Pipeline with multiple transformations, handling and ignoring failure\",\n",
    "    processors=[\n",
    "        {\n",
    "            \"lowercase\": {\n",
    "                \"field\": \"text\",\n",
    "                \"on_failure\": [\n",
    "                    {\n",
    "                        \"set\": {\n",
    "                            \"field\": \"text\",\n",
    "                            \"value\": \"FAILED TO LOWERCASE\",\n",
    "                            \"ignore_failure\": True\n",
    "                        }\n",
    "                    }\n",
    "                ]\n",
    "            }\n",
    "        },\n",
    "        {\n",
    "            \"set\": {\n",
    "                \"field\": \"new_field\",\n",
    "                \"value\": \"ADD BY PIPELINE\",\n",
    "                \"ignore_failure\": True\n",
    "            }\n",
    "        }\n",
    "    ]\n",
    ")\n",
    "\n",
    "pprint(response.body)"
   ]
  },
  {
   "cell_type": "code",
   "execution_count": 221,
   "metadata": {},
   "outputs": [
    {
     "name": "stdout",
     "output_type": "stream",
     "text": [
      "{'_id': 'sfEV3ZMBwUvK-SJl-_15',\n",
      " '_index': 'my_index',\n",
      " '_primary_term': 1,\n",
      " '_seq_no': 3,\n",
      " '_shards': {'failed': 0, 'successful': 1, 'total': 2},\n",
      " '_version': 1,\n",
      " 'result': 'created'}\n"
     ]
    }
   ],
   "source": [
    "document = {\n",
    "    \"title\": \"Sample Title 4\",\n",
    "    \"created_on\": \"2024-09-25\"\n",
    "}\n",
    "\n",
    "response = es.index(\n",
    "    index=\"my_index\",\n",
    "    pipeline=\"pipeline_2\",\n",
    "    document=document\n",
    ")\n",
    "\n",
    "pprint(response.body)"
   ]
  },
  {
   "cell_type": "code",
   "execution_count": 222,
   "metadata": {},
   "outputs": [],
   "source": [
    "response = es.search(\n",
    "    index=\"my_index\"\n",
    ")\n",
    "\n",
    "hits = response.body['hits']['hits']\n",
    "for hit in hits:\n",
    "    print(hit['_source'])"
   ]
  },
  {
   "cell_type": "code",
   "execution_count": 223,
   "metadata": {},
   "outputs": [],
   "source": [
    "document = {\n",
    "    \"price\": \"100.50\",\n",
    "    \"old_name\": \"old_value\",\n",
    "    \"description\": \"<p>This is a description with HTML.</p>\",\n",
    "    \"username\": \"UserNAME\",\n",
    "    \"category\": \"books\",\n",
    "    \"title\": \"   Example Title with Whitespace   \",\n",
    "    \"tags\": \"tag1,tag2,tag3\",\n",
    "    \"temporary_field\": \"This field should be removed\"\n",
    "}"
   ]
  },
  {
   "cell_type": "code",
   "execution_count": 224,
   "metadata": {},
   "outputs": [
    {
     "data": {
      "text/plain": [
       "ObjectApiResponse({'acknowledged': True})"
      ]
     },
     "execution_count": 224,
     "metadata": {},
     "output_type": "execute_result"
    }
   ],
   "source": [
    "pipeline_body = {\n",
    "    \"description\": \"Pipeline to demonstrate various ingest processors\",\n",
    "    \"processors\":[\n",
    "        {\n",
    "            \"convert\": {\n",
    "                \"field\": \"price\",\n",
    "                \"type\": \"float\",\n",
    "                \"ignore_missing\":True\n",
    "            }\n",
    "        },\n",
    "        {\n",
    "            \"rename\":{\n",
    "                \"field\": \"old_name\",\n",
    "                \"target_field\": \"new_name\"\n",
    "            }\n",
    "        },\n",
    "        {\n",
    "            \"set\":{\n",
    "                \"field\": \"status\",\n",
    "                \"value\": \"active\"\n",
    "            }\n",
    "        },\n",
    "        {\n",
    "            \"html_strip\": {\n",
    "                \"field\": \"description\"\n",
    "            }\n",
    "        },\n",
    "        {\n",
    "            \"lowercase\": {\n",
    "                \"field\":\"username\"\n",
    "            }\n",
    "        },\n",
    "        {\n",
    "            \"uppercase\": {\n",
    "                \"field\": \"category\"\n",
    "            }\n",
    "        },\n",
    "        {\n",
    "            \"trim\": {\n",
    "                \"field\": \"title\"\n",
    "            }\n",
    "        },\n",
    "        {\n",
    "            \"split\": {\n",
    "                \"field\": \"tags\",\n",
    "                \"separator\": \",\"\n",
    "            }\n",
    "        },\n",
    "        {\n",
    "            \"remove\":{\n",
    "                \"field\": \"temporary_field\"\n",
    "            }\n",
    "        },\n",
    "        {\n",
    "            \"append\":{\n",
    "                \"field\": \"tags\",\n",
    "                \"value\": [\"new_tag\"]\n",
    "            }\n",
    "        }\n",
    "    ]\n",
    "}\n",
    "\n",
    "pipeline_id  = \"multi_steps_pipeline\"\n",
    "es.ingest.put_pipeline(id=pipeline_id, body=pipeline_body)\n"
   ]
  },
  {
   "cell_type": "code",
   "execution_count": 225,
   "metadata": {},
   "outputs": [
    {
     "name": "stdout",
     "output_type": "stream",
     "text": [
      "{'_id': 'svEV3ZMBwUvK-SJl_P2j',\n",
      " '_index': 'my_index',\n",
      " '_primary_term': 1,\n",
      " '_seq_no': 0,\n",
      " '_shards': {'failed': 0, 'successful': 1, 'total': 2},\n",
      " '_version': 1,\n",
      " 'result': 'created'}\n"
     ]
    }
   ],
   "source": [
    "es.indices.delete(index=\"my_index\", ignore_unavailable=True)\n",
    "es.indices.create(index=\"my_index\")\n",
    "\n",
    "response = es.index(index=\"my_index\", document=document,pipeline=pipeline_id)\n",
    "pprint(response.body)"
   ]
  },
  {
   "cell_type": "code",
   "execution_count": 226,
   "metadata": {},
   "outputs": [],
   "source": [
    "response = es.search(index=\"my_index\")\n",
    "hits = response.body['hits']['hits']\n",
    "\n",
    "for hit in hits:\n",
    "    pprint(hit['_source'])"
   ]
  },
  {
   "cell_type": "code",
   "execution_count": 227,
   "metadata": {},
   "outputs": [],
   "source": [
    "clothes_documents=[\n",
    "  { \"brand\": \"gucci\", \"color\": \"red\", \"model\": \"model_1\" },\n",
    "  { \"brand\": \"gucci\", \"color\": \"blue\", \"model\": \"model_2\" },\n",
    "  { \"brand\": \"gucci\", \"color\": \"red\", \"model\": \"model_3\" },\n",
    "  { \"brand\": \"gucci\", \"color\": \"green\", \"model\": \"model_4\" },\n",
    "  { \"brand\": \"gucci\", \"color\": \"red\", \"model\": \"model_1\" },\n",
    "  { \"brand\": \"gucci\", \"color\": \"yellow\", \"model\": \"model_2\" },\n",
    "  { \"brand\": \"nike\", \"color\": \"red\", \"model\": \"model_5\" },\n",
    "  { \"brand\": \"nike\", \"color\": \"blue\", \"model\": \"model_6\" },\n",
    "  { \"brand\": \"gucci\", \"color\": \"blue\", \"model\": \"model_3\" },\n",
    "  { \"brand\": \"gucci\", \"color\": \"red\", \"model\": \"model_4\" },\n",
    "  { \"brand\": \"nike\", \"color\": \"red\", \"model\": \"model_7\" },\n",
    "  { \"brand\": \"nike\", \"color\": \"green\", \"model\": \"model_8\" },\n",
    "  { \"brand\": \"gucci\", \"color\": \"red\", \"model\": \"model_1\" },\n",
    "  { \"brand\": \"adidas\", \"color\": \"blue\", \"model\": \"model_9\" },\n",
    "  { \"brand\": \"adidas\", \"color\": \"red\", \"model\": \"model_10\" },\n",
    "  { \"brand\": \"puma\", \"color\": \"yellow\", \"model\": \"model_11\" },\n",
    "  { \"brand\": \"puma\", \"color\": \"red\", \"model\": \"model_12\" },\n",
    "  { \"brand\": \"nike\", \"color\": \"blue\", \"model\": \"model_13\" },\n",
    "  { \"brand\": \"nike\", \"color\": \"green\", \"model\": \"model_14\" },\n",
    "  { \"brand\": \"adidas\", \"color\": \"yellow\", \"model\": \"model_15\" },\n",
    "  { \"brand\": \"gucci\", \"color\": \"blue\", \"model\": \"model_16\" },\n",
    "  { \"brand\": \"gucci\", \"color\": \"red\", \"model\": \"model_2\" },\n",
    "  { \"brand\": \"adidas\", \"color\": \"green\", \"model\": \"model_17\" },\n",
    "  { \"brand\": \"puma\", \"color\": \"blue\", \"model\": \"model_18\" },\n",
    "  { \"brand\": \"nike\", \"color\": \"yellow\", \"model\": \"model_5\" },\n",
    "  { \"brand\": \"nike\", \"color\": \"red\", \"model\": \"model_6\" },\n",
    "  { \"brand\": \"adidas\", \"color\": \"yellow\", \"model\": \"model_8\" },\n",
    "  { \"brand\": \"puma\", \"color\": \"red\", \"model\": \"model_7\" },\n",
    "  { \"brand\": \"gucci\", \"color\": \"green\", \"model\": \"model_19\" },\n",
    "  { \"brand\": \"gucci\", \"color\": \"blue\", \"model\": \"model_20\" },\n",
    "  { \"brand\": \"adidas\", \"color\": \"yellow\", \"model\": \"model_21\" },\n",
    "  { \"brand\": \"puma\", \"color\": \"blue\", \"model\": \"model_22\" },\n",
    "  { \"brand\": \"nike\", \"color\": \"red\", \"model\": \"model_23\" },\n",
    "  { \"brand\": \"gucci\", \"color\": \"yellow\", \"model\": \"model_24\" },\n",
    "  { \"brand\": \"adidas\", \"color\": \"green\", \"model\": \"model_25\" },\n",
    "  { \"brand\": \"puma\", \"color\": \"red\", \"model\": \"model_26\" },\n",
    "  { \"brand\": \"nike\", \"color\": \"blue\", \"model\": \"model_27\" },\n",
    "  { \"brand\": \"gucci\", \"color\": \"red\", \"model\": \"model_28\" },\n",
    "  { \"brand\": \"adidas\", \"color\": \"yellow\", \"model\": \"model_29\" },\n",
    "  { \"brand\": \"puma\", \"color\": \"green\", \"model\": \"model_30\" },\n",
    "  { \"brand\": \"nike\", \"color\": \"red\", \"model\": \"model_1\" },\n",
    "  { \"brand\": \"gucci\", \"color\": \"blue\", \"model\": \"model_2\" },\n",
    "  { \"brand\": \"adidas\", \"color\": \"red\", \"model\": \"model_3\" },\n",
    "  { \"brand\": \"puma\", \"color\": \"yellow\", \"model\": \"model_4\" },\n",
    "  { \"brand\": \"nike\", \"color\": \"blue\", \"model\": \"model_5\" },\n",
    "  { \"brand\": \"gucci\", \"color\": \"red\", \"model\": \"model_6\" },\n",
    "  { \"brand\": \"adidas\", \"color\": \"green\", \"model\": \"model_7\" },\n",
    "  { \"brand\": \"puma\", \"color\": \"blue\", \"model\": \"model_8\" },\n",
    "  { \"brand\": \"nike\", \"color\": \"yellow\", \"model\": \"model_9\" },\n",
    "  { \"brand\": \"gucci\", \"color\": \"green\", \"model\": \"model_10\" },\n",
    "  { \"brand\": \"adidas\", \"color\": \"blue\", \"model\": \"model_11\" },\n",
    "  { \"brand\": \"puma\", \"color\": \"red\", \"model\": \"model_12\" },\n",
    "  { \"brand\": \"nike\", \"color\": \"yellow\", \"model\": \"model_13\" },\n",
    "  { \"brand\": \"gucci\", \"color\": \"red\", \"model\": \"model_14\" },\n",
    "  { \"brand\": \"adidas\", \"color\": \"green\", \"model\": \"model_15\" },\n",
    "  { \"brand\": \"puma\", \"color\": \"yellow\", \"model\": \"model_16\" },\n",
    "  { \"brand\": \"nike\", \"color\": \"red\", \"model\": \"model_17\" },\n",
    "  { \"brand\": \"gucci\", \"color\": \"blue\", \"model\": \"model_18\" },\n",
    "  { \"brand\": \"adidas\", \"color\": \"yellow\", \"model\": \"model_19\" },\n",
    "  { \"brand\": \"puma\", \"color\": \"green\", \"model\": \"model_20\" },\n",
    "  { \"brand\": \"nike\", \"color\": \"red\", \"model\": \"model_21\" },\n",
    "  { \"brand\": \"gucci\", \"color\": \"yellow\", \"model\": \"model_22\" },\n",
    "  { \"brand\": \"adidas\", \"color\": \"blue\", \"model\": \"model_23\" },\n",
    "  { \"brand\": \"puma\", \"color\": \"red\", \"model\": \"model_24\" },\n",
    "  { \"brand\": \"nike\", \"color\": \"green\", \"model\": \"model_25\" },\n",
    "  { \"brand\": \"gucci\", \"color\": \"red\", \"model\": \"model_26\" },\n",
    "  { \"brand\": \"adidas\", \"color\": \"blue\", \"model\": \"model_27\" },\n",
    "  { \"brand\": \"puma\", \"color\": \"yellow\", \"model\": \"model_28\" },\n",
    "  { \"brand\": \"nike\", \"color\": \"red\", \"model\": \"model_29\" },\n",
    "  { \"brand\": \"gucci\", \"color\": \"green\", \"model\": \"model_30\" },\n",
    "  { \"brand\": \"adidas\", \"color\": \"blue\", \"model\": \"model_1\" },\n",
    "  { \"brand\": \"puma\", \"color\": \"red\", \"model\": \"model_2\" },\n",
    "  { \"brand\": \"nike\", \"color\": \"yellow\", \"model\": \"model_3\" },\n",
    "  { \"brand\": \"gucci\", \"color\": \"blue\", \"model\": \"model_4\" },\n",
    "  { \"brand\": \"adidas\", \"color\": \"red\", \"model\": \"model_5\" },\n",
    "  { \"brand\": \"puma\", \"color\": \"yellow\", \"model\": \"model_6\" },\n",
    "  { \"brand\": \"nike\", \"color\": \"green\", \"model\": \"model_7\" },\n",
    "  { \"brand\": \"gucci\", \"color\": \"red\", \"model\": \"model_8\" },\n",
    "  { \"brand\": \"adidas\", \"color\": \"blue\", \"model\": \"model_9\" },\n",
    "  { \"brand\": \"puma\", \"color\": \"yellow\", \"model\": \"model_10\" },\n",
    "  { \"brand\": \"nike\", \"color\": \"red\", \"model\": \"model_11\" },\n",
    "  { \"brand\": \"gucci\", \"color\": \"green\", \"model\": \"model_12\" },\n",
    "  { \"brand\": \"adidas\", \"color\": \"blue\", \"model\": \"model_13\" },\n",
    "  { \"brand\": \"puma\", \"color\": \"red\", \"model\": \"model_14\" },\n",
    "  { \"brand\": \"nike\", \"color\": \"yellow\", \"model\": \"model_15\" },\n",
    "  { \"brand\": \"gucci\", \"color\": \"red\", \"model\": \"model_16\" },\n",
    "  { \"brand\": \"adidas\", \"color\": \"green\", \"model\": \"model_17\" },\n",
    "  { \"brand\": \"puma\", \"color\": \"blue\", \"model\": \"model_18\" },\n",
    "  { \"brand\": \"nike\", \"color\": \"red\", \"model\": \"model_19\" },\n",
    "  { \"brand\": \"gucci\", \"color\": \"yellow\", \"model\": \"model_20\" },\n",
    "  { \"brand\": \"adidas\", \"color\": \"blue\", \"model\": \"model_21\" },\n",
    "  { \"brand\": \"puma\", \"color\": \"green\", \"model\": \"model_22\" },\n",
    "  { \"brand\": \"nike\", \"color\": \"red\", \"model\": \"model_23\" },\n",
    "  { \"brand\": \"gucci\", \"color\": \"blue\", \"model\": \"model_24\" },\n",
    "  { \"brand\": \"adidas\", \"color\": \"yellow\", \"model\": \"model_25\" },\n",
    "  { \"brand\": \"puma\", \"color\": \"red\", \"model\": \"model_26\" },\n",
    "  { \"brand\": \"nike\", \"color\": \"blue\", \"model\": \"model_27\" },\n",
    "  { \"brand\": \"gucci\", \"color\": \"green\", \"model\": \"model_28\" },\n",
    "  { \"brand\": \"adidas\", \"color\": \"red\", \"model\": \"model_29\" },\n",
    "  { \"brand\": \"puma\", \"color\": \"yellow\", \"model\": \"model_30\" }\n",
    "]"
   ]
  },
  {
   "cell_type": "code",
   "execution_count": 228,
   "metadata": {},
   "outputs": [
    {
     "name": "stdout",
     "output_type": "stream",
     "text": [
      "{'errors': False,\n",
      " 'items': [{'index': {'_id': 's_EV3ZMBwUvK-SJl_f2x',\n",
      "                      '_index': 'my_index',\n",
      "                      '_primary_term': 1,\n",
      "                      '_seq_no': 0,\n",
      "                      '_shards': {'failed': 0, 'successful': 1, 'total': 2},\n",
      "                      '_version': 1,\n",
      "                      'result': 'created',\n",
      "                      'status': 201}},\n",
      "           {'index': {'_id': 'tPEV3ZMBwUvK-SJl_f2x',\n",
      "                      '_index': 'my_index',\n",
      "                      '_primary_term': 1,\n",
      "                      '_seq_no': 1,\n",
      "                      '_shards': {'failed': 0, 'successful': 1, 'total': 2},\n",
      "                      '_version': 1,\n",
      "                      'result': 'created',\n",
      "                      'status': 201}},\n",
      "           {'index': {'_id': 'tfEV3ZMBwUvK-SJl_f2x',\n",
      "                      '_index': 'my_index',\n",
      "                      '_primary_term': 1,\n",
      "                      '_seq_no': 2,\n",
      "                      '_shards': {'failed': 0, 'successful': 1, 'total': 2},\n",
      "                      '_version': 1,\n",
      "                      'result': 'created',\n",
      "                      'status': 201}},\n",
      "           {'index': {'_id': 'tvEV3ZMBwUvK-SJl_f2x',\n",
      "                      '_index': 'my_index',\n",
      "                      '_primary_term': 1,\n",
      "                      '_seq_no': 3,\n",
      "                      '_shards': {'failed': 0, 'successful': 1, 'total': 2},\n",
      "                      '_version': 1,\n",
      "                      'result': 'created',\n",
      "                      'status': 201}},\n",
      "           {'index': {'_id': 't_EV3ZMBwUvK-SJl_f2x',\n",
      "                      '_index': 'my_index',\n",
      "                      '_primary_term': 1,\n",
      "                      '_seq_no': 4,\n",
      "                      '_shards': {'failed': 0, 'successful': 1, 'total': 2},\n",
      "                      '_version': 1,\n",
      "                      'result': 'created',\n",
      "                      'status': 201}},\n",
      "           {'index': {'_id': 'uPEV3ZMBwUvK-SJl_f2x',\n",
      "                      '_index': 'my_index',\n",
      "                      '_primary_term': 1,\n",
      "                      '_seq_no': 5,\n",
      "                      '_shards': {'failed': 0, 'successful': 1, 'total': 2},\n",
      "                      '_version': 1,\n",
      "                      'result': 'created',\n",
      "                      'status': 201}},\n",
      "           {'index': {'_id': 'ufEV3ZMBwUvK-SJl_f2x',\n",
      "                      '_index': 'my_index',\n",
      "                      '_primary_term': 1,\n",
      "                      '_seq_no': 6,\n",
      "                      '_shards': {'failed': 0, 'successful': 1, 'total': 2},\n",
      "                      '_version': 1,\n",
      "                      'result': 'created',\n",
      "                      'status': 201}},\n",
      "           {'index': {'_id': 'uvEV3ZMBwUvK-SJl_f2x',\n",
      "                      '_index': 'my_index',\n",
      "                      '_primary_term': 1,\n",
      "                      '_seq_no': 7,\n",
      "                      '_shards': {'failed': 0, 'successful': 1, 'total': 2},\n",
      "                      '_version': 1,\n",
      "                      'result': 'created',\n",
      "                      'status': 201}},\n",
      "           {'index': {'_id': 'u_EV3ZMBwUvK-SJl_f2x',\n",
      "                      '_index': 'my_index',\n",
      "                      '_primary_term': 1,\n",
      "                      '_seq_no': 8,\n",
      "                      '_shards': {'failed': 0, 'successful': 1, 'total': 2},\n",
      "                      '_version': 1,\n",
      "                      'result': 'created',\n",
      "                      'status': 201}},\n",
      "           {'index': {'_id': 'vPEV3ZMBwUvK-SJl_f2x',\n",
      "                      '_index': 'my_index',\n",
      "                      '_primary_term': 1,\n",
      "                      '_seq_no': 9,\n",
      "                      '_shards': {'failed': 0, 'successful': 1, 'total': 2},\n",
      "                      '_version': 1,\n",
      "                      'result': 'created',\n",
      "                      'status': 201}},\n",
      "           {'index': {'_id': 'vfEV3ZMBwUvK-SJl_f2x',\n",
      "                      '_index': 'my_index',\n",
      "                      '_primary_term': 1,\n",
      "                      '_seq_no': 10,\n",
      "                      '_shards': {'failed': 0, 'successful': 1, 'total': 2},\n",
      "                      '_version': 1,\n",
      "                      'result': 'created',\n",
      "                      'status': 201}},\n",
      "           {'index': {'_id': 'vvEV3ZMBwUvK-SJl_f2x',\n",
      "                      '_index': 'my_index',\n",
      "                      '_primary_term': 1,\n",
      "                      '_seq_no': 11,\n",
      "                      '_shards': {'failed': 0, 'successful': 1, 'total': 2},\n",
      "                      '_version': 1,\n",
      "                      'result': 'created',\n",
      "                      'status': 201}},\n",
      "           {'index': {'_id': 'v_EV3ZMBwUvK-SJl_f2x',\n",
      "                      '_index': 'my_index',\n",
      "                      '_primary_term': 1,\n",
      "                      '_seq_no': 12,\n",
      "                      '_shards': {'failed': 0, 'successful': 1, 'total': 2},\n",
      "                      '_version': 1,\n",
      "                      'result': 'created',\n",
      "                      'status': 201}},\n",
      "           {'index': {'_id': 'wPEV3ZMBwUvK-SJl_f2x',\n",
      "                      '_index': 'my_index',\n",
      "                      '_primary_term': 1,\n",
      "                      '_seq_no': 13,\n",
      "                      '_shards': {'failed': 0, 'successful': 1, 'total': 2},\n",
      "                      '_version': 1,\n",
      "                      'result': 'created',\n",
      "                      'status': 201}},\n",
      "           {'index': {'_id': 'wfEV3ZMBwUvK-SJl_f2x',\n",
      "                      '_index': 'my_index',\n",
      "                      '_primary_term': 1,\n",
      "                      '_seq_no': 14,\n",
      "                      '_shards': {'failed': 0, 'successful': 1, 'total': 2},\n",
      "                      '_version': 1,\n",
      "                      'result': 'created',\n",
      "                      'status': 201}},\n",
      "           {'index': {'_id': 'wvEV3ZMBwUvK-SJl_f2x',\n",
      "                      '_index': 'my_index',\n",
      "                      '_primary_term': 1,\n",
      "                      '_seq_no': 15,\n",
      "                      '_shards': {'failed': 0, 'successful': 1, 'total': 2},\n",
      "                      '_version': 1,\n",
      "                      'result': 'created',\n",
      "                      'status': 201}},\n",
      "           {'index': {'_id': 'w_EV3ZMBwUvK-SJl_f2x',\n",
      "                      '_index': 'my_index',\n",
      "                      '_primary_term': 1,\n",
      "                      '_seq_no': 16,\n",
      "                      '_shards': {'failed': 0, 'successful': 1, 'total': 2},\n",
      "                      '_version': 1,\n",
      "                      'result': 'created',\n",
      "                      'status': 201}},\n",
      "           {'index': {'_id': 'xPEV3ZMBwUvK-SJl_f2x',\n",
      "                      '_index': 'my_index',\n",
      "                      '_primary_term': 1,\n",
      "                      '_seq_no': 17,\n",
      "                      '_shards': {'failed': 0, 'successful': 1, 'total': 2},\n",
      "                      '_version': 1,\n",
      "                      'result': 'created',\n",
      "                      'status': 201}},\n",
      "           {'index': {'_id': 'xfEV3ZMBwUvK-SJl_f2x',\n",
      "                      '_index': 'my_index',\n",
      "                      '_primary_term': 1,\n",
      "                      '_seq_no': 18,\n",
      "                      '_shards': {'failed': 0, 'successful': 1, 'total': 2},\n",
      "                      '_version': 1,\n",
      "                      'result': 'created',\n",
      "                      'status': 201}},\n",
      "           {'index': {'_id': 'xvEV3ZMBwUvK-SJl_f2x',\n",
      "                      '_index': 'my_index',\n",
      "                      '_primary_term': 1,\n",
      "                      '_seq_no': 19,\n",
      "                      '_shards': {'failed': 0, 'successful': 1, 'total': 2},\n",
      "                      '_version': 1,\n",
      "                      'result': 'created',\n",
      "                      'status': 201}},\n",
      "           {'index': {'_id': 'x_EV3ZMBwUvK-SJl_f2x',\n",
      "                      '_index': 'my_index',\n",
      "                      '_primary_term': 1,\n",
      "                      '_seq_no': 20,\n",
      "                      '_shards': {'failed': 0, 'successful': 1, 'total': 2},\n",
      "                      '_version': 1,\n",
      "                      'result': 'created',\n",
      "                      'status': 201}},\n",
      "           {'index': {'_id': 'yPEV3ZMBwUvK-SJl_f2x',\n",
      "                      '_index': 'my_index',\n",
      "                      '_primary_term': 1,\n",
      "                      '_seq_no': 21,\n",
      "                      '_shards': {'failed': 0, 'successful': 1, 'total': 2},\n",
      "                      '_version': 1,\n",
      "                      'result': 'created',\n",
      "                      'status': 201}},\n",
      "           {'index': {'_id': 'yfEV3ZMBwUvK-SJl_f2x',\n",
      "                      '_index': 'my_index',\n",
      "                      '_primary_term': 1,\n",
      "                      '_seq_no': 22,\n",
      "                      '_shards': {'failed': 0, 'successful': 1, 'total': 2},\n",
      "                      '_version': 1,\n",
      "                      'result': 'created',\n",
      "                      'status': 201}},\n",
      "           {'index': {'_id': 'yvEV3ZMBwUvK-SJl_f2x',\n",
      "                      '_index': 'my_index',\n",
      "                      '_primary_term': 1,\n",
      "                      '_seq_no': 23,\n",
      "                      '_shards': {'failed': 0, 'successful': 1, 'total': 2},\n",
      "                      '_version': 1,\n",
      "                      'result': 'created',\n",
      "                      'status': 201}},\n",
      "           {'index': {'_id': 'y_EV3ZMBwUvK-SJl_f2x',\n",
      "                      '_index': 'my_index',\n",
      "                      '_primary_term': 1,\n",
      "                      '_seq_no': 24,\n",
      "                      '_shards': {'failed': 0, 'successful': 1, 'total': 2},\n",
      "                      '_version': 1,\n",
      "                      'result': 'created',\n",
      "                      'status': 201}},\n",
      "           {'index': {'_id': 'zPEV3ZMBwUvK-SJl_f2x',\n",
      "                      '_index': 'my_index',\n",
      "                      '_primary_term': 1,\n",
      "                      '_seq_no': 25,\n",
      "                      '_shards': {'failed': 0, 'successful': 1, 'total': 2},\n",
      "                      '_version': 1,\n",
      "                      'result': 'created',\n",
      "                      'status': 201}},\n",
      "           {'index': {'_id': 'zfEV3ZMBwUvK-SJl_f2x',\n",
      "                      '_index': 'my_index',\n",
      "                      '_primary_term': 1,\n",
      "                      '_seq_no': 26,\n",
      "                      '_shards': {'failed': 0, 'successful': 1, 'total': 2},\n",
      "                      '_version': 1,\n",
      "                      'result': 'created',\n",
      "                      'status': 201}},\n",
      "           {'index': {'_id': 'zvEV3ZMBwUvK-SJl_f2x',\n",
      "                      '_index': 'my_index',\n",
      "                      '_primary_term': 1,\n",
      "                      '_seq_no': 27,\n",
      "                      '_shards': {'failed': 0, 'successful': 1, 'total': 2},\n",
      "                      '_version': 1,\n",
      "                      'result': 'created',\n",
      "                      'status': 201}},\n",
      "           {'index': {'_id': 'z_EV3ZMBwUvK-SJl_f2x',\n",
      "                      '_index': 'my_index',\n",
      "                      '_primary_term': 1,\n",
      "                      '_seq_no': 28,\n",
      "                      '_shards': {'failed': 0, 'successful': 1, 'total': 2},\n",
      "                      '_version': 1,\n",
      "                      'result': 'created',\n",
      "                      'status': 201}},\n",
      "           {'index': {'_id': '0PEV3ZMBwUvK-SJl_f2x',\n",
      "                      '_index': 'my_index',\n",
      "                      '_primary_term': 1,\n",
      "                      '_seq_no': 29,\n",
      "                      '_shards': {'failed': 0, 'successful': 1, 'total': 2},\n",
      "                      '_version': 1,\n",
      "                      'result': 'created',\n",
      "                      'status': 201}},\n",
      "           {'index': {'_id': '0fEV3ZMBwUvK-SJl_f2x',\n",
      "                      '_index': 'my_index',\n",
      "                      '_primary_term': 1,\n",
      "                      '_seq_no': 30,\n",
      "                      '_shards': {'failed': 0, 'successful': 1, 'total': 2},\n",
      "                      '_version': 1,\n",
      "                      'result': 'created',\n",
      "                      'status': 201}},\n",
      "           {'index': {'_id': '0vEV3ZMBwUvK-SJl_f2x',\n",
      "                      '_index': 'my_index',\n",
      "                      '_primary_term': 1,\n",
      "                      '_seq_no': 31,\n",
      "                      '_shards': {'failed': 0, 'successful': 1, 'total': 2},\n",
      "                      '_version': 1,\n",
      "                      'result': 'created',\n",
      "                      'status': 201}},\n",
      "           {'index': {'_id': '0_EV3ZMBwUvK-SJl_f2x',\n",
      "                      '_index': 'my_index',\n",
      "                      '_primary_term': 1,\n",
      "                      '_seq_no': 32,\n",
      "                      '_shards': {'failed': 0, 'successful': 1, 'total': 2},\n",
      "                      '_version': 1,\n",
      "                      'result': 'created',\n",
      "                      'status': 201}},\n",
      "           {'index': {'_id': '1PEV3ZMBwUvK-SJl_f2x',\n",
      "                      '_index': 'my_index',\n",
      "                      '_primary_term': 1,\n",
      "                      '_seq_no': 33,\n",
      "                      '_shards': {'failed': 0, 'successful': 1, 'total': 2},\n",
      "                      '_version': 1,\n",
      "                      'result': 'created',\n",
      "                      'status': 201}},\n",
      "           {'index': {'_id': '1fEV3ZMBwUvK-SJl_f2x',\n",
      "                      '_index': 'my_index',\n",
      "                      '_primary_term': 1,\n",
      "                      '_seq_no': 34,\n",
      "                      '_shards': {'failed': 0, 'successful': 1, 'total': 2},\n",
      "                      '_version': 1,\n",
      "                      'result': 'created',\n",
      "                      'status': 201}},\n",
      "           {'index': {'_id': '1vEV3ZMBwUvK-SJl_f2x',\n",
      "                      '_index': 'my_index',\n",
      "                      '_primary_term': 1,\n",
      "                      '_seq_no': 35,\n",
      "                      '_shards': {'failed': 0, 'successful': 1, 'total': 2},\n",
      "                      '_version': 1,\n",
      "                      'result': 'created',\n",
      "                      'status': 201}},\n",
      "           {'index': {'_id': '1_EV3ZMBwUvK-SJl_f2x',\n",
      "                      '_index': 'my_index',\n",
      "                      '_primary_term': 1,\n",
      "                      '_seq_no': 36,\n",
      "                      '_shards': {'failed': 0, 'successful': 1, 'total': 2},\n",
      "                      '_version': 1,\n",
      "                      'result': 'created',\n",
      "                      'status': 201}},\n",
      "           {'index': {'_id': '2PEV3ZMBwUvK-SJl_f2x',\n",
      "                      '_index': 'my_index',\n",
      "                      '_primary_term': 1,\n",
      "                      '_seq_no': 37,\n",
      "                      '_shards': {'failed': 0, 'successful': 1, 'total': 2},\n",
      "                      '_version': 1,\n",
      "                      'result': 'created',\n",
      "                      'status': 201}},\n",
      "           {'index': {'_id': '2fEV3ZMBwUvK-SJl_f2x',\n",
      "                      '_index': 'my_index',\n",
      "                      '_primary_term': 1,\n",
      "                      '_seq_no': 38,\n",
      "                      '_shards': {'failed': 0, 'successful': 1, 'total': 2},\n",
      "                      '_version': 1,\n",
      "                      'result': 'created',\n",
      "                      'status': 201}},\n",
      "           {'index': {'_id': '2vEV3ZMBwUvK-SJl_f2x',\n",
      "                      '_index': 'my_index',\n",
      "                      '_primary_term': 1,\n",
      "                      '_seq_no': 39,\n",
      "                      '_shards': {'failed': 0, 'successful': 1, 'total': 2},\n",
      "                      '_version': 1,\n",
      "                      'result': 'created',\n",
      "                      'status': 201}},\n",
      "           {'index': {'_id': '2_EV3ZMBwUvK-SJl_f2x',\n",
      "                      '_index': 'my_index',\n",
      "                      '_primary_term': 1,\n",
      "                      '_seq_no': 40,\n",
      "                      '_shards': {'failed': 0, 'successful': 1, 'total': 2},\n",
      "                      '_version': 1,\n",
      "                      'result': 'created',\n",
      "                      'status': 201}},\n",
      "           {'index': {'_id': '3PEV3ZMBwUvK-SJl_f2x',\n",
      "                      '_index': 'my_index',\n",
      "                      '_primary_term': 1,\n",
      "                      '_seq_no': 41,\n",
      "                      '_shards': {'failed': 0, 'successful': 1, 'total': 2},\n",
      "                      '_version': 1,\n",
      "                      'result': 'created',\n",
      "                      'status': 201}},\n",
      "           {'index': {'_id': '3fEV3ZMBwUvK-SJl_f2x',\n",
      "                      '_index': 'my_index',\n",
      "                      '_primary_term': 1,\n",
      "                      '_seq_no': 42,\n",
      "                      '_shards': {'failed': 0, 'successful': 1, 'total': 2},\n",
      "                      '_version': 1,\n",
      "                      'result': 'created',\n",
      "                      'status': 201}},\n",
      "           {'index': {'_id': '3vEV3ZMBwUvK-SJl_f2x',\n",
      "                      '_index': 'my_index',\n",
      "                      '_primary_term': 1,\n",
      "                      '_seq_no': 43,\n",
      "                      '_shards': {'failed': 0, 'successful': 1, 'total': 2},\n",
      "                      '_version': 1,\n",
      "                      'result': 'created',\n",
      "                      'status': 201}},\n",
      "           {'index': {'_id': '3_EV3ZMBwUvK-SJl_f2x',\n",
      "                      '_index': 'my_index',\n",
      "                      '_primary_term': 1,\n",
      "                      '_seq_no': 44,\n",
      "                      '_shards': {'failed': 0, 'successful': 1, 'total': 2},\n",
      "                      '_version': 1,\n",
      "                      'result': 'created',\n",
      "                      'status': 201}},\n",
      "           {'index': {'_id': '4PEV3ZMBwUvK-SJl_f2x',\n",
      "                      '_index': 'my_index',\n",
      "                      '_primary_term': 1,\n",
      "                      '_seq_no': 45,\n",
      "                      '_shards': {'failed': 0, 'successful': 1, 'total': 2},\n",
      "                      '_version': 1,\n",
      "                      'result': 'created',\n",
      "                      'status': 201}},\n",
      "           {'index': {'_id': '4fEV3ZMBwUvK-SJl_f2x',\n",
      "                      '_index': 'my_index',\n",
      "                      '_primary_term': 1,\n",
      "                      '_seq_no': 46,\n",
      "                      '_shards': {'failed': 0, 'successful': 1, 'total': 2},\n",
      "                      '_version': 1,\n",
      "                      'result': 'created',\n",
      "                      'status': 201}},\n",
      "           {'index': {'_id': '4vEV3ZMBwUvK-SJl_f2x',\n",
      "                      '_index': 'my_index',\n",
      "                      '_primary_term': 1,\n",
      "                      '_seq_no': 47,\n",
      "                      '_shards': {'failed': 0, 'successful': 1, 'total': 2},\n",
      "                      '_version': 1,\n",
      "                      'result': 'created',\n",
      "                      'status': 201}},\n",
      "           {'index': {'_id': '4_EV3ZMBwUvK-SJl_f2x',\n",
      "                      '_index': 'my_index',\n",
      "                      '_primary_term': 1,\n",
      "                      '_seq_no': 48,\n",
      "                      '_shards': {'failed': 0, 'successful': 1, 'total': 2},\n",
      "                      '_version': 1,\n",
      "                      'result': 'created',\n",
      "                      'status': 201}},\n",
      "           {'index': {'_id': '5PEV3ZMBwUvK-SJl_f2x',\n",
      "                      '_index': 'my_index',\n",
      "                      '_primary_term': 1,\n",
      "                      '_seq_no': 49,\n",
      "                      '_shards': {'failed': 0, 'successful': 1, 'total': 2},\n",
      "                      '_version': 1,\n",
      "                      'result': 'created',\n",
      "                      'status': 201}},\n",
      "           {'index': {'_id': '5fEV3ZMBwUvK-SJl_f2x',\n",
      "                      '_index': 'my_index',\n",
      "                      '_primary_term': 1,\n",
      "                      '_seq_no': 50,\n",
      "                      '_shards': {'failed': 0, 'successful': 1, 'total': 2},\n",
      "                      '_version': 1,\n",
      "                      'result': 'created',\n",
      "                      'status': 201}},\n",
      "           {'index': {'_id': '5vEV3ZMBwUvK-SJl_f2x',\n",
      "                      '_index': 'my_index',\n",
      "                      '_primary_term': 1,\n",
      "                      '_seq_no': 51,\n",
      "                      '_shards': {'failed': 0, 'successful': 1, 'total': 2},\n",
      "                      '_version': 1,\n",
      "                      'result': 'created',\n",
      "                      'status': 201}},\n",
      "           {'index': {'_id': '5_EV3ZMBwUvK-SJl_f2x',\n",
      "                      '_index': 'my_index',\n",
      "                      '_primary_term': 1,\n",
      "                      '_seq_no': 52,\n",
      "                      '_shards': {'failed': 0, 'successful': 1, 'total': 2},\n",
      "                      '_version': 1,\n",
      "                      'result': 'created',\n",
      "                      'status': 201}},\n",
      "           {'index': {'_id': '6PEV3ZMBwUvK-SJl_f2x',\n",
      "                      '_index': 'my_index',\n",
      "                      '_primary_term': 1,\n",
      "                      '_seq_no': 53,\n",
      "                      '_shards': {'failed': 0, 'successful': 1, 'total': 2},\n",
      "                      '_version': 1,\n",
      "                      'result': 'created',\n",
      "                      'status': 201}},\n",
      "           {'index': {'_id': '6fEV3ZMBwUvK-SJl_f2x',\n",
      "                      '_index': 'my_index',\n",
      "                      '_primary_term': 1,\n",
      "                      '_seq_no': 54,\n",
      "                      '_shards': {'failed': 0, 'successful': 1, 'total': 2},\n",
      "                      '_version': 1,\n",
      "                      'result': 'created',\n",
      "                      'status': 201}},\n",
      "           {'index': {'_id': '6vEV3ZMBwUvK-SJl_f2x',\n",
      "                      '_index': 'my_index',\n",
      "                      '_primary_term': 1,\n",
      "                      '_seq_no': 55,\n",
      "                      '_shards': {'failed': 0, 'successful': 1, 'total': 2},\n",
      "                      '_version': 1,\n",
      "                      'result': 'created',\n",
      "                      'status': 201}},\n",
      "           {'index': {'_id': '6_EV3ZMBwUvK-SJl_f2x',\n",
      "                      '_index': 'my_index',\n",
      "                      '_primary_term': 1,\n",
      "                      '_seq_no': 56,\n",
      "                      '_shards': {'failed': 0, 'successful': 1, 'total': 2},\n",
      "                      '_version': 1,\n",
      "                      'result': 'created',\n",
      "                      'status': 201}},\n",
      "           {'index': {'_id': '7PEV3ZMBwUvK-SJl_f2x',\n",
      "                      '_index': 'my_index',\n",
      "                      '_primary_term': 1,\n",
      "                      '_seq_no': 57,\n",
      "                      '_shards': {'failed': 0, 'successful': 1, 'total': 2},\n",
      "                      '_version': 1,\n",
      "                      'result': 'created',\n",
      "                      'status': 201}},\n",
      "           {'index': {'_id': '7fEV3ZMBwUvK-SJl_f2x',\n",
      "                      '_index': 'my_index',\n",
      "                      '_primary_term': 1,\n",
      "                      '_seq_no': 58,\n",
      "                      '_shards': {'failed': 0, 'successful': 1, 'total': 2},\n",
      "                      '_version': 1,\n",
      "                      'result': 'created',\n",
      "                      'status': 201}},\n",
      "           {'index': {'_id': '7vEV3ZMBwUvK-SJl_f2x',\n",
      "                      '_index': 'my_index',\n",
      "                      '_primary_term': 1,\n",
      "                      '_seq_no': 59,\n",
      "                      '_shards': {'failed': 0, 'successful': 1, 'total': 2},\n",
      "                      '_version': 1,\n",
      "                      'result': 'created',\n",
      "                      'status': 201}},\n",
      "           {'index': {'_id': '7_EV3ZMBwUvK-SJl_f2x',\n",
      "                      '_index': 'my_index',\n",
      "                      '_primary_term': 1,\n",
      "                      '_seq_no': 60,\n",
      "                      '_shards': {'failed': 0, 'successful': 1, 'total': 2},\n",
      "                      '_version': 1,\n",
      "                      'result': 'created',\n",
      "                      'status': 201}},\n",
      "           {'index': {'_id': '8PEV3ZMBwUvK-SJl_f2x',\n",
      "                      '_index': 'my_index',\n",
      "                      '_primary_term': 1,\n",
      "                      '_seq_no': 61,\n",
      "                      '_shards': {'failed': 0, 'successful': 1, 'total': 2},\n",
      "                      '_version': 1,\n",
      "                      'result': 'created',\n",
      "                      'status': 201}},\n",
      "           {'index': {'_id': '8fEV3ZMBwUvK-SJl_f2x',\n",
      "                      '_index': 'my_index',\n",
      "                      '_primary_term': 1,\n",
      "                      '_seq_no': 62,\n",
      "                      '_shards': {'failed': 0, 'successful': 1, 'total': 2},\n",
      "                      '_version': 1,\n",
      "                      'result': 'created',\n",
      "                      'status': 201}},\n",
      "           {'index': {'_id': '8vEV3ZMBwUvK-SJl_f2x',\n",
      "                      '_index': 'my_index',\n",
      "                      '_primary_term': 1,\n",
      "                      '_seq_no': 63,\n",
      "                      '_shards': {'failed': 0, 'successful': 1, 'total': 2},\n",
      "                      '_version': 1,\n",
      "                      'result': 'created',\n",
      "                      'status': 201}},\n",
      "           {'index': {'_id': '8_EV3ZMBwUvK-SJl_f2x',\n",
      "                      '_index': 'my_index',\n",
      "                      '_primary_term': 1,\n",
      "                      '_seq_no': 64,\n",
      "                      '_shards': {'failed': 0, 'successful': 1, 'total': 2},\n",
      "                      '_version': 1,\n",
      "                      'result': 'created',\n",
      "                      'status': 201}},\n",
      "           {'index': {'_id': '9PEV3ZMBwUvK-SJl_f2x',\n",
      "                      '_index': 'my_index',\n",
      "                      '_primary_term': 1,\n",
      "                      '_seq_no': 65,\n",
      "                      '_shards': {'failed': 0, 'successful': 1, 'total': 2},\n",
      "                      '_version': 1,\n",
      "                      'result': 'created',\n",
      "                      'status': 201}},\n",
      "           {'index': {'_id': '9fEV3ZMBwUvK-SJl_f2x',\n",
      "                      '_index': 'my_index',\n",
      "                      '_primary_term': 1,\n",
      "                      '_seq_no': 66,\n",
      "                      '_shards': {'failed': 0, 'successful': 1, 'total': 2},\n",
      "                      '_version': 1,\n",
      "                      'result': 'created',\n",
      "                      'status': 201}},\n",
      "           {'index': {'_id': '9vEV3ZMBwUvK-SJl_f2x',\n",
      "                      '_index': 'my_index',\n",
      "                      '_primary_term': 1,\n",
      "                      '_seq_no': 67,\n",
      "                      '_shards': {'failed': 0, 'successful': 1, 'total': 2},\n",
      "                      '_version': 1,\n",
      "                      'result': 'created',\n",
      "                      'status': 201}},\n",
      "           {'index': {'_id': '9_EV3ZMBwUvK-SJl_f2x',\n",
      "                      '_index': 'my_index',\n",
      "                      '_primary_term': 1,\n",
      "                      '_seq_no': 68,\n",
      "                      '_shards': {'failed': 0, 'successful': 1, 'total': 2},\n",
      "                      '_version': 1,\n",
      "                      'result': 'created',\n",
      "                      'status': 201}},\n",
      "           {'index': {'_id': '-PEV3ZMBwUvK-SJl_f2x',\n",
      "                      '_index': 'my_index',\n",
      "                      '_primary_term': 1,\n",
      "                      '_seq_no': 69,\n",
      "                      '_shards': {'failed': 0, 'successful': 1, 'total': 2},\n",
      "                      '_version': 1,\n",
      "                      'result': 'created',\n",
      "                      'status': 201}},\n",
      "           {'index': {'_id': '-fEV3ZMBwUvK-SJl_f2x',\n",
      "                      '_index': 'my_index',\n",
      "                      '_primary_term': 1,\n",
      "                      '_seq_no': 70,\n",
      "                      '_shards': {'failed': 0, 'successful': 1, 'total': 2},\n",
      "                      '_version': 1,\n",
      "                      'result': 'created',\n",
      "                      'status': 201}},\n",
      "           {'index': {'_id': '-vEV3ZMBwUvK-SJl_f2x',\n",
      "                      '_index': 'my_index',\n",
      "                      '_primary_term': 1,\n",
      "                      '_seq_no': 71,\n",
      "                      '_shards': {'failed': 0, 'successful': 1, 'total': 2},\n",
      "                      '_version': 1,\n",
      "                      'result': 'created',\n",
      "                      'status': 201}},\n",
      "           {'index': {'_id': '-_EV3ZMBwUvK-SJl_f2x',\n",
      "                      '_index': 'my_index',\n",
      "                      '_primary_term': 1,\n",
      "                      '_seq_no': 72,\n",
      "                      '_shards': {'failed': 0, 'successful': 1, 'total': 2},\n",
      "                      '_version': 1,\n",
      "                      'result': 'created',\n",
      "                      'status': 201}},\n",
      "           {'index': {'_id': '_PEV3ZMBwUvK-SJl_f2x',\n",
      "                      '_index': 'my_index',\n",
      "                      '_primary_term': 1,\n",
      "                      '_seq_no': 73,\n",
      "                      '_shards': {'failed': 0, 'successful': 1, 'total': 2},\n",
      "                      '_version': 1,\n",
      "                      'result': 'created',\n",
      "                      'status': 201}},\n",
      "           {'index': {'_id': '_fEV3ZMBwUvK-SJl_f2x',\n",
      "                      '_index': 'my_index',\n",
      "                      '_primary_term': 1,\n",
      "                      '_seq_no': 74,\n",
      "                      '_shards': {'failed': 0, 'successful': 1, 'total': 2},\n",
      "                      '_version': 1,\n",
      "                      'result': 'created',\n",
      "                      'status': 201}},\n",
      "           {'index': {'_id': '_vEV3ZMBwUvK-SJl_f2x',\n",
      "                      '_index': 'my_index',\n",
      "                      '_primary_term': 1,\n",
      "                      '_seq_no': 75,\n",
      "                      '_shards': {'failed': 0, 'successful': 1, 'total': 2},\n",
      "                      '_version': 1,\n",
      "                      'result': 'created',\n",
      "                      'status': 201}},\n",
      "           {'index': {'_id': '__EV3ZMBwUvK-SJl_f2x',\n",
      "                      '_index': 'my_index',\n",
      "                      '_primary_term': 1,\n",
      "                      '_seq_no': 76,\n",
      "                      '_shards': {'failed': 0, 'successful': 1, 'total': 2},\n",
      "                      '_version': 1,\n",
      "                      'result': 'created',\n",
      "                      'status': 201}},\n",
      "           {'index': {'_id': 'APEV3ZMBwUvK-SJl_f6x',\n",
      "                      '_index': 'my_index',\n",
      "                      '_primary_term': 1,\n",
      "                      '_seq_no': 77,\n",
      "                      '_shards': {'failed': 0, 'successful': 1, 'total': 2},\n",
      "                      '_version': 1,\n",
      "                      'result': 'created',\n",
      "                      'status': 201}},\n",
      "           {'index': {'_id': 'AfEV3ZMBwUvK-SJl_f6x',\n",
      "                      '_index': 'my_index',\n",
      "                      '_primary_term': 1,\n",
      "                      '_seq_no': 78,\n",
      "                      '_shards': {'failed': 0, 'successful': 1, 'total': 2},\n",
      "                      '_version': 1,\n",
      "                      'result': 'created',\n",
      "                      'status': 201}},\n",
      "           {'index': {'_id': 'AvEV3ZMBwUvK-SJl_f6x',\n",
      "                      '_index': 'my_index',\n",
      "                      '_primary_term': 1,\n",
      "                      '_seq_no': 79,\n",
      "                      '_shards': {'failed': 0, 'successful': 1, 'total': 2},\n",
      "                      '_version': 1,\n",
      "                      'result': 'created',\n",
      "                      'status': 201}},\n",
      "           {'index': {'_id': 'A_EV3ZMBwUvK-SJl_f6x',\n",
      "                      '_index': 'my_index',\n",
      "                      '_primary_term': 1,\n",
      "                      '_seq_no': 80,\n",
      "                      '_shards': {'failed': 0, 'successful': 1, 'total': 2},\n",
      "                      '_version': 1,\n",
      "                      'result': 'created',\n",
      "                      'status': 201}},\n",
      "           {'index': {'_id': 'BPEV3ZMBwUvK-SJl_f6x',\n",
      "                      '_index': 'my_index',\n",
      "                      '_primary_term': 1,\n",
      "                      '_seq_no': 81,\n",
      "                      '_shards': {'failed': 0, 'successful': 1, 'total': 2},\n",
      "                      '_version': 1,\n",
      "                      'result': 'created',\n",
      "                      'status': 201}},\n",
      "           {'index': {'_id': 'BfEV3ZMBwUvK-SJl_f6x',\n",
      "                      '_index': 'my_index',\n",
      "                      '_primary_term': 1,\n",
      "                      '_seq_no': 82,\n",
      "                      '_shards': {'failed': 0, 'successful': 1, 'total': 2},\n",
      "                      '_version': 1,\n",
      "                      'result': 'created',\n",
      "                      'status': 201}},\n",
      "           {'index': {'_id': 'BvEV3ZMBwUvK-SJl_f6x',\n",
      "                      '_index': 'my_index',\n",
      "                      '_primary_term': 1,\n",
      "                      '_seq_no': 83,\n",
      "                      '_shards': {'failed': 0, 'successful': 1, 'total': 2},\n",
      "                      '_version': 1,\n",
      "                      'result': 'created',\n",
      "                      'status': 201}},\n",
      "           {'index': {'_id': 'B_EV3ZMBwUvK-SJl_f6x',\n",
      "                      '_index': 'my_index',\n",
      "                      '_primary_term': 1,\n",
      "                      '_seq_no': 84,\n",
      "                      '_shards': {'failed': 0, 'successful': 1, 'total': 2},\n",
      "                      '_version': 1,\n",
      "                      'result': 'created',\n",
      "                      'status': 201}},\n",
      "           {'index': {'_id': 'CPEV3ZMBwUvK-SJl_f6x',\n",
      "                      '_index': 'my_index',\n",
      "                      '_primary_term': 1,\n",
      "                      '_seq_no': 85,\n",
      "                      '_shards': {'failed': 0, 'successful': 1, 'total': 2},\n",
      "                      '_version': 1,\n",
      "                      'result': 'created',\n",
      "                      'status': 201}},\n",
      "           {'index': {'_id': 'CfEV3ZMBwUvK-SJl_f6x',\n",
      "                      '_index': 'my_index',\n",
      "                      '_primary_term': 1,\n",
      "                      '_seq_no': 86,\n",
      "                      '_shards': {'failed': 0, 'successful': 1, 'total': 2},\n",
      "                      '_version': 1,\n",
      "                      'result': 'created',\n",
      "                      'status': 201}},\n",
      "           {'index': {'_id': 'CvEV3ZMBwUvK-SJl_f6x',\n",
      "                      '_index': 'my_index',\n",
      "                      '_primary_term': 1,\n",
      "                      '_seq_no': 87,\n",
      "                      '_shards': {'failed': 0, 'successful': 1, 'total': 2},\n",
      "                      '_version': 1,\n",
      "                      'result': 'created',\n",
      "                      'status': 201}},\n",
      "           {'index': {'_id': 'C_EV3ZMBwUvK-SJl_f6x',\n",
      "                      '_index': 'my_index',\n",
      "                      '_primary_term': 1,\n",
      "                      '_seq_no': 88,\n",
      "                      '_shards': {'failed': 0, 'successful': 1, 'total': 2},\n",
      "                      '_version': 1,\n",
      "                      'result': 'created',\n",
      "                      'status': 201}},\n",
      "           {'index': {'_id': 'DPEV3ZMBwUvK-SJl_f6x',\n",
      "                      '_index': 'my_index',\n",
      "                      '_primary_term': 1,\n",
      "                      '_seq_no': 89,\n",
      "                      '_shards': {'failed': 0, 'successful': 1, 'total': 2},\n",
      "                      '_version': 1,\n",
      "                      'result': 'created',\n",
      "                      'status': 201}},\n",
      "           {'index': {'_id': 'DfEV3ZMBwUvK-SJl_f6x',\n",
      "                      '_index': 'my_index',\n",
      "                      '_primary_term': 1,\n",
      "                      '_seq_no': 90,\n",
      "                      '_shards': {'failed': 0, 'successful': 1, 'total': 2},\n",
      "                      '_version': 1,\n",
      "                      'result': 'created',\n",
      "                      'status': 201}},\n",
      "           {'index': {'_id': 'DvEV3ZMBwUvK-SJl_f6x',\n",
      "                      '_index': 'my_index',\n",
      "                      '_primary_term': 1,\n",
      "                      '_seq_no': 91,\n",
      "                      '_shards': {'failed': 0, 'successful': 1, 'total': 2},\n",
      "                      '_version': 1,\n",
      "                      'result': 'created',\n",
      "                      'status': 201}},\n",
      "           {'index': {'_id': 'D_EV3ZMBwUvK-SJl_f6x',\n",
      "                      '_index': 'my_index',\n",
      "                      '_primary_term': 1,\n",
      "                      '_seq_no': 92,\n",
      "                      '_shards': {'failed': 0, 'successful': 1, 'total': 2},\n",
      "                      '_version': 1,\n",
      "                      'result': 'created',\n",
      "                      'status': 201}},\n",
      "           {'index': {'_id': 'EPEV3ZMBwUvK-SJl_f6x',\n",
      "                      '_index': 'my_index',\n",
      "                      '_primary_term': 1,\n",
      "                      '_seq_no': 93,\n",
      "                      '_shards': {'failed': 0, 'successful': 1, 'total': 2},\n",
      "                      '_version': 1,\n",
      "                      'result': 'created',\n",
      "                      'status': 201}},\n",
      "           {'index': {'_id': 'EfEV3ZMBwUvK-SJl_f6x',\n",
      "                      '_index': 'my_index',\n",
      "                      '_primary_term': 1,\n",
      "                      '_seq_no': 94,\n",
      "                      '_shards': {'failed': 0, 'successful': 1, 'total': 2},\n",
      "                      '_version': 1,\n",
      "                      'result': 'created',\n",
      "                      'status': 201}},\n",
      "           {'index': {'_id': 'EvEV3ZMBwUvK-SJl_f6x',\n",
      "                      '_index': 'my_index',\n",
      "                      '_primary_term': 1,\n",
      "                      '_seq_no': 95,\n",
      "                      '_shards': {'failed': 0, 'successful': 1, 'total': 2},\n",
      "                      '_version': 1,\n",
      "                      'result': 'created',\n",
      "                      'status': 201}},\n",
      "           {'index': {'_id': 'E_EV3ZMBwUvK-SJl_f6x',\n",
      "                      '_index': 'my_index',\n",
      "                      '_primary_term': 1,\n",
      "                      '_seq_no': 96,\n",
      "                      '_shards': {'failed': 0, 'successful': 1, 'total': 2},\n",
      "                      '_version': 1,\n",
      "                      'result': 'created',\n",
      "                      'status': 201}},\n",
      "           {'index': {'_id': 'FPEV3ZMBwUvK-SJl_f6x',\n",
      "                      '_index': 'my_index',\n",
      "                      '_primary_term': 1,\n",
      "                      '_seq_no': 97,\n",
      "                      '_shards': {'failed': 0, 'successful': 1, 'total': 2},\n",
      "                      '_version': 1,\n",
      "                      'result': 'created',\n",
      "                      'status': 201}},\n",
      "           {'index': {'_id': 'FfEV3ZMBwUvK-SJl_f6x',\n",
      "                      '_index': 'my_index',\n",
      "                      '_primary_term': 1,\n",
      "                      '_seq_no': 98,\n",
      "                      '_shards': {'failed': 0, 'successful': 1, 'total': 2},\n",
      "                      '_version': 1,\n",
      "                      'result': 'created',\n",
      "                      'status': 201}},\n",
      "           {'index': {'_id': 'FvEV3ZMBwUvK-SJl_f6x',\n",
      "                      '_index': 'my_index',\n",
      "                      '_primary_term': 1,\n",
      "                      '_seq_no': 99,\n",
      "                      '_shards': {'failed': 0, 'successful': 1, 'total': 2},\n",
      "                      '_version': 1,\n",
      "                      'result': 'created',\n",
      "                      'status': 201}}],\n",
      " 'took': 513226}\n"
     ]
    }
   ],
   "source": [
    "es.indices.delete(index=\"my_index\", ignore_unavailable=True)\n",
    "es.indices.create(index=\"my_index\")\n",
    "\n",
    "operations = []\n",
    "for document in clothes_documents:\n",
    "    operations.append({\"index\":{\"_index\":\"my_index\"}})\n",
    "    operations.append(document)\n",
    "\n",
    "response = es.bulk(operations=operations)\n",
    "pprint(response.body)"
   ]
  },
  {
   "cell_type": "code",
   "execution_count": 237,
   "metadata": {},
   "outputs": [
    {
     "name": "stdout",
     "output_type": "stream",
     "text": [
      "'Found 12 documents'\n"
     ]
    }
   ],
   "source": [
    "response = es.search(\n",
    "    index=\"my_index\",\n",
    "    body={\n",
    "        \"query\": {\n",
    "            \"bool\":{\n",
    "                \"filter\": [\n",
    "                    {\n",
    "                        \"term\":{\n",
    "                            \"brand\":\"gucci\"\n",
    "                        }\n",
    "                    }\n",
    "                ]\n",
    "            }\n",
    "        },\n",
    "        \"aggs\":{\n",
    "            \"colors\":{\n",
    "                \"terms\":{\n",
    "                    \"field\":\"color.keyword\"\n",
    "                }\n",
    "            },\n",
    "            \"color_red\":{\n",
    "                \"filter\":{\n",
    "                    \"term\":{\n",
    "                        \"color.keyword\": \"red\"\n",
    "                    }\n",
    "                },\n",
    "                \"aggs\":{\n",
    "                    \"models\":{\n",
    "                        \"terms\":{\n",
    "                            \"field\":\"model.keyword\"\n",
    "                        }\n",
    "                    }\n",
    "                }\n",
    "            }\n",
    "        },\n",
    "        \"post_filter\":{\n",
    "            \"term\":{\n",
    "                \"color\":\"red\"\n",
    "            }\n",
    "        },\n",
    "        \"size\":20\n",
    "    }\n",
    ")\n",
    "\n",
    "hits = response.body['hits']['hits']\n",
    "pprint(f\"Found {len(hits)} documents\")"
   ]
  },
  {
   "cell_type": "code",
   "execution_count": 238,
   "metadata": {},
   "outputs": [
    {
     "data": {
      "text/plain": [
       "[{'key': 'model_1', 'doc_count': 3},\n",
       " {'key': 'model_14', 'doc_count': 1},\n",
       " {'key': 'model_16', 'doc_count': 1},\n",
       " {'key': 'model_2', 'doc_count': 1},\n",
       " {'key': 'model_26', 'doc_count': 1},\n",
       " {'key': 'model_28', 'doc_count': 1},\n",
       " {'key': 'model_3', 'doc_count': 1},\n",
       " {'key': 'model_4', 'doc_count': 1},\n",
       " {'key': 'model_6', 'doc_count': 1},\n",
       " {'key': 'model_8', 'doc_count': 1}]"
      ]
     },
     "execution_count": 238,
     "metadata": {},
     "output_type": "execute_result"
    }
   ],
   "source": [
    "response.body['aggregations']['color_red']['models']['buckets']"
   ]
  },
  {
   "cell_type": "code",
   "execution_count": 239,
   "metadata": {},
   "outputs": [
    {
     "data": {
      "text/plain": [
       "[{'key': 'red', 'doc_count': 12},\n",
       " {'key': 'blue', 'doc_count': 8},\n",
       " {'key': 'green', 'doc_count': 6},\n",
       " {'key': 'yellow', 'doc_count': 4}]"
      ]
     },
     "execution_count": 239,
     "metadata": {},
     "output_type": "execute_result"
    }
   ],
   "source": [
    "response.body['aggregations']['colors']['buckets']"
   ]
  },
  {
   "cell_type": "code",
   "execution_count": null,
   "metadata": {},
   "outputs": [],
   "source": []
  }
 ],
 "metadata": {
  "kernelspec": {
   "display_name": "venv",
   "language": "python",
   "name": "python3"
  },
  "language_info": {
   "codemirror_mode": {
    "name": "ipython",
    "version": 3
   },
   "file_extension": ".py",
   "mimetype": "text/x-python",
   "name": "python",
   "nbconvert_exporter": "python",
   "pygments_lexer": "ipython3",
   "version": "3.11.11"
  }
 },
 "nbformat": 4,
 "nbformat_minor": 2
}
