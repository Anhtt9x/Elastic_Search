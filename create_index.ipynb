{
 "cells": [
  {
   "cell_type": "code",
   "execution_count": 8,
   "metadata": {},
   "outputs": [
    {
     "name": "stdout",
     "output_type": "stream",
     "text": [
      "{'cluster_name': 'docker-cluster',\n",
      " 'cluster_uuid': 'S88XwI8mTkSFeJBJ4J532w',\n",
      " 'name': 'c0d7ef8c0833',\n",
      " 'tagline': 'You Know, for Search',\n",
      " 'version': {'build_date': '2024-08-05T10:05:34.233336849Z',\n",
      "             'build_flavor': 'default',\n",
      "             'build_hash': '1a77947f34deddb41af25e6f0ddb8e830159c179',\n",
      "             'build_snapshot': False,\n",
      "             'build_type': 'docker',\n",
      "             'lucene_version': '9.11.1',\n",
      "             'minimum_index_compatibility_version': '7.0.0',\n",
      "             'minimum_wire_compatibility_version': '7.17.0',\n",
      "             'number': '8.15.0'}}\n"
     ]
    }
   ],
   "source": [
    "from elasticsearch import Elasticsearch\n",
    "from pprint import pprint\n",
    "\n",
    "es = Elasticsearch(\"http://localhost:9200/\")\n",
    "client_info = es.info()\n",
    "pprint(client_info.body)"
   ]
  },
  {
   "cell_type": "code",
   "execution_count": 9,
   "metadata": {},
   "outputs": [
    {
     "data": {
      "text/plain": [
       "ObjectApiResponse({'acknowledged': True, 'shards_acknowledged': True, 'index': 'my_index'})"
      ]
     },
     "execution_count": 9,
     "metadata": {},
     "output_type": "execute_result"
    }
   ],
   "source": [
    "es.indices.delete(index=\"my_index\",ignore_unavailable=True)\n",
    "es.indices.create(index=\"my_index\",\n",
    "                  settings={\n",
    "                      \"index\":{\n",
    "                      \"number_of_shards\": 3,\n",
    "                      \"number_of_replicas\": 2\n",
    "                      }\n",
    "                  })"
   ]
  },
  {
   "cell_type": "code",
   "execution_count": 10,
   "metadata": {},
   "outputs": [
    {
     "data": {
      "text/plain": [
       "ObjectApiResponse({'_index': 'my_index', '_id': 'Nb7B4pMBXS9W6nXoS0EL', '_version': 1, 'result': 'created', '_shards': {'total': 3, 'successful': 1, 'failed': 0}, '_seq_no': 0, '_primary_term': 1})"
      ]
     },
     "execution_count": 10,
     "metadata": {},
     "output_type": "execute_result"
    }
   ],
   "source": [
    "documents = {\n",
    "    'title':'title',\n",
    "    'text':'text',\n",
    "    'created_on':'2024-09-22'\n",
    "}\n",
    "\n",
    "response = es.index(index=\"my_index\",document=documents)\n",
    "response"
   ]
  },
  {
   "cell_type": "code",
   "execution_count": 11,
   "metadata": {},
   "outputs": [],
   "source": [
    "dummy_data = [\n",
    "  {\n",
    "    \"title\": \"Sample Title 1\",\n",
    "    \"text\": \"This is the first sample document text.\",\n",
    "    \"created_on\": \"2024-09-22\"\n",
    "  },\n",
    "  {\n",
    "    \"title\": \"Sample Title 2\",\n",
    "    \"text\": \"Here is another example of a document.\",\n",
    "    \"created_on\": \"2024-09-24\"\n",
    "  },\n",
    "  {\n",
    "    \"title\": \"Sample Title 3\",\n",
    "    \"text\": \"The content of the third document goes here.\",\n",
    "    \"created_on\": \"2024-09-24\"\n",
    "  }\n",
    "]"
   ]
  },
  {
   "cell_type": "code",
   "execution_count": 12,
   "metadata": {},
   "outputs": [
    {
     "name": "stdout",
     "output_type": "stream",
     "text": [
      "Document ID: Nr7B4pMBXS9W6nXoS0F9 is created and is split into 3 shards\n",
      "Document ID: N77B4pMBXS9W6nXoS0GN is created and is split into 3 shards\n",
      "Document ID: OL7B4pMBXS9W6nXoS0Gd is created and is split into 3 shards\n"
     ]
    }
   ],
   "source": [
    "def insert_document(document):\n",
    "    response = es.index(index=\"my_index\",document=documents)\n",
    "    return response\n",
    "\n",
    "def print_info(response):\n",
    "    print(f\"\"\"Document ID: {response['_id']} is {\n",
    "        response['result']} and is split into {response['_shards']['total']} shards\"\"\")\n",
    "    \n",
    "for document in dummy_data:\n",
    "    response = insert_document(document)\n",
    "    print_info(response)"
   ]
  },
  {
   "cell_type": "code",
   "execution_count": 13,
   "metadata": {},
   "outputs": [
    {
     "name": "stdout",
     "output_type": "stream",
     "text": [
      "ObjectApiResponse({'my_index': {'mappings': {'properties': {'created_on': {'type': 'date'}, 'text': {'type': 'text', 'fields': {'keyword': {'type': 'keyword', 'ignore_above': 256}}}, 'title': {'type': 'text', 'fields': {'keyword': {'type': 'keyword', 'ignore_above': 256}}}}}}})\n"
     ]
    }
   ],
   "source": [
    "index_mapping = es.indices.get_mapping(index=\"my_index\")\n",
    "pprint(index_mapping)"
   ]
  },
  {
   "cell_type": "code",
   "execution_count": 14,
   "metadata": {},
   "outputs": [
    {
     "name": "stdout",
     "output_type": "stream",
     "text": [
      "{'created_on': {'type': 'date'},\n",
      " 'text': {'fields': {'keyword': {'ignore_above': 256, 'type': 'keyword'}},\n",
      "          'type': 'text'},\n",
      " 'title': {'fields': {'keyword': {'ignore_above': 256, 'type': 'keyword'}},\n",
      "           'type': 'text'}}\n"
     ]
    }
   ],
   "source": [
    "es.indices.delete(index=\"my_index\",ignore_unavailable=True)\n",
    "es.indices.create(index=\"my_index\")\n",
    "\n",
    "mapping = {\n",
    "    'properties': {\n",
    "        'created_on': {'type': 'date'},\n",
    "        'text': {\n",
    "            'type': 'text',\n",
    "            'fields': {\n",
    "                'keyword': {\n",
    "                    'type': 'keyword',\n",
    "                    'ignore_above': 256\n",
    "                }\n",
    "            }\n",
    "        },\n",
    "        'title': {\n",
    "            'type': 'text',\n",
    "            'fields': {\n",
    "                'keyword': {\n",
    "                    'type': 'keyword',\n",
    "                    'ignore_above': 256\n",
    "                }\n",
    "            }\n",
    "        }\n",
    "    }\n",
    "}\n",
    "\n",
    "es.indices.put_mapping(index=\"my_index\",body=mapping)\n",
    "index_mapping = es.indices.get_mapping(index=\"my_index\")\n",
    "pprint(index_mapping[\"my_index\"][\"mappings\"][\"properties\"])"
   ]
  },
  {
   "cell_type": "code",
   "execution_count": 15,
   "metadata": {},
   "outputs": [
    {
     "data": {
      "text/plain": [
       "ObjectApiResponse({'acknowledged': True, 'shards_acknowledged': True, 'index': 'other_common_data_types_index'})"
      ]
     },
     "execution_count": 15,
     "metadata": {},
     "output_type": "execute_result"
    }
   ],
   "source": [
    "es.indices.delete(index='other_common_data_types_index',\n",
    "                  ignore_unavailable=True)\n",
    "es.indices.create(\n",
    "    index='other_common_data_types_index',\n",
    "    mappings={\n",
    "        \"properties\": {\n",
    "            \"book_reference\": {\n",
    "                \"type\": \"keyword\"\n",
    "            },\n",
    "            \"price\": {\n",
    "                \"type\": \"float\"\n",
    "            },\n",
    "            \"publish_date\": {\n",
    "                \"type\": \"date\"\n",
    "            },\n",
    "            \"is_available\": {\n",
    "                \"type\": \"boolean\"\n",
    "            },\n",
    "        }\n",
    "    }\n",
    ")"
   ]
  },
  {
   "cell_type": "code",
   "execution_count": 16,
   "metadata": {},
   "outputs": [
    {
     "data": {
      "text/plain": [
       "ObjectApiResponse({'_index': 'other_common_data_types_index', '_id': 'Ob7B4pMBXS9W6nXoTUHQ', '_version': 1, 'result': 'created', '_shards': {'total': 2, 'successful': 1, 'failed': 0}, '_seq_no': 0, '_primary_term': 1})"
      ]
     },
     "execution_count": 16,
     "metadata": {},
     "output_type": "execute_result"
    }
   ],
   "source": [
    "document = {\n",
    "    \"book_reference\": \"978-1617294433\",\n",
    "    \"price\": 44.99,\n",
    "    \"publish_date\": \"2021-06-30\",\n",
    "    \"is_available\": True\n",
    "}\n",
    "response = es.index(index='other_common_data_types_index', body=document)\n",
    "response"
   ]
  },
  {
   "cell_type": "code",
   "execution_count": 17,
   "metadata": {},
   "outputs": [
    {
     "data": {
      "text/plain": [
       "ObjectApiResponse({'acknowledged': True, 'shards_acknowledged': True, 'index': 'object_index'})"
      ]
     },
     "execution_count": 17,
     "metadata": {},
     "output_type": "execute_result"
    }
   ],
   "source": [
    "es.indices.delete(index='object_index', ignore_unavailable=True)\n",
    "es.indices.create(\n",
    "    index='object_index',\n",
    "    mappings={\n",
    "        \"properties\": {\n",
    "            \"author\": {\n",
    "                \"properties\": {\n",
    "                    \"first_name\": {\n",
    "                        \"type\": \"text\"\n",
    "                    },\n",
    "                    \"last_name\": {\n",
    "                        \"type\": \"text\"\n",
    "                    }\n",
    "                }\n",
    "            }\n",
    "        }\n",
    "    }\n",
    ")"
   ]
  },
  {
   "cell_type": "code",
   "execution_count": 18,
   "metadata": {},
   "outputs": [
    {
     "data": {
      "text/plain": [
       "ObjectApiResponse({'_index': 'object_index', '_id': 'Or7B4pMBXS9W6nXoTkH7', '_version': 1, 'result': 'created', '_shards': {'total': 2, 'successful': 1, 'failed': 0}, '_seq_no': 0, '_primary_term': 1})"
      ]
     },
     "execution_count": 18,
     "metadata": {},
     "output_type": "execute_result"
    }
   ],
   "source": [
    "document = {\n",
    "    \"author\": {\n",
    "        \"first_name\": \"Imad\",\n",
    "        \"last_name\": \"Saddik\"\n",
    "    }\n",
    "}\n",
    "response = es.index(index='object_index', body=document)\n",
    "response"
   ]
  },
  {
   "cell_type": "code",
   "execution_count": 19,
   "metadata": {},
   "outputs": [
    {
     "data": {
      "text/plain": [
       "ObjectApiResponse({'acknowledged': True, 'shards_acknowledged': True, 'index': 'flattened_object_index'})"
      ]
     },
     "execution_count": 19,
     "metadata": {},
     "output_type": "execute_result"
    }
   ],
   "source": [
    "es.indices.delete(index='flattened_object_index', ignore_unavailable=True)\n",
    "es.indices.create(\n",
    "    index='flattened_object_index',\n",
    "    mappings={\n",
    "        \"properties\": {\n",
    "            \"author\": {\n",
    "                \"type\": \"flattened\"\n",
    "            }\n",
    "        }\n",
    "    }\n",
    ")"
   ]
  },
  {
   "cell_type": "code",
   "execution_count": 20,
   "metadata": {},
   "outputs": [
    {
     "data": {
      "text/plain": [
       "ObjectApiResponse({'_index': 'flattened_object_index', '_id': 'O77B4pMBXS9W6nXoUEET', '_version': 1, 'result': 'created', '_shards': {'total': 2, 'successful': 1, 'failed': 0}, '_seq_no': 0, '_primary_term': 1})"
      ]
     },
     "execution_count": 20,
     "metadata": {},
     "output_type": "execute_result"
    }
   ],
   "source": [
    "document = {\n",
    "    \"author\": {\n",
    "        \"first_name\": \"Imad\",\n",
    "        \"last_name\": \"Saddik\"\n",
    "    }\n",
    "}\n",
    "response = es.index(index='flattened_object_index', body=document)\n",
    "response"
   ]
  },
  {
   "cell_type": "code",
   "execution_count": 21,
   "metadata": {},
   "outputs": [
    {
     "data": {
      "text/plain": [
       "ObjectApiResponse({'acknowledged': True, 'shards_acknowledged': True, 'index': 'nested_object_index'})"
      ]
     },
     "execution_count": 21,
     "metadata": {},
     "output_type": "execute_result"
    }
   ],
   "source": [
    "es.indices.delete(index='nested_object_index', ignore_unavailable=True)\n",
    "es.indices.create(\n",
    "    index='nested_object_index',\n",
    "    mappings={\n",
    "        \"properties\": {\n",
    "            \"user\": {\n",
    "                \"type\": \"nested\",\n",
    "            }\n",
    "        }\n",
    "    }\n",
    ")"
   ]
  },
  {
   "cell_type": "code",
   "execution_count": 22,
   "metadata": {},
   "outputs": [
    {
     "data": {
      "text/plain": [
       "ObjectApiResponse({'_index': 'nested_object_index', '_id': 'PL7B4pMBXS9W6nXoUUEj', '_version': 1, 'result': 'created', '_shards': {'total': 2, 'successful': 1, 'failed': 0}, '_seq_no': 0, '_primary_term': 1})"
      ]
     },
     "execution_count": 22,
     "metadata": {},
     "output_type": "execute_result"
    }
   ],
   "source": [
    "documents = [\n",
    "    {\n",
    "        \"first\": \"John\",\n",
    "        \"last\": \"Smith\"\n",
    "    },\n",
    "    {\n",
    "        \"first\": \"Imad\",\n",
    "        \"last\": \"Saddik\"\n",
    "    }\n",
    "]\n",
    "response = es.index(index='nested_object_index', body={\"user\": documents})\n",
    "response"
   ]
  },
  {
   "cell_type": "code",
   "execution_count": 23,
   "metadata": {},
   "outputs": [
    {
     "data": {
      "text/plain": [
       "ObjectApiResponse({'acknowledged': True, 'shards_acknowledged': True, 'index': 'text_index'})"
      ]
     },
     "execution_count": 23,
     "metadata": {},
     "output_type": "execute_result"
    }
   ],
   "source": [
    "es.indices.delete(index='text_index', ignore_unavailable=True)\n",
    "es.indices.create(\n",
    "    index='text_index',\n",
    "    mappings={\n",
    "        \"properties\": {\n",
    "            \"email_body\": {\n",
    "                \"type\": \"text\"\n",
    "            }\n",
    "        }\n",
    "    }\n",
    ")"
   ]
  },
  {
   "cell_type": "code",
   "execution_count": 24,
   "metadata": {},
   "outputs": [
    {
     "data": {
      "text/plain": [
       "ObjectApiResponse({'_index': 'text_index', '_id': 'Pb7B4pMBXS9W6nXoUkFf', '_version': 1, 'result': 'created', '_shards': {'total': 2, 'successful': 1, 'failed': 0}, '_seq_no': 0, '_primary_term': 1})"
      ]
     },
     "execution_count": 24,
     "metadata": {},
     "output_type": "execute_result"
    }
   ],
   "source": [
    "document = {\n",
    "    \"email_body\": \"Hello, this is a test email.\"\n",
    "}\n",
    "response = es.index(index='text_index', body=document)\n",
    "response"
   ]
  },
  {
   "cell_type": "code",
   "execution_count": 25,
   "metadata": {},
   "outputs": [
    {
     "data": {
      "text/plain": [
       "ObjectApiResponse({'acknowledged': True, 'shards_acknowledged': True, 'index': 'text_completion_index'})"
      ]
     },
     "execution_count": 25,
     "metadata": {},
     "output_type": "execute_result"
    }
   ],
   "source": [
    "es.indices.delete(index='text_completion_index', ignore_unavailable=True)\n",
    "es.indices.create(\n",
    "    index='text_completion_index',\n",
    "    mappings={\n",
    "        \"properties\": {\n",
    "            \"suggest\": {\n",
    "                \"type\": \"completion\"\n",
    "            }\n",
    "        }\n",
    "    }\n",
    ")"
   ]
  },
  {
   "cell_type": "code",
   "execution_count": 26,
   "metadata": {},
   "outputs": [
    {
     "data": {
      "text/plain": [
       "ObjectApiResponse({'_index': 'text_completion_index', '_id': 'P77B4pMBXS9W6nXoU0F2', '_version': 1, 'result': 'created', '_shards': {'total': 2, 'successful': 1, 'failed': 0}, '_seq_no': 1, '_primary_term': 1})"
      ]
     },
     "execution_count": 26,
     "metadata": {},
     "output_type": "execute_result"
    }
   ],
   "source": [
    "document_1 = {\n",
    "    \"suggest\": {\n",
    "        \"input\": [\"Mars\", \"Planet\"]\n",
    "    }\n",
    "}\n",
    "\n",
    "document_2 = {\n",
    "    \"suggest\": {\n",
    "        \"input\": [\"Andromeda\", \"Galaxy\"]\n",
    "    }\n",
    "}\n",
    "\n",
    "es.index(index='text_completion_index', body=document_1)\n",
    "es.index(index='text_completion_index', body=document_2)"
   ]
  },
  {
   "cell_type": "code",
   "execution_count": 27,
   "metadata": {},
   "outputs": [
    {
     "data": {
      "text/plain": [
       "ObjectApiResponse({'acknowledged': True, 'shards_acknowledged': True, 'index': 'geo_point_index'})"
      ]
     },
     "execution_count": 27,
     "metadata": {},
     "output_type": "execute_result"
    }
   ],
   "source": [
    "es.indices.delete(index='geo_point_index', ignore_unavailable=True)\n",
    "es.indices.create(\n",
    "    index='geo_point_index',\n",
    "    mappings={\n",
    "        \"properties\": {\n",
    "            \"location\": {\n",
    "                \"type\": \"geo_point\"\n",
    "            }\n",
    "        }\n",
    "    }\n",
    ")"
   ]
  },
  {
   "cell_type": "code",
   "execution_count": 28,
   "metadata": {},
   "outputs": [
    {
     "data": {
      "text/plain": [
       "ObjectApiResponse({'_index': 'geo_point_index', '_id': 'QL7B4pMBXS9W6nXoVEFq', '_version': 1, 'result': 'created', '_shards': {'total': 2, 'successful': 1, 'failed': 0}, '_seq_no': 0, '_primary_term': 1})"
      ]
     },
     "execution_count": 28,
     "metadata": {},
     "output_type": "execute_result"
    }
   ],
   "source": [
    "document = {\n",
    "    \"text\": \"Geopoint as an object using GeoJSON format\",\n",
    "    \"location\": {\n",
    "        \"type\": \"Point\",\n",
    "        \"coordinates\": [\n",
    "            -71.34,\n",
    "            41.12\n",
    "        ]\n",
    "    }\n",
    "}\n",
    "response = es.index(index='geo_point_index', body=document)\n",
    "response"
   ]
  },
  {
   "cell_type": "code",
   "execution_count": 29,
   "metadata": {},
   "outputs": [
    {
     "data": {
      "text/plain": [
       "ObjectApiResponse({'acknowledged': True, 'shards_acknowledged': True, 'index': 'geo_shape_index'})"
      ]
     },
     "execution_count": 29,
     "metadata": {},
     "output_type": "execute_result"
    }
   ],
   "source": [
    "es.indices.delete(index='geo_shape_index', ignore_unavailable=True)\n",
    "es.indices.create(\n",
    "    index='geo_shape_index',\n",
    "    mappings={\n",
    "        \"properties\": {\n",
    "            \"location\": {\n",
    "                \"type\": \"geo_shape\"\n",
    "            }\n",
    "        }\n",
    "    }\n",
    ")"
   ]
  },
  {
   "cell_type": "code",
   "execution_count": 30,
   "metadata": {},
   "outputs": [
    {
     "data": {
      "text/plain": [
       "ObjectApiResponse({'_index': 'geo_shape_index', '_id': 'Qr7B4pMBXS9W6nXoVUG4', '_version': 1, 'result': 'created', '_shards': {'total': 2, 'successful': 1, 'failed': 0}, '_seq_no': 1, '_primary_term': 1})"
      ]
     },
     "execution_count": 30,
     "metadata": {},
     "output_type": "execute_result"
    }
   ],
   "source": [
    "document_1 = {\n",
    "    \"location\": {\n",
    "        \"type\": \"LineString\",\n",
    "        \"coordinates\": [\n",
    "            [\n",
    "                -77.03653,\n",
    "                38.897676\n",
    "            ],\n",
    "            [\n",
    "                -77.009051,\n",
    "                38.889939\n",
    "            ]\n",
    "        ]\n",
    "    }\n",
    "}\n",
    "document_2 = {\n",
    "    \"location\": {\n",
    "        \"type\": \"Polygon\",\n",
    "        \"coordinates\": [\n",
    "            [\n",
    "                [100, 0],\n",
    "                [101, 0],\n",
    "                [101, 1],\n",
    "                [100, 1],\n",
    "                [100, 0],\n",
    "            ],\n",
    "            [\n",
    "                [100.2, 0.2],\n",
    "                [100.8, 0.2],\n",
    "                [100.8, 0.8],\n",
    "                [100.2, 0.8],\n",
    "                [100.2, 0.2],\n",
    "            ]\n",
    "        ]\n",
    "    }\n",
    "}\n",
    "\n",
    "es.index(index='geo_shape_index', body=document_1)\n",
    "es.index(index='geo_shape_index', body=document_2)"
   ]
  },
  {
   "cell_type": "code",
   "execution_count": 31,
   "metadata": {},
   "outputs": [
    {
     "data": {
      "text/plain": [
       "ObjectApiResponse({'acknowledged': True, 'shards_acknowledged': True, 'index': 'point_index'})"
      ]
     },
     "execution_count": 31,
     "metadata": {},
     "output_type": "execute_result"
    }
   ],
   "source": [
    "es.indices.delete(index='point_index', ignore_unavailable=True)\n",
    "es.indices.create(\n",
    "    index='point_index',\n",
    "    mappings={\n",
    "        \"properties\": {\n",
    "            \"location\": {\n",
    "                \"type\": \"point\"\n",
    "            }\n",
    "        }\n",
    "    }\n",
    ")"
   ]
  },
  {
   "cell_type": "code",
   "execution_count": 32,
   "metadata": {},
   "outputs": [
    {
     "data": {
      "text/plain": [
       "ObjectApiResponse({'_index': 'point_index', '_id': 'Q77B4pMBXS9W6nXoVkHM', '_version': 1, 'result': 'created', '_shards': {'total': 2, 'successful': 1, 'failed': 0}, '_seq_no': 0, '_primary_term': 1})"
      ]
     },
     "execution_count": 32,
     "metadata": {},
     "output_type": "execute_result"
    }
   ],
   "source": [
    "document = {\n",
    "    \"location\": {\n",
    "        \"type\": \"Point\",\n",
    "        \"coordinates\": [\n",
    "            -71.34,\n",
    "            41.12\n",
    "        ]\n",
    "    }\n",
    "}\n",
    "\n",
    "response = es.index(index='point_index', body=document)\n",
    "response"
   ]
  },
  {
   "cell_type": "code",
   "execution_count": 33,
   "metadata": {},
   "outputs": [
    {
     "data": {
      "text/plain": [
       "ObjectApiResponse({'acknowledged': True, 'shards_acknowledged': True, 'index': 'my_index'})"
      ]
     },
     "execution_count": 33,
     "metadata": {},
     "output_type": "execute_result"
    }
   ],
   "source": [
    "from elasticsearch import Elasticsearch\n",
    "\n",
    "es = Elasticsearch(\"http://localhost:9200/\")\n",
    "es.indices.delete(index=\"my_index\",ignore_unavailable=True)\n",
    "es.indices.create(index=\"my_index\")"
   ]
  },
  {
   "cell_type": "code",
   "execution_count": 34,
   "metadata": {},
   "outputs": [
    {
     "name": "stderr",
     "output_type": "stream",
     "text": [
      "100%|██████████| 3/3 [00:00<00:00, 37.04it/s]\n"
     ]
    }
   ],
   "source": [
    "import json\n",
    "from tqdm import tqdm\n",
    "\n",
    "document_ids = []\n",
    "for document in tqdm(dummy_data,total=len(dummy_data)):\n",
    "    response = es.index(index=\"my_index\",document=document)\n",
    "    document_ids.append(response['_id'])"
   ]
  },
  {
   "cell_type": "code",
   "execution_count": 35,
   "metadata": {},
   "outputs": [],
   "source": [
    "# response = es.delete(index=\"my_index\", id=document_ids[0])"
   ]
  },
  {
   "cell_type": "code",
   "execution_count": 36,
   "metadata": {},
   "outputs": [
    {
     "name": "stdout",
     "output_type": "stream",
     "text": [
      "{'_id': 'Rr7B4pMBXS9W6nXoWEEr',\n",
      " '_index': 'my_index',\n",
      " '_primary_term': 1,\n",
      " '_seq_no': 2,\n",
      " '_shards': {'failed': 0, 'successful': 1, 'total': 2},\n",
      " '_version': 1,\n",
      " 'result': 'created'}\n"
     ]
    }
   ],
   "source": [
    "pprint(response.body)"
   ]
  },
  {
   "cell_type": "code",
   "execution_count": 37,
   "metadata": {},
   "outputs": [
    {
     "name": "stdout",
     "output_type": "stream",
     "text": [
      "{'_id': 'RL7B4pMBXS9W6nXoV0Hi',\n",
      " '_index': 'my_index',\n",
      " '_primary_term': 1,\n",
      " '_seq_no': 0,\n",
      " '_source': {'created_on': '2024-09-22',\n",
      "             'text': 'This is the first sample document text.',\n",
      "             'title': 'Sample Title 1'},\n",
      " '_version': 1,\n",
      " 'found': True}\n"
     ]
    }
   ],
   "source": [
    "response = es.get(index=\"my_index\", id=document_ids[0])\n",
    "pprint(response.body)"
   ]
  },
  {
   "cell_type": "code",
   "execution_count": 38,
   "metadata": {},
   "outputs": [
    {
     "name": "stdout",
     "output_type": "stream",
     "text": [
      "0\n"
     ]
    }
   ],
   "source": [
    "response = es.count(index=\"my_index\")\n",
    "print(response['count'])"
   ]
  },
  {
   "cell_type": "code",
   "execution_count": 39,
   "metadata": {},
   "outputs": [
    {
     "data": {
      "text/plain": [
       "ObjectApiResponse({'count': 0, '_shards': {'total': 1, 'successful': 1, 'skipped': 0, 'failed': 0}})"
      ]
     },
     "execution_count": 39,
     "metadata": {},
     "output_type": "execute_result"
    }
   ],
   "source": [
    "response"
   ]
  },
  {
   "cell_type": "code",
   "execution_count": 40,
   "metadata": {},
   "outputs": [
    {
     "name": "stdout",
     "output_type": "stream",
     "text": [
      "The number of documents in the index is 0\n"
     ]
    }
   ],
   "source": [
    "query = {\n",
    "    \"range\": {\n",
    "        \"created_on\": {\n",
    "            \"gte\": \"2024-09-24\",\n",
    "            \"lte\": \"2024-09-24\",\n",
    "            \"format\": \"yyyy-MM-dd\"\n",
    "        }\n",
    "    }\n",
    "}\n",
    "\n",
    "response = es.count(index='my_index', query=query)\n",
    "count = response[\"count\"]\n",
    "\n",
    "print(f\"The number of documents in the index is {count}\")"
   ]
  },
  {
   "cell_type": "code",
   "execution_count": 41,
   "metadata": {},
   "outputs": [
    {
     "data": {
      "text/plain": [
       "True"
      ]
     },
     "execution_count": 41,
     "metadata": {},
     "output_type": "execute_result"
    }
   ],
   "source": [
    "response = es.indices.exists(index=\"my_index\")\n",
    "response.body"
   ]
  },
  {
   "cell_type": "code",
   "execution_count": 42,
   "metadata": {},
   "outputs": [
    {
     "name": "stdout",
     "output_type": "stream",
     "text": [
      "{'_id': 'RL7B4pMBXS9W6nXoV0Hi',\n",
      " '_index': 'my_index',\n",
      " '_primary_term': 1,\n",
      " '_seq_no': 3,\n",
      " '_shards': {'failed': 0, 'successful': 1, 'total': 2},\n",
      " '_version': 2,\n",
      " 'result': 'updated'}\n"
     ]
    }
   ],
   "source": [
    "response = es.update(\n",
    "    index=\"my_index\",\n",
    "    id= document_ids[0],\n",
    "    script={\n",
    "        \"source\": \"ctx._source.title = params.title\",\n",
    "        \"params\": {\"title\": \"New Title\"}\n",
    "    }\n",
    ")\n",
    "pprint(response.body)"
   ]
  },
  {
   "cell_type": "code",
   "execution_count": 43,
   "metadata": {},
   "outputs": [
    {
     "name": "stdout",
     "output_type": "stream",
     "text": [
      "{'_id': 'RL7B4pMBXS9W6nXoV0Hi',\n",
      " '_index': 'my_index',\n",
      " '_primary_term': 1,\n",
      " '_seq_no': 4,\n",
      " '_shards': {'failed': 0, 'successful': 1, 'total': 2},\n",
      " '_version': 3,\n",
      " 'result': 'updated'}\n"
     ]
    }
   ],
   "source": [
    "response = es.update(\n",
    "    index=\"my_index\",\n",
    "    id=document_ids[0],\n",
    "    script={\n",
    "        \"source\":\"ctx._source.new_field = 'dmm'\"\n",
    "    }\n",
    ")\n",
    "pprint(response.body)"
   ]
  },
  {
   "cell_type": "code",
   "execution_count": 44,
   "metadata": {},
   "outputs": [
    {
     "name": "stdout",
     "output_type": "stream",
     "text": [
      "{'_id': 'RL7B4pMBXS9W6nXoV0Hi',\n",
      " '_index': 'my_index',\n",
      " '_primary_term': 1,\n",
      " '_seq_no': 4,\n",
      " '_source': {'created_on': '2024-09-22',\n",
      "             'new_field': 'dmm',\n",
      "             'text': 'This is the first sample document text.',\n",
      "             'title': 'New Title'},\n",
      " '_version': 3,\n",
      " 'found': True}\n"
     ]
    }
   ],
   "source": [
    "response = es.get(index=\"my_index\",id=document_ids[0])\n",
    "pprint(response.body)"
   ]
  },
  {
   "cell_type": "code",
   "execution_count": 45,
   "metadata": {},
   "outputs": [],
   "source": [
    "response = es.update(index=\"my_index\",id=document_ids[0],doc={\"next_field\":\"dmm2\"})"
   ]
  },
  {
   "cell_type": "code",
   "execution_count": 46,
   "metadata": {},
   "outputs": [
    {
     "name": "stdout",
     "output_type": "stream",
     "text": [
      "{'_id': 'RL7B4pMBXS9W6nXoV0Hi',\n",
      " '_index': 'my_index',\n",
      " '_primary_term': 1,\n",
      " '_seq_no': 5,\n",
      " '_source': {'created_on': '2024-09-22',\n",
      "             'new_field': 'dmm',\n",
      "             'next_field': 'dmm2',\n",
      "             'text': 'This is the first sample document text.',\n",
      "             'title': 'New Title'},\n",
      " '_version': 4,\n",
      " 'found': True}\n"
     ]
    }
   ],
   "source": [
    "response = es.get(index=\"my_index\",id=document_ids[0])\n",
    "pprint(response.body)"
   ]
  },
  {
   "cell_type": "code",
   "execution_count": 47,
   "metadata": {},
   "outputs": [],
   "source": [
    "response = es.update(index=\"my_index\", id=document_ids[0], script={\"source\":\"ctx._source.remove('new_field')\"})"
   ]
  },
  {
   "cell_type": "code",
   "execution_count": 48,
   "metadata": {},
   "outputs": [
    {
     "name": "stdout",
     "output_type": "stream",
     "text": [
      "{'_id': 'RL7B4pMBXS9W6nXoV0Hi',\n",
      " '_index': 'my_index',\n",
      " '_primary_term': 1,\n",
      " '_seq_no': 6,\n",
      " '_source': {'created_on': '2024-09-22',\n",
      "             'next_field': 'dmm2',\n",
      "             'text': 'This is the first sample document text.',\n",
      "             'title': 'New Title'},\n",
      " '_version': 5,\n",
      " 'found': True}\n"
     ]
    }
   ],
   "source": [
    "response = es.get(index=\"my_index\", id=document_ids[0])\n",
    "pprint(response.body)"
   ]
  },
  {
   "cell_type": "code",
   "execution_count": 49,
   "metadata": {},
   "outputs": [
    {
     "name": "stdout",
     "output_type": "stream",
     "text": [
      "{'_id': '1',\n",
      " '_index': 'my_index',\n",
      " '_primary_term': 1,\n",
      " '_seq_no': 7,\n",
      " '_shards': {'failed': 0, 'successful': 1, 'total': 2},\n",
      " '_version': 1,\n",
      " 'result': 'created'}\n"
     ]
    }
   ],
   "source": [
    "response = es.update(\n",
    "    index=\"my_index\",\n",
    "    id=\"1\",\n",
    "    doc={\n",
    "        \"book_id\":1234,\n",
    "        \"book_name\": \"A book\"\n",
    "    },\n",
    "    doc_as_upsert=True\n",
    ")\n",
    "\n",
    "pprint(response.body)"
   ]
  },
  {
   "cell_type": "code",
   "execution_count": 50,
   "metadata": {},
   "outputs": [
    {
     "name": "stdout",
     "output_type": "stream",
     "text": [
      "{'_id': '1',\n",
      " '_index': 'my_index',\n",
      " '_primary_term': 1,\n",
      " '_seq_no': 7,\n",
      " '_source': {'book_id': 1234, 'book_name': 'A book'},\n",
      " '_version': 1,\n",
      " 'found': True}\n"
     ]
    }
   ],
   "source": [
    "response = es.get(index=\"my_index\", id='1')\n",
    "pprint(response.body)"
   ]
  },
  {
   "cell_type": "code",
   "execution_count": 51,
   "metadata": {},
   "outputs": [
    {
     "data": {
      "text/plain": [
       "ObjectApiResponse({'count': 0, '_shards': {'total': 1, 'successful': 1, 'skipped': 0, 'failed': 0}})"
      ]
     },
     "execution_count": 51,
     "metadata": {},
     "output_type": "execute_result"
    }
   ],
   "source": [
    "es.count(index=\"my_index\")"
   ]
  },
  {
   "cell_type": "code",
   "execution_count": 52,
   "metadata": {},
   "outputs": [
    {
     "data": {
      "text/plain": [
       "ObjectApiResponse({'acknowledged': True, 'shards_acknowledged': True, 'index': 'my_index'})"
      ]
     },
     "execution_count": 52,
     "metadata": {},
     "output_type": "execute_result"
    }
   ],
   "source": [
    "es.indices.delete(index=\"my_index\", ignore_unavailable=True)\n",
    "es.indices.create(index=\"my_index\")"
   ]
  },
  {
   "cell_type": "code",
   "execution_count": 53,
   "metadata": {},
   "outputs": [
    {
     "name": "stdout",
     "output_type": "stream",
     "text": [
      "{'errors': False,\n",
      " 'items': [{'index': {'_id': '1',\n",
      "                      '_index': 'my_index',\n",
      "                      '_primary_term': 1,\n",
      "                      '_seq_no': 0,\n",
      "                      '_shards': {'failed': 0, 'successful': 1, 'total': 2},\n",
      "                      '_version': 1,\n",
      "                      'result': 'created',\n",
      "                      'status': 201}},\n",
      "           {'index': {'_id': '2',\n",
      "                      '_index': 'my_index',\n",
      "                      '_primary_term': 1,\n",
      "                      '_seq_no': 1,\n",
      "                      '_shards': {'failed': 0, 'successful': 1, 'total': 2},\n",
      "                      '_version': 1,\n",
      "                      'result': 'created',\n",
      "                      'status': 201}},\n",
      "           {'index': {'_id': '3',\n",
      "                      '_index': 'my_index',\n",
      "                      '_primary_term': 1,\n",
      "                      '_seq_no': 2,\n",
      "                      '_shards': {'failed': 0, 'successful': 1, 'total': 2},\n",
      "                      '_version': 1,\n",
      "                      'result': 'created',\n",
      "                      'status': 201}},\n",
      "           {'update': {'_id': '1',\n",
      "                       '_index': 'my_index',\n",
      "                       '_primary_term': 1,\n",
      "                       '_seq_no': 3,\n",
      "                       '_shards': {'failed': 0, 'successful': 1, 'total': 2},\n",
      "                       '_version': 2,\n",
      "                       'result': 'updated',\n",
      "                       'status': 200}},\n",
      "           {'update': {'_id': '2',\n",
      "                       '_index': 'my_index',\n",
      "                       '_primary_term': 1,\n",
      "                       '_seq_no': 4,\n",
      "                       '_shards': {'failed': 0, 'successful': 1, 'total': 2},\n",
      "                       '_version': 2,\n",
      "                       'result': 'updated',\n",
      "                       'status': 200}},\n",
      "           {'delete': {'_id': '3',\n",
      "                       '_index': 'my_index',\n",
      "                       '_primary_term': 1,\n",
      "                       '_seq_no': 5,\n",
      "                       '_shards': {'failed': 0, 'successful': 1, 'total': 2},\n",
      "                       '_version': 2,\n",
      "                       'result': 'deleted',\n",
      "                       'status': 200}}],\n",
      " 'took': 1866047}\n"
     ]
    }
   ],
   "source": [
    "response = es.bulk(\n",
    "    operations=[\n",
    "        {\n",
    "            \"index\": {\n",
    "                \"_index\": \"my_index\",\n",
    "                \"_id\": \"1\"\n",
    "            }\n",
    "        },\n",
    "        # Source 1\n",
    "        {\n",
    "            \"title\": \"Sample Title 1\",\n",
    "            \"text\": \"This is the first sample document text.\",\n",
    "            \"created_on\": \"2024-09-22\"\n",
    "        },\n",
    "        # Action 2\n",
    "        {\n",
    "            \"index\": {\n",
    "                \"_index\": \"my_index\",\n",
    "                \"_id\": \"2\"\n",
    "            }\n",
    "        },\n",
    "        # Source 2\n",
    "        {\n",
    "            \"title\": \"Sample Title 2\",\n",
    "            \"text\": \"Here is another example of a document.\",\n",
    "            \"created_on\": \"2024-09-24\"\n",
    "        },\n",
    "        # Action 3\n",
    "        {\n",
    "            \"index\": {\n",
    "                \"_index\": \"my_index\",\n",
    "                \"_id\": \"3\"\n",
    "            }\n",
    "        },\n",
    "        # Source 3\n",
    "        {\n",
    "            \"title\": \"Sample Title 3\",\n",
    "            \"text\": \"The content of the third document goes here.\",\n",
    "            \"created_on\": \"2024-09-24\"\n",
    "        },\n",
    "        # Action 4\n",
    "        {\n",
    "            \"update\": {\n",
    "                \"_id\": \"1\",\n",
    "                \"_index\": \"my_index\"\n",
    "            }\n",
    "        },\n",
    "        # Source 4\n",
    "        {\n",
    "            \"doc\": {\n",
    "                \"title\": \"New Title\"\n",
    "            }\n",
    "        },\n",
    "        # Action 5\n",
    "        {\n",
    "            \"update\": {\n",
    "                \"_id\": \"2\",\n",
    "                \"_index\": \"my_index\"\n",
    "            }\n",
    "        },\n",
    "        # Source 5\n",
    "        {\n",
    "            \"doc\": {\n",
    "                \"new_field\": \"dummy_value\"\n",
    "            }\n",
    "        },\n",
    "        # Action 6\n",
    "        {\n",
    "            \"delete\": {\n",
    "                \"_index\": \"my_index\",\n",
    "                \"_id\": \"3\"\n",
    "            }\n",
    "        },\n",
    "    ]\n",
    ")\n",
    "\n",
    "pprint(response.body)"
   ]
  },
  {
   "cell_type": "code",
   "execution_count": 54,
   "metadata": {},
   "outputs": [
    {
     "data": {
      "text/plain": [
       "ObjectApiResponse({'acknowledged': True, 'shards_acknowledged': True, 'index': 'index_2'})"
      ]
     },
     "execution_count": 54,
     "metadata": {},
     "output_type": "execute_result"
    }
   ],
   "source": [
    "es.indices.delete(index=\"index_1\", ignore_unavailable=True)\n",
    "es.indices.create(index=\"index_1\")\n",
    "\n",
    "es.indices.delete(index=\"index_2\", ignore_unavailable=True)\n",
    "es.indices.create(index=\"index_2\")"
   ]
  },
  {
   "cell_type": "code",
   "execution_count": 55,
   "metadata": {},
   "outputs": [
    {
     "name": "stderr",
     "output_type": "stream",
     "text": [
      "100%|██████████| 3/3 [00:00<00:00, 45.58it/s]\n",
      "100%|██████████| 3/3 [00:00<00:00, 43.36it/s]\n"
     ]
    }
   ],
   "source": [
    "for document in tqdm(dummy_data, total=len(dummy_data)):\n",
    "    es.index(index=\"index_1\",document=document)\n",
    "\n",
    "for document in tqdm(dummy_data, total=len(dummy_data)):\n",
    "    es.index(index=\"index_2\",document=document)"
   ]
  },
  {
   "cell_type": "code",
   "execution_count": 56,
   "metadata": {},
   "outputs": [
    {
     "name": "stdout",
     "output_type": "stream",
     "text": [
      "'Found 0 document in index_1'\n"
     ]
    }
   ],
   "source": [
    "response = es.search(\n",
    "    index=\"index_1\",\n",
    "    body={\n",
    "        \"query\": {\"match_all\":{}}\n",
    "    }\n",
    ")\n",
    "\n",
    "pprint(f\"Found {response['hits']['total']['value']} document in index_1\")"
   ]
  },
  {
   "cell_type": "code",
   "execution_count": 57,
   "metadata": {},
   "outputs": [
    {
     "name": "stdout",
     "output_type": "stream",
     "text": [
      "'Found 0 document in index_2'\n"
     ]
    }
   ],
   "source": [
    "response = es.search(\n",
    "    index=\"index_2\",\n",
    "    body={\n",
    "        \"query\": {\"match_all\":{}}\n",
    "    }\n",
    ")\n",
    "\n",
    "pprint(f\"Found {response['hits']['total']['value']} document in index_2\")"
   ]
  },
  {
   "cell_type": "code",
   "execution_count": 58,
   "metadata": {},
   "outputs": [
    {
     "name": "stdout",
     "output_type": "stream",
     "text": [
      "'Found 0 document in index_1,index_2'\n"
     ]
    }
   ],
   "source": [
    "response = es.search(\n",
    "    index=\"index_1,index_2\",\n",
    "    body={\n",
    "        \"query\": {\"match_all\":{}}\n",
    "    }\n",
    ")\n",
    "\n",
    "pprint(f\"Found {response['hits']['total']['value']} document in index_1,index_2\")"
   ]
  },
  {
   "cell_type": "code",
   "execution_count": 59,
   "metadata": {},
   "outputs": [
    {
     "name": "stdout",
     "output_type": "stream",
     "text": [
      "'Found 1 document in index_1,index_2'\n"
     ]
    }
   ],
   "source": [
    "response = es.search(\n",
    "    index=\"index*\",\n",
    "    body={\n",
    "        \"query\": {\"match_all\":{}}\n",
    "    }\n",
    ")\n",
    "\n",
    "pprint(f\"Found {response['hits']['total']['value']} document in index_1,index_2\")"
   ]
  },
  {
   "cell_type": "code",
   "execution_count": 60,
   "metadata": {},
   "outputs": [
    {
     "name": "stdout",
     "output_type": "stream",
     "text": [
      "{'_shards': {'failed': 0, 'skipped': 0, 'successful': 1, 'total': 1},\n",
      " 'hits': {'hits': [],\n",
      "          'max_score': None,\n",
      "          'total': {'relation': 'eq', 'value': 0}},\n",
      " 'timed_out': False,\n",
      " 'took': 5}\n"
     ]
    }
   ],
   "source": [
    "response = es.search(\n",
    "    index=\"my_index\",\n",
    "    body={\n",
    "        \"query\": {\n",
    "            \"term\": {\n",
    "                \"created_on\":\"2024-09-22\"\n",
    "            }\n",
    "        }\n",
    "    }\n",
    ")\n",
    "\n",
    "pprint(response.body)"
   ]
  },
  {
   "cell_type": "code",
   "execution_count": 61,
   "metadata": {},
   "outputs": [
    {
     "name": "stdout",
     "output_type": "stream",
     "text": [
      "{'_shards': {'failed': 0, 'skipped': 0, 'successful': 1, 'total': 1},\n",
      " 'hits': {'hits': [],\n",
      "          'max_score': None,\n",
      "          'total': {'relation': 'eq', 'value': 0}},\n",
      " 'timed_out': False,\n",
      " 'took': 7}\n"
     ]
    }
   ],
   "source": [
    "response = es.search(\n",
    "    index=\"my_index\",\n",
    "    body={\"query\": {\"match\": {\"text\": \"document\"}}}\n",
    ")\n",
    "\n",
    "pprint(response.body)"
   ]
  },
  {
   "cell_type": "code",
   "execution_count": 62,
   "metadata": {},
   "outputs": [
    {
     "name": "stdout",
     "output_type": "stream",
     "text": [
      "{'_shards': {'failed': 0, 'skipped': 0, 'successful': 1, 'total': 1},\n",
      " 'hits': {'hits': [],\n",
      "          'max_score': None,\n",
      "          'total': {'relation': 'eq', 'value': 0}},\n",
      " 'timed_out': False,\n",
      " 'took': 2}\n"
     ]
    }
   ],
   "source": [
    "response = es.search(\n",
    "    index=\"my_index\",\n",
    "    body={\n",
    "        \"query\": {\n",
    "            \"range\":{\n",
    "                \"created_on\": {\n",
    "                    \"lte\":\"2024-09-22\"\n",
    "                }\n",
    "            }\n",
    "        }\n",
    "    }\n",
    ")\n",
    "\n",
    "pprint(response.body)"
   ]
  },
  {
   "cell_type": "code",
   "execution_count": 63,
   "metadata": {},
   "outputs": [
    {
     "name": "stdout",
     "output_type": "stream",
     "text": [
      "{'_shards': {'failed': 0, 'skipped': 0, 'successful': 1, 'total': 1},\n",
      " 'hits': {'hits': [],\n",
      "          'max_score': None,\n",
      "          'total': {'relation': 'eq', 'value': 0}},\n",
      " 'timed_out': False,\n",
      " 'took': 2}\n"
     ]
    }
   ],
   "source": [
    "response = es.search(\n",
    "    index=\"my_index\",\n",
    "    body={\n",
    "        \"query\": {\n",
    "            \"bool\": {\n",
    "                \"must\": [\n",
    "                    {\"match\": {\"text\": \"third\"}},\n",
    "                    {\"range\":{\n",
    "                        \"created_on\":{\n",
    "                            \"gte\":\"2024-09-24\",\n",
    "                            \"lte\":\"2024-09-24\"\n",
    "                        }\n",
    "                    }}\n",
    "                ]\n",
    "            }\n",
    "        }\n",
    "    }\n",
    ")\n",
    "\n",
    "pprint(response.body)"
   ]
  },
  {
   "cell_type": "code",
   "execution_count": 64,
   "metadata": {},
   "outputs": [],
   "source": [
    "dummy_data_2=[\n",
    "    {\n",
    "        \"message\": \"This is an important keyword search result.\",\n",
    "        \"age\": 25,\n",
    "        \"price\": 100.0\n",
    "    },\n",
    "    {\n",
    "        \"message\": \"Another search result with an important keyword.\",\n",
    "        \"age\": 30,\n",
    "        \"price\": 150.0\n",
    "    },\n",
    "    {\n",
    "        \"message\": \"Keyword match in this result as well.\",\n",
    "        \"age\": 40,\n",
    "        \"price\": 200.0\n",
    "    },\n",
    "    {\n",
    "        \"message\": \"Important keyword again in this document.\",\n",
    "        \"age\": 35,\n",
    "        \"price\": 120.0\n",
    "    },\n",
    "    {\n",
    "        \"message\": \"Final document with the important keyword.\",\n",
    "        \"age\": 28,\n",
    "        \"price\": 180.0\n",
    "    }\n",
    "]\n",
    "\n"
   ]
  },
  {
   "cell_type": "code",
   "execution_count": 65,
   "metadata": {},
   "outputs": [
    {
     "data": {
      "text/plain": [
       "ObjectApiResponse({'errors': False, 'took': 1866888, 'items': [{'index': {'_index': 'my_index', '_id': 'Tb7B4pMBXS9W6nXoXkHM', '_version': 1, 'result': 'created', '_shards': {'total': 2, 'successful': 1, 'failed': 0}, '_seq_no': 6, '_primary_term': 1, 'status': 201}}, {'index': {'_index': 'my_index', '_id': 'Tr7B4pMBXS9W6nXoXkHM', '_version': 1, 'result': 'created', '_shards': {'total': 2, 'successful': 1, 'failed': 0}, '_seq_no': 7, '_primary_term': 1, 'status': 201}}, {'index': {'_index': 'my_index', '_id': 'T77B4pMBXS9W6nXoXkHM', '_version': 1, 'result': 'created', '_shards': {'total': 2, 'successful': 1, 'failed': 0}, '_seq_no': 8, '_primary_term': 1, 'status': 201}}, {'index': {'_index': 'my_index', '_id': 'UL7B4pMBXS9W6nXoXkHM', '_version': 1, 'result': 'created', '_shards': {'total': 2, 'successful': 1, 'failed': 0}, '_seq_no': 9, '_primary_term': 1, 'status': 201}}, {'index': {'_index': 'my_index', '_id': 'Ub7B4pMBXS9W6nXoXkHM', '_version': 1, 'result': 'created', '_shards': {'total': 2, 'successful': 1, 'failed': 0}, '_seq_no': 10, '_primary_term': 1, 'status': 201}}]})"
      ]
     },
     "execution_count": 65,
     "metadata": {},
     "output_type": "execute_result"
    }
   ],
   "source": [
    "operations = []\n",
    "for document in dummy_data_2:\n",
    "    operations.append({\"index\":{\"_index\":\"my_index\"}})\n",
    "    operations.append(document)\n",
    "\n",
    "es.bulk(operations=operations)"
   ]
  },
  {
   "cell_type": "code",
   "execution_count": 66,
   "metadata": {},
   "outputs": [],
   "source": [
    "response = es.search(\n",
    "    index=\"my_index\",\n",
    "    body={\"query\":{\n",
    "        \"match_all\":{}\n",
    "    },\n",
    "    \"size\":10,\n",
    "    \"from\":10\n",
    "    }\n",
    ")\n",
    "\n",
    "for hit in response['hits']['hits']:\n",
    "    print(hit['_source'])"
   ]
  },
  {
   "cell_type": "code",
   "execution_count": 67,
   "metadata": {},
   "outputs": [
    {
     "name": "stdout",
     "output_type": "stream",
     "text": [
      "{'_shards': {'failed': 0, 'skipped': 0, 'successful': 1, 'total': 1},\n",
      " 'hits': {'hits': [],\n",
      "          'max_score': None,\n",
      "          'total': {'relation': 'eq', 'value': 0}},\n",
      " 'timed_out': False,\n",
      " 'took': 5}\n"
     ]
    }
   ],
   "source": [
    "response = es.search(\n",
    "    index=\"my_index\",\n",
    "    body={\"query\": {\"match\": {\"message\": \"search keyword\"}},\n",
    "          \"timeout\":\"10s\"}\n",
    ")\n",
    "\n",
    "pprint(response.body)"
   ]
  },
  {
   "cell_type": "code",
   "execution_count": 68,
   "metadata": {},
   "outputs": [
    {
     "name": "stdout",
     "output_type": "stream",
     "text": [
      "None\n"
     ]
    }
   ],
   "source": [
    "response = es.search(\n",
    "    index=\"my_index\",\n",
    "    body={\"query\": {\"match_all\": {}},\n",
    "          \"aggs\": {\n",
    "              \"avg_age\":{\n",
    "                  \"avg\":{\n",
    "                      \"field\":\"age\"\n",
    "                  }\n",
    "              }\n",
    "          }}\n",
    ")\n",
    "\n",
    "pprint(response['aggregations']['avg_age']['value'])"
   ]
  },
  {
   "cell_type": "code",
   "execution_count": 69,
   "metadata": {},
   "outputs": [
    {
     "name": "stdout",
     "output_type": "stream",
     "text": [
      "None\n"
     ]
    }
   ],
   "source": [
    "response = es.search(\n",
    "    index=\"my_index\",\n",
    "    body={\n",
    "        \"query\": {\n",
    "            \"match\": {\n",
    "                \"message\": \"important keyword\"\n",
    "            }\n",
    "        },\n",
    "        \"aggs\": {\n",
    "            \"max_price\": {\n",
    "                \"max\": {\n",
    "                    \"field\": \"price\"\n",
    "                }\n",
    "            }\n",
    "        },\n",
    "        \"size\": 5,\n",
    "        \"from\": 20,\n",
    "        \"timeout\": \"5s\"\n",
    "    }\n",
    ")\n",
    "\n",
    "for hit in response['hits']['hits']:\n",
    "    print(hit['_source'])\n",
    "\n",
    "pprint(response['aggregations']['max_price']['value'])"
   ]
  },
  {
   "cell_type": "code",
   "execution_count": 70,
   "metadata": {},
   "outputs": [
    {
     "data": {
      "text/plain": [
       "ObjectApiResponse({'acknowledged': True, 'shards_acknowledged': True, 'index': 'my_index'})"
      ]
     },
     "execution_count": 70,
     "metadata": {},
     "output_type": "execute_result"
    }
   ],
   "source": [
    "es.indices.delete(index=\"my_index\", ignore_unavailable=True)\n",
    "es.indices.create(index=\"my_index\",\n",
    "                  mappings={\n",
    "                      \"properties\":{\n",
    "                          \"sides_length\":{\n",
    "                              \"type\":\"dense_vector\",\n",
    "                              \"dims\":4\n",
    "                          },\n",
    "                          \"shape\":{\n",
    "                              \"type\":\"keyword\"\n",
    "                          }\n",
    "                      }\n",
    "                  })"
   ]
  },
  {
   "cell_type": "code",
   "execution_count": 71,
   "metadata": {},
   "outputs": [
    {
     "name": "stdout",
     "output_type": "stream",
     "text": [
      "{'_id': '1',\n",
      " '_index': 'my_index',\n",
      " '_primary_term': 1,\n",
      " '_seq_no': 0,\n",
      " '_shards': {'failed': 0, 'successful': 1, 'total': 2},\n",
      " '_version': 1,\n",
      " 'result': 'created'}\n"
     ]
    }
   ],
   "source": [
    "response = es.index(\n",
    "    index=\"my_index\",\n",
    "    id=1,\n",
    "    document={\n",
    "        \"shape\":\"square\",\n",
    "        \"sides_length\":[5,5,5,5]\n",
    "    }\n",
    ")\n",
    "\n",
    "pprint(response.body)"
   ]
  },
  {
   "cell_type": "code",
   "execution_count": 72,
   "metadata": {},
   "outputs": [
    {
     "data": {
      "text/plain": [
       "{'my_index': {'mappings': {'properties': {'shape': {'type': 'keyword'},\n",
       "    'sides_length': {'type': 'dense_vector',\n",
       "     'dims': 4,\n",
       "     'index': True,\n",
       "     'similarity': 'cosine',\n",
       "     'index_options': {'type': 'int8_hnsw',\n",
       "      'm': 16,\n",
       "      'ef_construction': 100}}}}}}"
      ]
     },
     "execution_count": 72,
     "metadata": {},
     "output_type": "execute_result"
    }
   ],
   "source": [
    "es.indices.get_mapping(index=\"my_index\").body"
   ]
  },
  {
   "cell_type": "code",
   "execution_count": 73,
   "metadata": {},
   "outputs": [
    {
     "data": {
      "text/plain": [
       "ObjectApiResponse({'acknowledged': True, 'shards_acknowledged': True, 'index': 'my_index'})"
      ]
     },
     "execution_count": 73,
     "metadata": {},
     "output_type": "execute_result"
    }
   ],
   "source": [
    "es.indices.delete(index=\"my_index\",ignore_unavailable=True)\n",
    "es.indices.create(index=\"my_index\",\n",
    "                  mappings={\n",
    "                      \"properties\": {\n",
    "                          \"embedding\":{\n",
    "                              \"type\":\"dense_vector\"\n",
    "                          }\n",
    "                      }\n",
    "                  })"
   ]
  },
  {
   "cell_type": "code",
   "execution_count": 74,
   "metadata": {},
   "outputs": [
    {
     "name": "stderr",
     "output_type": "stream",
     "text": [
      "/home/tuananh/Elastic_Search/venv/lib/python3.11/site-packages/tqdm/auto.py:21: TqdmWarning: IProgress not found. Please update jupyter and ipywidgets. See https://ipywidgets.readthedocs.io/en/stable/user_install.html\n",
      "  from .autonotebook import tqdm as notebook_tqdm\n"
     ]
    }
   ],
   "source": [
    "from sentence_transformers import SentenceTransformer\n",
    "\n",
    "model = SentenceTransformer(\"all-MiniLM-L6-v2\")"
   ]
  },
  {
   "cell_type": "code",
   "execution_count": 75,
   "metadata": {},
   "outputs": [],
   "source": [
    "import torch\n",
    "device = torch.device(\"cuda\" if torch.cuda.is_available() else \"cpu\")"
   ]
  },
  {
   "cell_type": "code",
   "execution_count": 76,
   "metadata": {},
   "outputs": [],
   "source": [
    "def get_embedding(text):\n",
    "    return model.encode(text)"
   ]
  },
  {
   "cell_type": "code",
   "execution_count": 77,
   "metadata": {},
   "outputs": [
    {
     "name": "stderr",
     "output_type": "stream",
     "text": [
      "100%|██████████| 3/3 [00:00<00:00,  7.11it/s]"
     ]
    },
    {
     "name": "stdout",
     "output_type": "stream",
     "text": [
      "{'errors': False,\n",
      " 'items': [{'index': {'_id': 'Ur7B4pMBXS9W6nXooUHK',\n",
      "                      '_index': 'my_index',\n",
      "                      '_primary_term': 1,\n",
      "                      '_seq_no': 0,\n",
      "                      '_shards': {'failed': 0, 'successful': 1, 'total': 2},\n",
      "                      '_version': 1,\n",
      "                      'result': 'created',\n",
      "                      'status': 201}},\n",
      "           {'index': {'_id': 'U77B4pMBXS9W6nXooUHK',\n",
      "                      '_index': 'my_index',\n",
      "                      '_primary_term': 1,\n",
      "                      '_seq_no': 1,\n",
      "                      '_shards': {'failed': 0, 'successful': 1, 'total': 2},\n",
      "                      '_version': 1,\n",
      "                      'result': 'created',\n",
      "                      'status': 201}},\n",
      "           {'index': {'_id': 'VL7B4pMBXS9W6nXooUHK',\n",
      "                      '_index': 'my_index',\n",
      "                      '_primary_term': 1,\n",
      "                      '_seq_no': 2,\n",
      "                      '_shards': {'failed': 0, 'successful': 1, 'total': 2},\n",
      "                      '_version': 1,\n",
      "                      'result': 'created',\n",
      "                      'status': 201}}],\n",
      " 'took': 1884056}\n"
     ]
    },
    {
     "name": "stderr",
     "output_type": "stream",
     "text": [
      "\n"
     ]
    }
   ],
   "source": [
    "operations = []\n",
    "\n",
    "for document in tqdm(dummy_data, total=len(dummy_data)):\n",
    "    operations.append({\"index\":{\"_index\":\"my_index\"}})\n",
    "    operations.append({\n",
    "        **document,\n",
    "        \"embedding\":get_embedding(document['text'])\n",
    "    })\n",
    "\n",
    "response = es.bulk(operations=operations)\n",
    "pprint(response.body)"
   ]
  },
  {
   "cell_type": "code",
   "execution_count": 78,
   "metadata": {},
   "outputs": [
    {
     "name": "stdout",
     "output_type": "stream",
     "text": [
      "[]\n"
     ]
    }
   ],
   "source": [
    "response = es.search(\n",
    "    index=\"my_index\",\n",
    "    body={\n",
    "        \"query\": {\n",
    "            \"match_all\": {}\n",
    "        }\n",
    "    }\n",
    ")\n",
    "\n",
    "pprint(response['hits']['hits'])"
   ]
  },
  {
   "cell_type": "code",
   "execution_count": 79,
   "metadata": {},
   "outputs": [
    {
     "name": "stdout",
     "output_type": "stream",
     "text": [
      "{'my_index': {'mappings': {'properties': {'created_on': {'type': 'date'},\n",
      "                                          'embedding': {'dims': 384,\n",
      "                                                        'index': True,\n",
      "                                                        'index_options': {'ef_construction': 100,\n",
      "                                                                          'm': 16,\n",
      "                                                                          'type': 'int8_hnsw'},\n",
      "                                                        'similarity': 'cosine',\n",
      "                                                        'type': 'dense_vector'},\n",
      "                                          'text': {'fields': {'keyword': {'ignore_above': 256,\n",
      "                                                                          'type': 'keyword'}},\n",
      "                                                   'type': 'text'},\n",
      "                                          'title': {'fields': {'keyword': {'ignore_above': 256,\n",
      "                                                                           'type': 'keyword'}},\n",
      "                                                    'type': 'text'}}}}}\n"
     ]
    }
   ],
   "source": [
    "response = es.indices.get_mapping(\n",
    "    index=\"my_index\"\n",
    ")\n",
    "pprint(response.body)"
   ]
  },
  {
   "cell_type": "code",
   "execution_count": 80,
   "metadata": {},
   "outputs": [
    {
     "data": {
      "text/plain": [
       "ObjectApiResponse({'acknowledged': True, 'shards_acknowledged': True, 'index': 'my_index'})"
      ]
     },
     "execution_count": 80,
     "metadata": {},
     "output_type": "execute_result"
    }
   ],
   "source": [
    "es.indices.delete(index=\"my_index\", ignore_unavailable=True)\n",
    "es.indices.create(\n",
    "    index=\"my_index\",\n",
    "    mappings={\n",
    "        \"properties\": {\n",
    "            \"embedding\":{\n",
    "                \"type\": \"dense_vector\",\n",
    "            }\n",
    "        }\n",
    "        \n",
    "    }\n",
    ")"
   ]
  },
  {
   "cell_type": "code",
   "execution_count": 81,
   "metadata": {},
   "outputs": [],
   "source": [
    "documents=[\n",
    "  {\n",
    "    \"id\": 1,\n",
    "    \"title\": \"The Solar System\",\n",
    "    \"content\": \"The Solar System consists of the Sun and the objects that orbit it, including eight planets, their moons, dwarf planets, and countless small bodies like asteroids and comets.\"\n",
    "  },\n",
    "  {\n",
    "    \"id\": 2,\n",
    "    \"title\": \"Black Holes\",\n",
    "    \"content\": \"A black hole is a region of space where the gravitational pull is so strong that nothing, not even light, can escape from it. They are formed when massive stars collapse under their own gravity.\"\n",
    "  },\n",
    "  {\n",
    "    \"id\": 3,\n",
    "    \"title\": \"Galaxies\",\n",
    "    \"content\": \"Galaxies are vast systems that consist of stars, stellar remnants, interstellar gas, dust, and dark matter. The Milky Way is the galaxy that contains our Solar System.\"\n",
    "  },\n",
    "  {\n",
    "    \"id\": 4,\n",
    "    \"title\": \"The Big Bang Theory\",\n",
    "    \"content\": \"The Big Bang Theory is the leading explanation about how the universe began. It suggests that the universe was once in an extremely hot and dense state and has been expanding ever since.\"\n",
    "  },\n",
    "  {\n",
    "    \"id\": 5,\n",
    "    \"title\": \"Exoplanets\",\n",
    "    \"content\": \"Exoplanets, or extrasolar planets, are planets that exist outside our solar system. They vary greatly in size and composition and are often found using methods like the transit method and radial velocity.\"\n",
    "  },\n",
    "  {\n",
    "    \"id\": 6,\n",
    "    \"title\": \"The Life Cycle of Stars\",\n",
    "    \"content\": \"Stars are born from clouds of gas and dust in space. They undergo a life cycle that includes stages such as main sequence, red giant, and, ultimately, either a supernova explosion or a gentle fade into a white dwarf.\"\n",
    "  },\n",
    "  {\n",
    "    \"id\": 7,\n",
    "    \"title\": \"Astrobiology\",\n",
    "    \"content\": \"Astrobiology is the study of the origin, evolution, distribution, and future of life in the universe. It combines elements of biology, chemistry, and planetary science.\"\n",
    "  },\n",
    "  {\n",
    "    \"id\": 8,\n",
    "    \"title\": \"Dark Matter\",\n",
    "    \"content\": \"Dark matter is a type of matter that does not emit light or energy. It cannot be observed directly but is believed to make up about 27% of the universe's total mass and energy.\"\n",
    "  },\n",
    "  {\n",
    "    \"id\": 9,\n",
    "    \"title\": \"The Expanding Universe\",\n",
    "    \"content\": \"The universe has been expanding since the Big Bang. Observations of distant galaxies show that they are moving away from us, which supports the idea of an expanding universe.\"\n",
    "  },\n",
    "  {\n",
    "    \"id\": 10,\n",
    "    \"title\": \"Space Exploration\",\n",
    "    \"content\": \"Space exploration involves the use of space technology to explore outer space. It includes missions to planets, moons, and other celestial bodies, aiming to discover more about the universe.\"\n",
    "  }\n",
    "]"
   ]
  },
  {
   "cell_type": "code",
   "execution_count": 82,
   "metadata": {},
   "outputs": [
    {
     "name": "stderr",
     "output_type": "stream",
     "text": [
      "100%|██████████| 10/10 [00:00<00:00, 102.45it/s]\n"
     ]
    },
    {
     "name": "stdout",
     "output_type": "stream",
     "text": [
      "{'errors': False,\n",
      " 'items': [{'index': {'_id': 'Vb7B4pMBXS9W6nXoo0Gi',\n",
      "                      '_index': 'my_index',\n",
      "                      '_primary_term': 1,\n",
      "                      '_seq_no': 0,\n",
      "                      '_shards': {'failed': 0, 'successful': 1, 'total': 2},\n",
      "                      '_version': 1,\n",
      "                      'result': 'created',\n",
      "                      'status': 201}},\n",
      "           {'index': {'_id': 'Vr7B4pMBXS9W6nXoo0Gi',\n",
      "                      '_index': 'my_index',\n",
      "                      '_primary_term': 1,\n",
      "                      '_seq_no': 1,\n",
      "                      '_shards': {'failed': 0, 'successful': 1, 'total': 2},\n",
      "                      '_version': 1,\n",
      "                      'result': 'created',\n",
      "                      'status': 201}},\n",
      "           {'index': {'_id': 'V77B4pMBXS9W6nXoo0Gi',\n",
      "                      '_index': 'my_index',\n",
      "                      '_primary_term': 1,\n",
      "                      '_seq_no': 2,\n",
      "                      '_shards': {'failed': 0, 'successful': 1, 'total': 2},\n",
      "                      '_version': 1,\n",
      "                      'result': 'created',\n",
      "                      'status': 201}},\n",
      "           {'index': {'_id': 'WL7B4pMBXS9W6nXoo0Gi',\n",
      "                      '_index': 'my_index',\n",
      "                      '_primary_term': 1,\n",
      "                      '_seq_no': 3,\n",
      "                      '_shards': {'failed': 0, 'successful': 1, 'total': 2},\n",
      "                      '_version': 1,\n",
      "                      'result': 'created',\n",
      "                      'status': 201}},\n",
      "           {'index': {'_id': 'Wb7B4pMBXS9W6nXoo0Gi',\n",
      "                      '_index': 'my_index',\n",
      "                      '_primary_term': 1,\n",
      "                      '_seq_no': 4,\n",
      "                      '_shards': {'failed': 0, 'successful': 1, 'total': 2},\n",
      "                      '_version': 1,\n",
      "                      'result': 'created',\n",
      "                      'status': 201}},\n",
      "           {'index': {'_id': 'Wr7B4pMBXS9W6nXoo0Gi',\n",
      "                      '_index': 'my_index',\n",
      "                      '_primary_term': 1,\n",
      "                      '_seq_no': 5,\n",
      "                      '_shards': {'failed': 0, 'successful': 1, 'total': 2},\n",
      "                      '_version': 1,\n",
      "                      'result': 'created',\n",
      "                      'status': 201}},\n",
      "           {'index': {'_id': 'W77B4pMBXS9W6nXoo0Gi',\n",
      "                      '_index': 'my_index',\n",
      "                      '_primary_term': 1,\n",
      "                      '_seq_no': 6,\n",
      "                      '_shards': {'failed': 0, 'successful': 1, 'total': 2},\n",
      "                      '_version': 1,\n",
      "                      'result': 'created',\n",
      "                      'status': 201}},\n",
      "           {'index': {'_id': 'XL7B4pMBXS9W6nXoo0Gi',\n",
      "                      '_index': 'my_index',\n",
      "                      '_primary_term': 1,\n",
      "                      '_seq_no': 7,\n",
      "                      '_shards': {'failed': 0, 'successful': 1, 'total': 2},\n",
      "                      '_version': 1,\n",
      "                      'result': 'created',\n",
      "                      'status': 201}},\n",
      "           {'index': {'_id': 'Xb7B4pMBXS9W6nXoo0Gi',\n",
      "                      '_index': 'my_index',\n",
      "                      '_primary_term': 1,\n",
      "                      '_seq_no': 8,\n",
      "                      '_shards': {'failed': 0, 'successful': 1, 'total': 2},\n",
      "                      '_version': 1,\n",
      "                      'result': 'created',\n",
      "                      'status': 201}},\n",
      "           {'index': {'_id': 'Xr7B4pMBXS9W6nXoo0Gi',\n",
      "                      '_index': 'my_index',\n",
      "                      '_primary_term': 1,\n",
      "                      '_seq_no': 9,\n",
      "                      '_shards': {'failed': 0, 'successful': 1, 'total': 2},\n",
      "                      '_version': 1,\n",
      "                      'result': 'created',\n",
      "                      'status': 201}}],\n",
      " 'took': 1884561}\n"
     ]
    }
   ],
   "source": [
    "def get_embedding(text):\n",
    "    return model.encode(text)\n",
    "\n",
    "operations = []\n",
    "for document in tqdm(documents, total=len(documents)):\n",
    "    operations.append({\"index\":{\"_index\":\"my_index\"}})\n",
    "    operations.append({\n",
    "        **document,\n",
    "        \"embedding\":get_embedding(document['content'])\n",
    "    })\n",
    "\n",
    "response = es.bulk(operations=operations)\n",
    "pprint(response.body)"
   ]
  },
  {
   "cell_type": "code",
   "execution_count": 83,
   "metadata": {},
   "outputs": [
    {
     "name": "stdout",
     "output_type": "stream",
     "text": [
      "[]\n"
     ]
    }
   ],
   "source": [
    "response = es.search(\n",
    "    index=\"my_index\",\n",
    "    body={\n",
    "        \"query\":{\n",
    "            \"match_all\": {}\n",
    "        }\n",
    "    }\n",
    ")\n",
    "\n",
    "pprint(response['hits']['hits'])"
   ]
  },
  {
   "cell_type": "code",
   "execution_count": 84,
   "metadata": {},
   "outputs": [
    {
     "name": "stdout",
     "output_type": "stream",
     "text": [
      "{'my_index': {'mappings': {'properties': {'content': {'fields': {'keyword': {'ignore_above': 256,\n",
      "                                                                             'type': 'keyword'}},\n",
      "                                                      'type': 'text'},\n",
      "                                          'embedding': {'dims': 384,\n",
      "                                                        'index': True,\n",
      "                                                        'index_options': {'ef_construction': 100,\n",
      "                                                                          'm': 16,\n",
      "                                                                          'type': 'int8_hnsw'},\n",
      "                                                        'similarity': 'cosine',\n",
      "                                                        'type': 'dense_vector'},\n",
      "                                          'id': {'type': 'long'},\n",
      "                                          'title': {'fields': {'keyword': {'ignore_above': 256,\n",
      "                                                                           'type': 'keyword'}},\n",
      "                                                    'type': 'text'}}}}}\n"
     ]
    }
   ],
   "source": [
    "response = es.indices.get_mapping(\n",
    "    index=\"my_index\"\n",
    ")\n",
    "\n",
    "pprint(response.body)"
   ]
  },
  {
   "cell_type": "code",
   "execution_count": 85,
   "metadata": {},
   "outputs": [],
   "source": [
    "query = \"What is a black hole ?\"\n",
    "embedding_query = get_embedding(query)"
   ]
  },
  {
   "cell_type": "code",
   "execution_count": 86,
   "metadata": {},
   "outputs": [
    {
     "name": "stdout",
     "output_type": "stream",
     "text": [
      "{'_shards': {'failed': 0, 'skipped': 0, 'successful': 1, 'total': 1},\n",
      " 'hits': {'hits': [],\n",
      "          'max_score': None,\n",
      "          'total': {'relation': 'eq', 'value': 0}},\n",
      " 'timed_out': False,\n",
      " 'took': 8}\n"
     ]
    }
   ],
   "source": [
    "result = es.search(\n",
    "    index=\"my_index\",\n",
    "    knn={\n",
    "        \"field\":\"embedding\",\n",
    "        \"query_vector\": embedding_query,\n",
    "        \"num_candidates\":5,\n",
    "        \"k\":3\n",
    "    }\n",
    ")\n",
    "\n",
    "pprint(result.body)"
   ]
  },
  {
   "cell_type": "code",
   "execution_count": 87,
   "metadata": {},
   "outputs": [],
   "source": [
    "hits = result.body['hits']['hits']\n",
    "for hit in hits:\n",
    "    print(f\"Title: {hit['_source']['title']}\")\n",
    "    print(f\"Content: {hit['_source']['content']}\")\n",
    "    print(f\"Score: {hit['_score']}\")\n",
    "    print(\"*\"*100)\n",
    "\n",
    "    "
   ]
  },
  {
   "cell_type": "code",
   "execution_count": 88,
   "metadata": {},
   "outputs": [
    {
     "data": {
      "text/plain": [
       "ObjectApiResponse({'acknowledged': True, 'shards_acknowledged': True, 'index': 'my_index'})"
      ]
     },
     "execution_count": 88,
     "metadata": {},
     "output_type": "execute_result"
    }
   ],
   "source": [
    "index_name = \"my_index\"\n",
    "mapping = {\n",
    "    \"mappings\":{\n",
    "        \"properties\":{\n",
    "            \"timestamp\": {\"type\":\"date\"},\n",
    "            \"value\": {\"type\":\"float\"},\n",
    "            \"category\": {\"type\":\"keyword\"},\n",
    "            \"description\": {\"type\":\"text\"},\n",
    "            \"id\" : {\"type\": \"keyword\"}\n",
    "        }\n",
    "    },\n",
    "    \"settings\": {\n",
    "        \"number_of_shards\":1,\n",
    "        \"number_of_replicas\":0\n",
    "    }\n",
    "}\n",
    "\n",
    "es.indices.delete(index=index_name, ignore_unavailable=True)\n",
    "es.indices.create(index=index_name,body=mapping)"
   ]
  },
  {
   "cell_type": "code",
   "execution_count": 89,
   "metadata": {},
   "outputs": [],
   "source": [
    "base_documents = [\n",
    "    {\n",
    "        \"category\": \"A\",\n",
    "        \"value\": 100,\n",
    "        \"description\": \"First sample document\"\n",
    "    },\n",
    "    {\n",
    "        \"category\": \"B\",\n",
    "        \"value\": 200,\n",
    "        \"description\": \"Second sample document\"\n",
    "    },\n",
    "    {\n",
    "        \"category\": \"C\",\n",
    "        \"value\": 300,\n",
    "        \"description\": \"Third sample document\"\n",
    "    },\n",
    "    {\n",
    "        \"category\": \"D\",\n",
    "        \"value\": 400,\n",
    "        \"description\": \"Fourth sample document\"\n",
    "    },\n",
    "    {\n",
    "        \"category\": \"E\",\n",
    "        \"value\": 500,\n",
    "        \"description\": \"Fifth sample document\"\n",
    "    }\n",
    "]"
   ]
  },
  {
   "cell_type": "code",
   "execution_count": 90,
   "metadata": {},
   "outputs": [
    {
     "name": "stdout",
     "output_type": "stream",
     "text": [
      "Generated 100000 documents\n"
     ]
    }
   ],
   "source": [
    "import random\n",
    "from datetime import datetime, timedelta\n",
    "\n",
    "def generate_bulk_data(base_documents, target_size=100000):\n",
    "    documents = []\n",
    "    base_count = len(base_documents)\n",
    "    duplications_needed = target_size // base_count\n",
    "\n",
    "    base_timestamp = datetime.now()\n",
    "\n",
    "    for i in range(duplications_needed):\n",
    "        for document in base_documents:\n",
    "            new_doc = document.copy()\n",
    "            new_doc['id'] = f\"doc_{len(documents)}\"\n",
    "            new_doc['timestamp'] = (base_timestamp - timedelta(minutes=len(documents))).isoformat()\n",
    "\n",
    "            new_doc['value'] = document['value'] + random.uniform(-10,10)\n",
    "            documents.append(new_doc)\n",
    "\n",
    "    return documents\n",
    "\n",
    "documents = generate_bulk_data(base_documents)\n",
    "print(f\"Generated {len(documents)} documents\")"
   ]
  },
  {
   "cell_type": "code",
   "execution_count": 91,
   "metadata": {},
   "outputs": [
    {
     "name": "stderr",
     "output_type": "stream",
     "text": [
      "100%|██████████| 100000/100000 [00:00<00:00, 472174.14it/s]\n"
     ]
    },
    {
     "name": "stdout",
     "output_type": "stream",
     "text": [
      "False\n"
     ]
    }
   ],
   "source": [
    "from tqdm import tqdm\n",
    "operations = []\n",
    "\n",
    "for document in tqdm(documents, total=len(documents)):\n",
    "    operations.append({\"index\":{\"_index\":index_name}})\n",
    "    operations.append(document)\n",
    "\n",
    "response = es.bulk(operations=operations)\n",
    "pprint(response.body['errors'])"
   ]
  },
  {
   "cell_type": "code",
   "execution_count": 92,
   "metadata": {},
   "outputs": [
    {
     "name": "stdout",
     "output_type": "stream",
     "text": [
      "Total documents in index my_index: 100000\n"
     ]
    }
   ],
   "source": [
    "es.indices.refresh(index=index_name)\n",
    "count = es.count(index=index_name)['count']\n",
    "print(f\"Total documents in index {index_name}: {count}\")"
   ]
  },
  {
   "cell_type": "code",
   "execution_count": 93,
   "metadata": {},
   "outputs": [
    {
     "name": "stdout",
     "output_type": "stream",
     "text": [
      "ID: doc_0\n",
      "Sort value: [1734701361892, 'doc_0']\n",
      "ID: doc_1\n",
      "Sort value: [1734701301892, 'doc_1']\n",
      "ID: doc_2\n",
      "Sort value: [1734701241892, 'doc_2']\n",
      "ID: doc_3\n",
      "Sort value: [1734701181892, 'doc_3']\n",
      "ID: doc_4\n",
      "Sort value: [1734701121892, 'doc_4']\n",
      "ID: doc_5\n",
      "Sort value: [1734701061892, 'doc_5']\n",
      "ID: doc_6\n",
      "Sort value: [1734701001892, 'doc_6']\n",
      "ID: doc_7\n",
      "Sort value: [1734700941892, 'doc_7']\n",
      "ID: doc_8\n",
      "Sort value: [1734700881892, 'doc_8']\n",
      "ID: doc_9\n",
      "Sort value: [1734700821892, 'doc_9']\n"
     ]
    }
   ],
   "source": [
    "response = es.search(\n",
    "    index=index_name,\n",
    "    body={\n",
    "        \"from\": 0,\n",
    "        \"size\": 10,\n",
    "        \"sort\": [\n",
    "            {\"timestamp\": \"desc\"},\n",
    "            {\"id\":\"desc\"}\n",
    "        ]\n",
    "    }\n",
    ")\n",
    "\n",
    "hits = response['hits']['hits']\n",
    "for hit in hits:\n",
    "    print(f\"ID: {hit['_source']['id']}\")\n",
    "    print(f\"Sort value: {hit['sort']}\")"
   ]
  },
  {
   "cell_type": "code",
   "execution_count": 94,
   "metadata": {},
   "outputs": [
    {
     "name": "stdout",
     "output_type": "stream",
     "text": [
      "ID: doc_10\n",
      "Sort values: [1734700761892, 'doc_10']\n",
      "****************************************************************************************************\n",
      "ID: doc_11\n",
      "Sort values: [1734700701892, 'doc_11']\n",
      "****************************************************************************************************\n",
      "ID: doc_12\n",
      "Sort values: [1734700641892, 'doc_12']\n",
      "****************************************************************************************************\n",
      "ID: doc_13\n",
      "Sort values: [1734700581892, 'doc_13']\n",
      "****************************************************************************************************\n",
      "ID: doc_14\n",
      "Sort values: [1734700521892, 'doc_14']\n",
      "****************************************************************************************************\n",
      "ID: doc_15\n",
      "Sort values: [1734700461892, 'doc_15']\n",
      "****************************************************************************************************\n",
      "ID: doc_16\n",
      "Sort values: [1734700401892, 'doc_16']\n",
      "****************************************************************************************************\n",
      "ID: doc_17\n",
      "Sort values: [1734700341892, 'doc_17']\n",
      "****************************************************************************************************\n",
      "ID: doc_18\n",
      "Sort values: [1734700281892, 'doc_18']\n",
      "****************************************************************************************************\n",
      "ID: doc_19\n",
      "Sort values: [1734700221892, 'doc_19']\n",
      "****************************************************************************************************\n"
     ]
    }
   ],
   "source": [
    "last_sort_value = hits[-1]['sort']\n",
    "response = es.search(\n",
    "    index=index_name,\n",
    "    body={\n",
    "        \"size\":10,\n",
    "        \"sort\": [\n",
    "            {\"timestamp\": \"desc\"},\n",
    "            {\"id\": \"desc\"}\n",
    "        ],\n",
    "        \"search_after\":last_sort_value\n",
    "    }\n",
    ")\n",
    "\n",
    "hits = response[\"hits\"][\"hits\"]\n",
    "for hit in hits:\n",
    "    print(f\"ID: {hit['_source']['id']}\")\n",
    "    print(f\"Sort values: {hit['sort']}\")\n",
    "    print(\"*\"*100)"
   ]
  },
  {
   "cell_type": "code",
   "execution_count": 95,
   "metadata": {},
   "outputs": [],
   "source": [
    "import time\n",
    "from tqdm import tqdm\n",
    "\n",
    "def test_from_size_pagination(es, index_name, page_size=100, max_pages=50):\n",
    "    timings = []\n",
    "\n",
    "    for page in tqdm(range(max_pages)):\n",
    "        start_time = time.time()\n",
    "\n",
    "        _ = es.search(\n",
    "            index = index_name,\n",
    "            body = {\n",
    "                \"from\": page * page_size,\n",
    "                \"size\": page_size,\n",
    "                \"sort\": [\n",
    "                    {\"timestamp\": \"desc\"},\n",
    "                    {\"id\": \"desc\"}\n",
    "                ]\n",
    "            }\n",
    "        )\n",
    "\n",
    "        end_time = time.time()\n",
    "        final_time = (end_time - start_time) *1000\n",
    "        timings.append((page + 1,final_time))\n",
    "\n",
    "    return timings"
   ]
  },
  {
   "cell_type": "code",
   "execution_count": 96,
   "metadata": {},
   "outputs": [
    {
     "name": "stderr",
     "output_type": "stream",
     "text": [
      "100%|██████████| 50/50 [00:00<00:00, 72.82it/s]\n"
     ]
    }
   ],
   "source": [
    "from_size_timings = test_from_size_pagination(es=es,index_name=index_name,page_size=200,max_pages=50)"
   ]
  },
  {
   "cell_type": "code",
   "execution_count": 97,
   "metadata": {},
   "outputs": [
    {
     "data": {
      "text/plain": [
       "[(1, 19.42133903503418),\n",
       " (2, 18.02515983581543),\n",
       " (3, 16.49928092956543),\n",
       " (4, 13.385534286499023),\n",
       " (5, 14.654874801635742),\n",
       " (6, 18.793582916259766),\n",
       " (7, 16.16954803466797),\n",
       " (8, 15.171289443969727),\n",
       " (9, 16.410350799560547),\n",
       " (10, 15.813112258911133),\n",
       " (11, 15.584945678710938),\n",
       " (12, 15.639066696166992),\n",
       " (13, 13.367891311645508),\n",
       " (14, 14.76430892944336),\n",
       " (15, 14.054298400878906),\n",
       " (16, 12.368440628051758),\n",
       " (17, 10.076761245727539),\n",
       " (18, 13.015031814575195),\n",
       " (19, 11.372804641723633),\n",
       " (20, 13.437032699584961),\n",
       " (21, 11.326074600219727),\n",
       " (22, 16.22462272644043),\n",
       " (23, 14.949560165405273),\n",
       " (24, 11.407613754272461),\n",
       " (25, 13.101339340209961),\n",
       " (26, 9.71841812133789),\n",
       " (27, 12.261390686035156),\n",
       " (28, 12.314319610595703),\n",
       " (29, 13.53907585144043),\n",
       " (30, 11.09933853149414),\n",
       " (31, 12.456178665161133),\n",
       " (32, 10.983467102050781),\n",
       " (33, 12.719869613647461),\n",
       " (34, 13.289451599121094),\n",
       " (35, 15.17629623413086),\n",
       " (36, 11.707544326782227),\n",
       " (37, 11.227846145629883),\n",
       " (38, 12.825250625610352),\n",
       " (39, 12.671947479248047),\n",
       " (40, 12.144088745117188),\n",
       " (41, 14.770269393920898),\n",
       " (42, 12.803792953491211),\n",
       " (43, 10.636091232299805),\n",
       " (44, 11.664390563964844),\n",
       " (45, 11.948585510253906),\n",
       " (46, 14.43338394165039),\n",
       " (47, 13.189554214477539),\n",
       " (48, 14.999866485595703),\n",
       " (49, 13.613224029541016),\n",
       " (50, 14.22882080078125)]"
      ]
     },
     "execution_count": 97,
     "metadata": {},
     "output_type": "execute_result"
    }
   ],
   "source": [
    "from_size_timings"
   ]
  },
  {
   "cell_type": "code",
   "execution_count": 98,
   "metadata": {},
   "outputs": [],
   "source": [
    "def test_search_after_pagination(es, index_name, page_size=100, max_pages=50):\n",
    "    timings = []\n",
    "    search_after = None\n",
    "\n",
    "    for page in tqdm(range(max_pages)):\n",
    "        start_time = time.time()\n",
    "\n",
    "        body = {\n",
    "            \"size\": page_size,\n",
    "            \"sort\": [\n",
    "                {\"timestamp\":\"desc\"},\n",
    "                {\"id\": \"desc\"}\n",
    "            ]\n",
    "        }\n",
    "\n",
    "        if search_after :\n",
    "            body[\"search_after\"] = search_after\n",
    "        \n",
    "        response = es.search(\n",
    "            index=index_name,\n",
    "            body=body\n",
    "        )\n",
    "\n",
    "        hits = response['hits']['hits']\n",
    "        if hits:\n",
    "            search_after = hits[-1]['sort']\n",
    "        \n",
    "        end_time = time.time()\n",
    "        final_time = (end_time - start_time) * 1000\n",
    "        timings.append((page+1,final_time))\n",
    "\n",
    "    return timings"
   ]
  },
  {
   "cell_type": "code",
   "execution_count": 99,
   "metadata": {},
   "outputs": [
    {
     "name": "stderr",
     "output_type": "stream",
     "text": [
      "100%|██████████| 50/50 [00:00<00:00, 153.27it/s]\n"
     ]
    }
   ],
   "source": [
    "times_search_after=test_search_after_pagination(es=es,index_name=index_name)"
   ]
  },
  {
   "cell_type": "code",
   "execution_count": 100,
   "metadata": {},
   "outputs": [
    {
     "data": {
      "image/png": "[encoded data removed]",
      "text/plain": [
       "<Figure size 1200x600 with 1 Axes>"
      ]
     },
     "metadata": {},
     "output_type": "display_data"
    }
   ],
   "source": [
    "import matplotlib.pyplot as plt\n",
    "\n",
    "def plot_comparison(from_size_timings, search_after_timings):\n",
    "    plt.figure(figsize=(12,6))\n",
    "\n",
    "    pages_from_size , times_from_size = zip(*from_size_timings)\n",
    "    page_search_after, times_search_after = zip(*search_after_timings)\n",
    "\n",
    "    plt.plot(pages_from_size, times_from_size,\"b-\", label='From/Size')\n",
    "    plt.plot(page_search_after, times_search_after,\"r-\", label='Search_After')\n",
    "\n",
    "    plt.xlabel(\"Page number\")\n",
    "    plt.ylabel(\"Response time (milliseconds)\")\n",
    "    plt.title(\"Comparison of response times\")\n",
    "    plt.legend()\n",
    "    plt.grid(True)\n",
    "    plt.show()\n",
    "\n",
    "plot_comparison(from_size_timings,times_search_after)"
   ]
  },
  {
   "cell_type": "code",
   "execution_count": 101,
   "metadata": {},
   "outputs": [
    {
     "data": {
      "image/png": "[encoded data removed]",
      "text/plain": [
       "<Figure size 1200x600 with 1 Axes>"
      ]
     },
     "metadata": {},
     "output_type": "display_data"
    }
   ],
   "source": [
    "plt.figure(figsize=(12,6))\n",
    "_, times_from_size = zip(*from_size_timings)\n",
    "_, times_search_after = zip(*times_search_after)\n",
    "\n",
    "plt.hist(times_from_size,alpha=0.5,label=\"from/size\",bins=20)\n",
    "plt.hist(times_search_after,alpha=0.5, label=\"search_after\", bins=20)\n",
    "plt.xlabel(\"Response time (milliseconds)\")\n",
    "plt.ylabel(\"Frequency\")\n",
    "plt.title(\"Distribution of response times\")\n",
    "plt.legend()\n",
    "plt.grid(True)\n",
    "plt.show()"
   ]
  },
  {
   "cell_type": "code",
   "execution_count": 102,
   "metadata": {},
   "outputs": [
    {
     "name": "stdout",
     "output_type": "stream",
     "text": [
      "{'acknowledged': True}\n"
     ]
    }
   ],
   "source": [
    "response = es.ingest.put_pipeline(\n",
    "    id='lowercase_pipeline',\n",
    "    description=\"This pipeline transforms the text to lowercase\",\n",
    "    processors=[\n",
    "        {\n",
    "            \"lowercase\": {\n",
    "                \"field\":\"text\"\n",
    "            }\n",
    "        }\n",
    "    ]\n",
    ")\n",
    "\n",
    "pprint(response.body)"
   ]
  },
  {
   "cell_type": "code",
   "execution_count": 103,
   "metadata": {},
   "outputs": [
    {
     "name": "stdout",
     "output_type": "stream",
     "text": [
      "{'lowercase_pipeline': {'description': 'This pipeline transforms the text to '\n",
      "                                       'lowercase',\n",
      "                        'processors': [{'lowercase': {'field': 'text'}}]}}\n"
     ]
    }
   ],
   "source": [
    "response = es.ingest.get_pipeline(\n",
    "    id=\"lowercase_pipeline\"\n",
    ")\n",
    "pprint(response.body)"
   ]
  },
  {
   "cell_type": "code",
   "execution_count": 104,
   "metadata": {},
   "outputs": [
    {
     "name": "stdout",
     "output_type": "stream",
     "text": [
      "{'acknowledged': True}\n"
     ]
    }
   ],
   "source": [
    "response = es.ingest.delete_pipeline(id=\"lowercase_pipeline\")\n",
    "pprint(response.body)"
   ]
  },
  {
   "cell_type": "code",
   "execution_count": 105,
   "metadata": {},
   "outputs": [
    {
     "name": "stdout",
     "output_type": "stream",
     "text": [
      "{'acknowledged': True}\n"
     ]
    }
   ],
   "source": [
    "response = es.ingest.put_pipeline(\n",
    "    id='lowercase_pipeline',\n",
    "    description=\"This pipeline transforms the text to lowercase\",\n",
    "    processors=[\n",
    "        {\n",
    "            \"lowercase\": {\n",
    "                \"field\":\"text\"\n",
    "            }\n",
    "        }\n",
    "    ]\n",
    ")\n",
    "\n",
    "pprint(response.body)"
   ]
  },
  {
   "cell_type": "code",
   "execution_count": 106,
   "metadata": {},
   "outputs": [
    {
     "name": "stdout",
     "output_type": "stream",
     "text": [
      "{'docs': [{'doc': {'_id': '1',\n",
      "                   '_index': 'my_index',\n",
      "                   '_ingest': {'timestamp': '2024-12-20T06:29:30.286303289Z'},\n",
      "                   '_source': {'text': 'hello world'},\n",
      "                   '_version': '-3'}}]}\n"
     ]
    }
   ],
   "source": [
    "response = es.ingest.simulate(\n",
    "    id=\"lowercase_pipeline\",\n",
    "    docs=[\n",
    "        {\n",
    "            \"_index\":\"my_index\",\n",
    "            \"_id\": \"1\",\n",
    "            \"_source\": {\n",
    "                \"text\": \"Hello World\"\n",
    "            }\n",
    "        }\n",
    "    ]\n",
    ")\n",
    "\n",
    "pprint(response.body)"
   ]
  },
  {
   "cell_type": "code",
   "execution_count": 107,
   "metadata": {},
   "outputs": [
    {
     "data": {
      "text/plain": [
       "[{'title': 'Sample Title 1',\n",
       "  'text': 'THIS IS THE FIRST SAMPLE DOCUMENT TEXT.',\n",
       "  'created_on': '2024-09-22'},\n",
       " {'title': 'Sample Title 2',\n",
       "  'text': 'HERE IS ANOTHER EXAMPLE OF A DOCUMENT.',\n",
       "  'created_on': '2024-09-24'},\n",
       " {'title': 'Sample Title 3',\n",
       "  'text': 'THE CONTENT OF THE THIRD DOCUMENT GOES HERE.',\n",
       "  'created_on': '2024-09-24'}]"
      ]
     },
     "execution_count": 107,
     "metadata": {},
     "output_type": "execute_result"
    }
   ],
   "source": [
    "for i , document in enumerate(dummy_data):\n",
    "    document['text'] = document['text'].upper()\n",
    "    dummy_data[i] = document\n",
    "\n",
    "dummy_data"
   ]
  },
  {
   "cell_type": "code",
   "execution_count": 108,
   "metadata": {},
   "outputs": [
    {
     "data": {
      "text/plain": [
       "ObjectApiResponse({'acknowledged': True, 'shards_acknowledged': True, 'index': 'my_index'})"
      ]
     },
     "execution_count": 108,
     "metadata": {},
     "output_type": "execute_result"
    }
   ],
   "source": [
    "es.indices.delete(index=\"my_index\", ignore_unavailable=True)\n",
    "es.indices.create(index=\"my_index\")"
   ]
  },
  {
   "cell_type": "code",
   "execution_count": 109,
   "metadata": {},
   "outputs": [
    {
     "name": "stdout",
     "output_type": "stream",
     "text": [
      "{'errors': False,\n",
      " 'ingest_took': 9,\n",
      " 'items': [{'index': {'_id': '_7_B4pMBXS9W6nXox8dS',\n",
      "                      '_index': 'my_index',\n",
      "                      '_primary_term': 1,\n",
      "                      '_seq_no': 0,\n",
      "                      '_shards': {'failed': 0, 'successful': 1, 'total': 2},\n",
      "                      '_version': 1,\n",
      "                      'result': 'created',\n",
      "                      'status': 201}},\n",
      "           {'index': {'_id': 'AL_B4pMBXS9W6nXox8hS',\n",
      "                      '_index': 'my_index',\n",
      "                      '_primary_term': 1,\n",
      "                      '_seq_no': 1,\n",
      "                      '_shards': {'failed': 0, 'successful': 1, 'total': 2},\n",
      "                      '_version': 1,\n",
      "                      'result': 'created',\n",
      "                      'status': 201}},\n",
      "           {'index': {'_id': 'Ab_B4pMBXS9W6nXox8hS',\n",
      "                      '_index': 'my_index',\n",
      "                      '_primary_term': 1,\n",
      "                      '_seq_no': 2,\n",
      "                      '_shards': {'failed': 0, 'successful': 1, 'total': 2},\n",
      "                      '_version': 1,\n",
      "                      'result': 'created',\n",
      "                      'status': 201}}],\n",
      " 'took': 1893649}\n"
     ]
    }
   ],
   "source": [
    "operations = []\n",
    "\n",
    "for document in dummy_data:\n",
    "    operations.append({\"index\": {\"_index\": \"my_index\"}})\n",
    "    operations.append(document)\n",
    "\n",
    "response = es.bulk(operations=operations, pipeline=\"lowercase_pipeline\")\n",
    "pprint(response.body)"
   ]
  },
  {
   "cell_type": "code",
   "execution_count": 110,
   "metadata": {},
   "outputs": [
    {
     "name": "stdout",
     "output_type": "stream",
     "text": [
      "{'acknowledged': True}\n"
     ]
    }
   ],
   "source": [
    "response = es.ingest.put_pipeline(\n",
    "    id='pipeline_1',\n",
    "    description=\"Pipeline with multiple transformations, handling and ignoring failures\",\n",
    "    processors=[\n",
    "        {\n",
    "            \"lowercase\": {\n",
    "                \"field\": \"text\"\n",
    "            }\n",
    "        },\n",
    "        {\n",
    "            \"set\": {\n",
    "                \"field\": \"text\",\n",
    "                \"value\": \"CHANGED BY PIPELINE\"\n",
    "            }\n",
    "        }\n",
    "    ]\n",
    ")\n",
    "\n",
    "pprint(response.body)"
   ]
  },
  {
   "cell_type": "code",
   "execution_count": 111,
   "metadata": {},
   "outputs": [
    {
     "name": "stdout",
     "output_type": "stream",
     "text": [
      "{'acknowledged': True}\n"
     ]
    }
   ],
   "source": [
    "response = es.ingest.put_pipeline(\n",
    "    id=\"pipeline_2\",\n",
    "    description=\"Pipeline with multiple transformations, handling and ignoring failure\",\n",
    "    processors=[\n",
    "        {\n",
    "            \"lowercase\": {\n",
    "                \"field\": \"text\",\n",
    "                \"on_failure\": [\n",
    "                    {\n",
    "                        \"set\": {\n",
    "                            \"field\": \"text\",\n",
    "                            \"value\": \"FAILED TO LOWERCASE\",\n",
    "                            \"ignore_failure\": True\n",
    "                        }\n",
    "                    }\n",
    "                ]\n",
    "            }\n",
    "        },\n",
    "        {\n",
    "            \"set\": {\n",
    "                \"field\": \"new_field\",\n",
    "                \"value\": \"ADD BY PIPELINE\",\n",
    "                \"ignore_failure\": True\n",
    "            }\n",
    "        }\n",
    "    ]\n",
    ")\n",
    "\n",
    "pprint(response.body)"
   ]
  },
  {
   "cell_type": "code",
   "execution_count": 112,
   "metadata": {},
   "outputs": [
    {
     "name": "stdout",
     "output_type": "stream",
     "text": [
      "{'_id': 'Ar_B4pMBXS9W6nXox8i-',\n",
      " '_index': 'my_index',\n",
      " '_primary_term': 1,\n",
      " '_seq_no': 3,\n",
      " '_shards': {'failed': 0, 'successful': 1, 'total': 2},\n",
      " '_version': 1,\n",
      " 'result': 'created'}\n"
     ]
    }
   ],
   "source": [
    "document = {\n",
    "    \"title\": \"Sample Title 4\",\n",
    "    \"created_on\": \"2024-09-25\"\n",
    "}\n",
    "\n",
    "response = es.index(\n",
    "    index=\"my_index\",\n",
    "    pipeline=\"pipeline_2\",\n",
    "    document=document\n",
    ")\n",
    "\n",
    "pprint(response.body)"
   ]
  },
  {
   "cell_type": "code",
   "execution_count": 113,
   "metadata": {},
   "outputs": [],
   "source": [
    "response = es.search(\n",
    "    index=\"my_index\"\n",
    ")\n",
    "\n",
    "hits = response.body['hits']['hits']\n",
    "for hit in hits:\n",
    "    print(hit['_source'])"
   ]
  },
  {
   "cell_type": "code",
   "execution_count": 114,
   "metadata": {},
   "outputs": [],
   "source": [
    "document = {\n",
    "    \"price\": \"100.50\",\n",
    "    \"old_name\": \"old_value\",\n",
    "    \"description\": \"<p>This is a description with HTML.</p>\",\n",
    "    \"username\": \"UserNAME\",\n",
    "    \"category\": \"books\",\n",
    "    \"title\": \"   Example Title with Whitespace   \",\n",
    "    \"tags\": \"tag1,tag2,tag3\",\n",
    "    \"temporary_field\": \"This field should be removed\"\n",
    "}"
   ]
  },
  {
   "cell_type": "code",
   "execution_count": 115,
   "metadata": {},
   "outputs": [
    {
     "data": {
      "text/plain": [
       "ObjectApiResponse({'acknowledged': True})"
      ]
     },
     "execution_count": 115,
     "metadata": {},
     "output_type": "execute_result"
    }
   ],
   "source": [
    "pipeline_body = {\n",
    "    \"description\": \"Pipeline to demonstrate various ingest processors\",\n",
    "    \"processors\":[\n",
    "        {\n",
    "            \"convert\": {\n",
    "                \"field\": \"price\",\n",
    "                \"type\": \"float\",\n",
    "                \"ignore_missing\":True\n",
    "            }\n",
    "        },\n",
    "        {\n",
    "            \"rename\":{\n",
    "                \"field\": \"old_name\",\n",
    "                \"target_field\": \"new_name\"\n",
    "            }\n",
    "        },\n",
    "        {\n",
    "            \"set\":{\n",
    "                \"field\": \"status\",\n",
    "                \"value\": \"active\"\n",
    "            }\n",
    "        },\n",
    "        {\n",
    "            \"html_strip\": {\n",
    "                \"field\": \"description\"\n",
    "            }\n",
    "        },\n",
    "        {\n",
    "            \"lowercase\": {\n",
    "                \"field\":\"username\"\n",
    "            }\n",
    "        },\n",
    "        {\n",
    "            \"uppercase\": {\n",
    "                \"field\": \"category\"\n",
    "            }\n",
    "        },\n",
    "        {\n",
    "            \"trim\": {\n",
    "                \"field\": \"title\"\n",
    "            }\n",
    "        },\n",
    "        {\n",
    "            \"split\": {\n",
    "                \"field\": \"tags\",\n",
    "                \"separator\": \",\"\n",
    "            }\n",
    "        },\n",
    "        {\n",
    "            \"remove\":{\n",
    "                \"field\": \"temporary_field\"\n",
    "            }\n",
    "        },\n",
    "        {\n",
    "            \"append\":{\n",
    "                \"field\": \"tags\",\n",
    "                \"value\": [\"new_tag\"]\n",
    "            }\n",
    "        }\n",
    "    ]\n",
    "}\n",
    "\n",
    "pipeline_id  = \"multi_steps_pipeline\"\n",
    "es.ingest.put_pipeline(id=pipeline_id, body=pipeline_body)\n"
   ]
  },
  {
   "cell_type": "code",
   "execution_count": 116,
   "metadata": {},
   "outputs": [
    {
     "name": "stdout",
     "output_type": "stream",
     "text": [
      "{'_id': 'A7_B4pMBXS9W6nXoycgP',\n",
      " '_index': 'my_index',\n",
      " '_primary_term': 1,\n",
      " '_seq_no': 0,\n",
      " '_shards': {'failed': 0, 'successful': 1, 'total': 2},\n",
      " '_version': 1,\n",
      " 'result': 'created'}\n"
     ]
    }
   ],
   "source": [
    "es.indices.delete(index=\"my_index\", ignore_unavailable=True)\n",
    "es.indices.create(index=\"my_index\")\n",
    "\n",
    "response = es.index(index=\"my_index\", document=document,pipeline=pipeline_id)\n",
    "pprint(response.body)"
   ]
  },
  {
   "cell_type": "code",
   "execution_count": 117,
   "metadata": {},
   "outputs": [],
   "source": [
    "response = es.search(index=\"my_index\")\n",
    "hits = response.body['hits']['hits']\n",
    "\n",
    "for hit in hits:\n",
    "    pprint(hit['_source'])"
   ]
  },
  {
   "cell_type": "code",
   "execution_count": 118,
   "metadata": {},
   "outputs": [],
   "source": [
    "clothes_documents=[\n",
    "  { \"brand\": \"gucci\", \"color\": \"red\", \"model\": \"model_1\" },\n",
    "  { \"brand\": \"gucci\", \"color\": \"blue\", \"model\": \"model_2\" },\n",
    "  { \"brand\": \"gucci\", \"color\": \"red\", \"model\": \"model_3\" },\n",
    "  { \"brand\": \"gucci\", \"color\": \"green\", \"model\": \"model_4\" },\n",
    "  { \"brand\": \"gucci\", \"color\": \"red\", \"model\": \"model_1\" },\n",
    "  { \"brand\": \"gucci\", \"color\": \"yellow\", \"model\": \"model_2\" },\n",
    "  { \"brand\": \"nike\", \"color\": \"red\", \"model\": \"model_5\" },\n",
    "  { \"brand\": \"nike\", \"color\": \"blue\", \"model\": \"model_6\" },\n",
    "  { \"brand\": \"gucci\", \"color\": \"blue\", \"model\": \"model_3\" },\n",
    "  { \"brand\": \"gucci\", \"color\": \"red\", \"model\": \"model_4\" },\n",
    "  { \"brand\": \"nike\", \"color\": \"red\", \"model\": \"model_7\" },\n",
    "  { \"brand\": \"nike\", \"color\": \"green\", \"model\": \"model_8\" },\n",
    "  { \"brand\": \"gucci\", \"color\": \"red\", \"model\": \"model_1\" },\n",
    "  { \"brand\": \"adidas\", \"color\": \"blue\", \"model\": \"model_9\" },\n",
    "  { \"brand\": \"adidas\", \"color\": \"red\", \"model\": \"model_10\" },\n",
    "  { \"brand\": \"puma\", \"color\": \"yellow\", \"model\": \"model_11\" },\n",
    "  { \"brand\": \"puma\", \"color\": \"red\", \"model\": \"model_12\" },\n",
    "  { \"brand\": \"nike\", \"color\": \"blue\", \"model\": \"model_13\" },\n",
    "  { \"brand\": \"nike\", \"color\": \"green\", \"model\": \"model_14\" },\n",
    "  { \"brand\": \"adidas\", \"color\": \"yellow\", \"model\": \"model_15\" },\n",
    "  { \"brand\": \"gucci\", \"color\": \"blue\", \"model\": \"model_16\" },\n",
    "  { \"brand\": \"gucci\", \"color\": \"red\", \"model\": \"model_2\" },\n",
    "  { \"brand\": \"adidas\", \"color\": \"green\", \"model\": \"model_17\" },\n",
    "  { \"brand\": \"puma\", \"color\": \"blue\", \"model\": \"model_18\" },\n",
    "  { \"brand\": \"nike\", \"color\": \"yellow\", \"model\": \"model_5\" },\n",
    "  { \"brand\": \"nike\", \"color\": \"red\", \"model\": \"model_6\" },\n",
    "  { \"brand\": \"adidas\", \"color\": \"yellow\", \"model\": \"model_8\" },\n",
    "  { \"brand\": \"puma\", \"color\": \"red\", \"model\": \"model_7\" },\n",
    "  { \"brand\": \"gucci\", \"color\": \"green\", \"model\": \"model_19\" },\n",
    "  { \"brand\": \"gucci\", \"color\": \"blue\", \"model\": \"model_20\" },\n",
    "  { \"brand\": \"adidas\", \"color\": \"yellow\", \"model\": \"model_21\" },\n",
    "  { \"brand\": \"puma\", \"color\": \"blue\", \"model\": \"model_22\" },\n",
    "  { \"brand\": \"nike\", \"color\": \"red\", \"model\": \"model_23\" },\n",
    "  { \"brand\": \"gucci\", \"color\": \"yellow\", \"model\": \"model_24\" },\n",
    "  { \"brand\": \"adidas\", \"color\": \"green\", \"model\": \"model_25\" },\n",
    "  { \"brand\": \"puma\", \"color\": \"red\", \"model\": \"model_26\" },\n",
    "  { \"brand\": \"nike\", \"color\": \"blue\", \"model\": \"model_27\" },\n",
    "  { \"brand\": \"gucci\", \"color\": \"red\", \"model\": \"model_28\" },\n",
    "  { \"brand\": \"adidas\", \"color\": \"yellow\", \"model\": \"model_29\" },\n",
    "  { \"brand\": \"puma\", \"color\": \"green\", \"model\": \"model_30\" },\n",
    "  { \"brand\": \"nike\", \"color\": \"red\", \"model\": \"model_1\" },\n",
    "  { \"brand\": \"gucci\", \"color\": \"blue\", \"model\": \"model_2\" },\n",
    "  { \"brand\": \"adidas\", \"color\": \"red\", \"model\": \"model_3\" },\n",
    "  { \"brand\": \"puma\", \"color\": \"yellow\", \"model\": \"model_4\" },\n",
    "  { \"brand\": \"nike\", \"color\": \"blue\", \"model\": \"model_5\" },\n",
    "  { \"brand\": \"gucci\", \"color\": \"red\", \"model\": \"model_6\" },\n",
    "  { \"brand\": \"adidas\", \"color\": \"green\", \"model\": \"model_7\" },\n",
    "  { \"brand\": \"puma\", \"color\": \"blue\", \"model\": \"model_8\" },\n",
    "  { \"brand\": \"nike\", \"color\": \"yellow\", \"model\": \"model_9\" },\n",
    "  { \"brand\": \"gucci\", \"color\": \"green\", \"model\": \"model_10\" },\n",
    "  { \"brand\": \"adidas\", \"color\": \"blue\", \"model\": \"model_11\" },\n",
    "  { \"brand\": \"puma\", \"color\": \"red\", \"model\": \"model_12\" },\n",
    "  { \"brand\": \"nike\", \"color\": \"yellow\", \"model\": \"model_13\" },\n",
    "  { \"brand\": \"gucci\", \"color\": \"red\", \"model\": \"model_14\" },\n",
    "  { \"brand\": \"adidas\", \"color\": \"green\", \"model\": \"model_15\" },\n",
    "  { \"brand\": \"puma\", \"color\": \"yellow\", \"model\": \"model_16\" },\n",
    "  { \"brand\": \"nike\", \"color\": \"red\", \"model\": \"model_17\" },\n",
    "  { \"brand\": \"gucci\", \"color\": \"blue\", \"model\": \"model_18\" },\n",
    "  { \"brand\": \"adidas\", \"color\": \"yellow\", \"model\": \"model_19\" },\n",
    "  { \"brand\": \"puma\", \"color\": \"green\", \"model\": \"model_20\" },\n",
    "  { \"brand\": \"nike\", \"color\": \"red\", \"model\": \"model_21\" },\n",
    "  { \"brand\": \"gucci\", \"color\": \"yellow\", \"model\": \"model_22\" },\n",
    "  { \"brand\": \"adidas\", \"color\": \"blue\", \"model\": \"model_23\" },\n",
    "  { \"brand\": \"puma\", \"color\": \"red\", \"model\": \"model_24\" },\n",
    "  { \"brand\": \"nike\", \"color\": \"green\", \"model\": \"model_25\" },\n",
    "  { \"brand\": \"gucci\", \"color\": \"red\", \"model\": \"model_26\" },\n",
    "  { \"brand\": \"adidas\", \"color\": \"blue\", \"model\": \"model_27\" },\n",
    "  { \"brand\": \"puma\", \"color\": \"yellow\", \"model\": \"model_28\" },\n",
    "  { \"brand\": \"nike\", \"color\": \"red\", \"model\": \"model_29\" },\n",
    "  { \"brand\": \"gucci\", \"color\": \"green\", \"model\": \"model_30\" },\n",
    "  { \"brand\": \"adidas\", \"color\": \"blue\", \"model\": \"model_1\" },\n",
    "  { \"brand\": \"puma\", \"color\": \"red\", \"model\": \"model_2\" },\n",
    "  { \"brand\": \"nike\", \"color\": \"yellow\", \"model\": \"model_3\" },\n",
    "  { \"brand\": \"gucci\", \"color\": \"blue\", \"model\": \"model_4\" },\n",
    "  { \"brand\": \"adidas\", \"color\": \"red\", \"model\": \"model_5\" },\n",
    "  { \"brand\": \"puma\", \"color\": \"yellow\", \"model\": \"model_6\" },\n",
    "  { \"brand\": \"nike\", \"color\": \"green\", \"model\": \"model_7\" },\n",
    "  { \"brand\": \"gucci\", \"color\": \"red\", \"model\": \"model_8\" },\n",
    "  { \"brand\": \"adidas\", \"color\": \"blue\", \"model\": \"model_9\" },\n",
    "  { \"brand\": \"puma\", \"color\": \"yellow\", \"model\": \"model_10\" },\n",
    "  { \"brand\": \"nike\", \"color\": \"red\", \"model\": \"model_11\" },\n",
    "  { \"brand\": \"gucci\", \"color\": \"green\", \"model\": \"model_12\" },\n",
    "  { \"brand\": \"adidas\", \"color\": \"blue\", \"model\": \"model_13\" },\n",
    "  { \"brand\": \"puma\", \"color\": \"red\", \"model\": \"model_14\" },\n",
    "  { \"brand\": \"nike\", \"color\": \"yellow\", \"model\": \"model_15\" },\n",
    "  { \"brand\": \"gucci\", \"color\": \"red\", \"model\": \"model_16\" },\n",
    "  { \"brand\": \"adidas\", \"color\": \"green\", \"model\": \"model_17\" },\n",
    "  { \"brand\": \"puma\", \"color\": \"blue\", \"model\": \"model_18\" },\n",
    "  { \"brand\": \"nike\", \"color\": \"red\", \"model\": \"model_19\" },\n",
    "  { \"brand\": \"gucci\", \"color\": \"yellow\", \"model\": \"model_20\" },\n",
    "  { \"brand\": \"adidas\", \"color\": \"blue\", \"model\": \"model_21\" },\n",
    "  { \"brand\": \"puma\", \"color\": \"green\", \"model\": \"model_22\" },\n",
    "  { \"brand\": \"nike\", \"color\": \"red\", \"model\": \"model_23\" },\n",
    "  { \"brand\": \"gucci\", \"color\": \"blue\", \"model\": \"model_24\" },\n",
    "  { \"brand\": \"adidas\", \"color\": \"yellow\", \"model\": \"model_25\" },\n",
    "  { \"brand\": \"puma\", \"color\": \"red\", \"model\": \"model_26\" },\n",
    "  { \"brand\": \"nike\", \"color\": \"blue\", \"model\": \"model_27\" },\n",
    "  { \"brand\": \"gucci\", \"color\": \"green\", \"model\": \"model_28\" },\n",
    "  { \"brand\": \"adidas\", \"color\": \"red\", \"model\": \"model_29\" },\n",
    "  { \"brand\": \"puma\", \"color\": \"yellow\", \"model\": \"model_30\" }\n",
    "]"
   ]
  },
  {
   "cell_type": "code",
   "execution_count": 119,
   "metadata": {},
   "outputs": [
    {
     "name": "stdout",
     "output_type": "stream",
     "text": [
      "{'errors': False,\n",
      " 'items': [{'index': {'_id': 'BL_B4pMBXS9W6nXoyshH',\n",
      "                      '_index': 'my_index',\n",
      "                      '_primary_term': 1,\n",
      "                      '_seq_no': 0,\n",
      "                      '_shards': {'failed': 0, 'successful': 1, 'total': 2},\n",
      "                      '_version': 1,\n",
      "                      'result': 'created',\n",
      "                      'status': 201}},\n",
      "           {'index': {'_id': 'Bb_B4pMBXS9W6nXoyshH',\n",
      "                      '_index': 'my_index',\n",
      "                      '_primary_term': 1,\n",
      "                      '_seq_no': 1,\n",
      "                      '_shards': {'failed': 0, 'successful': 1, 'total': 2},\n",
      "                      '_version': 1,\n",
      "                      'result': 'created',\n",
      "                      'status': 201}},\n",
      "           {'index': {'_id': 'Br_B4pMBXS9W6nXoyshH',\n",
      "                      '_index': 'my_index',\n",
      "                      '_primary_term': 1,\n",
      "                      '_seq_no': 2,\n",
      "                      '_shards': {'failed': 0, 'successful': 1, 'total': 2},\n",
      "                      '_version': 1,\n",
      "                      'result': 'created',\n",
      "                      'status': 201}},\n",
      "           {'index': {'_id': 'B7_B4pMBXS9W6nXoyshH',\n",
      "                      '_index': 'my_index',\n",
      "                      '_primary_term': 1,\n",
      "                      '_seq_no': 3,\n",
      "                      '_shards': {'failed': 0, 'successful': 1, 'total': 2},\n",
      "                      '_version': 1,\n",
      "                      'result': 'created',\n",
      "                      'status': 201}},\n",
      "           {'index': {'_id': 'CL_B4pMBXS9W6nXoyshH',\n",
      "                      '_index': 'my_index',\n",
      "                      '_primary_term': 1,\n",
      "                      '_seq_no': 4,\n",
      "                      '_shards': {'failed': 0, 'successful': 1, 'total': 2},\n",
      "                      '_version': 1,\n",
      "                      'result': 'created',\n",
      "                      'status': 201}},\n",
      "           {'index': {'_id': 'Cb_B4pMBXS9W6nXoyshH',\n",
      "                      '_index': 'my_index',\n",
      "                      '_primary_term': 1,\n",
      "                      '_seq_no': 5,\n",
      "                      '_shards': {'failed': 0, 'successful': 1, 'total': 2},\n",
      "                      '_version': 1,\n",
      "                      'result': 'created',\n",
      "                      'status': 201}},\n",
      "           {'index': {'_id': 'Cr_B4pMBXS9W6nXoyshH',\n",
      "                      '_index': 'my_index',\n",
      "                      '_primary_term': 1,\n",
      "                      '_seq_no': 6,\n",
      "                      '_shards': {'failed': 0, 'successful': 1, 'total': 2},\n",
      "                      '_version': 1,\n",
      "                      'result': 'created',\n",
      "                      'status': 201}},\n",
      "           {'index': {'_id': 'C7_B4pMBXS9W6nXoyshH',\n",
      "                      '_index': 'my_index',\n",
      "                      '_primary_term': 1,\n",
      "                      '_seq_no': 7,\n",
      "                      '_shards': {'failed': 0, 'successful': 1, 'total': 2},\n",
      "                      '_version': 1,\n",
      "                      'result': 'created',\n",
      "                      'status': 201}},\n",
      "           {'index': {'_id': 'DL_B4pMBXS9W6nXoyshH',\n",
      "                      '_index': 'my_index',\n",
      "                      '_primary_term': 1,\n",
      "                      '_seq_no': 8,\n",
      "                      '_shards': {'failed': 0, 'successful': 1, 'total': 2},\n",
      "                      '_version': 1,\n",
      "                      'result': 'created',\n",
      "                      'status': 201}},\n",
      "           {'index': {'_id': 'Db_B4pMBXS9W6nXoyshH',\n",
      "                      '_index': 'my_index',\n",
      "                      '_primary_term': 1,\n",
      "                      '_seq_no': 9,\n",
      "                      '_shards': {'failed': 0, 'successful': 1, 'total': 2},\n",
      "                      '_version': 1,\n",
      "                      'result': 'created',\n",
      "                      'status': 201}},\n",
      "           {'index': {'_id': 'Dr_B4pMBXS9W6nXoyshH',\n",
      "                      '_index': 'my_index',\n",
      "                      '_primary_term': 1,\n",
      "                      '_seq_no': 10,\n",
      "                      '_shards': {'failed': 0, 'successful': 1, 'total': 2},\n",
      "                      '_version': 1,\n",
      "                      'result': 'created',\n",
      "                      'status': 201}},\n",
      "           {'index': {'_id': 'D7_B4pMBXS9W6nXoyshH',\n",
      "                      '_index': 'my_index',\n",
      "                      '_primary_term': 1,\n",
      "                      '_seq_no': 11,\n",
      "                      '_shards': {'failed': 0, 'successful': 1, 'total': 2},\n",
      "                      '_version': 1,\n",
      "                      'result': 'created',\n",
      "                      'status': 201}},\n",
      "           {'index': {'_id': 'EL_B4pMBXS9W6nXoyshH',\n",
      "                      '_index': 'my_index',\n",
      "                      '_primary_term': 1,\n",
      "                      '_seq_no': 12,\n",
      "                      '_shards': {'failed': 0, 'successful': 1, 'total': 2},\n",
      "                      '_version': 1,\n",
      "                      'result': 'created',\n",
      "                      'status': 201}},\n",
      "           {'index': {'_id': 'Eb_B4pMBXS9W6nXoyshH',\n",
      "                      '_index': 'my_index',\n",
      "                      '_primary_term': 1,\n",
      "                      '_seq_no': 13,\n",
      "                      '_shards': {'failed': 0, 'successful': 1, 'total': 2},\n",
      "                      '_version': 1,\n",
      "                      'result': 'created',\n",
      "                      'status': 201}},\n",
      "           {'index': {'_id': 'Er_B4pMBXS9W6nXoyshH',\n",
      "                      '_index': 'my_index',\n",
      "                      '_primary_term': 1,\n",
      "                      '_seq_no': 14,\n",
      "                      '_shards': {'failed': 0, 'successful': 1, 'total': 2},\n",
      "                      '_version': 1,\n",
      "                      'result': 'created',\n",
      "                      'status': 201}},\n",
      "           {'index': {'_id': 'E7_B4pMBXS9W6nXoyshH',\n",
      "                      '_index': 'my_index',\n",
      "                      '_primary_term': 1,\n",
      "                      '_seq_no': 15,\n",
      "                      '_shards': {'failed': 0, 'successful': 1, 'total': 2},\n",
      "                      '_version': 1,\n",
      "                      'result': 'created',\n",
      "                      'status': 201}},\n",
      "           {'index': {'_id': 'FL_B4pMBXS9W6nXoyshH',\n",
      "                      '_index': 'my_index',\n",
      "                      '_primary_term': 1,\n",
      "                      '_seq_no': 16,\n",
      "                      '_shards': {'failed': 0, 'successful': 1, 'total': 2},\n",
      "                      '_version': 1,\n",
      "                      'result': 'created',\n",
      "                      'status': 201}},\n",
      "           {'index': {'_id': 'Fb_B4pMBXS9W6nXoyshH',\n",
      "                      '_index': 'my_index',\n",
      "                      '_primary_term': 1,\n",
      "                      '_seq_no': 17,\n",
      "                      '_shards': {'failed': 0, 'successful': 1, 'total': 2},\n",
      "                      '_version': 1,\n",
      "                      'result': 'created',\n",
      "                      'status': 201}},\n",
      "           {'index': {'_id': 'Fr_B4pMBXS9W6nXoyshH',\n",
      "                      '_index': 'my_index',\n",
      "                      '_primary_term': 1,\n",
      "                      '_seq_no': 18,\n",
      "                      '_shards': {'failed': 0, 'successful': 1, 'total': 2},\n",
      "                      '_version': 1,\n",
      "                      'result': 'created',\n",
      "                      'status': 201}},\n",
      "           {'index': {'_id': 'F7_B4pMBXS9W6nXoyshH',\n",
      "                      '_index': 'my_index',\n",
      "                      '_primary_term': 1,\n",
      "                      '_seq_no': 19,\n",
      "                      '_shards': {'failed': 0, 'successful': 1, 'total': 2},\n",
      "                      '_version': 1,\n",
      "                      'result': 'created',\n",
      "                      'status': 201}},\n",
      "           {'index': {'_id': 'GL_B4pMBXS9W6nXoyshH',\n",
      "                      '_index': 'my_index',\n",
      "                      '_primary_term': 1,\n",
      "                      '_seq_no': 20,\n",
      "                      '_shards': {'failed': 0, 'successful': 1, 'total': 2},\n",
      "                      '_version': 1,\n",
      "                      'result': 'created',\n",
      "                      'status': 201}},\n",
      "           {'index': {'_id': 'Gb_B4pMBXS9W6nXoyshH',\n",
      "                      '_index': 'my_index',\n",
      "                      '_primary_term': 1,\n",
      "                      '_seq_no': 21,\n",
      "                      '_shards': {'failed': 0, 'successful': 1, 'total': 2},\n",
      "                      '_version': 1,\n",
      "                      'result': 'created',\n",
      "                      'status': 201}},\n",
      "           {'index': {'_id': 'Gr_B4pMBXS9W6nXoyshH',\n",
      "                      '_index': 'my_index',\n",
      "                      '_primary_term': 1,\n",
      "                      '_seq_no': 22,\n",
      "                      '_shards': {'failed': 0, 'successful': 1, 'total': 2},\n",
      "                      '_version': 1,\n",
      "                      'result': 'created',\n",
      "                      'status': 201}},\n",
      "           {'index': {'_id': 'G7_B4pMBXS9W6nXoyshH',\n",
      "                      '_index': 'my_index',\n",
      "                      '_primary_term': 1,\n",
      "                      '_seq_no': 23,\n",
      "                      '_shards': {'failed': 0, 'successful': 1, 'total': 2},\n",
      "                      '_version': 1,\n",
      "                      'result': 'created',\n",
      "                      'status': 201}},\n",
      "           {'index': {'_id': 'HL_B4pMBXS9W6nXoyshH',\n",
      "                      '_index': 'my_index',\n",
      "                      '_primary_term': 1,\n",
      "                      '_seq_no': 24,\n",
      "                      '_shards': {'failed': 0, 'successful': 1, 'total': 2},\n",
      "                      '_version': 1,\n",
      "                      'result': 'created',\n",
      "                      'status': 201}},\n",
      "           {'index': {'_id': 'Hb_B4pMBXS9W6nXoyshH',\n",
      "                      '_index': 'my_index',\n",
      "                      '_primary_term': 1,\n",
      "                      '_seq_no': 25,\n",
      "                      '_shards': {'failed': 0, 'successful': 1, 'total': 2},\n",
      "                      '_version': 1,\n",
      "                      'result': 'created',\n",
      "                      'status': 201}},\n",
      "           {'index': {'_id': 'Hr_B4pMBXS9W6nXoyshH',\n",
      "                      '_index': 'my_index',\n",
      "                      '_primary_term': 1,\n",
      "                      '_seq_no': 26,\n",
      "                      '_shards': {'failed': 0, 'successful': 1, 'total': 2},\n",
      "                      '_version': 1,\n",
      "                      'result': 'created',\n",
      "                      'status': 201}},\n",
      "           {'index': {'_id': 'H7_B4pMBXS9W6nXoyshH',\n",
      "                      '_index': 'my_index',\n",
      "                      '_primary_term': 1,\n",
      "                      '_seq_no': 27,\n",
      "                      '_shards': {'failed': 0, 'successful': 1, 'total': 2},\n",
      "                      '_version': 1,\n",
      "                      'result': 'created',\n",
      "                      'status': 201}},\n",
      "           {'index': {'_id': 'IL_B4pMBXS9W6nXoyshH',\n",
      "                      '_index': 'my_index',\n",
      "                      '_primary_term': 1,\n",
      "                      '_seq_no': 28,\n",
      "                      '_shards': {'failed': 0, 'successful': 1, 'total': 2},\n",
      "                      '_version': 1,\n",
      "                      'result': 'created',\n",
      "                      'status': 201}},\n",
      "           {'index': {'_id': 'Ib_B4pMBXS9W6nXoyshH',\n",
      "                      '_index': 'my_index',\n",
      "                      '_primary_term': 1,\n",
      "                      '_seq_no': 29,\n",
      "                      '_shards': {'failed': 0, 'successful': 1, 'total': 2},\n",
      "                      '_version': 1,\n",
      "                      'result': 'created',\n",
      "                      'status': 201}},\n",
      "           {'index': {'_id': 'Ir_B4pMBXS9W6nXoyshH',\n",
      "                      '_index': 'my_index',\n",
      "                      '_primary_term': 1,\n",
      "                      '_seq_no': 30,\n",
      "                      '_shards': {'failed': 0, 'successful': 1, 'total': 2},\n",
      "                      '_version': 1,\n",
      "                      'result': 'created',\n",
      "                      'status': 201}},\n",
      "           {'index': {'_id': 'I7_B4pMBXS9W6nXoyshH',\n",
      "                      '_index': 'my_index',\n",
      "                      '_primary_term': 1,\n",
      "                      '_seq_no': 31,\n",
      "                      '_shards': {'failed': 0, 'successful': 1, 'total': 2},\n",
      "                      '_version': 1,\n",
      "                      'result': 'created',\n",
      "                      'status': 201}},\n",
      "           {'index': {'_id': 'JL_B4pMBXS9W6nXoyshH',\n",
      "                      '_index': 'my_index',\n",
      "                      '_primary_term': 1,\n",
      "                      '_seq_no': 32,\n",
      "                      '_shards': {'failed': 0, 'successful': 1, 'total': 2},\n",
      "                      '_version': 1,\n",
      "                      'result': 'created',\n",
      "                      'status': 201}},\n",
      "           {'index': {'_id': 'Jb_B4pMBXS9W6nXoyshH',\n",
      "                      '_index': 'my_index',\n",
      "                      '_primary_term': 1,\n",
      "                      '_seq_no': 33,\n",
      "                      '_shards': {'failed': 0, 'successful': 1, 'total': 2},\n",
      "                      '_version': 1,\n",
      "                      'result': 'created',\n",
      "                      'status': 201}},\n",
      "           {'index': {'_id': 'Jr_B4pMBXS9W6nXoyshH',\n",
      "                      '_index': 'my_index',\n",
      "                      '_primary_term': 1,\n",
      "                      '_seq_no': 34,\n",
      "                      '_shards': {'failed': 0, 'successful': 1, 'total': 2},\n",
      "                      '_version': 1,\n",
      "                      'result': 'created',\n",
      "                      'status': 201}},\n",
      "           {'index': {'_id': 'J7_B4pMBXS9W6nXoyshH',\n",
      "                      '_index': 'my_index',\n",
      "                      '_primary_term': 1,\n",
      "                      '_seq_no': 35,\n",
      "                      '_shards': {'failed': 0, 'successful': 1, 'total': 2},\n",
      "                      '_version': 1,\n",
      "                      'result': 'created',\n",
      "                      'status': 201}},\n",
      "           {'index': {'_id': 'KL_B4pMBXS9W6nXoyshH',\n",
      "                      '_index': 'my_index',\n",
      "                      '_primary_term': 1,\n",
      "                      '_seq_no': 36,\n",
      "                      '_shards': {'failed': 0, 'successful': 1, 'total': 2},\n",
      "                      '_version': 1,\n",
      "                      'result': 'created',\n",
      "                      'status': 201}},\n",
      "           {'index': {'_id': 'Kb_B4pMBXS9W6nXoyshH',\n",
      "                      '_index': 'my_index',\n",
      "                      '_primary_term': 1,\n",
      "                      '_seq_no': 37,\n",
      "                      '_shards': {'failed': 0, 'successful': 1, 'total': 2},\n",
      "                      '_version': 1,\n",
      "                      'result': 'created',\n",
      "                      'status': 201}},\n",
      "           {'index': {'_id': 'Kr_B4pMBXS9W6nXoyshH',\n",
      "                      '_index': 'my_index',\n",
      "                      '_primary_term': 1,\n",
      "                      '_seq_no': 38,\n",
      "                      '_shards': {'failed': 0, 'successful': 1, 'total': 2},\n",
      "                      '_version': 1,\n",
      "                      'result': 'created',\n",
      "                      'status': 201}},\n",
      "           {'index': {'_id': 'K7_B4pMBXS9W6nXoyshH',\n",
      "                      '_index': 'my_index',\n",
      "                      '_primary_term': 1,\n",
      "                      '_seq_no': 39,\n",
      "                      '_shards': {'failed': 0, 'successful': 1, 'total': 2},\n",
      "                      '_version': 1,\n",
      "                      'result': 'created',\n",
      "                      'status': 201}},\n",
      "           {'index': {'_id': 'LL_B4pMBXS9W6nXoyshH',\n",
      "                      '_index': 'my_index',\n",
      "                      '_primary_term': 1,\n",
      "                      '_seq_no': 40,\n",
      "                      '_shards': {'failed': 0, 'successful': 1, 'total': 2},\n",
      "                      '_version': 1,\n",
      "                      'result': 'created',\n",
      "                      'status': 201}},\n",
      "           {'index': {'_id': 'Lb_B4pMBXS9W6nXoyshH',\n",
      "                      '_index': 'my_index',\n",
      "                      '_primary_term': 1,\n",
      "                      '_seq_no': 41,\n",
      "                      '_shards': {'failed': 0, 'successful': 1, 'total': 2},\n",
      "                      '_version': 1,\n",
      "                      'result': 'created',\n",
      "                      'status': 201}},\n",
      "           {'index': {'_id': 'Lr_B4pMBXS9W6nXoyshH',\n",
      "                      '_index': 'my_index',\n",
      "                      '_primary_term': 1,\n",
      "                      '_seq_no': 42,\n",
      "                      '_shards': {'failed': 0, 'successful': 1, 'total': 2},\n",
      "                      '_version': 1,\n",
      "                      'result': 'created',\n",
      "                      'status': 201}},\n",
      "           {'index': {'_id': 'L7_B4pMBXS9W6nXoyshH',\n",
      "                      '_index': 'my_index',\n",
      "                      '_primary_term': 1,\n",
      "                      '_seq_no': 43,\n",
      "                      '_shards': {'failed': 0, 'successful': 1, 'total': 2},\n",
      "                      '_version': 1,\n",
      "                      'result': 'created',\n",
      "                      'status': 201}},\n",
      "           {'index': {'_id': 'ML_B4pMBXS9W6nXoyshH',\n",
      "                      '_index': 'my_index',\n",
      "                      '_primary_term': 1,\n",
      "                      '_seq_no': 44,\n",
      "                      '_shards': {'failed': 0, 'successful': 1, 'total': 2},\n",
      "                      '_version': 1,\n",
      "                      'result': 'created',\n",
      "                      'status': 201}},\n",
      "           {'index': {'_id': 'Mb_B4pMBXS9W6nXoyshH',\n",
      "                      '_index': 'my_index',\n",
      "                      '_primary_term': 1,\n",
      "                      '_seq_no': 45,\n",
      "                      '_shards': {'failed': 0, 'successful': 1, 'total': 2},\n",
      "                      '_version': 1,\n",
      "                      'result': 'created',\n",
      "                      'status': 201}},\n",
      "           {'index': {'_id': 'Mr_B4pMBXS9W6nXoyshH',\n",
      "                      '_index': 'my_index',\n",
      "                      '_primary_term': 1,\n",
      "                      '_seq_no': 46,\n",
      "                      '_shards': {'failed': 0, 'successful': 1, 'total': 2},\n",
      "                      '_version': 1,\n",
      "                      'result': 'created',\n",
      "                      'status': 201}},\n",
      "           {'index': {'_id': 'M7_B4pMBXS9W6nXoyshH',\n",
      "                      '_index': 'my_index',\n",
      "                      '_primary_term': 1,\n",
      "                      '_seq_no': 47,\n",
      "                      '_shards': {'failed': 0, 'successful': 1, 'total': 2},\n",
      "                      '_version': 1,\n",
      "                      'result': 'created',\n",
      "                      'status': 201}},\n",
      "           {'index': {'_id': 'NL_B4pMBXS9W6nXoyshH',\n",
      "                      '_index': 'my_index',\n",
      "                      '_primary_term': 1,\n",
      "                      '_seq_no': 48,\n",
      "                      '_shards': {'failed': 0, 'successful': 1, 'total': 2},\n",
      "                      '_version': 1,\n",
      "                      'result': 'created',\n",
      "                      'status': 201}},\n",
      "           {'index': {'_id': 'Nb_B4pMBXS9W6nXoyshH',\n",
      "                      '_index': 'my_index',\n",
      "                      '_primary_term': 1,\n",
      "                      '_seq_no': 49,\n",
      "                      '_shards': {'failed': 0, 'successful': 1, 'total': 2},\n",
      "                      '_version': 1,\n",
      "                      'result': 'created',\n",
      "                      'status': 201}},\n",
      "           {'index': {'_id': 'Nr_B4pMBXS9W6nXoyshH',\n",
      "                      '_index': 'my_index',\n",
      "                      '_primary_term': 1,\n",
      "                      '_seq_no': 50,\n",
      "                      '_shards': {'failed': 0, 'successful': 1, 'total': 2},\n",
      "                      '_version': 1,\n",
      "                      'result': 'created',\n",
      "                      'status': 201}},\n",
      "           {'index': {'_id': 'N7_B4pMBXS9W6nXoyshH',\n",
      "                      '_index': 'my_index',\n",
      "                      '_primary_term': 1,\n",
      "                      '_seq_no': 51,\n",
      "                      '_shards': {'failed': 0, 'successful': 1, 'total': 2},\n",
      "                      '_version': 1,\n",
      "                      'result': 'created',\n",
      "                      'status': 201}},\n",
      "           {'index': {'_id': 'OL_B4pMBXS9W6nXoyshH',\n",
      "                      '_index': 'my_index',\n",
      "                      '_primary_term': 1,\n",
      "                      '_seq_no': 52,\n",
      "                      '_shards': {'failed': 0, 'successful': 1, 'total': 2},\n",
      "                      '_version': 1,\n",
      "                      'result': 'created',\n",
      "                      'status': 201}},\n",
      "           {'index': {'_id': 'Ob_B4pMBXS9W6nXoyshH',\n",
      "                      '_index': 'my_index',\n",
      "                      '_primary_term': 1,\n",
      "                      '_seq_no': 53,\n",
      "                      '_shards': {'failed': 0, 'successful': 1, 'total': 2},\n",
      "                      '_version': 1,\n",
      "                      'result': 'created',\n",
      "                      'status': 201}},\n",
      "           {'index': {'_id': 'Or_B4pMBXS9W6nXoyshH',\n",
      "                      '_index': 'my_index',\n",
      "                      '_primary_term': 1,\n",
      "                      '_seq_no': 54,\n",
      "                      '_shards': {'failed': 0, 'successful': 1, 'total': 2},\n",
      "                      '_version': 1,\n",
      "                      'result': 'created',\n",
      "                      'status': 201}},\n",
      "           {'index': {'_id': 'O7_B4pMBXS9W6nXoyshH',\n",
      "                      '_index': 'my_index',\n",
      "                      '_primary_term': 1,\n",
      "                      '_seq_no': 55,\n",
      "                      '_shards': {'failed': 0, 'successful': 1, 'total': 2},\n",
      "                      '_version': 1,\n",
      "                      'result': 'created',\n",
      "                      'status': 201}},\n",
      "           {'index': {'_id': 'PL_B4pMBXS9W6nXoyshH',\n",
      "                      '_index': 'my_index',\n",
      "                      '_primary_term': 1,\n",
      "                      '_seq_no': 56,\n",
      "                      '_shards': {'failed': 0, 'successful': 1, 'total': 2},\n",
      "                      '_version': 1,\n",
      "                      'result': 'created',\n",
      "                      'status': 201}},\n",
      "           {'index': {'_id': 'Pb_B4pMBXS9W6nXoyshH',\n",
      "                      '_index': 'my_index',\n",
      "                      '_primary_term': 1,\n",
      "                      '_seq_no': 57,\n",
      "                      '_shards': {'failed': 0, 'successful': 1, 'total': 2},\n",
      "                      '_version': 1,\n",
      "                      'result': 'created',\n",
      "                      'status': 201}},\n",
      "           {'index': {'_id': 'Pr_B4pMBXS9W6nXoyshH',\n",
      "                      '_index': 'my_index',\n",
      "                      '_primary_term': 1,\n",
      "                      '_seq_no': 58,\n",
      "                      '_shards': {'failed': 0, 'successful': 1, 'total': 2},\n",
      "                      '_version': 1,\n",
      "                      'result': 'created',\n",
      "                      'status': 201}},\n",
      "           {'index': {'_id': 'P7_B4pMBXS9W6nXoyshH',\n",
      "                      '_index': 'my_index',\n",
      "                      '_primary_term': 1,\n",
      "                      '_seq_no': 59,\n",
      "                      '_shards': {'failed': 0, 'successful': 1, 'total': 2},\n",
      "                      '_version': 1,\n",
      "                      'result': 'created',\n",
      "                      'status': 201}},\n",
      "           {'index': {'_id': 'QL_B4pMBXS9W6nXoyshH',\n",
      "                      '_index': 'my_index',\n",
      "                      '_primary_term': 1,\n",
      "                      '_seq_no': 60,\n",
      "                      '_shards': {'failed': 0, 'successful': 1, 'total': 2},\n",
      "                      '_version': 1,\n",
      "                      'result': 'created',\n",
      "                      'status': 201}},\n",
      "           {'index': {'_id': 'Qb_B4pMBXS9W6nXoyshH',\n",
      "                      '_index': 'my_index',\n",
      "                      '_primary_term': 1,\n",
      "                      '_seq_no': 61,\n",
      "                      '_shards': {'failed': 0, 'successful': 1, 'total': 2},\n",
      "                      '_version': 1,\n",
      "                      'result': 'created',\n",
      "                      'status': 201}},\n",
      "           {'index': {'_id': 'Qr_B4pMBXS9W6nXoyshH',\n",
      "                      '_index': 'my_index',\n",
      "                      '_primary_term': 1,\n",
      "                      '_seq_no': 62,\n",
      "                      '_shards': {'failed': 0, 'successful': 1, 'total': 2},\n",
      "                      '_version': 1,\n",
      "                      'result': 'created',\n",
      "                      'status': 201}},\n",
      "           {'index': {'_id': 'Q7_B4pMBXS9W6nXoyshH',\n",
      "                      '_index': 'my_index',\n",
      "                      '_primary_term': 1,\n",
      "                      '_seq_no': 63,\n",
      "                      '_shards': {'failed': 0, 'successful': 1, 'total': 2},\n",
      "                      '_version': 1,\n",
      "                      'result': 'created',\n",
      "                      'status': 201}},\n",
      "           {'index': {'_id': 'RL_B4pMBXS9W6nXoyshH',\n",
      "                      '_index': 'my_index',\n",
      "                      '_primary_term': 1,\n",
      "                      '_seq_no': 64,\n",
      "                      '_shards': {'failed': 0, 'successful': 1, 'total': 2},\n",
      "                      '_version': 1,\n",
      "                      'result': 'created',\n",
      "                      'status': 201}},\n",
      "           {'index': {'_id': 'Rb_B4pMBXS9W6nXoyshH',\n",
      "                      '_index': 'my_index',\n",
      "                      '_primary_term': 1,\n",
      "                      '_seq_no': 65,\n",
      "                      '_shards': {'failed': 0, 'successful': 1, 'total': 2},\n",
      "                      '_version': 1,\n",
      "                      'result': 'created',\n",
      "                      'status': 201}},\n",
      "           {'index': {'_id': 'Rr_B4pMBXS9W6nXoyshH',\n",
      "                      '_index': 'my_index',\n",
      "                      '_primary_term': 1,\n",
      "                      '_seq_no': 66,\n",
      "                      '_shards': {'failed': 0, 'successful': 1, 'total': 2},\n",
      "                      '_version': 1,\n",
      "                      'result': 'created',\n",
      "                      'status': 201}},\n",
      "           {'index': {'_id': 'R7_B4pMBXS9W6nXoyshH',\n",
      "                      '_index': 'my_index',\n",
      "                      '_primary_term': 1,\n",
      "                      '_seq_no': 67,\n",
      "                      '_shards': {'failed': 0, 'successful': 1, 'total': 2},\n",
      "                      '_version': 1,\n",
      "                      'result': 'created',\n",
      "                      'status': 201}},\n",
      "           {'index': {'_id': 'SL_B4pMBXS9W6nXoyshH',\n",
      "                      '_index': 'my_index',\n",
      "                      '_primary_term': 1,\n",
      "                      '_seq_no': 68,\n",
      "                      '_shards': {'failed': 0, 'successful': 1, 'total': 2},\n",
      "                      '_version': 1,\n",
      "                      'result': 'created',\n",
      "                      'status': 201}},\n",
      "           {'index': {'_id': 'Sb_B4pMBXS9W6nXoyshH',\n",
      "                      '_index': 'my_index',\n",
      "                      '_primary_term': 1,\n",
      "                      '_seq_no': 69,\n",
      "                      '_shards': {'failed': 0, 'successful': 1, 'total': 2},\n",
      "                      '_version': 1,\n",
      "                      'result': 'created',\n",
      "                      'status': 201}},\n",
      "           {'index': {'_id': 'Sr_B4pMBXS9W6nXoyshH',\n",
      "                      '_index': 'my_index',\n",
      "                      '_primary_term': 1,\n",
      "                      '_seq_no': 70,\n",
      "                      '_shards': {'failed': 0, 'successful': 1, 'total': 2},\n",
      "                      '_version': 1,\n",
      "                      'result': 'created',\n",
      "                      'status': 201}},\n",
      "           {'index': {'_id': 'S7_B4pMBXS9W6nXoyshH',\n",
      "                      '_index': 'my_index',\n",
      "                      '_primary_term': 1,\n",
      "                      '_seq_no': 71,\n",
      "                      '_shards': {'failed': 0, 'successful': 1, 'total': 2},\n",
      "                      '_version': 1,\n",
      "                      'result': 'created',\n",
      "                      'status': 201}},\n",
      "           {'index': {'_id': 'TL_B4pMBXS9W6nXoyshH',\n",
      "                      '_index': 'my_index',\n",
      "                      '_primary_term': 1,\n",
      "                      '_seq_no': 72,\n",
      "                      '_shards': {'failed': 0, 'successful': 1, 'total': 2},\n",
      "                      '_version': 1,\n",
      "                      'result': 'created',\n",
      "                      'status': 201}},\n",
      "           {'index': {'_id': 'Tb_B4pMBXS9W6nXoyshH',\n",
      "                      '_index': 'my_index',\n",
      "                      '_primary_term': 1,\n",
      "                      '_seq_no': 73,\n",
      "                      '_shards': {'failed': 0, 'successful': 1, 'total': 2},\n",
      "                      '_version': 1,\n",
      "                      'result': 'created',\n",
      "                      'status': 201}},\n",
      "           {'index': {'_id': 'Tr_B4pMBXS9W6nXoyshH',\n",
      "                      '_index': 'my_index',\n",
      "                      '_primary_term': 1,\n",
      "                      '_seq_no': 74,\n",
      "                      '_shards': {'failed': 0, 'successful': 1, 'total': 2},\n",
      "                      '_version': 1,\n",
      "                      'result': 'created',\n",
      "                      'status': 201}},\n",
      "           {'index': {'_id': 'T7_B4pMBXS9W6nXoyshH',\n",
      "                      '_index': 'my_index',\n",
      "                      '_primary_term': 1,\n",
      "                      '_seq_no': 75,\n",
      "                      '_shards': {'failed': 0, 'successful': 1, 'total': 2},\n",
      "                      '_version': 1,\n",
      "                      'result': 'created',\n",
      "                      'status': 201}},\n",
      "           {'index': {'_id': 'UL_B4pMBXS9W6nXoyshH',\n",
      "                      '_index': 'my_index',\n",
      "                      '_primary_term': 1,\n",
      "                      '_seq_no': 76,\n",
      "                      '_shards': {'failed': 0, 'successful': 1, 'total': 2},\n",
      "                      '_version': 1,\n",
      "                      'result': 'created',\n",
      "                      'status': 201}},\n",
      "           {'index': {'_id': 'Ub_B4pMBXS9W6nXoyshH',\n",
      "                      '_index': 'my_index',\n",
      "                      '_primary_term': 1,\n",
      "                      '_seq_no': 77,\n",
      "                      '_shards': {'failed': 0, 'successful': 1, 'total': 2},\n",
      "                      '_version': 1,\n",
      "                      'result': 'created',\n",
      "                      'status': 201}},\n",
      "           {'index': {'_id': 'Ur_B4pMBXS9W6nXoyshH',\n",
      "                      '_index': 'my_index',\n",
      "                      '_primary_term': 1,\n",
      "                      '_seq_no': 78,\n",
      "                      '_shards': {'failed': 0, 'successful': 1, 'total': 2},\n",
      "                      '_version': 1,\n",
      "                      'result': 'created',\n",
      "                      'status': 201}},\n",
      "           {'index': {'_id': 'U7_B4pMBXS9W6nXoyshH',\n",
      "                      '_index': 'my_index',\n",
      "                      '_primary_term': 1,\n",
      "                      '_seq_no': 79,\n",
      "                      '_shards': {'failed': 0, 'successful': 1, 'total': 2},\n",
      "                      '_version': 1,\n",
      "                      'result': 'created',\n",
      "                      'status': 201}},\n",
      "           {'index': {'_id': 'VL_B4pMBXS9W6nXoyshH',\n",
      "                      '_index': 'my_index',\n",
      "                      '_primary_term': 1,\n",
      "                      '_seq_no': 80,\n",
      "                      '_shards': {'failed': 0, 'successful': 1, 'total': 2},\n",
      "                      '_version': 1,\n",
      "                      'result': 'created',\n",
      "                      'status': 201}},\n",
      "           {'index': {'_id': 'Vb_B4pMBXS9W6nXoyshH',\n",
      "                      '_index': 'my_index',\n",
      "                      '_primary_term': 1,\n",
      "                      '_seq_no': 81,\n",
      "                      '_shards': {'failed': 0, 'successful': 1, 'total': 2},\n",
      "                      '_version': 1,\n",
      "                      'result': 'created',\n",
      "                      'status': 201}},\n",
      "           {'index': {'_id': 'Vr_B4pMBXS9W6nXoyshH',\n",
      "                      '_index': 'my_index',\n",
      "                      '_primary_term': 1,\n",
      "                      '_seq_no': 82,\n",
      "                      '_shards': {'failed': 0, 'successful': 1, 'total': 2},\n",
      "                      '_version': 1,\n",
      "                      'result': 'created',\n",
      "                      'status': 201}},\n",
      "           {'index': {'_id': 'V7_B4pMBXS9W6nXoyshH',\n",
      "                      '_index': 'my_index',\n",
      "                      '_primary_term': 1,\n",
      "                      '_seq_no': 83,\n",
      "                      '_shards': {'failed': 0, 'successful': 1, 'total': 2},\n",
      "                      '_version': 1,\n",
      "                      'result': 'created',\n",
      "                      'status': 201}},\n",
      "           {'index': {'_id': 'WL_B4pMBXS9W6nXoyshH',\n",
      "                      '_index': 'my_index',\n",
      "                      '_primary_term': 1,\n",
      "                      '_seq_no': 84,\n",
      "                      '_shards': {'failed': 0, 'successful': 1, 'total': 2},\n",
      "                      '_version': 1,\n",
      "                      'result': 'created',\n",
      "                      'status': 201}},\n",
      "           {'index': {'_id': 'Wb_B4pMBXS9W6nXoyshH',\n",
      "                      '_index': 'my_index',\n",
      "                      '_primary_term': 1,\n",
      "                      '_seq_no': 85,\n",
      "                      '_shards': {'failed': 0, 'successful': 1, 'total': 2},\n",
      "                      '_version': 1,\n",
      "                      'result': 'created',\n",
      "                      'status': 201}},\n",
      "           {'index': {'_id': 'Wr_B4pMBXS9W6nXoyshH',\n",
      "                      '_index': 'my_index',\n",
      "                      '_primary_term': 1,\n",
      "                      '_seq_no': 86,\n",
      "                      '_shards': {'failed': 0, 'successful': 1, 'total': 2},\n",
      "                      '_version': 1,\n",
      "                      'result': 'created',\n",
      "                      'status': 201}},\n",
      "           {'index': {'_id': 'W7_B4pMBXS9W6nXoyshH',\n",
      "                      '_index': 'my_index',\n",
      "                      '_primary_term': 1,\n",
      "                      '_seq_no': 87,\n",
      "                      '_shards': {'failed': 0, 'successful': 1, 'total': 2},\n",
      "                      '_version': 1,\n",
      "                      'result': 'created',\n",
      "                      'status': 201}},\n",
      "           {'index': {'_id': 'XL_B4pMBXS9W6nXoyshH',\n",
      "                      '_index': 'my_index',\n",
      "                      '_primary_term': 1,\n",
      "                      '_seq_no': 88,\n",
      "                      '_shards': {'failed': 0, 'successful': 1, 'total': 2},\n",
      "                      '_version': 1,\n",
      "                      'result': 'created',\n",
      "                      'status': 201}},\n",
      "           {'index': {'_id': 'Xb_B4pMBXS9W6nXoyshH',\n",
      "                      '_index': 'my_index',\n",
      "                      '_primary_term': 1,\n",
      "                      '_seq_no': 89,\n",
      "                      '_shards': {'failed': 0, 'successful': 1, 'total': 2},\n",
      "                      '_version': 1,\n",
      "                      'result': 'created',\n",
      "                      'status': 201}},\n",
      "           {'index': {'_id': 'Xr_B4pMBXS9W6nXoyshH',\n",
      "                      '_index': 'my_index',\n",
      "                      '_primary_term': 1,\n",
      "                      '_seq_no': 90,\n",
      "                      '_shards': {'failed': 0, 'successful': 1, 'total': 2},\n",
      "                      '_version': 1,\n",
      "                      'result': 'created',\n",
      "                      'status': 201}},\n",
      "           {'index': {'_id': 'X7_B4pMBXS9W6nXoyshH',\n",
      "                      '_index': 'my_index',\n",
      "                      '_primary_term': 1,\n",
      "                      '_seq_no': 91,\n",
      "                      '_shards': {'failed': 0, 'successful': 1, 'total': 2},\n",
      "                      '_version': 1,\n",
      "                      'result': 'created',\n",
      "                      'status': 201}},\n",
      "           {'index': {'_id': 'YL_B4pMBXS9W6nXoyshH',\n",
      "                      '_index': 'my_index',\n",
      "                      '_primary_term': 1,\n",
      "                      '_seq_no': 92,\n",
      "                      '_shards': {'failed': 0, 'successful': 1, 'total': 2},\n",
      "                      '_version': 1,\n",
      "                      'result': 'created',\n",
      "                      'status': 201}},\n",
      "           {'index': {'_id': 'Yb_B4pMBXS9W6nXoyshH',\n",
      "                      '_index': 'my_index',\n",
      "                      '_primary_term': 1,\n",
      "                      '_seq_no': 93,\n",
      "                      '_shards': {'failed': 0, 'successful': 1, 'total': 2},\n",
      "                      '_version': 1,\n",
      "                      'result': 'created',\n",
      "                      'status': 201}},\n",
      "           {'index': {'_id': 'Yr_B4pMBXS9W6nXoyshH',\n",
      "                      '_index': 'my_index',\n",
      "                      '_primary_term': 1,\n",
      "                      '_seq_no': 94,\n",
      "                      '_shards': {'failed': 0, 'successful': 1, 'total': 2},\n",
      "                      '_version': 1,\n",
      "                      'result': 'created',\n",
      "                      'status': 201}},\n",
      "           {'index': {'_id': 'Y7_B4pMBXS9W6nXoyshH',\n",
      "                      '_index': 'my_index',\n",
      "                      '_primary_term': 1,\n",
      "                      '_seq_no': 95,\n",
      "                      '_shards': {'failed': 0, 'successful': 1, 'total': 2},\n",
      "                      '_version': 1,\n",
      "                      'result': 'created',\n",
      "                      'status': 201}},\n",
      "           {'index': {'_id': 'ZL_B4pMBXS9W6nXoyshH',\n",
      "                      '_index': 'my_index',\n",
      "                      '_primary_term': 1,\n",
      "                      '_seq_no': 96,\n",
      "                      '_shards': {'failed': 0, 'successful': 1, 'total': 2},\n",
      "                      '_version': 1,\n",
      "                      'result': 'created',\n",
      "                      'status': 201}},\n",
      "           {'index': {'_id': 'Zb_B4pMBXS9W6nXoyshH',\n",
      "                      '_index': 'my_index',\n",
      "                      '_primary_term': 1,\n",
      "                      '_seq_no': 97,\n",
      "                      '_shards': {'failed': 0, 'successful': 1, 'total': 2},\n",
      "                      '_version': 1,\n",
      "                      'result': 'created',\n",
      "                      'status': 201}},\n",
      "           {'index': {'_id': 'Zr_B4pMBXS9W6nXoyshH',\n",
      "                      '_index': 'my_index',\n",
      "                      '_primary_term': 1,\n",
      "                      '_seq_no': 98,\n",
      "                      '_shards': {'failed': 0, 'successful': 1, 'total': 2},\n",
      "                      '_version': 1,\n",
      "                      'result': 'created',\n",
      "                      'status': 201}},\n",
      "           {'index': {'_id': 'Z7_B4pMBXS9W6nXoyshH',\n",
      "                      '_index': 'my_index',\n",
      "                      '_primary_term': 1,\n",
      "                      '_seq_no': 99,\n",
      "                      '_shards': {'failed': 0, 'successful': 1, 'total': 2},\n",
      "                      '_version': 1,\n",
      "                      'result': 'created',\n",
      "                      'status': 201}}],\n",
      " 'took': 1894415}\n"
     ]
    }
   ],
   "source": [
    "es.indices.delete(index=\"my_index\", ignore_unavailable=True)\n",
    "es.indices.create(index=\"my_index\")\n",
    "\n",
    "operations = []\n",
    "for document in clothes_documents:\n",
    "    operations.append({\"index\":{\"_index\":\"my_index\"}})\n",
    "    operations.append(document)\n",
    "\n",
    "response = es.bulk(operations=operations)\n",
    "pprint(response.body)"
   ]
  },
  {
   "cell_type": "code",
   "execution_count": 120,
   "metadata": {},
   "outputs": [
    {
     "name": "stdout",
     "output_type": "stream",
     "text": [
      "'Found 0 documents'\n"
     ]
    }
   ],
   "source": [
    "response = es.search(\n",
    "    index=\"my_index\",\n",
    "    body={\n",
    "        \"query\": {\n",
    "            \"bool\":{\n",
    "                \"filter\": [\n",
    "                    {\n",
    "                        \"term\":{\n",
    "                            \"brand\":\"gucci\"\n",
    "                        }\n",
    "                    }\n",
    "                ]\n",
    "            }\n",
    "        },\n",
    "        \"aggs\":{\n",
    "            \"colors\":{\n",
    "                \"terms\":{\n",
    "                    \"field\":\"color.keyword\"\n",
    "                }\n",
    "            },\n",
    "            \"color_red\":{\n",
    "                \"filter\":{\n",
    "                    \"term\":{\n",
    "                        \"color.keyword\": \"red\"\n",
    "                    }\n",
    "                },\n",
    "                \"aggs\":{\n",
    "                    \"models\":{\n",
    "                        \"terms\":{\n",
    "                            \"field\":\"model.keyword\"\n",
    "                        }\n",
    "                    }\n",
    "                }\n",
    "            }\n",
    "        },\n",
    "        \"post_filter\":{\n",
    "            \"term\":{\n",
    "                \"color\":\"red\"\n",
    "            }\n",
    "        },\n",
    "        \"size\":20\n",
    "    }\n",
    ")\n",
    "\n",
    "hits = response.body['hits']['hits']\n",
    "pprint(f\"Found {len(hits)} documents\")"
   ]
  },
  {
   "cell_type": "code",
   "execution_count": 121,
   "metadata": {},
   "outputs": [
    {
     "data": {
      "text/plain": [
       "[]"
      ]
     },
     "execution_count": 121,
     "metadata": {},
     "output_type": "execute_result"
    }
   ],
   "source": [
    "response.body['aggregations']['color_red']['models']['buckets']"
   ]
  },
  {
   "cell_type": "code",
   "execution_count": 122,
   "metadata": {},
   "outputs": [
    {
     "data": {
      "text/plain": [
       "[]"
      ]
     },
     "execution_count": 122,
     "metadata": {},
     "output_type": "execute_result"
    }
   ],
   "source": [
    "response.body['aggregations']['colors']['buckets']"
   ]
  },
  {
   "cell_type": "code",
   "execution_count": 123,
   "metadata": {},
   "outputs": [],
   "source": [
    "query = {\n",
    "    \"query\": \"SELECT model FROM my_index ORDER BY brand LIMIT 5\"\n",
    "}\n",
    "\n",
    "response = es.sql.query(body=query)\n",
    "for row in response['rows']:\n",
    "    print(row)"
   ]
  },
  {
   "cell_type": "code",
   "execution_count": 124,
   "metadata": {},
   "outputs": [
    {
     "name": "stdout",
     "output_type": "stream",
     "text": [
      "('     brand     |     color     |     model     \\n'\n",
      " '---------------+---------------+---------------\\n')\n"
     ]
    }
   ],
   "source": [
    "query = {\n",
    "    \"query\": \"SELECT * FROM my_index\"\n",
    "}\n",
    "\n",
    "response = es.sql.query(body=query, format=\"txt\")\n",
    "pprint(response.body)"
   ]
  },
  {
   "cell_type": "code",
   "execution_count": 125,
   "metadata": {},
   "outputs": [
    {
     "name": "stdout",
     "output_type": "stream",
     "text": [
      "('     brand     |     color     |     model     \\n'\n",
      " '---------------+---------------+---------------\\n')\n"
     ]
    }
   ],
   "source": [
    "query = {\n",
    "    \"query\": \"SELECT * FROM my_index ORDER BY color DESC LIMIT 5\",\n",
    "    \"filter\":{\n",
    "        \"term\": {\"brand.keyword\": \"gucci\"}\n",
    "    }\n",
    "}\n",
    "\n",
    "response = es.sql.query(\n",
    "    body=query,\n",
    "    format=\"txt\",\n",
    "    \n",
    ")\n",
    "pprint(response.body)"
   ]
  },
  {
   "cell_type": "code",
   "execution_count": 126,
   "metadata": {},
   "outputs": [
    {
     "name": "stdout",
     "output_type": "stream",
     "text": [
      "{'_source': False,\n",
      " 'fields': [{'field': 'brand'}, {'field': 'color'}, {'field': 'model'}],\n",
      " 'query': {'wildcard': {'color.keyword': {'boost': 1.0, 'wildcard': '*red*'}}},\n",
      " 'size': 10,\n",
      " 'sort': [{'brand.keyword': {'missing': '_first',\n",
      "                             'order': 'desc',\n",
      "                             'unmapped_type': 'keyword'}}],\n",
      " 'track_total_hits': -1}\n"
     ]
    }
   ],
   "source": [
    "translate_query = {\n",
    "    \"query\": \"SELECT * FROM my_index WHERE color LIKE '%red%' ORDER BY brand DESC LIMIT 10\",\n",
    "}\n",
    "\n",
    "translate_query = es.sql.translate(body=translate_query)\n",
    "pprint(translate_query.body)"
   ]
  },
  {
   "cell_type": "code",
   "execution_count": 127,
   "metadata": {},
   "outputs": [
    {
     "name": "stdout",
     "output_type": "stream",
     "text": [
      "{'acknowledged': True}\n"
     ]
    }
   ],
   "source": [
    "policy = {\n",
    "    \"phases\":{\n",
    "        \"hot\":{\n",
    "            \"actions\":{\n",
    "                \"rollover\":{\n",
    "                    \"max_age\":\"5m\"\n",
    "                }\n",
    "            }\n",
    "        },\n",
    "        \"delete\":{\n",
    "            \"min_age\":\"20m\",\n",
    "            \"actions\":{\n",
    "                \"delete\":{}\n",
    "            }\n",
    "        }\n",
    "    }\n",
    "}\n",
    "\n",
    "response = es.ilm.put_lifecycle(name=\"cpu_usage_policy_2\", policy=policy)\n",
    "print(response.body)"
   ]
  },
  {
   "cell_type": "code",
   "execution_count": 128,
   "metadata": {},
   "outputs": [
    {
     "data": {
      "text/plain": [
       "ObjectApiResponse({'acknowledged': True, 'shards_acknowledged': True, 'index': 'cpu_usage_template'})"
      ]
     },
     "execution_count": 128,
     "metadata": {},
     "output_type": "execute_result"
    }
   ],
   "source": [
    "es.indices.delete(index=\"cpu_usage_template\",ignore_unavailable=True)\n",
    "es.indices.create(index=\"cpu_usage_template\")"
   ]
  },
  {
   "cell_type": "code",
   "execution_count": 129,
   "metadata": {},
   "outputs": [
    {
     "name": "stdout",
     "output_type": "stream",
     "text": [
      "{'acknowledged': True}\n"
     ]
    }
   ],
   "source": [
    "es.indices.delete_index_template(name=\"cpu_usage_template\")\n",
    "response = es.indices.put_index_template(\n",
    "    name=\"cpu_usage_template\",\n",
    "    index_patterns=[\n",
    "        \"cpu_example_template*\",\n",
    "    ],\n",
    "    data_stream={},\n",
    "    template={\n",
    "        \"settings\": {\n",
    "            \"index.mode\":\"time_series\",\n",
    "            \"index.lifecycle.name\": \"cpu_usage_policy_2\"\n",
    "        },\n",
    "        \"mappings\": {\n",
    "            \"properties\": {\n",
    "                \"@timestamp\":{\n",
    "                    \"type\":\"date\"\n",
    "                },\n",
    "                \"cpu_usage\":{\n",
    "                    \"type\":\"float\",\n",
    "                    \"time_series_metric\": \"gauge\"\n",
    "                },\n",
    "                \"cpu_name\":{\n",
    "                    \"type\":\"keyword\",\n",
    "                    \"time_series_dimension\": True\n",
    "                }\n",
    "            }\n",
    "        }\n",
    "    },\n",
    "    priority=200,\n",
    "    meta={\n",
    "        \"description\": \"Template for CPU usage data\"\n",
    "    },\n",
    "    allow_auto_create=True\n",
    ")\n",
    "pprint(response.body)"
   ]
  },
  {
   "cell_type": "code",
   "execution_count": 130,
   "metadata": {},
   "outputs": [
    {
     "name": "stdout",
     "output_type": "stream",
     "text": [
      "{'_shards': {'failed': 0, 'skipped': 0, 'successful': 1, 'total': 1},\n",
      " 'count': 0}\n"
     ]
    }
   ],
   "source": [
    "count = es.count(index=\"cpu_usage_template\")\n",
    "pprint(count.body)"
   ]
  },
  {
   "cell_type": "code",
   "execution_count": 131,
   "metadata": {},
   "outputs": [],
   "source": [
    "response = es.search(\n",
    "    index=\"cpu_example_template\",\n",
    "    body={\n",
    "        \"query\": {\n",
    "            \"match_all\": {}\n",
    "        },\n",
    "        \"size\":1000\n",
    "    }\n",
    ")\n",
    "\n",
    "hits = response.body['hits']['hits']"
   ]
  },
  {
   "cell_type": "code",
   "execution_count": 132,
   "metadata": {},
   "outputs": [
    {
     "data": {
      "image/png": "[encoded data removed]",
      "text/plain": [
       "<Figure size 1200x600 with 1 Axes>"
      ]
     },
     "metadata": {},
     "output_type": "display_data"
    }
   ],
   "source": [
    "import matplotlib.pyplot as plt\n",
    "\n",
    "cpu_usage_values = [hit[\"_source\"][\"cpu_usage\"] for hit in hits]\n",
    "timestamp_values = [hit[\"_source\"][\"@timestamp\"] for hit in hits]\n",
    "\n",
    "plt.figure(figsize=(12,6))\n",
    "plt.plot(timestamp_values, cpu_usage_values)\n",
    "plt.xticks([])\n",
    "plt.xlabel(\"Timestamp\")\n",
    "plt.ylabel(\"CPU Usage (%)\")\n",
    "plt.title(\"CPU Usage Over Time\")\n",
    "plt.grid(True)\n",
    "plt.show()"
   ]
  },
  {
   "cell_type": "code",
   "execution_count": 133,
   "metadata": {},
   "outputs": [
    {
     "name": "stdout",
     "output_type": "stream",
     "text": [
      "'Average CPU usage: 4.650533107353776%'\n"
     ]
    }
   ],
   "source": [
    "response = es.search(\n",
    "    index=\"cpu_example_templates\",\n",
    "    body={\n",
    "        \"aggs\":{\n",
    "            \"avg_cpu_usage\":{\n",
    "                \"avg\": {\n",
    "                    \"field\": \"cpu_usage\"\n",
    "                }\n",
    "            }\n",
    "        }\n",
    "    }\n",
    ")\n",
    "\n",
    "pprint(f\"Average CPU usage: {response.body['aggregations']['avg_cpu_usage']['value']}%\")"
   ]
  },
  {
   "cell_type": "code",
   "execution_count": 134,
   "metadata": {},
   "outputs": [
    {
     "name": "stdout",
     "output_type": "stream",
     "text": [
      "'Max time CPU usage: Nones'\n"
     ]
    }
   ],
   "source": [
    "response = es.search(\n",
    "    index=\"cpu_example_template\",\n",
    "    body={\n",
    "        \"aggs\":{\n",
    "            \"max_cpu_usage\":{\n",
    "                \"max\": {\n",
    "                    \"field\": \"cpu_usage\"\n",
    "                }\n",
    "            }\n",
    "        }\n",
    "    }\n",
    ")\n",
    "\n",
    "pprint(f\"Max time CPU usage: {response.body['aggregations']['max_cpu_usage']['value']}s\")"
   ]
  },
  {
   "cell_type": "code",
   "execution_count": 135,
   "metadata": {},
   "outputs": [
    {
     "name": "stdout",
     "output_type": "stream",
     "text": [
      "{'data_streams': [{'_meta': {'description': 'Template for CPU usage data'},\n",
      "                   'allow_custom_routing': False,\n",
      "                   'generation': 1,\n",
      "                   'hidden': False,\n",
      "                   'ilm_policy': 'cpu_usage_policy_2',\n",
      "                   'indices': [{'ilm_policy': 'cpu_usage_policy_2',\n",
      "                                'index_name': '.ds-cpu_example_template-2024.12.19-000001',\n",
      "                                'index_uuid': '5Hy2wUsdQsKbQKxyTUzXWA',\n",
      "                                'managed_by': 'Index Lifecycle Management',\n",
      "                                'prefer_ilm': True}],\n",
      "                   'name': 'cpu_example_template',\n",
      "                   'next_generation_managed_by': 'Index Lifecycle Management',\n",
      "                   'prefer_ilm': True,\n",
      "                   'replicated': False,\n",
      "                   'rollover_on_write': False,\n",
      "                   'status': 'YELLOW',\n",
      "                   'system': False,\n",
      "                   'template': 'cpu_example_template',\n",
      "                   'time_series': {'temporal_ranges': [{'end': '2024-12-19T17:55:16.000Z',\n",
      "                                                        'start': '2024-12-19T09:11:17.000Z'}]},\n",
      "                   'timestamp_field': {'name': '@timestamp'}}]}\n"
     ]
    }
   ],
   "source": [
    "response = es.indices.get_data_stream()\n",
    "pprint(response.body)"
   ]
  },
  {
   "cell_type": "code",
   "execution_count": 136,
   "metadata": {},
   "outputs": [
    {
     "name": "stdout",
     "output_type": "stream",
     "text": [
      "{'cpu_usage_policy_2': {'in_use_by': {'composable_templates': ['cpu_usage_template',\n",
      "                                                               'cpu_example_template'],\n",
      "                                      'data_streams': ['cpu_example_template'],\n",
      "                                      'indices': ['.ds-cpu_example_template-2024.12.19-000001']},\n",
      "                        'modified_date': '2024-12-19T08:14:10.820Z',\n",
      "                        'policy': {'phases': {'delete': {'actions': {'delete': {'delete_searchable_snapshot': True}},\n",
      "                                                         'min_age': '20m'},\n",
      "                                              'hot': {'actions': {'rollover': {'max_age': '5m'}},\n",
      "                                                      'min_age': '0ms'}}},\n",
      "                        'version': 1}}\n"
     ]
    }
   ],
   "source": [
    "ilm_status = es.ilm.get_lifecycle(name=\"cpu_usage_policy_2\")\n",
    "pprint(ilm_status.body)"
   ]
  },
  {
   "cell_type": "code",
   "execution_count": 137,
   "metadata": {},
   "outputs": [
    {
     "name": "stdout",
     "output_type": "stream",
     "text": [
      "{'indices': {'.ds-cpu_example_template-2024.12.19-000001': {'action': 'rollover',\n",
      "                                                            'action_time_millis': 1734606678257,\n",
      "                                                            'age': '19.3h',\n",
      "                                                            'index': '.ds-cpu_example_template-2024.12.19-000001',\n",
      "                                                            'index_creation_date_millis': 1734606677581,\n",
      "                                                            'lifecycle_date_millis': 1734606677581,\n",
      "                                                            'managed': True,\n",
      "                                                            'phase': 'hot',\n",
      "                                                            'phase_execution': {'modified_date_in_millis': 1734596050820,\n",
      "                                                                                'phase_definition': {'actions': {'rollover': {'max_age': '5m',\n",
      "                                                                                                                              'max_primary_shard_docs': 200000000,\n",
      "                                                                                                                              'min_docs': 1}},\n",
      "                                                                                                     'min_age': '0ms'},\n",
      "                                                                                'policy': 'cpu_usage_policy_2',\n",
      "                                                                                'version': 1},\n",
      "                                                            'phase_time_millis': 1734606678257,\n",
      "                                                            'policy': 'cpu_usage_policy_2',\n",
      "                                                            'step': 'check-rollover-ready',\n",
      "                                                            'step_time_millis': 1734606678257,\n",
      "                                                            'time_since_index_creation': '19.3h'}}}\n"
     ]
    }
   ],
   "source": [
    "response = es.ilm.explain_lifecycle(\n",
    "    index=\".ds-cpu_example_template-2024.12.19-000001\"\n",
    ")\n",
    "pprint(response.body)"
   ]
  },
  {
   "cell_type": "code",
   "execution_count": 138,
   "metadata": {},
   "outputs": [
    {
     "name": "stdout",
     "output_type": "stream",
     "text": [
      "{'tokens': [{'end_offset': 25,\n",
      "             'position': 0,\n",
      "             'start_offset': 0,\n",
      "             'token': \"I'm so happy</>!\\n\",\n",
      "             'type': 'word'}]}\n"
     ]
    }
   ],
   "source": [
    "response = es.indices.analyze(\n",
    "    char_filter=[\n",
    "        \"html_strip\"\n",
    "    ],\n",
    "    text=\"I&apos;m so happy</>!</p>\"\n",
    " )\n",
    "\n",
    "pprint(response.body)"
   ]
  },
  {
   "cell_type": "code",
   "execution_count": 139,
   "metadata": {},
   "outputs": [
    {
     "name": "stdout",
     "output_type": "stream",
     "text": [
      "{'tokens': [{'end_offset': 37,\n",
      "             'position': 0,\n",
      "             'start_offset': 0,\n",
      "             'token': 'I saw comet Tsuchinshan Atlas in 2024',\n",
      "             'type': 'word'}]}\n"
     ]
    }
   ],
   "source": [
    "response = es.indices.analyze(\n",
    "    tokenizer=\"keyword\",\n",
    "    char_filter=[\n",
    "        {\n",
    "            \"type\": \"mapping\",\n",
    "            \"mappings\": [\n",
    "                \"٠ => 0\",\n",
    "                \"١ => 1\",\n",
    "                \"٢ => 2\",\n",
    "                \"٣ => 3\",\n",
    "                \"٤ => 4\",\n",
    "                \"٥ => 5\",\n",
    "                \"٦ => 6\",\n",
    "                \"٧ => 7\",\n",
    "                \"٨ => 8\",\n",
    "                \"٩ => 9\"\n",
    "            ]\n",
    "        }\n",
    "    ],\n",
    "    text=\"I saw comet Tsuchinshan Atlas in ٢٠٢٤\",\n",
    ")\n",
    "pprint(response.body)"
   ]
  },
  {
   "cell_type": "code",
   "execution_count": 140,
   "metadata": {},
   "outputs": [
    {
     "name": "stdout",
     "output_type": "stream",
     "text": [
      "Token: the, Type: word\n",
      "Token: quick, Type: word\n",
      "Token: brown, Type: word\n",
      "Token: foxes, Type: word\n",
      "Token: jumped, Type: word\n",
      "Token: over, Type: word\n",
      "Token: the, Type: word\n",
      "Token: lazy, Type: word\n",
      "Token: dog, Type: word\n",
      "Token: s, Type: word\n"
     ]
    }
   ],
   "source": [
    "response = es.indices.analyze(\n",
    "    tokenizer=\"lowercase\",\n",
    "    text=\"The 2 QUICK Brown-Foxes jumped over the 3 lazy dog's\",\n",
    ")\n",
    "\n",
    "tokens = response.body[\"tokens\"]\n",
    "for token in tokens:\n",
    "    print(f\"Token: {token['token']}, Type: {token['type']}\")"
   ]
  },
  {
   "cell_type": "code",
   "execution_count": 141,
   "metadata": {},
   "outputs": [
    {
     "name": "stdout",
     "output_type": "stream",
     "text": [
      "Token: The, Type: <ALPHANUM>\n",
      "Token: 2, Type: <NUM>\n",
      "Token: QUICK, Type: <ALPHANUM>\n",
      "Token: Brown, Type: <ALPHANUM>\n",
      "Token: Foxes, Type: <ALPHANUM>\n",
      "Token: jumped, Type: <ALPHANUM>\n",
      "Token: over, Type: <ALPHANUM>\n",
      "Token: the, Type: <ALPHANUM>\n",
      "Token: 3, Type: <NUM>\n",
      "Token: lazy, Type: <ALPHANUM>\n",
      "Token: dog, Type: <ALPHANUM>\n"
     ]
    }
   ],
   "source": [
    "response = es.indices.analyze(\n",
    "    tokenizer=\"standard\",\n",
    "    filter=[\"apostrophe\"],\n",
    "    text=\"The 2 QUICK Brown-Foxes jumped over the 3 lazy dog's\",\n",
    ")\n",
    "\n",
    "tokens = response.body[\"tokens\"]\n",
    "for token in tokens:\n",
    "    print(f\"Token: {token['token']}, Type: {token['type']}\")"
   ]
  },
  {
   "cell_type": "code",
   "execution_count": 142,
   "metadata": {},
   "outputs": [
    {
     "name": "stdout",
     "output_type": "stream",
     "text": [
      "Token: I\n",
      "Token: saw\n",
      "Token: comet\n",
      "Token: Tsuchinshan\n",
      "Token: Atlas\n",
      "Token: in\n",
      "Token: 2024\n"
     ]
    }
   ],
   "source": [
    "response = es.indices.analyze(\n",
    "    tokenizer=\"standard\",\n",
    "    filter=[\n",
    "        \"decimal_digit\"\n",
    "    ],\n",
    "    text=\"I saw comet Tsuchinshan Atlas in ٢٠٢٤\"\n",
    ")\n",
    "\n",
    "tokens = response.body['tokens']\n",
    "\n",
    "for token in tokens:\n",
    "    print(f\"Token: {token['token']}\")"
   ]
  },
  {
   "cell_type": "code",
   "execution_count": 143,
   "metadata": {},
   "outputs": [
    {
     "name": "stdout",
     "output_type": "stream",
     "text": [
      "Token: i\n",
      "Token: saw\n",
      "Token: comet\n",
      "Token: tsuchinshan\n",
      "Token: atlas\n",
      "Token: in\n",
      "Token: ٢٠٢٤\n"
     ]
    }
   ],
   "source": [
    "response = es.indices.analyze(\n",
    "    analyzer=\"standard\",\n",
    "    text=\"I saw comet Tsuchinshan Atlas in ٢٠٢٤\",\n",
    "\n",
    ")\n",
    "\n",
    "tokens = response.body['tokens']\n",
    "for token in tokens:\n",
    "    print(f\"Token: {token['token']}\")"
   ]
  },
  {
   "cell_type": "code",
   "execution_count": 144,
   "metadata": {},
   "outputs": [
    {
     "name": "stdout",
     "output_type": "stream",
     "text": [
      "Token: i\n",
      "Token: saw\n",
      "Token: comet\n",
      "Token: tsuchinshan\n",
      "Token: atlas\n"
     ]
    }
   ],
   "source": [
    "response = es.indices.analyze(\n",
    "    analyzer=\"stop\",\n",
    "    text=\"I saw comet Tsuchinshan Atlas in ٢٠٢٤\",\n",
    "\n",
    ")\n",
    "\n",
    "tokens = response.body['tokens']\n",
    "for token in tokens:\n",
    "    print(f\"Token: {token['token']}\")"
   ]
  },
  {
   "cell_type": "code",
   "execution_count": 145,
   "metadata": {},
   "outputs": [
    {
     "name": "stdout",
     "output_type": "stream",
     "text": [
      "Token : I saw comet Tsuchinshan Atlas in ٢٠٢٤\n"
     ]
    }
   ],
   "source": [
    "response = es.indices.analyze(\n",
    "    analyzer=\"keyword\",\n",
    "    text=\"I saw comet Tsuchinshan Atlas in ٢٠٢٤\"\n",
    ")\n",
    "\n",
    "tokens = response.body['tokens']\n",
    "for token in tokens:\n",
    "    print(f\"Token : {token['token']}\")"
   ]
  },
  {
   "cell_type": "code",
   "execution_count": 146,
   "metadata": {},
   "outputs": [
    {
     "name": "stdout",
     "output_type": "stream",
     "text": [
      "{'_id': '1',\n",
      " '_index': 'index_time_example',\n",
      " '_primary_term': 1,\n",
      " '_seq_no': 0,\n",
      " '_shards': {'failed': 0, 'successful': 1, 'total': 2},\n",
      " '_version': 1,\n",
      " 'result': 'created'}\n"
     ]
    }
   ],
   "source": [
    "index_name = \"index_time_example\"\n",
    "settings = {\n",
    "    \"settings\":{\n",
    "        \"analysis\":{\n",
    "            \"char_filter\":{\n",
    "                \"ampersand_replacement\":{\n",
    "                    \"type\":\"mapping\",\n",
    "                    \"mappings\":[\"& => and\"]\n",
    "                }\n",
    "            },\n",
    "            \"analyzer\":{\n",
    "                \"custom_index_analyzer\":{\n",
    "                    \"type\":\"custom\",\n",
    "                    \"char_filter\":[\"html_strip\",\"ampersand_replacement\"],\n",
    "                    \"tokenizer\":\"standard\",\n",
    "                    \"filter\":[\"lowercase\"]\n",
    "                }\n",
    "            }\n",
    "        }\n",
    "    },\n",
    "    \"mappings\":{\n",
    "        \"properties\":{\n",
    "            \"content\":{\n",
    "                \"type\":\"text\",\n",
    "                \"analyzer\":\"custom_index_analyzer\"\n",
    "            }\n",
    "        }\n",
    "    }\n",
    "}\n",
    "\n",
    "es.indices.delete(index=index_name,ignore_unavailable=True)\n",
    "es.indices.create(index=index_name,body=settings)\n",
    "\n",
    "document = {\n",
    "    \"content\": \"Visit my website https://myuniversehub.com/ & like some images!\"\n",
    "}\n",
    "\n",
    "response = es.index(index=index_name, id=1, document=document)\n",
    "pprint(response.body)"
   ]
  },
  {
   "cell_type": "code",
   "execution_count": 147,
   "metadata": {},
   "outputs": [],
   "source": [
    "response = es.search(index=index_name, body={\"query\": {\"match_all\": {}}})\n",
    "hits = response.body['hits']['hits']\n",
    "\n",
    "for hit in hits:\n",
    "    print(hit['_source'])"
   ]
  },
  {
   "cell_type": "code",
   "execution_count": 148,
   "metadata": {},
   "outputs": [
    {
     "name": "stdout",
     "output_type": "stream",
     "text": [
      "Token: visit\n",
      "Token: my\n",
      "Token: website\n",
      "Token: https\n",
      "Token: myuniversehub.com\n",
      "Token: and\n",
      "Token: like\n",
      "Token: some\n",
      "Token: images\n"
     ]
    }
   ],
   "source": [
    "response = es.indices.analyze(\n",
    "    index=index_name,\n",
    "    body={\n",
    "        \"field\":\"content\",\n",
    "        \"text\":\"Visit my website https://myuniversehub.com/ & like some images!\"\n",
    "    }\n",
    ")\n",
    "\n",
    "tokens = response.body['tokens']\n",
    "for token in tokens:\n",
    "    print(f\"Token: {token['token']}\")"
   ]
  },
  {
   "cell_type": "code",
   "execution_count": 149,
   "metadata": {},
   "outputs": [
    {
     "name": "stdout",
     "output_type": "stream",
     "text": [
      "{'content': 'Visit my website https://myuniversehub.com/ & like some images!'}\n"
     ]
    }
   ],
   "source": [
    "response = es.search(index=index_name, body={\n",
    "    \"query\":{\n",
    "        \"match\": {\n",
    "            \"content\":{\n",
    "                \"query\":\"myuniversehub.com\",\n",
    "                \"analyzer\":\"standard\" \n",
    "            }\n",
    "        }\n",
    "    }\n",
    "})\n",
    "\n",
    "hits = response[\"hits\"][\"hits\"]\n",
    "for hit in hits:\n",
    "    print(hit[\"_source\"])"
   ]
  },
  {
   "cell_type": "code",
   "execution_count": 152,
   "metadata": {},
   "outputs": [
    {
     "name": "stdout",
     "output_type": "stream",
     "text": [
      "{'content': 'Visit my website https://myuniversehub.com/ & like some images!'}\n"
     ]
    }
   ],
   "source": [
    "response = es.search(index=index_name, body={\n",
    "    \"query\":{\n",
    "        \"term\": {\n",
    "            \"content\":{\n",
    "                \"value\":\"myuniversehub.com\",\n",
    "            }\n",
    "        }\n",
    "    }\n",
    "})\n",
    "\n",
    "hits = response[\"hits\"][\"hits\"]\n",
    "for hit in hits:\n",
    "    print(hit[\"_source\"])"
   ]
  },
  {
   "cell_type": "code",
   "execution_count": 153,
   "metadata": {},
   "outputs": [
    {
     "data": {
      "text/plain": [
       "ObjectApiResponse({'acknowledged': True, 'shards_acknowledged': True, 'index': 'my_synonym_index'})"
      ]
     },
     "execution_count": 153,
     "metadata": {},
     "output_type": "execute_result"
    }
   ],
   "source": [
    "from pprint import pprint\n",
    "\n",
    "\n",
    "settings = {\n",
    "    \"settings\": {\n",
    "        \"analysis\": {\n",
    "            \"filter\": {\n",
    "                \"synonym_filter\": {\n",
    "                    \"type\": \"synonym\",\n",
    "                    \"synonyms\": [\n",
    "                        \"car, automobile, vehicle\",\n",
    "                        \"tv, television\",\n",
    "                        \"smartphone, mobile, cell phone\",\n",
    "                        \"jupyter, jupyter notebook, jupyterlab\",\n",
    "                        \"jupiter, mars, earth, venus, mercury, saturn, uranus, neptune => planet\"\n",
    "                    ]\n",
    "                }\n",
    "            },\n",
    "            \"analyzer\": {\n",
    "                \"synonym_analyzer\": {\n",
    "                    \"tokenizer\": \"standard\",\n",
    "                    \"filter\": [\n",
    "                        \"lowercase\",\n",
    "                        \"synonym_filter\"\n",
    "                    ]\n",
    "                }\n",
    "            }\n",
    "        }\n",
    "    },\n",
    "    \"mappings\": {\n",
    "        \"properties\": {\n",
    "            \"description\": {\n",
    "                \"type\": \"text\",\n",
    "                \"analyzer\": \"synonym_analyzer\"\n",
    "            }\n",
    "        }\n",
    "    }\n",
    "}\n",
    "\n",
    "index_name = \"my_synonym_index\"\n",
    "es.indices.delete(index=index_name,ignore_unavailable=True)\n",
    "es.indices.create(index=index_name, body=settings)"
   ]
  },
  {
   "cell_type": "code",
   "execution_count": 154,
   "metadata": {},
   "outputs": [],
   "source": [
    "dummy_data=[\n",
    "  {\n",
    "    \"description\": \"I love my car and television.\"\n",
    "  },\n",
    "  {\n",
    "    \"description\": \"My smartphone is amazing.\"\n",
    "  },\n",
    "  {\n",
    "    \"description\": \"I love working with Jupyter notebooks.\"\n",
    "  },\n",
    "  {\n",
    "    \"description\": \"I want to go to Mars.\"\n",
    "  },\n",
    "  {\n",
    "    \"description\": \"I want to go to Venus.\"\n",
    "  }\n",
    "]"
   ]
  },
  {
   "cell_type": "code",
   "execution_count": 155,
   "metadata": {},
   "outputs": [
    {
     "name": "stderr",
     "output_type": "stream",
     "text": [
      "100%|██████████| 5/5 [00:00<00:00, 58254.22it/s]"
     ]
    },
    {
     "name": "stdout",
     "output_type": "stream",
     "text": [
      "{'errors': False,\n",
      " 'items': [{'index': {'_id': 'aL_t4pMBXS9W6nXojcjy',\n",
      "                      '_index': 'my_synonym_index',\n",
      "                      '_primary_term': 1,\n",
      "                      '_seq_no': 0,\n",
      "                      '_shards': {'failed': 0, 'successful': 1, 'total': 2},\n",
      "                      '_version': 1,\n",
      "                      'result': 'created',\n",
      "                      'status': 201}},\n",
      "           {'index': {'_id': 'ab_t4pMBXS9W6nXojcjy',\n",
      "                      '_index': 'my_synonym_index',\n",
      "                      '_primary_term': 1,\n",
      "                      '_seq_no': 1,\n",
      "                      '_shards': {'failed': 0, 'successful': 1, 'total': 2},\n",
      "                      '_version': 1,\n",
      "                      'result': 'created',\n",
      "                      'status': 201}},\n",
      "           {'index': {'_id': 'ar_t4pMBXS9W6nXojcjy',\n",
      "                      '_index': 'my_synonym_index',\n",
      "                      '_primary_term': 1,\n",
      "                      '_seq_no': 2,\n",
      "                      '_shards': {'failed': 0, 'successful': 1, 'total': 2},\n",
      "                      '_version': 1,\n",
      "                      'result': 'created',\n",
      "                      'status': 201}},\n",
      "           {'index': {'_id': 'a7_t4pMBXS9W6nXojcjy',\n",
      "                      '_index': 'my_synonym_index',\n",
      "                      '_primary_term': 1,\n",
      "                      '_seq_no': 3,\n",
      "                      '_shards': {'failed': 0, 'successful': 1, 'total': 2},\n",
      "                      '_version': 1,\n",
      "                      'result': 'created',\n",
      "                      'status': 201}},\n",
      "           {'index': {'_id': 'bL_t4pMBXS9W6nXojcjy',\n",
      "                      '_index': 'my_synonym_index',\n",
      "                      '_primary_term': 1,\n",
      "                      '_seq_no': 4,\n",
      "                      '_shards': {'failed': 0, 'successful': 1, 'total': 2},\n",
      "                      '_version': 1,\n",
      "                      'result': 'created',\n",
      "                      'status': 201}}],\n",
      " 'took': 4762497}\n"
     ]
    },
    {
     "name": "stderr",
     "output_type": "stream",
     "text": [
      "\n"
     ]
    }
   ],
   "source": [
    "operations=[]\n",
    "for document in tqdm(dummy_data, total=len(dummy_data)):\n",
    "    operations.append({\"index\":{\"_index\":index_name}})\n",
    "    operations.append(document)\n",
    "\n",
    "response = es.bulk(operations=operations)\n",
    "pprint(response.body)"
   ]
  },
  {
   "cell_type": "code",
   "execution_count": 156,
   "metadata": {},
   "outputs": [
    {
     "name": "stdout",
     "output_type": "stream",
     "text": [
      "{'description': 'I want to go to Mars.'}\n",
      "{'description': 'I want to go to Venus.'}\n"
     ]
    }
   ],
   "source": [
    "response = es.search(index=index_name,body={\n",
    "    \"query\":{\n",
    "        \"match\":{\n",
    "            \"description\":\"planet\"\n",
    "        }\n",
    "    }\n",
    "})\n",
    "\n",
    "for hit in response['hits']['hits']:\n",
    "    print(hit['_source'])"
   ]
  },
  {
   "cell_type": "code",
   "execution_count": 157,
   "metadata": {},
   "outputs": [
    {
     "data": {
      "text/plain": [
       "ObjectApiResponse({'acknowledged': True, 'shards_acknowledged': True, 'index': 'my_synonym_index'})"
      ]
     },
     "execution_count": 157,
     "metadata": {},
     "output_type": "execute_result"
    }
   ],
   "source": [
    "settings = {\n",
    "    \"settings\": {\n",
    "        \"analysis\": {\n",
    "            \"filter\": {\n",
    "                \"synonym_filter\": {\n",
    "                    \"type\": \"synonym\",\n",
    "                    \"synonyms\": [\n",
    "                        \"car, automobile, vehicle\",\n",
    "                        \"tv, television\",\n",
    "                        \"smartphone, mobile, cell phone\",\n",
    "                        \"jupyter, jupyter notebook, jupyterlab\",\n",
    "                        \"jupiter, mars, earth, venus, mercury, saturn, uranus, neptune => planet\"\n",
    "                    ]\n",
    "                }\n",
    "            },\n",
    "            \"analyzer\": {\n",
    "                \"index_analyzer\": {\n",
    "                    \"tokenizer\": \"standard\",\n",
    "                    \"filter\": [\n",
    "                        \"lowercase\"\n",
    "                    ]\n",
    "                },\n",
    "                \"search_analyzer\":{\n",
    "                    \"tokenizer\":\"standard\",\n",
    "                    \"filter\": [\"lowercase\", \"synonym_filter\"]\n",
    "                }\n",
    "            }\n",
    "        }\n",
    "    },\n",
    "    \"mappings\": {\n",
    "        \"properties\": {\n",
    "            \"description\": {\n",
    "                \"type\": \"text\",\n",
    "                \"analyzer\": \"index_analyzer\",\n",
    "                \"search_analyzer\":\"search_analyzer\"\n",
    "            }\n",
    "        }\n",
    "    }\n",
    "}\n",
    "\n",
    "es.indices.delete(index=index_name, ignore_unavailable=True)\n",
    "es.indices.create(index=index_name, body=settings)\n"
   ]
  },
  {
   "cell_type": "code",
   "execution_count": 159,
   "metadata": {},
   "outputs": [
    {
     "name": "stdout",
     "output_type": "stream",
     "text": [
      "{'errors': False,\n",
      " 'items': [{'index': {'_id': 'cr8D45MBXS9W6nXo8Mgh',\n",
      "                      '_index': 'my_synonym_index',\n",
      "                      '_primary_term': 1,\n",
      "                      '_seq_no': 5,\n",
      "                      '_shards': {'failed': 0, 'successful': 1, 'total': 2},\n",
      "                      '_version': 1,\n",
      "                      'result': 'created',\n",
      "                      'status': 201}},\n",
      "           {'index': {'_id': 'c78D45MBXS9W6nXo8Mgi',\n",
      "                      '_index': 'my_synonym_index',\n",
      "                      '_primary_term': 1,\n",
      "                      '_seq_no': 6,\n",
      "                      '_shards': {'failed': 0, 'successful': 1, 'total': 2},\n",
      "                      '_version': 1,\n",
      "                      'result': 'created',\n",
      "                      'status': 201}},\n",
      "           {'index': {'_id': 'dL8D45MBXS9W6nXo8Mgi',\n",
      "                      '_index': 'my_synonym_index',\n",
      "                      '_primary_term': 1,\n",
      "                      '_seq_no': 7,\n",
      "                      '_shards': {'failed': 0, 'successful': 1, 'total': 2},\n",
      "                      '_version': 1,\n",
      "                      'result': 'created',\n",
      "                      'status': 201}},\n",
      "           {'index': {'_id': 'db8D45MBXS9W6nXo8Mgi',\n",
      "                      '_index': 'my_synonym_index',\n",
      "                      '_primary_term': 1,\n",
      "                      '_seq_no': 8,\n",
      "                      '_shards': {'failed': 0, 'successful': 1, 'total': 2},\n",
      "                      '_version': 1,\n",
      "                      'result': 'created',\n",
      "                      'status': 201}},\n",
      "           {'index': {'_id': 'dr8D45MBXS9W6nXo8Mgi',\n",
      "                      '_index': 'my_synonym_index',\n",
      "                      '_primary_term': 1,\n",
      "                      '_seq_no': 9,\n",
      "                      '_shards': {'failed': 0, 'successful': 1, 'total': 2},\n",
      "                      '_version': 1,\n",
      "                      'result': 'created',\n",
      "                      'status': 201}}],\n",
      " 'took': 6229421}\n"
     ]
    }
   ],
   "source": [
    "response=es.bulk(operations=operations)\n",
    "pprint(response.body)"
   ]
  },
  {
   "cell_type": "code",
   "execution_count": 160,
   "metadata": {},
   "outputs": [
    {
     "name": "stdout",
     "output_type": "stream",
     "text": [
      "{'description': 'I love my car and television.'}\n",
      "{'description': 'I love my car and television.'}\n"
     ]
    }
   ],
   "source": [
    "query = {\n",
    "    \"query\":{\n",
    "        \"match\": {\n",
    "            \"description\":\"vehicle\"\n",
    "        }\n",
    "    }\n",
    "}\n",
    "\n",
    "response = es.search(index=index_name, body=query)\n",
    "\n",
    "for hit in response['hits']['hits']:\n",
    "    print(hit['_source'])"
   ]
  },
  {
   "cell_type": "code",
   "execution_count": 164,
   "metadata": {},
   "outputs": [
    {
     "name": "stdout",
     "output_type": "stream",
     "text": [
      "{'max_uptime': '1.9h',\n",
      " 'max_uptime_in_millis': 7018200,\n",
      " 'mem': {'heap_max': '7.7gb',\n",
      "         'heap_max_in_bytes': 8292139008,\n",
      "         'heap_used': '775.2mb',\n",
      "         'heap_used_in_bytes': 812901928},\n",
      " 'threads': 95,\n",
      " 'versions': [{'bundled_jdk': True,\n",
      "               'count': 1,\n",
      "               'using_bundled_jdk': True,\n",
      "               'version': '22.0.1',\n",
      "               'vm_name': 'OpenJDK 64-Bit Server VM',\n",
      "               'vm_vendor': 'Oracle Corporation',\n",
      "               'vm_version': '22.0.1+8-16'}]}\n"
     ]
    }
   ],
   "source": [
    "response = es.cluster.stats(human=True)\n",
    "pprint(response.body['nodes']['jvm'])"
   ]
  },
  {
   "cell_type": "code",
   "execution_count": 165,
   "metadata": {},
   "outputs": [],
   "source": [
    "dummy_data=[\n",
    "  {\n",
    "    \"title\": \"Sample Title 1\",\n",
    "    \"text\": \"This is the first sample document text.\",\n",
    "    \"created_on\": \"2024-09-22\"\n",
    "  },\n",
    "  {\n",
    "    \"title\": \"Sample Title 2\",\n",
    "    \"text\": \"Here is another example of a document.\",\n",
    "    \"created_on\": \"2024-09-24\"\n",
    "  },\n",
    "  {\n",
    "    \"title\": \"Sample Title 3\",\n",
    "    \"text\": \"The content of the third document goes here.\",\n",
    "    \"created_on\": \"2024-09-24\"\n",
    "  }\n",
    "]"
   ]
  },
  {
   "cell_type": "code",
   "execution_count": 166,
   "metadata": {},
   "outputs": [
    {
     "name": "stderr",
     "output_type": "stream",
     "text": [
      "100%|██████████| 3/3 [00:00<00:00, 30102.66it/s]\n"
     ]
    },
    {
     "data": {
      "text/plain": [
       "ObjectApiResponse({'errors': False, 'took': 9090592, 'items': [{'index': {'_index': 'my_index', '_id': 'd78v45MBXS9W6nXomMhq', '_version': 1, 'result': 'created', '_shards': {'total': 2, 'successful': 1, 'failed': 0}, '_seq_no': 100, '_primary_term': 1, 'status': 201}}, {'index': {'_index': 'my_index', '_id': 'eL8v45MBXS9W6nXomMhq', '_version': 1, 'result': 'created', '_shards': {'total': 2, 'successful': 1, 'failed': 0}, '_seq_no': 101, '_primary_term': 1, 'status': 201}}, {'index': {'_index': 'my_index', '_id': 'eb8v45MBXS9W6nXomMhq', '_version': 1, 'result': 'created', '_shards': {'total': 2, 'successful': 1, 'failed': 0}, '_seq_no': 102, '_primary_term': 1, 'status': 201}}]})"
      ]
     },
     "execution_count": 166,
     "metadata": {},
     "output_type": "execute_result"
    }
   ],
   "source": [
    "operations=[]\n",
    "for document in tqdm(dummy_data, total=len(dummy_data)):\n",
    "    operations.append({\"index\":{\"_index\":\"my_index\"}})\n",
    "    operations.append(document)\n",
    "\n",
    "es.bulk(operations=operations)"
   ]
  },
  {
   "cell_type": "code",
   "execution_count": 167,
   "metadata": {},
   "outputs": [
    {
     "name": "stdout",
     "output_type": "stream",
     "text": [
      "'Found 2'\n"
     ]
    }
   ],
   "source": [
    "response = es.search(\n",
    "    index=\"my_index\",\n",
    "    body={\n",
    "        \"query\":{\n",
    "            \"range\":{\n",
    "                \"created_on\":{\n",
    "                    \"gte\":\"2024-09-22||+1d/d\",\n",
    "                    \"lte\":\"now/d\"\n",
    "                }\n",
    "            }\n",
    "        }\n",
    "    }\n",
    ")\n",
    "\n",
    "pprint(f\"Found {len(response['hits']['hits'])}\")"
   ]
  },
  {
   "cell_type": "code",
   "execution_count": 169,
   "metadata": {},
   "outputs": [
    {
     "name": "stdout",
     "output_type": "stream",
     "text": [
      "{'hits': {'hits': [{'_id': 'BL_B4pMBXS9W6nXoyshH',\n",
      "                    '_source': {'brand': 'gucci',\n",
      "                                'color': 'red',\n",
      "                                'model': 'model_1'}},\n",
      "                   {'_id': 'Bb_B4pMBXS9W6nXoyshH',\n",
      "                    '_source': {'brand': 'gucci',\n",
      "                                'color': 'blue',\n",
      "                                'model': 'model_2'}},\n",
      "                   {'_id': 'Br_B4pMBXS9W6nXoyshH',\n",
      "                    '_source': {'brand': 'gucci',\n",
      "                                'color': 'red',\n",
      "                                'model': 'model_3'}},\n",
      "                   {'_id': 'B7_B4pMBXS9W6nXoyshH',\n",
      "                    '_source': {'brand': 'gucci',\n",
      "                                'color': 'green',\n",
      "                                'model': 'model_4'}},\n",
      "                   {'_id': 'CL_B4pMBXS9W6nXoyshH',\n",
      "                    '_source': {'brand': 'gucci',\n",
      "                                'color': 'red',\n",
      "                                'model': 'model_1'}},\n",
      "                   {'_id': 'Cb_B4pMBXS9W6nXoyshH',\n",
      "                    '_source': {'brand': 'gucci',\n",
      "                                'color': 'yellow',\n",
      "                                'model': 'model_2'}},\n",
      "                   {'_id': 'Cr_B4pMBXS9W6nXoyshH',\n",
      "                    '_source': {'brand': 'nike',\n",
      "                                'color': 'red',\n",
      "                                'model': 'model_5'}},\n",
      "                   {'_id': 'C7_B4pMBXS9W6nXoyshH',\n",
      "                    '_source': {'brand': 'nike',\n",
      "                                'color': 'blue',\n",
      "                                'model': 'model_6'}},\n",
      "                   {'_id': 'DL_B4pMBXS9W6nXoyshH',\n",
      "                    '_source': {'brand': 'gucci',\n",
      "                                'color': 'blue',\n",
      "                                'model': 'model_3'}},\n",
      "                   {'_id': 'Db_B4pMBXS9W6nXoyshH',\n",
      "                    '_source': {'brand': 'gucci',\n",
      "                                'color': 'red',\n",
      "                                'model': 'model_4'}}]}}\n"
     ]
    }
   ],
   "source": [
    "response = es.search(\n",
    "    index=\"my_index\",\n",
    "    body={\n",
    "        \"query\":{\n",
    "            \"match_all\": {}\n",
    "        }\n",
    "    }, filter_path=\"hits.hits._id,hits.hits._source\"\n",
    ")\n",
    "\n",
    "pprint(response.body)"
   ]
  },
  {
   "cell_type": "code",
   "execution_count": 170,
   "metadata": {},
   "outputs": [
    {
     "name": "stdout",
     "output_type": "stream",
     "text": [
      "{'hits': {'hits': [{'_id': 'BL_B4pMBXS9W6nXoyshH'},\n",
      "                   {'_id': 'Bb_B4pMBXS9W6nXoyshH'},\n",
      "                   {'_id': 'Br_B4pMBXS9W6nXoyshH'},\n",
      "                   {'_id': 'B7_B4pMBXS9W6nXoyshH'},\n",
      "                   {'_id': 'CL_B4pMBXS9W6nXoyshH'},\n",
      "                   {'_id': 'Cb_B4pMBXS9W6nXoyshH'},\n",
      "                   {'_id': 'Cr_B4pMBXS9W6nXoyshH'},\n",
      "                   {'_id': 'C7_B4pMBXS9W6nXoyshH'},\n",
      "                   {'_id': 'DL_B4pMBXS9W6nXoyshH'},\n",
      "                   {'_id': 'Db_B4pMBXS9W6nXoyshH'}]}}\n"
     ]
    }
   ],
   "source": [
    "response = es.search(\n",
    "    index=\"my_index\",\n",
    "    body={\n",
    "        \"query\":{\n",
    "            \"match_all\": {}\n",
    "        }\n",
    "    }, filter_path=\"hits.hits._id,-hits.hits._source\"\n",
    ")\n",
    "\n",
    "pprint(response.body)"
   ]
  },
  {
   "cell_type": "code",
   "execution_count": 171,
   "metadata": {},
   "outputs": [
    {
     "name": "stdout",
     "output_type": "stream",
     "text": [
      "{'my_index': {'settings': {'index': {'creation_date': '1734676171169',\n",
      "                                     'number_of_replicas': '1',\n",
      "                                     'number_of_shards': '1',\n",
      "                                     'provided_name': 'my_index',\n",
      "                                     'routing': {'allocation': {'include': {'_tier_preference': 'data_content'}}},\n",
      "                                     'uuid': 'mUONmlfFQa2uZuc_iFy6lw',\n",
      "                                     'version': {'created': '8512000'}}}}}\n"
     ]
    }
   ],
   "source": [
    "response = es.indices.get_settings(\n",
    "    index=\"my_index\"\n",
    ")\n",
    "\n",
    "pprint(response.body)"
   ]
  },
  {
   "cell_type": "code",
   "execution_count": 172,
   "metadata": {},
   "outputs": [
    {
     "name": "stdout",
     "output_type": "stream",
     "text": [
      "{'my_index': {'settings': {'index.creation_date': '1734676171169',\n",
      "                           'index.number_of_replicas': '1',\n",
      "                           'index.number_of_shards': '1',\n",
      "                           'index.provided_name': 'my_index',\n",
      "                           'index.routing.allocation.include._tier_preference': 'data_content',\n",
      "                           'index.uuid': 'mUONmlfFQa2uZuc_iFy6lw',\n",
      "                           'index.version.created': '8512000'}}}\n"
     ]
    }
   ],
   "source": [
    "response = es.indices.get_settings(\n",
    "    index=\"my_index\",\n",
    "    flat_settings=True\n",
    ")\n",
    "\n",
    "pprint(response.body)"
   ]
  },
  {
   "cell_type": "code",
   "execution_count": null,
   "metadata": {},
   "outputs": [],
   "source": []
  }
 ],
 "metadata": {
  "kernelspec": {
   "display_name": "venv",
   "language": "python",
   "name": "python3"
  },
  "language_info": {
   "codemirror_mode": {
    "name": "ipython",
    "version": 3
   },
   "file_extension": ".py",
   "mimetype": "text/x-python",
   "name": "python",
   "nbconvert_exporter": "python",
   "pygments_lexer": "ipython3",
   "version": "3.11.11"
  }
 },
 "nbformat": 4,
 "nbformat_minor": 2
}
