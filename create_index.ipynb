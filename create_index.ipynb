{
 "cells": [
  {
   "cell_type": "code",
   "execution_count": 1,
   "metadata": {},
   "outputs": [
    {
     "name": "stdout",
     "output_type": "stream",
     "text": [
      "{'cluster_name': 'docker-cluster',\n",
      " 'cluster_uuid': 'S88XwI8mTkSFeJBJ4J532w',\n",
      " 'name': 'c0d7ef8c0833',\n",
      " 'tagline': 'You Know, for Search',\n",
      " 'version': {'build_date': '2024-08-05T10:05:34.233336849Z',\n",
      "             'build_flavor': 'default',\n",
      "             'build_hash': '1a77947f34deddb41af25e6f0ddb8e830159c179',\n",
      "             'build_snapshot': False,\n",
      "             'build_type': 'docker',\n",
      "             'lucene_version': '9.11.1',\n",
      "             'minimum_index_compatibility_version': '7.0.0',\n",
      "             'minimum_wire_compatibility_version': '7.17.0',\n",
      "             'number': '8.15.0'}}\n"
     ]
    }
   ],
   "source": [
    "from elasticsearch import Elasticsearch\n",
    "from pprint import pprint\n",
    "\n",
    "es = Elasticsearch(\"http://localhost:9200/\")\n",
    "client_info = es.info()\n",
    "pprint(client_info.body)"
   ]
  },
  {
   "cell_type": "code",
   "execution_count": 2,
   "metadata": {},
   "outputs": [
    {
     "data": {
      "text/plain": [
       "ObjectApiResponse({'acknowledged': True, 'shards_acknowledged': True, 'index': 'my_index'})"
      ]
     },
     "execution_count": 2,
     "metadata": {},
     "output_type": "execute_result"
    }
   ],
   "source": [
    "es.indices.delete(index=\"my_index\",ignore_unavailable=True)\n",
    "es.indices.create(index=\"my_index\",\n",
    "                  settings={\n",
    "                      \"index\":{\n",
    "                      \"number_of_shards\": 3,\n",
    "                      \"number_of_replicas\": 2\n",
    "                      }\n",
    "                  })"
   ]
  },
  {
   "cell_type": "code",
   "execution_count": 3,
   "metadata": {},
   "outputs": [
    {
     "data": {
      "text/plain": [
       "ObjectApiResponse({'_index': 'my_index', '_id': 'XWwo35MBGBT6DZrptrC2', '_version': 1, 'result': 'created', '_shards': {'total': 3, 'successful': 1, 'failed': 0}, '_seq_no': 0, '_primary_term': 1})"
      ]
     },
     "execution_count": 3,
     "metadata": {},
     "output_type": "execute_result"
    }
   ],
   "source": [
    "documents = {\n",
    "    'title':'title',\n",
    "    'text':'text',\n",
    "    'created_on':'2024-09-22'\n",
    "}\n",
    "\n",
    "response = es.index(index=\"my_index\",document=documents)\n",
    "response"
   ]
  },
  {
   "cell_type": "code",
   "execution_count": 4,
   "metadata": {},
   "outputs": [],
   "source": [
    "dummy_data = [\n",
    "  {\n",
    "    \"title\": \"Sample Title 1\",\n",
    "    \"text\": \"This is the first sample document text.\",\n",
    "    \"created_on\": \"2024-09-22\"\n",
    "  },\n",
    "  {\n",
    "    \"title\": \"Sample Title 2\",\n",
    "    \"text\": \"Here is another example of a document.\",\n",
    "    \"created_on\": \"2024-09-24\"\n",
    "  },\n",
    "  {\n",
    "    \"title\": \"Sample Title 3\",\n",
    "    \"text\": \"The content of the third document goes here.\",\n",
    "    \"created_on\": \"2024-09-24\"\n",
    "  }\n",
    "]"
   ]
  },
  {
   "cell_type": "code",
   "execution_count": 5,
   "metadata": {},
   "outputs": [
    {
     "name": "stdout",
     "output_type": "stream",
     "text": [
      "Document ID: Xmwo35MBGBT6DZrpt7AK is created and is split into 3 shards\n",
      "Document ID: X2wo35MBGBT6DZrpt7AT is created and is split into 3 shards\n",
      "Document ID: YGwo35MBGBT6DZrpt7Ag is created and is split into 3 shards\n"
     ]
    }
   ],
   "source": [
    "def insert_document(document):\n",
    "    response = es.index(index=\"my_index\",document=documents)\n",
    "    return response\n",
    "\n",
    "def print_info(response):\n",
    "    print(f\"\"\"Document ID: {response['_id']} is {\n",
    "        response['result']} and is split into {response['_shards']['total']} shards\"\"\")\n",
    "    \n",
    "for document in dummy_data:\n",
    "    response = insert_document(document)\n",
    "    print_info(response)"
   ]
  },
  {
   "cell_type": "code",
   "execution_count": 6,
   "metadata": {},
   "outputs": [
    {
     "name": "stdout",
     "output_type": "stream",
     "text": [
      "ObjectApiResponse({'my_index': {'mappings': {'properties': {'created_on': {'type': 'date'}, 'text': {'type': 'text', 'fields': {'keyword': {'type': 'keyword', 'ignore_above': 256}}}, 'title': {'type': 'text', 'fields': {'keyword': {'type': 'keyword', 'ignore_above': 256}}}}}}})\n"
     ]
    }
   ],
   "source": [
    "index_mapping = es.indices.get_mapping(index=\"my_index\")\n",
    "pprint(index_mapping)"
   ]
  },
  {
   "cell_type": "code",
   "execution_count": 7,
   "metadata": {},
   "outputs": [
    {
     "name": "stdout",
     "output_type": "stream",
     "text": [
      "{'created_on': {'type': 'date'},\n",
      " 'text': {'fields': {'keyword': {'ignore_above': 256, 'type': 'keyword'}},\n",
      "          'type': 'text'},\n",
      " 'title': {'fields': {'keyword': {'ignore_above': 256, 'type': 'keyword'}},\n",
      "           'type': 'text'}}\n"
     ]
    }
   ],
   "source": [
    "es.indices.delete(index=\"my_index\",ignore_unavailable=True)\n",
    "es.indices.create(index=\"my_index\")\n",
    "\n",
    "mapping = {\n",
    "    'properties': {\n",
    "        'created_on': {'type': 'date'},\n",
    "        'text': {\n",
    "            'type': 'text',\n",
    "            'fields': {\n",
    "                'keyword': {\n",
    "                    'type': 'keyword',\n",
    "                    'ignore_above': 256\n",
    "                }\n",
    "            }\n",
    "        },\n",
    "        'title': {\n",
    "            'type': 'text',\n",
    "            'fields': {\n",
    "                'keyword': {\n",
    "                    'type': 'keyword',\n",
    "                    'ignore_above': 256\n",
    "                }\n",
    "            }\n",
    "        }\n",
    "    }\n",
    "}\n",
    "\n",
    "es.indices.put_mapping(index=\"my_index\",body=mapping)\n",
    "index_mapping = es.indices.get_mapping(index=\"my_index\")\n",
    "pprint(index_mapping[\"my_index\"][\"mappings\"][\"properties\"])"
   ]
  },
  {
   "cell_type": "code",
   "execution_count": 8,
   "metadata": {},
   "outputs": [
    {
     "data": {
      "text/plain": [
       "ObjectApiResponse({'acknowledged': True, 'shards_acknowledged': True, 'index': 'other_common_data_types_index'})"
      ]
     },
     "execution_count": 8,
     "metadata": {},
     "output_type": "execute_result"
    }
   ],
   "source": [
    "es.indices.delete(index='other_common_data_types_index',\n",
    "                  ignore_unavailable=True)\n",
    "es.indices.create(\n",
    "    index='other_common_data_types_index',\n",
    "    mappings={\n",
    "        \"properties\": {\n",
    "            \"book_reference\": {\n",
    "                \"type\": \"keyword\"\n",
    "            },\n",
    "            \"price\": {\n",
    "                \"type\": \"float\"\n",
    "            },\n",
    "            \"publish_date\": {\n",
    "                \"type\": \"date\"\n",
    "            },\n",
    "            \"is_available\": {\n",
    "                \"type\": \"boolean\"\n",
    "            },\n",
    "        }\n",
    "    }\n",
    ")"
   ]
  },
  {
   "cell_type": "code",
   "execution_count": 9,
   "metadata": {},
   "outputs": [
    {
     "data": {
      "text/plain": [
       "ObjectApiResponse({'_index': 'other_common_data_types_index', '_id': 'YWwo35MBGBT6DZrpubA7', '_version': 1, 'result': 'created', '_shards': {'total': 2, 'successful': 1, 'failed': 0}, '_seq_no': 0, '_primary_term': 1})"
      ]
     },
     "execution_count": 9,
     "metadata": {},
     "output_type": "execute_result"
    }
   ],
   "source": [
    "document = {\n",
    "    \"book_reference\": \"978-1617294433\",\n",
    "    \"price\": 44.99,\n",
    "    \"publish_date\": \"2021-06-30\",\n",
    "    \"is_available\": True\n",
    "}\n",
    "response = es.index(index='other_common_data_types_index', body=document)\n",
    "response"
   ]
  },
  {
   "cell_type": "code",
   "execution_count": 10,
   "metadata": {},
   "outputs": [
    {
     "data": {
      "text/plain": [
       "ObjectApiResponse({'acknowledged': True, 'shards_acknowledged': True, 'index': 'object_index'})"
      ]
     },
     "execution_count": 10,
     "metadata": {},
     "output_type": "execute_result"
    }
   ],
   "source": [
    "es.indices.delete(index='object_index', ignore_unavailable=True)\n",
    "es.indices.create(\n",
    "    index='object_index',\n",
    "    mappings={\n",
    "        \"properties\": {\n",
    "            \"author\": {\n",
    "                \"properties\": {\n",
    "                    \"first_name\": {\n",
    "                        \"type\": \"text\"\n",
    "                    },\n",
    "                    \"last_name\": {\n",
    "                        \"type\": \"text\"\n",
    "                    }\n",
    "                }\n",
    "            }\n",
    "        }\n",
    "    }\n",
    ")"
   ]
  },
  {
   "cell_type": "code",
   "execution_count": 11,
   "metadata": {},
   "outputs": [
    {
     "data": {
      "text/plain": [
       "ObjectApiResponse({'_index': 'object_index', '_id': 'Ymwo35MBGBT6DZrpurBa', '_version': 1, 'result': 'created', '_shards': {'total': 2, 'successful': 1, 'failed': 0}, '_seq_no': 0, '_primary_term': 1})"
      ]
     },
     "execution_count": 11,
     "metadata": {},
     "output_type": "execute_result"
    }
   ],
   "source": [
    "document = {\n",
    "    \"author\": {\n",
    "        \"first_name\": \"Imad\",\n",
    "        \"last_name\": \"Saddik\"\n",
    "    }\n",
    "}\n",
    "response = es.index(index='object_index', body=document)\n",
    "response"
   ]
  },
  {
   "cell_type": "code",
   "execution_count": 12,
   "metadata": {},
   "outputs": [
    {
     "data": {
      "text/plain": [
       "ObjectApiResponse({'acknowledged': True, 'shards_acknowledged': True, 'index': 'flattened_object_index'})"
      ]
     },
     "execution_count": 12,
     "metadata": {},
     "output_type": "execute_result"
    }
   ],
   "source": [
    "es.indices.delete(index='flattened_object_index', ignore_unavailable=True)\n",
    "es.indices.create(\n",
    "    index='flattened_object_index',\n",
    "    mappings={\n",
    "        \"properties\": {\n",
    "            \"author\": {\n",
    "                \"type\": \"flattened\"\n",
    "            }\n",
    "        }\n",
    "    }\n",
    ")"
   ]
  },
  {
   "cell_type": "code",
   "execution_count": 13,
   "metadata": {},
   "outputs": [
    {
     "data": {
      "text/plain": [
       "ObjectApiResponse({'_index': 'flattened_object_index', '_id': 'Y2wo35MBGBT6DZrpu7BH', '_version': 1, 'result': 'created', '_shards': {'total': 2, 'successful': 1, 'failed': 0}, '_seq_no': 0, '_primary_term': 1})"
      ]
     },
     "execution_count": 13,
     "metadata": {},
     "output_type": "execute_result"
    }
   ],
   "source": [
    "document = {\n",
    "    \"author\": {\n",
    "        \"first_name\": \"Imad\",\n",
    "        \"last_name\": \"Saddik\"\n",
    "    }\n",
    "}\n",
    "response = es.index(index='flattened_object_index', body=document)\n",
    "response"
   ]
  },
  {
   "cell_type": "code",
   "execution_count": 14,
   "metadata": {},
   "outputs": [
    {
     "data": {
      "text/plain": [
       "ObjectApiResponse({'acknowledged': True, 'shards_acknowledged': True, 'index': 'nested_object_index'})"
      ]
     },
     "execution_count": 14,
     "metadata": {},
     "output_type": "execute_result"
    }
   ],
   "source": [
    "es.indices.delete(index='nested_object_index', ignore_unavailable=True)\n",
    "es.indices.create(\n",
    "    index='nested_object_index',\n",
    "    mappings={\n",
    "        \"properties\": {\n",
    "            \"user\": {\n",
    "                \"type\": \"nested\",\n",
    "            }\n",
    "        }\n",
    "    }\n",
    ")"
   ]
  },
  {
   "cell_type": "code",
   "execution_count": 15,
   "metadata": {},
   "outputs": [
    {
     "data": {
      "text/plain": [
       "ObjectApiResponse({'_index': 'nested_object_index', '_id': 'ZGwo35MBGBT6DZrpvLA7', '_version': 1, 'result': 'created', '_shards': {'total': 2, 'successful': 1, 'failed': 0}, '_seq_no': 0, '_primary_term': 1})"
      ]
     },
     "execution_count": 15,
     "metadata": {},
     "output_type": "execute_result"
    }
   ],
   "source": [
    "documents = [\n",
    "    {\n",
    "        \"first\": \"John\",\n",
    "        \"last\": \"Smith\"\n",
    "    },\n",
    "    {\n",
    "        \"first\": \"Imad\",\n",
    "        \"last\": \"Saddik\"\n",
    "    }\n",
    "]\n",
    "response = es.index(index='nested_object_index', body={\"user\": documents})\n",
    "response"
   ]
  },
  {
   "cell_type": "code",
   "execution_count": 16,
   "metadata": {},
   "outputs": [
    {
     "data": {
      "text/plain": [
       "ObjectApiResponse({'acknowledged': True, 'shards_acknowledged': True, 'index': 'text_index'})"
      ]
     },
     "execution_count": 16,
     "metadata": {},
     "output_type": "execute_result"
    }
   ],
   "source": [
    "es.indices.delete(index='text_index', ignore_unavailable=True)\n",
    "es.indices.create(\n",
    "    index='text_index',\n",
    "    mappings={\n",
    "        \"properties\": {\n",
    "            \"email_body\": {\n",
    "                \"type\": \"text\"\n",
    "            }\n",
    "        }\n",
    "    }\n",
    ")"
   ]
  },
  {
   "cell_type": "code",
   "execution_count": 17,
   "metadata": {},
   "outputs": [
    {
     "data": {
      "text/plain": [
       "ObjectApiResponse({'_index': 'text_index', '_id': 'ZWwo35MBGBT6DZrpvbBv', '_version': 1, 'result': 'created', '_shards': {'total': 2, 'successful': 1, 'failed': 0}, '_seq_no': 0, '_primary_term': 1})"
      ]
     },
     "execution_count": 17,
     "metadata": {},
     "output_type": "execute_result"
    }
   ],
   "source": [
    "document = {\n",
    "    \"email_body\": \"Hello, this is a test email.\"\n",
    "}\n",
    "response = es.index(index='text_index', body=document)\n",
    "response"
   ]
  },
  {
   "cell_type": "code",
   "execution_count": 18,
   "metadata": {},
   "outputs": [
    {
     "data": {
      "text/plain": [
       "ObjectApiResponse({'acknowledged': True, 'shards_acknowledged': True, 'index': 'text_completion_index'})"
      ]
     },
     "execution_count": 18,
     "metadata": {},
     "output_type": "execute_result"
    }
   ],
   "source": [
    "es.indices.delete(index='text_completion_index', ignore_unavailable=True)\n",
    "es.indices.create(\n",
    "    index='text_completion_index',\n",
    "    mappings={\n",
    "        \"properties\": {\n",
    "            \"suggest\": {\n",
    "                \"type\": \"completion\"\n",
    "            }\n",
    "        }\n",
    "    }\n",
    ")"
   ]
  },
  {
   "cell_type": "code",
   "execution_count": 19,
   "metadata": {},
   "outputs": [
    {
     "data": {
      "text/plain": [
       "ObjectApiResponse({'_index': 'text_completion_index', '_id': 'Z2wo35MBGBT6DZrpvrBE', '_version': 1, 'result': 'created', '_shards': {'total': 2, 'successful': 1, 'failed': 0}, '_seq_no': 1, '_primary_term': 1})"
      ]
     },
     "execution_count": 19,
     "metadata": {},
     "output_type": "execute_result"
    }
   ],
   "source": [
    "document_1 = {\n",
    "    \"suggest\": {\n",
    "        \"input\": [\"Mars\", \"Planet\"]\n",
    "    }\n",
    "}\n",
    "\n",
    "document_2 = {\n",
    "    \"suggest\": {\n",
    "        \"input\": [\"Andromeda\", \"Galaxy\"]\n",
    "    }\n",
    "}\n",
    "\n",
    "es.index(index='text_completion_index', body=document_1)\n",
    "es.index(index='text_completion_index', body=document_2)"
   ]
  },
  {
   "cell_type": "code",
   "execution_count": 20,
   "metadata": {},
   "outputs": [
    {
     "data": {
      "text/plain": [
       "ObjectApiResponse({'acknowledged': True, 'shards_acknowledged': True, 'index': 'geo_point_index'})"
      ]
     },
     "execution_count": 20,
     "metadata": {},
     "output_type": "execute_result"
    }
   ],
   "source": [
    "es.indices.delete(index='geo_point_index', ignore_unavailable=True)\n",
    "es.indices.create(\n",
    "    index='geo_point_index',\n",
    "    mappings={\n",
    "        \"properties\": {\n",
    "            \"location\": {\n",
    "                \"type\": \"geo_point\"\n",
    "            }\n",
    "        }\n",
    "    }\n",
    ")"
   ]
  },
  {
   "cell_type": "code",
   "execution_count": 21,
   "metadata": {},
   "outputs": [
    {
     "data": {
      "text/plain": [
       "ObjectApiResponse({'_index': 'geo_point_index', '_id': 'aGwo35MBGBT6DZrpv7Au', '_version': 1, 'result': 'created', '_shards': {'total': 2, 'successful': 1, 'failed': 0}, '_seq_no': 0, '_primary_term': 1})"
      ]
     },
     "execution_count": 21,
     "metadata": {},
     "output_type": "execute_result"
    }
   ],
   "source": [
    "document = {\n",
    "    \"text\": \"Geopoint as an object using GeoJSON format\",\n",
    "    \"location\": {\n",
    "        \"type\": \"Point\",\n",
    "        \"coordinates\": [\n",
    "            -71.34,\n",
    "            41.12\n",
    "        ]\n",
    "    }\n",
    "}\n",
    "response = es.index(index='geo_point_index', body=document)\n",
    "response"
   ]
  },
  {
   "cell_type": "code",
   "execution_count": 22,
   "metadata": {},
   "outputs": [
    {
     "data": {
      "text/plain": [
       "ObjectApiResponse({'acknowledged': True, 'shards_acknowledged': True, 'index': 'geo_shape_index'})"
      ]
     },
     "execution_count": 22,
     "metadata": {},
     "output_type": "execute_result"
    }
   ],
   "source": [
    "es.indices.delete(index='geo_shape_index', ignore_unavailable=True)\n",
    "es.indices.create(\n",
    "    index='geo_shape_index',\n",
    "    mappings={\n",
    "        \"properties\": {\n",
    "            \"location\": {\n",
    "                \"type\": \"geo_shape\"\n",
    "            }\n",
    "        }\n",
    "    }\n",
    ")"
   ]
  },
  {
   "cell_type": "code",
   "execution_count": 23,
   "metadata": {},
   "outputs": [
    {
     "data": {
      "text/plain": [
       "ObjectApiResponse({'_index': 'geo_shape_index', '_id': 'amwo35MBGBT6DZrpwLBs', '_version': 1, 'result': 'created', '_shards': {'total': 2, 'successful': 1, 'failed': 0}, '_seq_no': 1, '_primary_term': 1})"
      ]
     },
     "execution_count": 23,
     "metadata": {},
     "output_type": "execute_result"
    }
   ],
   "source": [
    "document_1 = {\n",
    "    \"location\": {\n",
    "        \"type\": \"LineString\",\n",
    "        \"coordinates\": [\n",
    "            [\n",
    "                -77.03653,\n",
    "                38.897676\n",
    "            ],\n",
    "            [\n",
    "                -77.009051,\n",
    "                38.889939\n",
    "            ]\n",
    "        ]\n",
    "    }\n",
    "}\n",
    "document_2 = {\n",
    "    \"location\": {\n",
    "        \"type\": \"Polygon\",\n",
    "        \"coordinates\": [\n",
    "            [\n",
    "                [100, 0],\n",
    "                [101, 0],\n",
    "                [101, 1],\n",
    "                [100, 1],\n",
    "                [100, 0],\n",
    "            ],\n",
    "            [\n",
    "                [100.2, 0.2],\n",
    "                [100.8, 0.2],\n",
    "                [100.8, 0.8],\n",
    "                [100.2, 0.8],\n",
    "                [100.2, 0.2],\n",
    "            ]\n",
    "        ]\n",
    "    }\n",
    "}\n",
    "\n",
    "es.index(index='geo_shape_index', body=document_1)\n",
    "es.index(index='geo_shape_index', body=document_2)"
   ]
  },
  {
   "cell_type": "code",
   "execution_count": 24,
   "metadata": {},
   "outputs": [
    {
     "data": {
      "text/plain": [
       "ObjectApiResponse({'acknowledged': True, 'shards_acknowledged': True, 'index': 'point_index'})"
      ]
     },
     "execution_count": 24,
     "metadata": {},
     "output_type": "execute_result"
    }
   ],
   "source": [
    "es.indices.delete(index='point_index', ignore_unavailable=True)\n",
    "es.indices.create(\n",
    "    index='point_index',\n",
    "    mappings={\n",
    "        \"properties\": {\n",
    "            \"location\": {\n",
    "                \"type\": \"point\"\n",
    "            }\n",
    "        }\n",
    "    }\n",
    ")"
   ]
  },
  {
   "cell_type": "code",
   "execution_count": 25,
   "metadata": {},
   "outputs": [
    {
     "data": {
      "text/plain": [
       "ObjectApiResponse({'_index': 'point_index', '_id': 'a2wo35MBGBT6DZrpwbBJ', '_version': 1, 'result': 'created', '_shards': {'total': 2, 'successful': 1, 'failed': 0}, '_seq_no': 0, '_primary_term': 1})"
      ]
     },
     "execution_count": 25,
     "metadata": {},
     "output_type": "execute_result"
    }
   ],
   "source": [
    "document = {\n",
    "    \"location\": {\n",
    "        \"type\": \"Point\",\n",
    "        \"coordinates\": [\n",
    "            -71.34,\n",
    "            41.12\n",
    "        ]\n",
    "    }\n",
    "}\n",
    "\n",
    "response = es.index(index='point_index', body=document)\n",
    "response"
   ]
  },
  {
   "cell_type": "code",
   "execution_count": 26,
   "metadata": {},
   "outputs": [
    {
     "data": {
      "text/plain": [
       "ObjectApiResponse({'acknowledged': True, 'shards_acknowledged': True, 'index': 'my_index'})"
      ]
     },
     "execution_count": 26,
     "metadata": {},
     "output_type": "execute_result"
    }
   ],
   "source": [
    "from elasticsearch import Elasticsearch\n",
    "\n",
    "es = Elasticsearch(\"http://localhost:9200/\")\n",
    "es.indices.delete(index=\"my_index\",ignore_unavailable=True)\n",
    "es.indices.create(index=\"my_index\")"
   ]
  },
  {
   "cell_type": "code",
   "execution_count": 27,
   "metadata": {},
   "outputs": [
    {
     "name": "stderr",
     "output_type": "stream",
     "text": [
      "100%|██████████| 3/3 [00:00<00:00, 50.87it/s]\n"
     ]
    }
   ],
   "source": [
    "import json\n",
    "from tqdm import tqdm\n",
    "\n",
    "document_ids = []\n",
    "for document in tqdm(dummy_data,total=len(dummy_data)):\n",
    "    response = es.index(index=\"my_index\",document=document)\n",
    "    document_ids.append(response['_id'])"
   ]
  },
  {
   "cell_type": "code",
   "execution_count": 28,
   "metadata": {},
   "outputs": [],
   "source": [
    "# response = es.delete(index=\"my_index\", id=document_ids[0])"
   ]
  },
  {
   "cell_type": "code",
   "execution_count": 29,
   "metadata": {},
   "outputs": [
    {
     "name": "stdout",
     "output_type": "stream",
     "text": [
      "{'_id': 'bmwo35MBGBT6DZrpwrCp',\n",
      " '_index': 'my_index',\n",
      " '_primary_term': 1,\n",
      " '_seq_no': 2,\n",
      " '_shards': {'failed': 0, 'successful': 1, 'total': 2},\n",
      " '_version': 1,\n",
      " 'result': 'created'}\n"
     ]
    }
   ],
   "source": [
    "pprint(response.body)"
   ]
  },
  {
   "cell_type": "code",
   "execution_count": 30,
   "metadata": {},
   "outputs": [
    {
     "name": "stdout",
     "output_type": "stream",
     "text": [
      "{'_id': 'bGwo35MBGBT6DZrpwrB0',\n",
      " '_index': 'my_index',\n",
      " '_primary_term': 1,\n",
      " '_seq_no': 0,\n",
      " '_source': {'created_on': '2024-09-22',\n",
      "             'text': 'This is the first sample document text.',\n",
      "             'title': 'Sample Title 1'},\n",
      " '_version': 1,\n",
      " 'found': True}\n"
     ]
    }
   ],
   "source": [
    "response = es.get(index=\"my_index\", id=document_ids[0])\n",
    "pprint(response.body)"
   ]
  },
  {
   "cell_type": "code",
   "execution_count": 31,
   "metadata": {},
   "outputs": [
    {
     "name": "stdout",
     "output_type": "stream",
     "text": [
      "0\n"
     ]
    }
   ],
   "source": [
    "response = es.count(index=\"my_index\")\n",
    "print(response['count'])"
   ]
  },
  {
   "cell_type": "code",
   "execution_count": 32,
   "metadata": {},
   "outputs": [
    {
     "data": {
      "text/plain": [
       "ObjectApiResponse({'count': 0, '_shards': {'total': 1, 'successful': 1, 'skipped': 0, 'failed': 0}})"
      ]
     },
     "execution_count": 32,
     "metadata": {},
     "output_type": "execute_result"
    }
   ],
   "source": [
    "response"
   ]
  },
  {
   "cell_type": "code",
   "execution_count": 33,
   "metadata": {},
   "outputs": [
    {
     "name": "stdout",
     "output_type": "stream",
     "text": [
      "The number of documents in the index is 0\n"
     ]
    }
   ],
   "source": [
    "query = {\n",
    "    \"range\": {\n",
    "        \"created_on\": {\n",
    "            \"gte\": \"2024-09-24\",\n",
    "            \"lte\": \"2024-09-24\",\n",
    "            \"format\": \"yyyy-MM-dd\"\n",
    "        }\n",
    "    }\n",
    "}\n",
    "\n",
    "response = es.count(index='my_index', query=query)\n",
    "count = response[\"count\"]\n",
    "\n",
    "print(f\"The number of documents in the index is {count}\")"
   ]
  },
  {
   "cell_type": "code",
   "execution_count": 34,
   "metadata": {},
   "outputs": [
    {
     "data": {
      "text/plain": [
       "True"
      ]
     },
     "execution_count": 34,
     "metadata": {},
     "output_type": "execute_result"
    }
   ],
   "source": [
    "response = es.indices.exists(index=\"my_index\")\n",
    "response.body"
   ]
  },
  {
   "cell_type": "code",
   "execution_count": 35,
   "metadata": {},
   "outputs": [
    {
     "name": "stdout",
     "output_type": "stream",
     "text": [
      "{'_id': 'bGwo35MBGBT6DZrpwrB0',\n",
      " '_index': 'my_index',\n",
      " '_primary_term': 1,\n",
      " '_seq_no': 3,\n",
      " '_shards': {'failed': 0, 'successful': 1, 'total': 2},\n",
      " '_version': 2,\n",
      " 'result': 'updated'}\n"
     ]
    }
   ],
   "source": [
    "response = es.update(\n",
    "    index=\"my_index\",\n",
    "    id= document_ids[0],\n",
    "    script={\n",
    "        \"source\": \"ctx._source.title = params.title\",\n",
    "        \"params\": {\"title\": \"New Title\"}\n",
    "    }\n",
    ")\n",
    "pprint(response.body)"
   ]
  },
  {
   "cell_type": "code",
   "execution_count": 36,
   "metadata": {},
   "outputs": [
    {
     "name": "stdout",
     "output_type": "stream",
     "text": [
      "{'_id': 'bGwo35MBGBT6DZrpwrB0',\n",
      " '_index': 'my_index',\n",
      " '_primary_term': 1,\n",
      " '_seq_no': 4,\n",
      " '_shards': {'failed': 0, 'successful': 1, 'total': 2},\n",
      " '_version': 3,\n",
      " 'result': 'updated'}\n"
     ]
    }
   ],
   "source": [
    "response = es.update(\n",
    "    index=\"my_index\",\n",
    "    id=document_ids[0],\n",
    "    script={\n",
    "        \"source\":\"ctx._source.new_field = 'dmm'\"\n",
    "    }\n",
    ")\n",
    "pprint(response.body)"
   ]
  },
  {
   "cell_type": "code",
   "execution_count": 37,
   "metadata": {},
   "outputs": [
    {
     "name": "stdout",
     "output_type": "stream",
     "text": [
      "{'_id': 'bGwo35MBGBT6DZrpwrB0',\n",
      " '_index': 'my_index',\n",
      " '_primary_term': 1,\n",
      " '_seq_no': 4,\n",
      " '_source': {'created_on': '2024-09-22',\n",
      "             'new_field': 'dmm',\n",
      "             'text': 'This is the first sample document text.',\n",
      "             'title': 'New Title'},\n",
      " '_version': 3,\n",
      " 'found': True}\n"
     ]
    }
   ],
   "source": [
    "response = es.get(index=\"my_index\",id=document_ids[0])\n",
    "pprint(response.body)"
   ]
  },
  {
   "cell_type": "code",
   "execution_count": 38,
   "metadata": {},
   "outputs": [],
   "source": [
    "response = es.update(index=\"my_index\",id=document_ids[0],doc={\"next_field\":\"dmm2\"})"
   ]
  },
  {
   "cell_type": "code",
   "execution_count": 39,
   "metadata": {},
   "outputs": [
    {
     "name": "stdout",
     "output_type": "stream",
     "text": [
      "{'_id': 'bGwo35MBGBT6DZrpwrB0',\n",
      " '_index': 'my_index',\n",
      " '_primary_term': 1,\n",
      " '_seq_no': 5,\n",
      " '_source': {'created_on': '2024-09-22',\n",
      "             'new_field': 'dmm',\n",
      "             'next_field': 'dmm2',\n",
      "             'text': 'This is the first sample document text.',\n",
      "             'title': 'New Title'},\n",
      " '_version': 4,\n",
      " 'found': True}\n"
     ]
    }
   ],
   "source": [
    "response = es.get(index=\"my_index\",id=document_ids[0])\n",
    "pprint(response.body)"
   ]
  },
  {
   "cell_type": "code",
   "execution_count": 40,
   "metadata": {},
   "outputs": [],
   "source": [
    "response = es.update(index=\"my_index\", id=document_ids[0], script={\"source\":\"ctx._source.remove('new_field')\"})"
   ]
  },
  {
   "cell_type": "code",
   "execution_count": 41,
   "metadata": {},
   "outputs": [
    {
     "name": "stdout",
     "output_type": "stream",
     "text": [
      "{'_id': 'bGwo35MBGBT6DZrpwrB0',\n",
      " '_index': 'my_index',\n",
      " '_primary_term': 1,\n",
      " '_seq_no': 6,\n",
      " '_source': {'created_on': '2024-09-22',\n",
      "             'next_field': 'dmm2',\n",
      "             'text': 'This is the first sample document text.',\n",
      "             'title': 'New Title'},\n",
      " '_version': 5,\n",
      " 'found': True}\n"
     ]
    }
   ],
   "source": [
    "response = es.get(index=\"my_index\", id=document_ids[0])\n",
    "pprint(response.body)"
   ]
  },
  {
   "cell_type": "code",
   "execution_count": 42,
   "metadata": {},
   "outputs": [
    {
     "name": "stdout",
     "output_type": "stream",
     "text": [
      "{'_id': '1',\n",
      " '_index': 'my_index',\n",
      " '_primary_term': 1,\n",
      " '_seq_no': 7,\n",
      " '_shards': {'failed': 0, 'successful': 1, 'total': 2},\n",
      " '_version': 1,\n",
      " 'result': 'created'}\n"
     ]
    }
   ],
   "source": [
    "response = es.update(\n",
    "    index=\"my_index\",\n",
    "    id=\"1\",\n",
    "    doc={\n",
    "        \"book_id\":1234,\n",
    "        \"book_name\": \"A book\"\n",
    "    },\n",
    "    doc_as_upsert=True\n",
    ")\n",
    "\n",
    "pprint(response.body)"
   ]
  },
  {
   "cell_type": "code",
   "execution_count": 43,
   "metadata": {},
   "outputs": [
    {
     "name": "stdout",
     "output_type": "stream",
     "text": [
      "{'_id': '1',\n",
      " '_index': 'my_index',\n",
      " '_primary_term': 1,\n",
      " '_seq_no': 7,\n",
      " '_source': {'book_id': 1234, 'book_name': 'A book'},\n",
      " '_version': 1,\n",
      " 'found': True}\n"
     ]
    }
   ],
   "source": [
    "response = es.get(index=\"my_index\", id='1')\n",
    "pprint(response.body)"
   ]
  },
  {
   "cell_type": "code",
   "execution_count": 44,
   "metadata": {},
   "outputs": [
    {
     "data": {
      "text/plain": [
       "ObjectApiResponse({'count': 0, '_shards': {'total': 1, 'successful': 1, 'skipped': 0, 'failed': 0}})"
      ]
     },
     "execution_count": 44,
     "metadata": {},
     "output_type": "execute_result"
    }
   ],
   "source": [
    "es.count(index=\"my_index\")"
   ]
  },
  {
   "cell_type": "code",
   "execution_count": 45,
   "metadata": {},
   "outputs": [
    {
     "data": {
      "text/plain": [
       "ObjectApiResponse({'acknowledged': True, 'shards_acknowledged': True, 'index': 'my_index'})"
      ]
     },
     "execution_count": 45,
     "metadata": {},
     "output_type": "execute_result"
    }
   ],
   "source": [
    "es.indices.delete(index=\"my_index\", ignore_unavailable=True)\n",
    "es.indices.create(index=\"my_index\")"
   ]
  },
  {
   "cell_type": "code",
   "execution_count": 46,
   "metadata": {},
   "outputs": [
    {
     "name": "stdout",
     "output_type": "stream",
     "text": [
      "{'errors': False,\n",
      " 'items': [{'index': {'_id': '1',\n",
      "                      '_index': 'my_index',\n",
      "                      '_primary_term': 1,\n",
      "                      '_seq_no': 0,\n",
      "                      '_shards': {'failed': 0, 'successful': 1, 'total': 2},\n",
      "                      '_version': 1,\n",
      "                      'result': 'created',\n",
      "                      'status': 201}},\n",
      "           {'index': {'_id': '2',\n",
      "                      '_index': 'my_index',\n",
      "                      '_primary_term': 1,\n",
      "                      '_seq_no': 1,\n",
      "                      '_shards': {'failed': 0, 'successful': 1, 'total': 2},\n",
      "                      '_version': 1,\n",
      "                      'result': 'created',\n",
      "                      'status': 201}},\n",
      "           {'index': {'_id': '3',\n",
      "                      '_index': 'my_index',\n",
      "                      '_primary_term': 1,\n",
      "                      '_seq_no': 2,\n",
      "                      '_shards': {'failed': 0, 'successful': 1, 'total': 2},\n",
      "                      '_version': 1,\n",
      "                      'result': 'created',\n",
      "                      'status': 201}},\n",
      "           {'update': {'_id': '1',\n",
      "                       '_index': 'my_index',\n",
      "                       '_primary_term': 1,\n",
      "                       '_seq_no': 3,\n",
      "                       '_shards': {'failed': 0, 'successful': 1, 'total': 2},\n",
      "                       '_version': 2,\n",
      "                       'result': 'updated',\n",
      "                       'status': 200}},\n",
      "           {'update': {'_id': '2',\n",
      "                       '_index': 'my_index',\n",
      "                       '_primary_term': 1,\n",
      "                       '_seq_no': 4,\n",
      "                       '_shards': {'failed': 0, 'successful': 1, 'total': 2},\n",
      "                       '_version': 2,\n",
      "                       'result': 'updated',\n",
      "                       'status': 200}},\n",
      "           {'delete': {'_id': '3',\n",
      "                       '_index': 'my_index',\n",
      "                       '_primary_term': 1,\n",
      "                       '_seq_no': 5,\n",
      "                       '_shards': {'failed': 0, 'successful': 1, 'total': 2},\n",
      "                       '_version': 2,\n",
      "                       'result': 'deleted',\n",
      "                       'status': 200}}],\n",
      " 'took': 21056221}\n"
     ]
    }
   ],
   "source": [
    "response = es.bulk(\n",
    "    operations=[\n",
    "        {\n",
    "            \"index\": {\n",
    "                \"_index\": \"my_index\",\n",
    "                \"_id\": \"1\"\n",
    "            }\n",
    "        },\n",
    "        # Source 1\n",
    "        {\n",
    "            \"title\": \"Sample Title 1\",\n",
    "            \"text\": \"This is the first sample document text.\",\n",
    "            \"created_on\": \"2024-09-22\"\n",
    "        },\n",
    "        # Action 2\n",
    "        {\n",
    "            \"index\": {\n",
    "                \"_index\": \"my_index\",\n",
    "                \"_id\": \"2\"\n",
    "            }\n",
    "        },\n",
    "        # Source 2\n",
    "        {\n",
    "            \"title\": \"Sample Title 2\",\n",
    "            \"text\": \"Here is another example of a document.\",\n",
    "            \"created_on\": \"2024-09-24\"\n",
    "        },\n",
    "        # Action 3\n",
    "        {\n",
    "            \"index\": {\n",
    "                \"_index\": \"my_index\",\n",
    "                \"_id\": \"3\"\n",
    "            }\n",
    "        },\n",
    "        # Source 3\n",
    "        {\n",
    "            \"title\": \"Sample Title 3\",\n",
    "            \"text\": \"The content of the third document goes here.\",\n",
    "            \"created_on\": \"2024-09-24\"\n",
    "        },\n",
    "        # Action 4\n",
    "        {\n",
    "            \"update\": {\n",
    "                \"_id\": \"1\",\n",
    "                \"_index\": \"my_index\"\n",
    "            }\n",
    "        },\n",
    "        # Source 4\n",
    "        {\n",
    "            \"doc\": {\n",
    "                \"title\": \"New Title\"\n",
    "            }\n",
    "        },\n",
    "        # Action 5\n",
    "        {\n",
    "            \"update\": {\n",
    "                \"_id\": \"2\",\n",
    "                \"_index\": \"my_index\"\n",
    "            }\n",
    "        },\n",
    "        # Source 5\n",
    "        {\n",
    "            \"doc\": {\n",
    "                \"new_field\": \"dummy_value\"\n",
    "            }\n",
    "        },\n",
    "        # Action 6\n",
    "        {\n",
    "            \"delete\": {\n",
    "                \"_index\": \"my_index\",\n",
    "                \"_id\": \"3\"\n",
    "            }\n",
    "        },\n",
    "    ]\n",
    ")\n",
    "\n",
    "pprint(response.body)"
   ]
  },
  {
   "cell_type": "code",
   "execution_count": 47,
   "metadata": {},
   "outputs": [
    {
     "data": {
      "text/plain": [
       "ObjectApiResponse({'acknowledged': True, 'shards_acknowledged': True, 'index': 'index_2'})"
      ]
     },
     "execution_count": 47,
     "metadata": {},
     "output_type": "execute_result"
    }
   ],
   "source": [
    "es.indices.delete(index=\"index_1\", ignore_unavailable=True)\n",
    "es.indices.create(index=\"index_1\")\n",
    "\n",
    "es.indices.delete(index=\"index_2\", ignore_unavailable=True)\n",
    "es.indices.create(index=\"index_2\")"
   ]
  },
  {
   "cell_type": "code",
   "execution_count": 48,
   "metadata": {},
   "outputs": [
    {
     "name": "stderr",
     "output_type": "stream",
     "text": [
      "100%|██████████| 3/3 [00:00<00:00, 48.60it/s]\n",
      "100%|██████████| 3/3 [00:00<00:00, 49.51it/s]\n"
     ]
    }
   ],
   "source": [
    "for document in tqdm(dummy_data, total=len(dummy_data)):\n",
    "    es.index(index=\"index_1\",document=document)\n",
    "\n",
    "for document in tqdm(dummy_data, total=len(dummy_data)):\n",
    "    es.index(index=\"index_2\",document=document)"
   ]
  },
  {
   "cell_type": "code",
   "execution_count": 49,
   "metadata": {},
   "outputs": [
    {
     "name": "stdout",
     "output_type": "stream",
     "text": [
      "'Found 0 document in index_1'\n"
     ]
    }
   ],
   "source": [
    "response = es.search(\n",
    "    index=\"index_1\",\n",
    "    body={\n",
    "        \"query\": {\"match_all\":{}}\n",
    "    }\n",
    ")\n",
    "\n",
    "pprint(f\"Found {response['hits']['total']['value']} document in index_1\")"
   ]
  },
  {
   "cell_type": "code",
   "execution_count": 50,
   "metadata": {},
   "outputs": [
    {
     "name": "stdout",
     "output_type": "stream",
     "text": [
      "'Found 0 document in index_2'\n"
     ]
    }
   ],
   "source": [
    "response = es.search(\n",
    "    index=\"index_2\",\n",
    "    body={\n",
    "        \"query\": {\"match_all\":{}}\n",
    "    }\n",
    ")\n",
    "\n",
    "pprint(f\"Found {response['hits']['total']['value']} document in index_2\")"
   ]
  },
  {
   "cell_type": "code",
   "execution_count": 51,
   "metadata": {},
   "outputs": [
    {
     "name": "stdout",
     "output_type": "stream",
     "text": [
      "'Found 0 document in index_1,index_2'\n"
     ]
    }
   ],
   "source": [
    "response = es.search(\n",
    "    index=\"index_1,index_2\",\n",
    "    body={\n",
    "        \"query\": {\"match_all\":{}}\n",
    "    }\n",
    ")\n",
    "\n",
    "pprint(f\"Found {response['hits']['total']['value']} document in index_1,index_2\")"
   ]
  },
  {
   "cell_type": "code",
   "execution_count": 52,
   "metadata": {},
   "outputs": [
    {
     "name": "stdout",
     "output_type": "stream",
     "text": [
      "'Found 0 document in index_1,index_2'\n"
     ]
    }
   ],
   "source": [
    "response = es.search(\n",
    "    index=\"index*\",\n",
    "    body={\n",
    "        \"query\": {\"match_all\":{}}\n",
    "    }\n",
    ")\n",
    "\n",
    "pprint(f\"Found {response['hits']['total']['value']} document in index_1,index_2\")"
   ]
  },
  {
   "cell_type": "code",
   "execution_count": 53,
   "metadata": {},
   "outputs": [
    {
     "name": "stdout",
     "output_type": "stream",
     "text": [
      "{'_shards': {'failed': 0, 'skipped': 0, 'successful': 1, 'total': 1},\n",
      " 'hits': {'hits': [],\n",
      "          'max_score': None,\n",
      "          'total': {'relation': 'eq', 'value': 0}},\n",
      " 'timed_out': False,\n",
      " 'took': 1}\n"
     ]
    }
   ],
   "source": [
    "response = es.search(\n",
    "    index=\"my_index\",\n",
    "    body={\n",
    "        \"query\": {\n",
    "            \"term\": {\n",
    "                \"created_on\":\"2024-09-22\"\n",
    "            }\n",
    "        }\n",
    "    }\n",
    ")\n",
    "\n",
    "pprint(response.body)"
   ]
  },
  {
   "cell_type": "code",
   "execution_count": 54,
   "metadata": {},
   "outputs": [
    {
     "name": "stdout",
     "output_type": "stream",
     "text": [
      "{'_shards': {'failed': 0, 'skipped': 0, 'successful': 1, 'total': 1},\n",
      " 'hits': {'hits': [],\n",
      "          'max_score': None,\n",
      "          'total': {'relation': 'eq', 'value': 0}},\n",
      " 'timed_out': False,\n",
      " 'took': 3}\n"
     ]
    }
   ],
   "source": [
    "response = es.search(\n",
    "    index=\"my_index\",\n",
    "    body={\"query\": {\"match\": {\"text\": \"document\"}}}\n",
    ")\n",
    "\n",
    "pprint(response.body)"
   ]
  },
  {
   "cell_type": "code",
   "execution_count": 55,
   "metadata": {},
   "outputs": [
    {
     "name": "stdout",
     "output_type": "stream",
     "text": [
      "{'_shards': {'failed': 0, 'skipped': 0, 'successful': 1, 'total': 1},\n",
      " 'hits': {'hits': [],\n",
      "          'max_score': None,\n",
      "          'total': {'relation': 'eq', 'value': 0}},\n",
      " 'timed_out': False,\n",
      " 'took': 1}\n"
     ]
    }
   ],
   "source": [
    "response = es.search(\n",
    "    index=\"my_index\",\n",
    "    body={\n",
    "        \"query\": {\n",
    "            \"range\":{\n",
    "                \"created_on\": {\n",
    "                    \"lte\":\"2024-09-22\"\n",
    "                }\n",
    "            }\n",
    "        }\n",
    "    }\n",
    ")\n",
    "\n",
    "pprint(response.body)"
   ]
  },
  {
   "cell_type": "code",
   "execution_count": 56,
   "metadata": {},
   "outputs": [
    {
     "name": "stdout",
     "output_type": "stream",
     "text": [
      "{'_shards': {'failed': 0, 'skipped': 0, 'successful': 1, 'total': 1},\n",
      " 'hits': {'hits': [],\n",
      "          'max_score': None,\n",
      "          'total': {'relation': 'eq', 'value': 0}},\n",
      " 'timed_out': False,\n",
      " 'took': 1}\n"
     ]
    }
   ],
   "source": [
    "response = es.search(\n",
    "    index=\"my_index\",\n",
    "    body={\n",
    "        \"query\": {\n",
    "            \"bool\": {\n",
    "                \"must\": [\n",
    "                    {\"match\": {\"text\": \"third\"}},\n",
    "                    {\"range\":{\n",
    "                        \"created_on\":{\n",
    "                            \"gte\":\"2024-09-24\",\n",
    "                            \"lte\":\"2024-09-24\"\n",
    "                        }\n",
    "                    }}\n",
    "                ]\n",
    "            }\n",
    "        }\n",
    "    }\n",
    ")\n",
    "\n",
    "pprint(response.body)"
   ]
  },
  {
   "cell_type": "code",
   "execution_count": 57,
   "metadata": {},
   "outputs": [],
   "source": [
    "dummy_data_2=[\n",
    "    {\n",
    "        \"message\": \"This is an important keyword search result.\",\n",
    "        \"age\": 25,\n",
    "        \"price\": 100.0\n",
    "    },\n",
    "    {\n",
    "        \"message\": \"Another search result with an important keyword.\",\n",
    "        \"age\": 30,\n",
    "        \"price\": 150.0\n",
    "    },\n",
    "    {\n",
    "        \"message\": \"Keyword match in this result as well.\",\n",
    "        \"age\": 40,\n",
    "        \"price\": 200.0\n",
    "    },\n",
    "    {\n",
    "        \"message\": \"Important keyword again in this document.\",\n",
    "        \"age\": 35,\n",
    "        \"price\": 120.0\n",
    "    },\n",
    "    {\n",
    "        \"message\": \"Final document with the important keyword.\",\n",
    "        \"age\": 28,\n",
    "        \"price\": 180.0\n",
    "    }\n",
    "]\n",
    "\n"
   ]
  },
  {
   "cell_type": "code",
   "execution_count": 58,
   "metadata": {},
   "outputs": [
    {
     "data": {
      "text/plain": [
       "ObjectApiResponse({'errors': False, 'took': 21056932, 'items': [{'index': {'_index': 'my_index', '_id': 'dWwo35MBGBT6DZrpyLAo', '_version': 1, 'result': 'created', '_shards': {'total': 2, 'successful': 1, 'failed': 0}, '_seq_no': 6, '_primary_term': 1, 'status': 201}}, {'index': {'_index': 'my_index', '_id': 'dmwo35MBGBT6DZrpyLAo', '_version': 1, 'result': 'created', '_shards': {'total': 2, 'successful': 1, 'failed': 0}, '_seq_no': 7, '_primary_term': 1, 'status': 201}}, {'index': {'_index': 'my_index', '_id': 'd2wo35MBGBT6DZrpyLAo', '_version': 1, 'result': 'created', '_shards': {'total': 2, 'successful': 1, 'failed': 0}, '_seq_no': 8, '_primary_term': 1, 'status': 201}}, {'index': {'_index': 'my_index', '_id': 'eGwo35MBGBT6DZrpyLAo', '_version': 1, 'result': 'created', '_shards': {'total': 2, 'successful': 1, 'failed': 0}, '_seq_no': 9, '_primary_term': 1, 'status': 201}}, {'index': {'_index': 'my_index', '_id': 'eWwo35MBGBT6DZrpyLAo', '_version': 1, 'result': 'created', '_shards': {'total': 2, 'successful': 1, 'failed': 0}, '_seq_no': 10, '_primary_term': 1, 'status': 201}}]})"
      ]
     },
     "execution_count": 58,
     "metadata": {},
     "output_type": "execute_result"
    }
   ],
   "source": [
    "operations = []\n",
    "for document in dummy_data_2:\n",
    "    operations.append({\"index\":{\"_index\":\"my_index\"}})\n",
    "    operations.append(document)\n",
    "\n",
    "es.bulk(operations=operations)"
   ]
  },
  {
   "cell_type": "code",
   "execution_count": 59,
   "metadata": {},
   "outputs": [],
   "source": [
    "response = es.search(\n",
    "    index=\"my_index\",\n",
    "    body={\"query\":{\n",
    "        \"match_all\":{}\n",
    "    },\n",
    "    \"size\":10,\n",
    "    \"from\":10\n",
    "    }\n",
    ")\n",
    "\n",
    "for hit in response['hits']['hits']:\n",
    "    print(hit['_source'])"
   ]
  },
  {
   "cell_type": "code",
   "execution_count": 60,
   "metadata": {},
   "outputs": [
    {
     "name": "stdout",
     "output_type": "stream",
     "text": [
      "{'_shards': {'failed': 0, 'skipped': 0, 'successful': 1, 'total': 1},\n",
      " 'hits': {'hits': [],\n",
      "          'max_score': None,\n",
      "          'total': {'relation': 'eq', 'value': 0}},\n",
      " 'timed_out': False,\n",
      " 'took': 1}\n"
     ]
    }
   ],
   "source": [
    "response = es.search(\n",
    "    index=\"my_index\",\n",
    "    body={\"query\": {\"match\": {\"message\": \"search keyword\"}},\n",
    "          \"timeout\":\"10s\"}\n",
    ")\n",
    "\n",
    "pprint(response.body)"
   ]
  },
  {
   "cell_type": "code",
   "execution_count": 61,
   "metadata": {},
   "outputs": [
    {
     "name": "stdout",
     "output_type": "stream",
     "text": [
      "None\n"
     ]
    }
   ],
   "source": [
    "response = es.search(\n",
    "    index=\"my_index\",\n",
    "    body={\"query\": {\"match_all\": {}},\n",
    "          \"aggs\": {\n",
    "              \"avg_age\":{\n",
    "                  \"avg\":{\n",
    "                      \"field\":\"age\"\n",
    "                  }\n",
    "              }\n",
    "          }}\n",
    ")\n",
    "\n",
    "pprint(response['aggregations']['avg_age']['value'])"
   ]
  },
  {
   "cell_type": "code",
   "execution_count": 62,
   "metadata": {},
   "outputs": [
    {
     "name": "stdout",
     "output_type": "stream",
     "text": [
      "None\n"
     ]
    }
   ],
   "source": [
    "response = es.search(\n",
    "    index=\"my_index\",\n",
    "    body={\n",
    "        \"query\": {\n",
    "            \"match\": {\n",
    "                \"message\": \"important keyword\"\n",
    "            }\n",
    "        },\n",
    "        \"aggs\": {\n",
    "            \"max_price\": {\n",
    "                \"max\": {\n",
    "                    \"field\": \"price\"\n",
    "                }\n",
    "            }\n",
    "        },\n",
    "        \"size\": 5,\n",
    "        \"from\": 20,\n",
    "        \"timeout\": \"5s\"\n",
    "    }\n",
    ")\n",
    "\n",
    "for hit in response['hits']['hits']:\n",
    "    print(hit['_source'])\n",
    "\n",
    "pprint(response['aggregations']['max_price']['value'])"
   ]
  },
  {
   "cell_type": "code",
   "execution_count": 63,
   "metadata": {},
   "outputs": [
    {
     "data": {
      "text/plain": [
       "ObjectApiResponse({'acknowledged': True, 'shards_acknowledged': True, 'index': 'my_index'})"
      ]
     },
     "execution_count": 63,
     "metadata": {},
     "output_type": "execute_result"
    }
   ],
   "source": [
    "es.indices.delete(index=\"my_index\", ignore_unavailable=True)\n",
    "es.indices.create(index=\"my_index\",\n",
    "                  mappings={\n",
    "                      \"properties\":{\n",
    "                          \"sides_length\":{\n",
    "                              \"type\":\"dense_vector\",\n",
    "                              \"dims\":4\n",
    "                          },\n",
    "                          \"shape\":{\n",
    "                              \"type\":\"keyword\"\n",
    "                          }\n",
    "                      }\n",
    "                  })"
   ]
  },
  {
   "cell_type": "code",
   "execution_count": 64,
   "metadata": {},
   "outputs": [
    {
     "name": "stdout",
     "output_type": "stream",
     "text": [
      "{'_id': '1',\n",
      " '_index': 'my_index',\n",
      " '_primary_term': 1,\n",
      " '_seq_no': 0,\n",
      " '_shards': {'failed': 0, 'successful': 1, 'total': 2},\n",
      " '_version': 1,\n",
      " 'result': 'created'}\n"
     ]
    }
   ],
   "source": [
    "response = es.index(\n",
    "    index=\"my_index\",\n",
    "    id=1,\n",
    "    document={\n",
    "        \"shape\":\"square\",\n",
    "        \"sides_length\":[5,5,5,5]\n",
    "    }\n",
    ")\n",
    "\n",
    "pprint(response.body)"
   ]
  },
  {
   "cell_type": "code",
   "execution_count": 65,
   "metadata": {},
   "outputs": [
    {
     "data": {
      "text/plain": [
       "{'my_index': {'mappings': {'properties': {'shape': {'type': 'keyword'},\n",
       "    'sides_length': {'type': 'dense_vector',\n",
       "     'dims': 4,\n",
       "     'index': True,\n",
       "     'similarity': 'cosine',\n",
       "     'index_options': {'type': 'int8_hnsw',\n",
       "      'm': 16,\n",
       "      'ef_construction': 100}}}}}}"
      ]
     },
     "execution_count": 65,
     "metadata": {},
     "output_type": "execute_result"
    }
   ],
   "source": [
    "es.indices.get_mapping(index=\"my_index\").body"
   ]
  },
  {
   "cell_type": "code",
   "execution_count": 66,
   "metadata": {},
   "outputs": [
    {
     "data": {
      "text/plain": [
       "ObjectApiResponse({'acknowledged': True, 'shards_acknowledged': True, 'index': 'my_index'})"
      ]
     },
     "execution_count": 66,
     "metadata": {},
     "output_type": "execute_result"
    }
   ],
   "source": [
    "es.indices.delete(index=\"my_index\",ignore_unavailable=True)\n",
    "es.indices.create(index=\"my_index\",\n",
    "                  mappings={\n",
    "                      \"properties\": {\n",
    "                          \"embedding\":{\n",
    "                              \"type\":\"dense_vector\"\n",
    "                          }\n",
    "                      }\n",
    "                  })"
   ]
  },
  {
   "cell_type": "code",
   "execution_count": 67,
   "metadata": {},
   "outputs": [
    {
     "name": "stderr",
     "output_type": "stream",
     "text": [
      "/home/tuananh/Elastic_Search/venv/lib/python3.11/site-packages/tqdm/auto.py:21: TqdmWarning: IProgress not found. Please update jupyter and ipywidgets. See https://ipywidgets.readthedocs.io/en/stable/user_install.html\n",
      "  from .autonotebook import tqdm as notebook_tqdm\n"
     ]
    }
   ],
   "source": [
    "from sentence_transformers import SentenceTransformer\n",
    "\n",
    "model = SentenceTransformer(\"all-MiniLM-L6-v2\")"
   ]
  },
  {
   "cell_type": "code",
   "execution_count": 68,
   "metadata": {},
   "outputs": [],
   "source": [
    "import torch\n",
    "device = torch.device(\"cuda\" if torch.cuda.is_available() else \"cpu\")"
   ]
  },
  {
   "cell_type": "code",
   "execution_count": 69,
   "metadata": {},
   "outputs": [],
   "source": [
    "def get_embedding(text):\n",
    "    return model.encode(text)"
   ]
  },
  {
   "cell_type": "code",
   "execution_count": 70,
   "metadata": {},
   "outputs": [
    {
     "name": "stderr",
     "output_type": "stream",
     "text": [
      "100%|██████████| 3/3 [00:00<00:00,  4.54it/s]"
     ]
    },
    {
     "name": "stdout",
     "output_type": "stream",
     "text": [
      "{'errors': False,\n",
      " 'items': [{'index': {'_id': 'emwo35MBGBT6DZrp-rC_',\n",
      "                      '_index': 'my_index',\n",
      "                      '_primary_term': 1,\n",
      "                      '_seq_no': 0,\n",
      "                      '_shards': {'failed': 0, 'successful': 1, 'total': 2},\n",
      "                      '_version': 1,\n",
      "                      'result': 'created',\n",
      "                      'status': 201}},\n",
      "           {'index': {'_id': 'e2wo35MBGBT6DZrp-rC_',\n",
      "                      '_index': 'my_index',\n",
      "                      '_primary_term': 1,\n",
      "                      '_seq_no': 1,\n",
      "                      '_shards': {'failed': 0, 'successful': 1, 'total': 2},\n",
      "                      '_version': 1,\n",
      "                      'result': 'created',\n",
      "                      'status': 201}},\n",
      "           {'index': {'_id': 'fGwo35MBGBT6DZrp-rC_',\n",
      "                      '_index': 'my_index',\n",
      "                      '_primary_term': 1,\n",
      "                      '_seq_no': 2,\n",
      "                      '_shards': {'failed': 0, 'successful': 1, 'total': 2},\n",
      "                      '_version': 1,\n",
      "                      'result': 'created',\n",
      "                      'status': 201}}],\n",
      " 'took': 21069879}\n"
     ]
    },
    {
     "name": "stderr",
     "output_type": "stream",
     "text": [
      "\n"
     ]
    }
   ],
   "source": [
    "operations = []\n",
    "\n",
    "for document in tqdm(dummy_data, total=len(dummy_data)):\n",
    "    operations.append({\"index\":{\"_index\":\"my_index\"}})\n",
    "    operations.append({\n",
    "        **document,\n",
    "        \"embedding\":get_embedding(document['text'])\n",
    "    })\n",
    "\n",
    "response = es.bulk(operations=operations)\n",
    "pprint(response.body)"
   ]
  },
  {
   "cell_type": "code",
   "execution_count": 71,
   "metadata": {},
   "outputs": [
    {
     "name": "stdout",
     "output_type": "stream",
     "text": [
      "[]\n"
     ]
    }
   ],
   "source": [
    "response = es.search(\n",
    "    index=\"my_index\",\n",
    "    body={\n",
    "        \"query\": {\n",
    "            \"match_all\": {}\n",
    "        }\n",
    "    }\n",
    ")\n",
    "\n",
    "pprint(response['hits']['hits'])"
   ]
  },
  {
   "cell_type": "code",
   "execution_count": 72,
   "metadata": {},
   "outputs": [
    {
     "name": "stdout",
     "output_type": "stream",
     "text": [
      "{'my_index': {'mappings': {'properties': {'created_on': {'type': 'date'},\n",
      "                                          'embedding': {'dims': 384,\n",
      "                                                        'index': True,\n",
      "                                                        'index_options': {'ef_construction': 100,\n",
      "                                                                          'm': 16,\n",
      "                                                                          'type': 'int8_hnsw'},\n",
      "                                                        'similarity': 'cosine',\n",
      "                                                        'type': 'dense_vector'},\n",
      "                                          'text': {'fields': {'keyword': {'ignore_above': 256,\n",
      "                                                                          'type': 'keyword'}},\n",
      "                                                   'type': 'text'},\n",
      "                                          'title': {'fields': {'keyword': {'ignore_above': 256,\n",
      "                                                                           'type': 'keyword'}},\n",
      "                                                    'type': 'text'}}}}}\n"
     ]
    }
   ],
   "source": [
    "response = es.indices.get_mapping(\n",
    "    index=\"my_index\"\n",
    ")\n",
    "pprint(response.body)"
   ]
  },
  {
   "cell_type": "code",
   "execution_count": 73,
   "metadata": {},
   "outputs": [
    {
     "data": {
      "text/plain": [
       "ObjectApiResponse({'acknowledged': True, 'shards_acknowledged': True, 'index': 'my_index'})"
      ]
     },
     "execution_count": 73,
     "metadata": {},
     "output_type": "execute_result"
    }
   ],
   "source": [
    "es.indices.delete(index=\"my_index\", ignore_unavailable=True)\n",
    "es.indices.create(\n",
    "    index=\"my_index\",\n",
    "    mappings={\n",
    "        \"properties\": {\n",
    "            \"embedding\":{\n",
    "                \"type\": \"dense_vector\",\n",
    "            }\n",
    "        }\n",
    "        \n",
    "    }\n",
    ")"
   ]
  },
  {
   "cell_type": "code",
   "execution_count": 74,
   "metadata": {},
   "outputs": [],
   "source": [
    "documents=[\n",
    "  {\n",
    "    \"id\": 1,\n",
    "    \"title\": \"The Solar System\",\n",
    "    \"content\": \"The Solar System consists of the Sun and the objects that orbit it, including eight planets, their moons, dwarf planets, and countless small bodies like asteroids and comets.\"\n",
    "  },\n",
    "  {\n",
    "    \"id\": 2,\n",
    "    \"title\": \"Black Holes\",\n",
    "    \"content\": \"A black hole is a region of space where the gravitational pull is so strong that nothing, not even light, can escape from it. They are formed when massive stars collapse under their own gravity.\"\n",
    "  },\n",
    "  {\n",
    "    \"id\": 3,\n",
    "    \"title\": \"Galaxies\",\n",
    "    \"content\": \"Galaxies are vast systems that consist of stars, stellar remnants, interstellar gas, dust, and dark matter. The Milky Way is the galaxy that contains our Solar System.\"\n",
    "  },\n",
    "  {\n",
    "    \"id\": 4,\n",
    "    \"title\": \"The Big Bang Theory\",\n",
    "    \"content\": \"The Big Bang Theory is the leading explanation about how the universe began. It suggests that the universe was once in an extremely hot and dense state and has been expanding ever since.\"\n",
    "  },\n",
    "  {\n",
    "    \"id\": 5,\n",
    "    \"title\": \"Exoplanets\",\n",
    "    \"content\": \"Exoplanets, or extrasolar planets, are planets that exist outside our solar system. They vary greatly in size and composition and are often found using methods like the transit method and radial velocity.\"\n",
    "  },\n",
    "  {\n",
    "    \"id\": 6,\n",
    "    \"title\": \"The Life Cycle of Stars\",\n",
    "    \"content\": \"Stars are born from clouds of gas and dust in space. They undergo a life cycle that includes stages such as main sequence, red giant, and, ultimately, either a supernova explosion or a gentle fade into a white dwarf.\"\n",
    "  },\n",
    "  {\n",
    "    \"id\": 7,\n",
    "    \"title\": \"Astrobiology\",\n",
    "    \"content\": \"Astrobiology is the study of the origin, evolution, distribution, and future of life in the universe. It combines elements of biology, chemistry, and planetary science.\"\n",
    "  },\n",
    "  {\n",
    "    \"id\": 8,\n",
    "    \"title\": \"Dark Matter\",\n",
    "    \"content\": \"Dark matter is a type of matter that does not emit light or energy. It cannot be observed directly but is believed to make up about 27% of the universe's total mass and energy.\"\n",
    "  },\n",
    "  {\n",
    "    \"id\": 9,\n",
    "    \"title\": \"The Expanding Universe\",\n",
    "    \"content\": \"The universe has been expanding since the Big Bang. Observations of distant galaxies show that they are moving away from us, which supports the idea of an expanding universe.\"\n",
    "  },\n",
    "  {\n",
    "    \"id\": 10,\n",
    "    \"title\": \"Space Exploration\",\n",
    "    \"content\": \"Space exploration involves the use of space technology to explore outer space. It includes missions to planets, moons, and other celestial bodies, aiming to discover more about the universe.\"\n",
    "  }\n",
    "]"
   ]
  },
  {
   "cell_type": "code",
   "execution_count": 75,
   "metadata": {},
   "outputs": [
    {
     "name": "stderr",
     "output_type": "stream",
     "text": [
      "100%|██████████| 10/10 [00:00<00:00, 128.34it/s]"
     ]
    },
    {
     "name": "stdout",
     "output_type": "stream",
     "text": [
      "{'errors': False,\n",
      " 'items': [{'index': {'_id': 'fWwo35MBGBT6DZrp_LBP',\n",
      "                      '_index': 'my_index',\n",
      "                      '_primary_term': 1,\n",
      "                      '_seq_no': 0,\n",
      "                      '_shards': {'failed': 0, 'successful': 1, 'total': 2},\n",
      "                      '_version': 1,\n",
      "                      'result': 'created',\n",
      "                      'status': 201}},\n",
      "           {'index': {'_id': 'fmwo35MBGBT6DZrp_LBP',\n",
      "                      '_index': 'my_index',\n",
      "                      '_primary_term': 1,\n",
      "                      '_seq_no': 1,\n",
      "                      '_shards': {'failed': 0, 'successful': 1, 'total': 2},\n",
      "                      '_version': 1,\n",
      "                      'result': 'created',\n",
      "                      'status': 201}},\n",
      "           {'index': {'_id': 'f2wo35MBGBT6DZrp_LBP',\n",
      "                      '_index': 'my_index',\n",
      "                      '_primary_term': 1,\n",
      "                      '_seq_no': 2,\n",
      "                      '_shards': {'failed': 0, 'successful': 1, 'total': 2},\n",
      "                      '_version': 1,\n",
      "                      'result': 'created',\n",
      "                      'status': 201}},\n",
      "           {'index': {'_id': 'gGwo35MBGBT6DZrp_LBP',\n",
      "                      '_index': 'my_index',\n",
      "                      '_primary_term': 1,\n",
      "                      '_seq_no': 3,\n",
      "                      '_shards': {'failed': 0, 'successful': 1, 'total': 2},\n",
      "                      '_version': 1,\n",
      "                      'result': 'created',\n",
      "                      'status': 201}},\n",
      "           {'index': {'_id': 'gWwo35MBGBT6DZrp_LBP',\n",
      "                      '_index': 'my_index',\n",
      "                      '_primary_term': 1,\n",
      "                      '_seq_no': 4,\n",
      "                      '_shards': {'failed': 0, 'successful': 1, 'total': 2},\n",
      "                      '_version': 1,\n",
      "                      'result': 'created',\n",
      "                      'status': 201}},\n",
      "           {'index': {'_id': 'gmwo35MBGBT6DZrp_LBP',\n",
      "                      '_index': 'my_index',\n",
      "                      '_primary_term': 1,\n",
      "                      '_seq_no': 5,\n",
      "                      '_shards': {'failed': 0, 'successful': 1, 'total': 2},\n",
      "                      '_version': 1,\n",
      "                      'result': 'created',\n",
      "                      'status': 201}},\n",
      "           {'index': {'_id': 'g2wo35MBGBT6DZrp_LBP',\n",
      "                      '_index': 'my_index',\n",
      "                      '_primary_term': 1,\n",
      "                      '_seq_no': 6,\n",
      "                      '_shards': {'failed': 0, 'successful': 1, 'total': 2},\n",
      "                      '_version': 1,\n",
      "                      'result': 'created',\n",
      "                      'status': 201}},\n",
      "           {'index': {'_id': 'hGwo35MBGBT6DZrp_LBP',\n",
      "                      '_index': 'my_index',\n",
      "                      '_primary_term': 1,\n",
      "                      '_seq_no': 7,\n",
      "                      '_shards': {'failed': 0, 'successful': 1, 'total': 2},\n",
      "                      '_version': 1,\n",
      "                      'result': 'created',\n",
      "                      'status': 201}},\n",
      "           {'index': {'_id': 'hWwo35MBGBT6DZrp_LBP',\n",
      "                      '_index': 'my_index',\n",
      "                      '_primary_term': 1,\n",
      "                      '_seq_no': 8,\n",
      "                      '_shards': {'failed': 0, 'successful': 1, 'total': 2},\n",
      "                      '_version': 1,\n",
      "                      'result': 'created',\n",
      "                      'status': 201}},\n",
      "           {'index': {'_id': 'hmwo35MBGBT6DZrp_LBP',\n",
      "                      '_index': 'my_index',\n",
      "                      '_primary_term': 1,\n",
      "                      '_seq_no': 9,\n",
      "                      '_shards': {'failed': 0, 'successful': 1, 'total': 2},\n",
      "                      '_version': 1,\n",
      "                      'result': 'created',\n",
      "                      'status': 201}}],\n",
      " 'took': 21070294}\n"
     ]
    },
    {
     "name": "stderr",
     "output_type": "stream",
     "text": [
      "\n"
     ]
    }
   ],
   "source": [
    "def get_embedding(text):\n",
    "    return model.encode(text)\n",
    "\n",
    "operations = []\n",
    "for document in tqdm(documents, total=len(documents)):\n",
    "    operations.append({\"index\":{\"_index\":\"my_index\"}})\n",
    "    operations.append({\n",
    "        **document,\n",
    "        \"embedding\":get_embedding(document['content'])\n",
    "    })\n",
    "\n",
    "response = es.bulk(operations=operations)\n",
    "pprint(response.body)"
   ]
  },
  {
   "cell_type": "code",
   "execution_count": 76,
   "metadata": {},
   "outputs": [
    {
     "name": "stdout",
     "output_type": "stream",
     "text": [
      "[]\n"
     ]
    }
   ],
   "source": [
    "response = es.search(\n",
    "    index=\"my_index\",\n",
    "    body={\n",
    "        \"query\":{\n",
    "            \"match_all\": {}\n",
    "        }\n",
    "    }\n",
    ")\n",
    "\n",
    "pprint(response['hits']['hits'])"
   ]
  },
  {
   "cell_type": "code",
   "execution_count": 77,
   "metadata": {},
   "outputs": [
    {
     "name": "stdout",
     "output_type": "stream",
     "text": [
      "{'my_index': {'mappings': {'properties': {'content': {'fields': {'keyword': {'ignore_above': 256,\n",
      "                                                                             'type': 'keyword'}},\n",
      "                                                      'type': 'text'},\n",
      "                                          'embedding': {'dims': 384,\n",
      "                                                        'index': True,\n",
      "                                                        'index_options': {'ef_construction': 100,\n",
      "                                                                          'm': 16,\n",
      "                                                                          'type': 'int8_hnsw'},\n",
      "                                                        'similarity': 'cosine',\n",
      "                                                        'type': 'dense_vector'},\n",
      "                                          'id': {'type': 'long'},\n",
      "                                          'title': {'fields': {'keyword': {'ignore_above': 256,\n",
      "                                                                           'type': 'keyword'}},\n",
      "                                                    'type': 'text'}}}}}\n"
     ]
    }
   ],
   "source": [
    "response = es.indices.get_mapping(\n",
    "    index=\"my_index\"\n",
    ")\n",
    "\n",
    "pprint(response.body)"
   ]
  },
  {
   "cell_type": "code",
   "execution_count": 78,
   "metadata": {},
   "outputs": [],
   "source": [
    "query = \"What is a black hole ?\"\n",
    "embedding_query = get_embedding(query)"
   ]
  },
  {
   "cell_type": "code",
   "execution_count": 79,
   "metadata": {},
   "outputs": [
    {
     "name": "stdout",
     "output_type": "stream",
     "text": [
      "{'_shards': {'failed': 0, 'skipped': 0, 'successful': 1, 'total': 1},\n",
      " 'hits': {'hits': [],\n",
      "          'max_score': None,\n",
      "          'total': {'relation': 'eq', 'value': 0}},\n",
      " 'timed_out': False,\n",
      " 'took': 1}\n"
     ]
    }
   ],
   "source": [
    "result = es.search(\n",
    "    index=\"my_index\",\n",
    "    knn={\n",
    "        \"field\":\"embedding\",\n",
    "        \"query_vector\": embedding_query,\n",
    "        \"num_candidates\":5,\n",
    "        \"k\":3\n",
    "    }\n",
    ")\n",
    "\n",
    "pprint(result.body)"
   ]
  },
  {
   "cell_type": "code",
   "execution_count": 80,
   "metadata": {},
   "outputs": [],
   "source": [
    "hits = result.body['hits']['hits']\n",
    "for hit in hits:\n",
    "    print(f\"Title: {hit['_source']['title']}\")\n",
    "    print(f\"Content: {hit['_source']['content']}\")\n",
    "    print(f\"Score: {hit['_score']}\")\n",
    "    print(\"*\"*100)\n",
    "\n",
    "    "
   ]
  },
  {
   "cell_type": "code",
   "execution_count": 81,
   "metadata": {},
   "outputs": [
    {
     "data": {
      "text/plain": [
       "ObjectApiResponse({'acknowledged': True, 'shards_acknowledged': True, 'index': 'my_index'})"
      ]
     },
     "execution_count": 81,
     "metadata": {},
     "output_type": "execute_result"
    }
   ],
   "source": [
    "index_name = \"my_index\"\n",
    "mapping = {\n",
    "    \"mappings\":{\n",
    "        \"properties\":{\n",
    "            \"timestamp\": {\"type\":\"date\"},\n",
    "            \"value\": {\"type\":\"float\"},\n",
    "            \"category\": {\"type\":\"keyword\"},\n",
    "            \"description\": {\"type\":\"text\"},\n",
    "            \"id\" : {\"type\": \"keyword\"}\n",
    "        }\n",
    "    },\n",
    "    \"settings\": {\n",
    "        \"number_of_shards\":1,\n",
    "        \"number_of_replicas\":0\n",
    "    }\n",
    "}\n",
    "\n",
    "es.indices.delete(index=index_name, ignore_unavailable=True)\n",
    "es.indices.create(index=index_name,body=mapping)"
   ]
  },
  {
   "cell_type": "code",
   "execution_count": 82,
   "metadata": {},
   "outputs": [],
   "source": [
    "base_documents = [\n",
    "    {\n",
    "        \"category\": \"A\",\n",
    "        \"value\": 100,\n",
    "        \"description\": \"First sample document\"\n",
    "    },\n",
    "    {\n",
    "        \"category\": \"B\",\n",
    "        \"value\": 200,\n",
    "        \"description\": \"Second sample document\"\n",
    "    },\n",
    "    {\n",
    "        \"category\": \"C\",\n",
    "        \"value\": 300,\n",
    "        \"description\": \"Third sample document\"\n",
    "    },\n",
    "    {\n",
    "        \"category\": \"D\",\n",
    "        \"value\": 400,\n",
    "        \"description\": \"Fourth sample document\"\n",
    "    },\n",
    "    {\n",
    "        \"category\": \"E\",\n",
    "        \"value\": 500,\n",
    "        \"description\": \"Fifth sample document\"\n",
    "    }\n",
    "]"
   ]
  },
  {
   "cell_type": "code",
   "execution_count": 83,
   "metadata": {},
   "outputs": [
    {
     "name": "stdout",
     "output_type": "stream",
     "text": [
      "Generated 100000 documents\n"
     ]
    }
   ],
   "source": [
    "import random\n",
    "from datetime import datetime, timedelta\n",
    "\n",
    "def generate_bulk_data(base_documents, target_size=100000):\n",
    "    documents = []\n",
    "    base_count = len(base_documents)\n",
    "    duplications_needed = target_size // base_count\n",
    "\n",
    "    base_timestamp = datetime.now()\n",
    "\n",
    "    for i in range(duplications_needed):\n",
    "        for document in base_documents:\n",
    "            new_doc = document.copy()\n",
    "            new_doc['id'] = f\"doc_{len(documents)}\"\n",
    "            new_doc['timestamp'] = (base_timestamp - timedelta(minutes=len(documents))).isoformat()\n",
    "\n",
    "            new_doc['value'] = document['value'] + random.uniform(-10,10)\n",
    "            documents.append(new_doc)\n",
    "\n",
    "    return documents\n",
    "\n",
    "documents = generate_bulk_data(base_documents)\n",
    "print(f\"Generated {len(documents)} documents\")"
   ]
  },
  {
   "cell_type": "code",
   "execution_count": 84,
   "metadata": {},
   "outputs": [
    {
     "name": "stderr",
     "output_type": "stream",
     "text": [
      "100%|██████████| 100000/100000 [00:00<00:00, 466285.05it/s]\n"
     ]
    },
    {
     "name": "stdout",
     "output_type": "stream",
     "text": [
      "False\n"
     ]
    }
   ],
   "source": [
    "from tqdm import tqdm\n",
    "operations = []\n",
    "\n",
    "for document in tqdm(documents, total=len(documents)):\n",
    "    operations.append({\"index\":{\"_index\":index_name}})\n",
    "    operations.append(document)\n",
    "\n",
    "response = es.bulk(operations=operations)\n",
    "pprint(response.body['errors'])"
   ]
  },
  {
   "cell_type": "code",
   "execution_count": 85,
   "metadata": {},
   "outputs": [
    {
     "name": "stdout",
     "output_type": "stream",
     "text": [
      "Total documents in index my_index: 100000\n"
     ]
    }
   ],
   "source": [
    "es.indices.refresh(index=index_name)\n",
    "count = es.count(index=index_name)['count']\n",
    "print(f\"Total documents in index {index_name}: {count}\")"
   ]
  },
  {
   "cell_type": "code",
   "execution_count": 86,
   "metadata": {},
   "outputs": [
    {
     "name": "stdout",
     "output_type": "stream",
     "text": [
      "ID: doc_0\n",
      "Sort value: [1734641025914, 'doc_0']\n",
      "ID: doc_1\n",
      "Sort value: [1734640965914, 'doc_1']\n",
      "ID: doc_2\n",
      "Sort value: [1734640905914, 'doc_2']\n",
      "ID: doc_3\n",
      "Sort value: [1734640845914, 'doc_3']\n",
      "ID: doc_4\n",
      "Sort value: [1734640785914, 'doc_4']\n",
      "ID: doc_5\n",
      "Sort value: [1734640725914, 'doc_5']\n",
      "ID: doc_6\n",
      "Sort value: [1734640665914, 'doc_6']\n",
      "ID: doc_7\n",
      "Sort value: [1734640605914, 'doc_7']\n",
      "ID: doc_8\n",
      "Sort value: [1734640545914, 'doc_8']\n",
      "ID: doc_9\n",
      "Sort value: [1734640485914, 'doc_9']\n"
     ]
    }
   ],
   "source": [
    "response = es.search(\n",
    "    index=index_name,\n",
    "    body={\n",
    "        \"from\": 0,\n",
    "        \"size\": 10,\n",
    "        \"sort\": [\n",
    "            {\"timestamp\": \"desc\"},\n",
    "            {\"id\":\"desc\"}\n",
    "        ]\n",
    "    }\n",
    ")\n",
    "\n",
    "hits = response['hits']['hits']\n",
    "for hit in hits:\n",
    "    print(f\"ID: {hit['_source']['id']}\")\n",
    "    print(f\"Sort value: {hit['sort']}\")"
   ]
  },
  {
   "cell_type": "code",
   "execution_count": 87,
   "metadata": {},
   "outputs": [
    {
     "name": "stdout",
     "output_type": "stream",
     "text": [
      "ID: doc_10\n",
      "Sort values: [1734640425914, 'doc_10']\n",
      "****************************************************************************************************\n",
      "ID: doc_11\n",
      "Sort values: [1734640365914, 'doc_11']\n",
      "****************************************************************************************************\n",
      "ID: doc_12\n",
      "Sort values: [1734640305914, 'doc_12']\n",
      "****************************************************************************************************\n",
      "ID: doc_13\n",
      "Sort values: [1734640245914, 'doc_13']\n",
      "****************************************************************************************************\n",
      "ID: doc_14\n",
      "Sort values: [1734640185914, 'doc_14']\n",
      "****************************************************************************************************\n",
      "ID: doc_15\n",
      "Sort values: [1734640125914, 'doc_15']\n",
      "****************************************************************************************************\n",
      "ID: doc_16\n",
      "Sort values: [1734640065914, 'doc_16']\n",
      "****************************************************************************************************\n",
      "ID: doc_17\n",
      "Sort values: [1734640005914, 'doc_17']\n",
      "****************************************************************************************************\n",
      "ID: doc_18\n",
      "Sort values: [1734639945914, 'doc_18']\n",
      "****************************************************************************************************\n",
      "ID: doc_19\n",
      "Sort values: [1734639885914, 'doc_19']\n",
      "****************************************************************************************************\n"
     ]
    }
   ],
   "source": [
    "last_sort_value = hits[-1]['sort']\n",
    "response = es.search(\n",
    "    index=index_name,\n",
    "    body={\n",
    "        \"size\":10,\n",
    "        \"sort\": [\n",
    "            {\"timestamp\": \"desc\"},\n",
    "            {\"id\": \"desc\"}\n",
    "        ],\n",
    "        \"search_after\":last_sort_value\n",
    "    }\n",
    ")\n",
    "\n",
    "hits = response[\"hits\"][\"hits\"]\n",
    "for hit in hits:\n",
    "    print(f\"ID: {hit['_source']['id']}\")\n",
    "    print(f\"Sort values: {hit['sort']}\")\n",
    "    print(\"*\"*100)"
   ]
  },
  {
   "cell_type": "code",
   "execution_count": 88,
   "metadata": {},
   "outputs": [],
   "source": [
    "import time\n",
    "from tqdm import tqdm\n",
    "\n",
    "def test_from_size_pagination(es, index_name, page_size=100, max_pages=50):\n",
    "    timings = []\n",
    "\n",
    "    for page in tqdm(range(max_pages)):\n",
    "        start_time = time.time()\n",
    "\n",
    "        _ = es.search(\n",
    "            index = index_name,\n",
    "            body = {\n",
    "                \"from\": page * page_size,\n",
    "                \"size\": page_size,\n",
    "                \"sort\": [\n",
    "                    {\"timestamp\": \"desc\"},\n",
    "                    {\"id\": \"desc\"}\n",
    "                ]\n",
    "            }\n",
    "        )\n",
    "\n",
    "        end_time = time.time()\n",
    "        final_time = (end_time - start_time) *1000\n",
    "        timings.append((page + 1,final_time))\n",
    "\n",
    "    return timings"
   ]
  },
  {
   "cell_type": "code",
   "execution_count": 89,
   "metadata": {},
   "outputs": [
    {
     "name": "stderr",
     "output_type": "stream",
     "text": [
      "100%|██████████| 50/50 [00:00<00:00, 96.08it/s] \n"
     ]
    }
   ],
   "source": [
    "from_size_timings = test_from_size_pagination(es=es,index_name=index_name,page_size=200,max_pages=50)"
   ]
  },
  {
   "cell_type": "code",
   "execution_count": 90,
   "metadata": {},
   "outputs": [
    {
     "data": {
      "text/plain": [
       "[(1, 10.415792465209961),\n",
       " (2, 12.519121170043945),\n",
       " (3, 8.509635925292969),\n",
       " (4, 10.029792785644531),\n",
       " (5, 9.845256805419922),\n",
       " (6, 7.7724456787109375),\n",
       " (7, 6.780385971069336),\n",
       " (8, 7.526159286499023),\n",
       " (9, 7.498502731323242),\n",
       " (10, 7.364988327026367),\n",
       " (11, 8.062124252319336),\n",
       " (12, 7.745265960693359),\n",
       " (13, 8.406400680541992),\n",
       " (14, 8.265018463134766),\n",
       " (15, 8.38780403137207),\n",
       " (16, 7.938623428344727),\n",
       " (17, 8.691787719726562),\n",
       " (18, 7.956504821777344),\n",
       " (19, 9.157657623291016),\n",
       " (20, 7.582426071166992),\n",
       " (21, 9.238243103027344),\n",
       " (22, 8.297443389892578),\n",
       " (23, 8.69894027709961),\n",
       " (24, 8.524894714355469),\n",
       " (25, 9.504556655883789),\n",
       " (26, 9.287595748901367),\n",
       " (27, 9.65261459350586),\n",
       " (28, 10.047197341918945),\n",
       " (29, 11.954784393310547),\n",
       " (30, 11.523723602294922),\n",
       " (31, 10.290384292602539),\n",
       " (32, 10.471820831298828),\n",
       " (33, 11.594772338867188),\n",
       " (34, 12.848615646362305),\n",
       " (35, 10.685920715332031),\n",
       " (36, 12.973546981811523),\n",
       " (37, 12.506723403930664),\n",
       " (38, 10.152578353881836),\n",
       " (39, 11.878728866577148),\n",
       " (40, 14.992475509643555),\n",
       " (41, 13.91744613647461),\n",
       " (42, 12.775182723999023),\n",
       " (43, 12.037038803100586),\n",
       " (44, 11.99197769165039),\n",
       " (45, 12.786149978637695),\n",
       " (46, 13.588905334472656),\n",
       " (47, 16.204357147216797),\n",
       " (48, 12.995481491088867),\n",
       " (49, 12.449026107788086),\n",
       " (50, 12.887716293334961)]"
      ]
     },
     "execution_count": 90,
     "metadata": {},
     "output_type": "execute_result"
    }
   ],
   "source": [
    "from_size_timings"
   ]
  },
  {
   "cell_type": "code",
   "execution_count": 91,
   "metadata": {},
   "outputs": [],
   "source": [
    "def test_search_after_pagination(es, index_name, page_size=100, max_pages=50):\n",
    "    timings = []\n",
    "    search_after = None\n",
    "\n",
    "    for page in tqdm(range(max_pages)):\n",
    "        start_time = time.time()\n",
    "\n",
    "        body = {\n",
    "            \"size\": page_size,\n",
    "            \"sort\": [\n",
    "                {\"timestamp\":\"desc\"},\n",
    "                {\"id\": \"desc\"}\n",
    "            ]\n",
    "        }\n",
    "\n",
    "        if search_after :\n",
    "            body[\"search_after\"] = search_after\n",
    "        \n",
    "        response = es.search(\n",
    "            index=index_name,\n",
    "            body=body\n",
    "        )\n",
    "\n",
    "        hits = response['hits']['hits']\n",
    "        if hits:\n",
    "            search_after = hits[-1]['sort']\n",
    "        \n",
    "        end_time = time.time()\n",
    "        final_time = (end_time - start_time) * 1000\n",
    "        timings.append((page+1,final_time))\n",
    "\n",
    "    return timings"
   ]
  },
  {
   "cell_type": "code",
   "execution_count": 92,
   "metadata": {},
   "outputs": [
    {
     "name": "stderr",
     "output_type": "stream",
     "text": [
      "100%|██████████| 50/50 [00:00<00:00, 203.52it/s]\n"
     ]
    }
   ],
   "source": [
    "times_search_after=test_search_after_pagination(es=es,index_name=index_name)"
   ]
  },
  {
   "cell_type": "code",
   "execution_count": 93,
   "metadata": {},
   "outputs": [
    {
     "data": {
      "image/png": "[encoded data removed]",
      "text/plain": [
       "<Figure size 1200x600 with 1 Axes>"
      ]
     },
     "metadata": {},
     "output_type": "display_data"
    }
   ],
   "source": [
    "import matplotlib.pyplot as plt\n",
    "\n",
    "def plot_comparison(from_size_timings, search_after_timings):\n",
    "    plt.figure(figsize=(12,6))\n",
    "\n",
    "    pages_from_size , times_from_size = zip(*from_size_timings)\n",
    "    page_search_after, times_search_after = zip(*search_after_timings)\n",
    "\n",
    "    plt.plot(pages_from_size, times_from_size,\"b-\", label='From/Size')\n",
    "    plt.plot(page_search_after, times_search_after,\"r-\", label='Search_After')\n",
    "\n",
    "    plt.xlabel(\"Page number\")\n",
    "    plt.ylabel(\"Response time (milliseconds)\")\n",
    "    plt.title(\"Comparison of response times\")\n",
    "    plt.legend()\n",
    "    plt.grid(True)\n",
    "    plt.show()\n",
    "\n",
    "plot_comparison(from_size_timings,times_search_after)"
   ]
  },
  {
   "cell_type": "code",
   "execution_count": 94,
   "metadata": {},
   "outputs": [
    {
     "data": {
      "image/png": "[encoded data removed]",
      "text/plain": [
       "<Figure size 1200x600 with 1 Axes>"
      ]
     },
     "metadata": {},
     "output_type": "display_data"
    }
   ],
   "source": [
    "plt.figure(figsize=(12,6))\n",
    "_, times_from_size = zip(*from_size_timings)\n",
    "_, times_search_after = zip(*times_search_after)\n",
    "\n",
    "plt.hist(times_from_size,alpha=0.5,label=\"from/size\",bins=20)\n",
    "plt.hist(times_search_after,alpha=0.5, label=\"search_after\", bins=20)\n",
    "plt.xlabel(\"Response time (milliseconds)\")\n",
    "plt.ylabel(\"Frequency\")\n",
    "plt.title(\"Distribution of response times\")\n",
    "plt.legend()\n",
    "plt.grid(True)\n",
    "plt.show()"
   ]
  },
  {
   "cell_type": "code",
   "execution_count": 95,
   "metadata": {},
   "outputs": [
    {
     "name": "stdout",
     "output_type": "stream",
     "text": [
      "{'acknowledged': True}\n"
     ]
    }
   ],
   "source": [
    "response = es.ingest.put_pipeline(\n",
    "    id='lowercase_pipeline',\n",
    "    description=\"This pipeline transforms the text to lowercase\",\n",
    "    processors=[\n",
    "        {\n",
    "            \"lowercase\": {\n",
    "                \"field\":\"text\"\n",
    "            }\n",
    "        }\n",
    "    ]\n",
    ")\n",
    "\n",
    "pprint(response.body)"
   ]
  },
  {
   "cell_type": "code",
   "execution_count": 96,
   "metadata": {},
   "outputs": [
    {
     "name": "stdout",
     "output_type": "stream",
     "text": [
      "{'lowercase_pipeline': {'description': 'This pipeline transforms the text to '\n",
      "                                       'lowercase',\n",
      "                        'processors': [{'lowercase': {'field': 'text'}}]}}\n"
     ]
    }
   ],
   "source": [
    "response = es.ingest.get_pipeline(\n",
    "    id=\"lowercase_pipeline\"\n",
    ")\n",
    "pprint(response.body)"
   ]
  },
  {
   "cell_type": "code",
   "execution_count": 97,
   "metadata": {},
   "outputs": [
    {
     "name": "stdout",
     "output_type": "stream",
     "text": [
      "{'acknowledged': True}\n"
     ]
    }
   ],
   "source": [
    "response = es.ingest.delete_pipeline(id=\"lowercase_pipeline\")\n",
    "pprint(response.body)"
   ]
  },
  {
   "cell_type": "code",
   "execution_count": 98,
   "metadata": {},
   "outputs": [
    {
     "name": "stdout",
     "output_type": "stream",
     "text": [
      "{'acknowledged': True}\n"
     ]
    }
   ],
   "source": [
    "response = es.ingest.put_pipeline(\n",
    "    id='lowercase_pipeline',\n",
    "    description=\"This pipeline transforms the text to lowercase\",\n",
    "    processors=[\n",
    "        {\n",
    "            \"lowercase\": {\n",
    "                \"field\":\"text\"\n",
    "            }\n",
    "        }\n",
    "    ]\n",
    ")\n",
    "\n",
    "pprint(response.body)"
   ]
  },
  {
   "cell_type": "code",
   "execution_count": 99,
   "metadata": {},
   "outputs": [
    {
     "name": "stdout",
     "output_type": "stream",
     "text": [
      "{'docs': [{'doc': {'_id': '1',\n",
      "                   '_index': 'my_index',\n",
      "                   '_ingest': {'timestamp': '2024-12-19T13:43:52.26871775Z'},\n",
      "                   '_source': {'text': 'hello world'},\n",
      "                   '_version': '-3'}}]}\n"
     ]
    }
   ],
   "source": [
    "response = es.ingest.simulate(\n",
    "    id=\"lowercase_pipeline\",\n",
    "    docs=[\n",
    "        {\n",
    "            \"_index\":\"my_index\",\n",
    "            \"_id\": \"1\",\n",
    "            \"_source\": {\n",
    "                \"text\": \"Hello World\"\n",
    "            }\n",
    "        }\n",
    "    ]\n",
    ")\n",
    "\n",
    "pprint(response.body)"
   ]
  },
  {
   "cell_type": "code",
   "execution_count": 100,
   "metadata": {},
   "outputs": [
    {
     "data": {
      "text/plain": [
       "[{'title': 'Sample Title 1',\n",
       "  'text': 'THIS IS THE FIRST SAMPLE DOCUMENT TEXT.',\n",
       "  'created_on': '2024-09-22'},\n",
       " {'title': 'Sample Title 2',\n",
       "  'text': 'HERE IS ANOTHER EXAMPLE OF A DOCUMENT.',\n",
       "  'created_on': '2024-09-24'},\n",
       " {'title': 'Sample Title 3',\n",
       "  'text': 'THE CONTENT OF THE THIRD DOCUMENT GOES HERE.',\n",
       "  'created_on': '2024-09-24'}]"
      ]
     },
     "execution_count": 100,
     "metadata": {},
     "output_type": "execute_result"
    }
   ],
   "source": [
    "for i , document in enumerate(dummy_data):\n",
    "    document['text'] = document['text'].upper()\n",
    "    dummy_data[i] = document\n",
    "\n",
    "dummy_data"
   ]
  },
  {
   "cell_type": "code",
   "execution_count": 101,
   "metadata": {},
   "outputs": [
    {
     "data": {
      "text/plain": [
       "ObjectApiResponse({'acknowledged': True, 'shards_acknowledged': True, 'index': 'my_index'})"
      ]
     },
     "execution_count": 101,
     "metadata": {},
     "output_type": "execute_result"
    }
   ],
   "source": [
    "es.indices.delete(index=\"my_index\", ignore_unavailable=True)\n",
    "es.indices.create(index=\"my_index\")"
   ]
  },
  {
   "cell_type": "code",
   "execution_count": 102,
   "metadata": {},
   "outputs": [
    {
     "name": "stdout",
     "output_type": "stream",
     "text": [
      "{'errors': False,\n",
      " 'ingest_took': 0,\n",
      " 'items': [{'index': {'_id': 'J24p35MBGBT6DZrpFzfX',\n",
      "                      '_index': 'my_index',\n",
      "                      '_primary_term': 1,\n",
      "                      '_seq_no': 0,\n",
      "                      '_shards': {'failed': 0, 'successful': 1, 'total': 2},\n",
      "                      '_version': 1,\n",
      "                      'result': 'created',\n",
      "                      'status': 201}},\n",
      "           {'index': {'_id': 'KG4p35MBGBT6DZrpFzfX',\n",
      "                      '_index': 'my_index',\n",
      "                      '_primary_term': 1,\n",
      "                      '_seq_no': 1,\n",
      "                      '_shards': {'failed': 0, 'successful': 1, 'total': 2},\n",
      "                      '_version': 1,\n",
      "                      'result': 'created',\n",
      "                      'status': 201}},\n",
      "           {'index': {'_id': 'KW4p35MBGBT6DZrpFzfX',\n",
      "                      '_index': 'my_index',\n",
      "                      '_primary_term': 1,\n",
      "                      '_seq_no': 2,\n",
      "                      '_shards': {'failed': 0, 'successful': 1, 'total': 2},\n",
      "                      '_version': 1,\n",
      "                      'result': 'created',\n",
      "                      'status': 201}}],\n",
      " 'took': 21077314}\n"
     ]
    }
   ],
   "source": [
    "operations = []\n",
    "\n",
    "for document in dummy_data:\n",
    "    operations.append({\"index\": {\"_index\": \"my_index\"}})\n",
    "    operations.append(document)\n",
    "\n",
    "response = es.bulk(operations=operations, pipeline=\"lowercase_pipeline\")\n",
    "pprint(response.body)"
   ]
  },
  {
   "cell_type": "code",
   "execution_count": 103,
   "metadata": {},
   "outputs": [
    {
     "name": "stdout",
     "output_type": "stream",
     "text": [
      "{'acknowledged': True}\n"
     ]
    }
   ],
   "source": [
    "response = es.ingest.put_pipeline(\n",
    "    id='pipeline_1',\n",
    "    description=\"Pipeline with multiple transformations, handling and ignoring failures\",\n",
    "    processors=[\n",
    "        {\n",
    "            \"lowercase\": {\n",
    "                \"field\": \"text\"\n",
    "            }\n",
    "        },\n",
    "        {\n",
    "            \"set\": {\n",
    "                \"field\": \"text\",\n",
    "                \"value\": \"CHANGED BY PIPELINE\"\n",
    "            }\n",
    "        }\n",
    "    ]\n",
    ")\n",
    "\n",
    "pprint(response.body)"
   ]
  },
  {
   "cell_type": "code",
   "execution_count": 104,
   "metadata": {},
   "outputs": [
    {
     "name": "stdout",
     "output_type": "stream",
     "text": [
      "{'acknowledged': True}\n"
     ]
    }
   ],
   "source": [
    "response = es.ingest.put_pipeline(\n",
    "    id=\"pipeline_2\",\n",
    "    description=\"Pipeline with multiple transformations, handling and ignoring failure\",\n",
    "    processors=[\n",
    "        {\n",
    "            \"lowercase\": {\n",
    "                \"field\": \"text\",\n",
    "                \"on_failure\": [\n",
    "                    {\n",
    "                        \"set\": {\n",
    "                            \"field\": \"text\",\n",
    "                            \"value\": \"FAILED TO LOWERCASE\",\n",
    "                            \"ignore_failure\": True\n",
    "                        }\n",
    "                    }\n",
    "                ]\n",
    "            }\n",
    "        },\n",
    "        {\n",
    "            \"set\": {\n",
    "                \"field\": \"new_field\",\n",
    "                \"value\": \"ADD BY PIPELINE\",\n",
    "                \"ignore_failure\": True\n",
    "            }\n",
    "        }\n",
    "    ]\n",
    ")\n",
    "\n",
    "pprint(response.body)"
   ]
  },
  {
   "cell_type": "code",
   "execution_count": 105,
   "metadata": {},
   "outputs": [
    {
     "name": "stdout",
     "output_type": "stream",
     "text": [
      "{'_id': 'Km4p35MBGBT6DZrpGDci',\n",
      " '_index': 'my_index',\n",
      " '_primary_term': 1,\n",
      " '_seq_no': 3,\n",
      " '_shards': {'failed': 0, 'successful': 1, 'total': 2},\n",
      " '_version': 1,\n",
      " 'result': 'created'}\n"
     ]
    }
   ],
   "source": [
    "document = {\n",
    "    \"title\": \"Sample Title 4\",\n",
    "    \"created_on\": \"2024-09-25\"\n",
    "}\n",
    "\n",
    "response = es.index(\n",
    "    index=\"my_index\",\n",
    "    pipeline=\"pipeline_2\",\n",
    "    document=document\n",
    ")\n",
    "\n",
    "pprint(response.body)"
   ]
  },
  {
   "cell_type": "code",
   "execution_count": 106,
   "metadata": {},
   "outputs": [],
   "source": [
    "response = es.search(\n",
    "    index=\"my_index\"\n",
    ")\n",
    "\n",
    "hits = response.body['hits']['hits']\n",
    "for hit in hits:\n",
    "    print(hit['_source'])"
   ]
  },
  {
   "cell_type": "code",
   "execution_count": 107,
   "metadata": {},
   "outputs": [],
   "source": [
    "document = {\n",
    "    \"price\": \"100.50\",\n",
    "    \"old_name\": \"old_value\",\n",
    "    \"description\": \"<p>This is a description with HTML.</p>\",\n",
    "    \"username\": \"UserNAME\",\n",
    "    \"category\": \"books\",\n",
    "    \"title\": \"   Example Title with Whitespace   \",\n",
    "    \"tags\": \"tag1,tag2,tag3\",\n",
    "    \"temporary_field\": \"This field should be removed\"\n",
    "}"
   ]
  },
  {
   "cell_type": "code",
   "execution_count": 108,
   "metadata": {},
   "outputs": [
    {
     "data": {
      "text/plain": [
       "ObjectApiResponse({'acknowledged': True})"
      ]
     },
     "execution_count": 108,
     "metadata": {},
     "output_type": "execute_result"
    }
   ],
   "source": [
    "pipeline_body = {\n",
    "    \"description\": \"Pipeline to demonstrate various ingest processors\",\n",
    "    \"processors\":[\n",
    "        {\n",
    "            \"convert\": {\n",
    "                \"field\": \"price\",\n",
    "                \"type\": \"float\",\n",
    "                \"ignore_missing\":True\n",
    "            }\n",
    "        },\n",
    "        {\n",
    "            \"rename\":{\n",
    "                \"field\": \"old_name\",\n",
    "                \"target_field\": \"new_name\"\n",
    "            }\n",
    "        },\n",
    "        {\n",
    "            \"set\":{\n",
    "                \"field\": \"status\",\n",
    "                \"value\": \"active\"\n",
    "            }\n",
    "        },\n",
    "        {\n",
    "            \"html_strip\": {\n",
    "                \"field\": \"description\"\n",
    "            }\n",
    "        },\n",
    "        {\n",
    "            \"lowercase\": {\n",
    "                \"field\":\"username\"\n",
    "            }\n",
    "        },\n",
    "        {\n",
    "            \"uppercase\": {\n",
    "                \"field\": \"category\"\n",
    "            }\n",
    "        },\n",
    "        {\n",
    "            \"trim\": {\n",
    "                \"field\": \"title\"\n",
    "            }\n",
    "        },\n",
    "        {\n",
    "            \"split\": {\n",
    "                \"field\": \"tags\",\n",
    "                \"separator\": \",\"\n",
    "            }\n",
    "        },\n",
    "        {\n",
    "            \"remove\":{\n",
    "                \"field\": \"temporary_field\"\n",
    "            }\n",
    "        },\n",
    "        {\n",
    "            \"append\":{\n",
    "                \"field\": \"tags\",\n",
    "                \"value\": [\"new_tag\"]\n",
    "            }\n",
    "        }\n",
    "    ]\n",
    "}\n",
    "\n",
    "pipeline_id  = \"multi_steps_pipeline\"\n",
    "es.ingest.put_pipeline(id=pipeline_id, body=pipeline_body)\n"
   ]
  },
  {
   "cell_type": "code",
   "execution_count": 109,
   "metadata": {},
   "outputs": [
    {
     "name": "stdout",
     "output_type": "stream",
     "text": [
      "{'_id': 'K24p35MBGBT6DZrpGTdH',\n",
      " '_index': 'my_index',\n",
      " '_primary_term': 1,\n",
      " '_seq_no': 0,\n",
      " '_shards': {'failed': 0, 'successful': 1, 'total': 2},\n",
      " '_version': 1,\n",
      " 'result': 'created'}\n"
     ]
    }
   ],
   "source": [
    "es.indices.delete(index=\"my_index\", ignore_unavailable=True)\n",
    "es.indices.create(index=\"my_index\")\n",
    "\n",
    "response = es.index(index=\"my_index\", document=document,pipeline=pipeline_id)\n",
    "pprint(response.body)"
   ]
  },
  {
   "cell_type": "code",
   "execution_count": 110,
   "metadata": {},
   "outputs": [],
   "source": [
    "response = es.search(index=\"my_index\")\n",
    "hits = response.body['hits']['hits']\n",
    "\n",
    "for hit in hits:\n",
    "    pprint(hit['_source'])"
   ]
  },
  {
   "cell_type": "code",
   "execution_count": 111,
   "metadata": {},
   "outputs": [],
   "source": [
    "clothes_documents=[\n",
    "  { \"brand\": \"gucci\", \"color\": \"red\", \"model\": \"model_1\" },\n",
    "  { \"brand\": \"gucci\", \"color\": \"blue\", \"model\": \"model_2\" },\n",
    "  { \"brand\": \"gucci\", \"color\": \"red\", \"model\": \"model_3\" },\n",
    "  { \"brand\": \"gucci\", \"color\": \"green\", \"model\": \"model_4\" },\n",
    "  { \"brand\": \"gucci\", \"color\": \"red\", \"model\": \"model_1\" },\n",
    "  { \"brand\": \"gucci\", \"color\": \"yellow\", \"model\": \"model_2\" },\n",
    "  { \"brand\": \"nike\", \"color\": \"red\", \"model\": \"model_5\" },\n",
    "  { \"brand\": \"nike\", \"color\": \"blue\", \"model\": \"model_6\" },\n",
    "  { \"brand\": \"gucci\", \"color\": \"blue\", \"model\": \"model_3\" },\n",
    "  { \"brand\": \"gucci\", \"color\": \"red\", \"model\": \"model_4\" },\n",
    "  { \"brand\": \"nike\", \"color\": \"red\", \"model\": \"model_7\" },\n",
    "  { \"brand\": \"nike\", \"color\": \"green\", \"model\": \"model_8\" },\n",
    "  { \"brand\": \"gucci\", \"color\": \"red\", \"model\": \"model_1\" },\n",
    "  { \"brand\": \"adidas\", \"color\": \"blue\", \"model\": \"model_9\" },\n",
    "  { \"brand\": \"adidas\", \"color\": \"red\", \"model\": \"model_10\" },\n",
    "  { \"brand\": \"puma\", \"color\": \"yellow\", \"model\": \"model_11\" },\n",
    "  { \"brand\": \"puma\", \"color\": \"red\", \"model\": \"model_12\" },\n",
    "  { \"brand\": \"nike\", \"color\": \"blue\", \"model\": \"model_13\" },\n",
    "  { \"brand\": \"nike\", \"color\": \"green\", \"model\": \"model_14\" },\n",
    "  { \"brand\": \"adidas\", \"color\": \"yellow\", \"model\": \"model_15\" },\n",
    "  { \"brand\": \"gucci\", \"color\": \"blue\", \"model\": \"model_16\" },\n",
    "  { \"brand\": \"gucci\", \"color\": \"red\", \"model\": \"model_2\" },\n",
    "  { \"brand\": \"adidas\", \"color\": \"green\", \"model\": \"model_17\" },\n",
    "  { \"brand\": \"puma\", \"color\": \"blue\", \"model\": \"model_18\" },\n",
    "  { \"brand\": \"nike\", \"color\": \"yellow\", \"model\": \"model_5\" },\n",
    "  { \"brand\": \"nike\", \"color\": \"red\", \"model\": \"model_6\" },\n",
    "  { \"brand\": \"adidas\", \"color\": \"yellow\", \"model\": \"model_8\" },\n",
    "  { \"brand\": \"puma\", \"color\": \"red\", \"model\": \"model_7\" },\n",
    "  { \"brand\": \"gucci\", \"color\": \"green\", \"model\": \"model_19\" },\n",
    "  { \"brand\": \"gucci\", \"color\": \"blue\", \"model\": \"model_20\" },\n",
    "  { \"brand\": \"adidas\", \"color\": \"yellow\", \"model\": \"model_21\" },\n",
    "  { \"brand\": \"puma\", \"color\": \"blue\", \"model\": \"model_22\" },\n",
    "  { \"brand\": \"nike\", \"color\": \"red\", \"model\": \"model_23\" },\n",
    "  { \"brand\": \"gucci\", \"color\": \"yellow\", \"model\": \"model_24\" },\n",
    "  { \"brand\": \"adidas\", \"color\": \"green\", \"model\": \"model_25\" },\n",
    "  { \"brand\": \"puma\", \"color\": \"red\", \"model\": \"model_26\" },\n",
    "  { \"brand\": \"nike\", \"color\": \"blue\", \"model\": \"model_27\" },\n",
    "  { \"brand\": \"gucci\", \"color\": \"red\", \"model\": \"model_28\" },\n",
    "  { \"brand\": \"adidas\", \"color\": \"yellow\", \"model\": \"model_29\" },\n",
    "  { \"brand\": \"puma\", \"color\": \"green\", \"model\": \"model_30\" },\n",
    "  { \"brand\": \"nike\", \"color\": \"red\", \"model\": \"model_1\" },\n",
    "  { \"brand\": \"gucci\", \"color\": \"blue\", \"model\": \"model_2\" },\n",
    "  { \"brand\": \"adidas\", \"color\": \"red\", \"model\": \"model_3\" },\n",
    "  { \"brand\": \"puma\", \"color\": \"yellow\", \"model\": \"model_4\" },\n",
    "  { \"brand\": \"nike\", \"color\": \"blue\", \"model\": \"model_5\" },\n",
    "  { \"brand\": \"gucci\", \"color\": \"red\", \"model\": \"model_6\" },\n",
    "  { \"brand\": \"adidas\", \"color\": \"green\", \"model\": \"model_7\" },\n",
    "  { \"brand\": \"puma\", \"color\": \"blue\", \"model\": \"model_8\" },\n",
    "  { \"brand\": \"nike\", \"color\": \"yellow\", \"model\": \"model_9\" },\n",
    "  { \"brand\": \"gucci\", \"color\": \"green\", \"model\": \"model_10\" },\n",
    "  { \"brand\": \"adidas\", \"color\": \"blue\", \"model\": \"model_11\" },\n",
    "  { \"brand\": \"puma\", \"color\": \"red\", \"model\": \"model_12\" },\n",
    "  { \"brand\": \"nike\", \"color\": \"yellow\", \"model\": \"model_13\" },\n",
    "  { \"brand\": \"gucci\", \"color\": \"red\", \"model\": \"model_14\" },\n",
    "  { \"brand\": \"adidas\", \"color\": \"green\", \"model\": \"model_15\" },\n",
    "  { \"brand\": \"puma\", \"color\": \"yellow\", \"model\": \"model_16\" },\n",
    "  { \"brand\": \"nike\", \"color\": \"red\", \"model\": \"model_17\" },\n",
    "  { \"brand\": \"gucci\", \"color\": \"blue\", \"model\": \"model_18\" },\n",
    "  { \"brand\": \"adidas\", \"color\": \"yellow\", \"model\": \"model_19\" },\n",
    "  { \"brand\": \"puma\", \"color\": \"green\", \"model\": \"model_20\" },\n",
    "  { \"brand\": \"nike\", \"color\": \"red\", \"model\": \"model_21\" },\n",
    "  { \"brand\": \"gucci\", \"color\": \"yellow\", \"model\": \"model_22\" },\n",
    "  { \"brand\": \"adidas\", \"color\": \"blue\", \"model\": \"model_23\" },\n",
    "  { \"brand\": \"puma\", \"color\": \"red\", \"model\": \"model_24\" },\n",
    "  { \"brand\": \"nike\", \"color\": \"green\", \"model\": \"model_25\" },\n",
    "  { \"brand\": \"gucci\", \"color\": \"red\", \"model\": \"model_26\" },\n",
    "  { \"brand\": \"adidas\", \"color\": \"blue\", \"model\": \"model_27\" },\n",
    "  { \"brand\": \"puma\", \"color\": \"yellow\", \"model\": \"model_28\" },\n",
    "  { \"brand\": \"nike\", \"color\": \"red\", \"model\": \"model_29\" },\n",
    "  { \"brand\": \"gucci\", \"color\": \"green\", \"model\": \"model_30\" },\n",
    "  { \"brand\": \"adidas\", \"color\": \"blue\", \"model\": \"model_1\" },\n",
    "  { \"brand\": \"puma\", \"color\": \"red\", \"model\": \"model_2\" },\n",
    "  { \"brand\": \"nike\", \"color\": \"yellow\", \"model\": \"model_3\" },\n",
    "  { \"brand\": \"gucci\", \"color\": \"blue\", \"model\": \"model_4\" },\n",
    "  { \"brand\": \"adidas\", \"color\": \"red\", \"model\": \"model_5\" },\n",
    "  { \"brand\": \"puma\", \"color\": \"yellow\", \"model\": \"model_6\" },\n",
    "  { \"brand\": \"nike\", \"color\": \"green\", \"model\": \"model_7\" },\n",
    "  { \"brand\": \"gucci\", \"color\": \"red\", \"model\": \"model_8\" },\n",
    "  { \"brand\": \"adidas\", \"color\": \"blue\", \"model\": \"model_9\" },\n",
    "  { \"brand\": \"puma\", \"color\": \"yellow\", \"model\": \"model_10\" },\n",
    "  { \"brand\": \"nike\", \"color\": \"red\", \"model\": \"model_11\" },\n",
    "  { \"brand\": \"gucci\", \"color\": \"green\", \"model\": \"model_12\" },\n",
    "  { \"brand\": \"adidas\", \"color\": \"blue\", \"model\": \"model_13\" },\n",
    "  { \"brand\": \"puma\", \"color\": \"red\", \"model\": \"model_14\" },\n",
    "  { \"brand\": \"nike\", \"color\": \"yellow\", \"model\": \"model_15\" },\n",
    "  { \"brand\": \"gucci\", \"color\": \"red\", \"model\": \"model_16\" },\n",
    "  { \"brand\": \"adidas\", \"color\": \"green\", \"model\": \"model_17\" },\n",
    "  { \"brand\": \"puma\", \"color\": \"blue\", \"model\": \"model_18\" },\n",
    "  { \"brand\": \"nike\", \"color\": \"red\", \"model\": \"model_19\" },\n",
    "  { \"brand\": \"gucci\", \"color\": \"yellow\", \"model\": \"model_20\" },\n",
    "  { \"brand\": \"adidas\", \"color\": \"blue\", \"model\": \"model_21\" },\n",
    "  { \"brand\": \"puma\", \"color\": \"green\", \"model\": \"model_22\" },\n",
    "  { \"brand\": \"nike\", \"color\": \"red\", \"model\": \"model_23\" },\n",
    "  { \"brand\": \"gucci\", \"color\": \"blue\", \"model\": \"model_24\" },\n",
    "  { \"brand\": \"adidas\", \"color\": \"yellow\", \"model\": \"model_25\" },\n",
    "  { \"brand\": \"puma\", \"color\": \"red\", \"model\": \"model_26\" },\n",
    "  { \"brand\": \"nike\", \"color\": \"blue\", \"model\": \"model_27\" },\n",
    "  { \"brand\": \"gucci\", \"color\": \"green\", \"model\": \"model_28\" },\n",
    "  { \"brand\": \"adidas\", \"color\": \"red\", \"model\": \"model_29\" },\n",
    "  { \"brand\": \"puma\", \"color\": \"yellow\", \"model\": \"model_30\" }\n",
    "]"
   ]
  },
  {
   "cell_type": "code",
   "execution_count": 112,
   "metadata": {},
   "outputs": [
    {
     "name": "stdout",
     "output_type": "stream",
     "text": [
      "{'errors': False,\n",
      " 'items': [{'index': {'_id': 'LG4p35MBGBT6DZrpGjd5',\n",
      "                      '_index': 'my_index',\n",
      "                      '_primary_term': 1,\n",
      "                      '_seq_no': 0,\n",
      "                      '_shards': {'failed': 0, 'successful': 1, 'total': 2},\n",
      "                      '_version': 1,\n",
      "                      'result': 'created',\n",
      "                      'status': 201}},\n",
      "           {'index': {'_id': 'LW4p35MBGBT6DZrpGjd5',\n",
      "                      '_index': 'my_index',\n",
      "                      '_primary_term': 1,\n",
      "                      '_seq_no': 1,\n",
      "                      '_shards': {'failed': 0, 'successful': 1, 'total': 2},\n",
      "                      '_version': 1,\n",
      "                      'result': 'created',\n",
      "                      'status': 201}},\n",
      "           {'index': {'_id': 'Lm4p35MBGBT6DZrpGjd5',\n",
      "                      '_index': 'my_index',\n",
      "                      '_primary_term': 1,\n",
      "                      '_seq_no': 2,\n",
      "                      '_shards': {'failed': 0, 'successful': 1, 'total': 2},\n",
      "                      '_version': 1,\n",
      "                      'result': 'created',\n",
      "                      'status': 201}},\n",
      "           {'index': {'_id': 'L24p35MBGBT6DZrpGjd5',\n",
      "                      '_index': 'my_index',\n",
      "                      '_primary_term': 1,\n",
      "                      '_seq_no': 3,\n",
      "                      '_shards': {'failed': 0, 'successful': 1, 'total': 2},\n",
      "                      '_version': 1,\n",
      "                      'result': 'created',\n",
      "                      'status': 201}},\n",
      "           {'index': {'_id': 'MG4p35MBGBT6DZrpGjd5',\n",
      "                      '_index': 'my_index',\n",
      "                      '_primary_term': 1,\n",
      "                      '_seq_no': 4,\n",
      "                      '_shards': {'failed': 0, 'successful': 1, 'total': 2},\n",
      "                      '_version': 1,\n",
      "                      'result': 'created',\n",
      "                      'status': 201}},\n",
      "           {'index': {'_id': 'MW4p35MBGBT6DZrpGjd5',\n",
      "                      '_index': 'my_index',\n",
      "                      '_primary_term': 1,\n",
      "                      '_seq_no': 5,\n",
      "                      '_shards': {'failed': 0, 'successful': 1, 'total': 2},\n",
      "                      '_version': 1,\n",
      "                      'result': 'created',\n",
      "                      'status': 201}},\n",
      "           {'index': {'_id': 'Mm4p35MBGBT6DZrpGjd5',\n",
      "                      '_index': 'my_index',\n",
      "                      '_primary_term': 1,\n",
      "                      '_seq_no': 6,\n",
      "                      '_shards': {'failed': 0, 'successful': 1, 'total': 2},\n",
      "                      '_version': 1,\n",
      "                      'result': 'created',\n",
      "                      'status': 201}},\n",
      "           {'index': {'_id': 'M24p35MBGBT6DZrpGjd5',\n",
      "                      '_index': 'my_index',\n",
      "                      '_primary_term': 1,\n",
      "                      '_seq_no': 7,\n",
      "                      '_shards': {'failed': 0, 'successful': 1, 'total': 2},\n",
      "                      '_version': 1,\n",
      "                      'result': 'created',\n",
      "                      'status': 201}},\n",
      "           {'index': {'_id': 'NG4p35MBGBT6DZrpGjd5',\n",
      "                      '_index': 'my_index',\n",
      "                      '_primary_term': 1,\n",
      "                      '_seq_no': 8,\n",
      "                      '_shards': {'failed': 0, 'successful': 1, 'total': 2},\n",
      "                      '_version': 1,\n",
      "                      'result': 'created',\n",
      "                      'status': 201}},\n",
      "           {'index': {'_id': 'NW4p35MBGBT6DZrpGjd5',\n",
      "                      '_index': 'my_index',\n",
      "                      '_primary_term': 1,\n",
      "                      '_seq_no': 9,\n",
      "                      '_shards': {'failed': 0, 'successful': 1, 'total': 2},\n",
      "                      '_version': 1,\n",
      "                      'result': 'created',\n",
      "                      'status': 201}},\n",
      "           {'index': {'_id': 'Nm4p35MBGBT6DZrpGjd5',\n",
      "                      '_index': 'my_index',\n",
      "                      '_primary_term': 1,\n",
      "                      '_seq_no': 10,\n",
      "                      '_shards': {'failed': 0, 'successful': 1, 'total': 2},\n",
      "                      '_version': 1,\n",
      "                      'result': 'created',\n",
      "                      'status': 201}},\n",
      "           {'index': {'_id': 'N24p35MBGBT6DZrpGjd5',\n",
      "                      '_index': 'my_index',\n",
      "                      '_primary_term': 1,\n",
      "                      '_seq_no': 11,\n",
      "                      '_shards': {'failed': 0, 'successful': 1, 'total': 2},\n",
      "                      '_version': 1,\n",
      "                      'result': 'created',\n",
      "                      'status': 201}},\n",
      "           {'index': {'_id': 'OG4p35MBGBT6DZrpGjd5',\n",
      "                      '_index': 'my_index',\n",
      "                      '_primary_term': 1,\n",
      "                      '_seq_no': 12,\n",
      "                      '_shards': {'failed': 0, 'successful': 1, 'total': 2},\n",
      "                      '_version': 1,\n",
      "                      'result': 'created',\n",
      "                      'status': 201}},\n",
      "           {'index': {'_id': 'OW4p35MBGBT6DZrpGjd5',\n",
      "                      '_index': 'my_index',\n",
      "                      '_primary_term': 1,\n",
      "                      '_seq_no': 13,\n",
      "                      '_shards': {'failed': 0, 'successful': 1, 'total': 2},\n",
      "                      '_version': 1,\n",
      "                      'result': 'created',\n",
      "                      'status': 201}},\n",
      "           {'index': {'_id': 'Om4p35MBGBT6DZrpGjd5',\n",
      "                      '_index': 'my_index',\n",
      "                      '_primary_term': 1,\n",
      "                      '_seq_no': 14,\n",
      "                      '_shards': {'failed': 0, 'successful': 1, 'total': 2},\n",
      "                      '_version': 1,\n",
      "                      'result': 'created',\n",
      "                      'status': 201}},\n",
      "           {'index': {'_id': 'O24p35MBGBT6DZrpGjd5',\n",
      "                      '_index': 'my_index',\n",
      "                      '_primary_term': 1,\n",
      "                      '_seq_no': 15,\n",
      "                      '_shards': {'failed': 0, 'successful': 1, 'total': 2},\n",
      "                      '_version': 1,\n",
      "                      'result': 'created',\n",
      "                      'status': 201}},\n",
      "           {'index': {'_id': 'PG4p35MBGBT6DZrpGjd5',\n",
      "                      '_index': 'my_index',\n",
      "                      '_primary_term': 1,\n",
      "                      '_seq_no': 16,\n",
      "                      '_shards': {'failed': 0, 'successful': 1, 'total': 2},\n",
      "                      '_version': 1,\n",
      "                      'result': 'created',\n",
      "                      'status': 201}},\n",
      "           {'index': {'_id': 'PW4p35MBGBT6DZrpGjd5',\n",
      "                      '_index': 'my_index',\n",
      "                      '_primary_term': 1,\n",
      "                      '_seq_no': 17,\n",
      "                      '_shards': {'failed': 0, 'successful': 1, 'total': 2},\n",
      "                      '_version': 1,\n",
      "                      'result': 'created',\n",
      "                      'status': 201}},\n",
      "           {'index': {'_id': 'Pm4p35MBGBT6DZrpGjd5',\n",
      "                      '_index': 'my_index',\n",
      "                      '_primary_term': 1,\n",
      "                      '_seq_no': 18,\n",
      "                      '_shards': {'failed': 0, 'successful': 1, 'total': 2},\n",
      "                      '_version': 1,\n",
      "                      'result': 'created',\n",
      "                      'status': 201}},\n",
      "           {'index': {'_id': 'P24p35MBGBT6DZrpGjd5',\n",
      "                      '_index': 'my_index',\n",
      "                      '_primary_term': 1,\n",
      "                      '_seq_no': 19,\n",
      "                      '_shards': {'failed': 0, 'successful': 1, 'total': 2},\n",
      "                      '_version': 1,\n",
      "                      'result': 'created',\n",
      "                      'status': 201}},\n",
      "           {'index': {'_id': 'QG4p35MBGBT6DZrpGjd5',\n",
      "                      '_index': 'my_index',\n",
      "                      '_primary_term': 1,\n",
      "                      '_seq_no': 20,\n",
      "                      '_shards': {'failed': 0, 'successful': 1, 'total': 2},\n",
      "                      '_version': 1,\n",
      "                      'result': 'created',\n",
      "                      'status': 201}},\n",
      "           {'index': {'_id': 'QW4p35MBGBT6DZrpGjd5',\n",
      "                      '_index': 'my_index',\n",
      "                      '_primary_term': 1,\n",
      "                      '_seq_no': 21,\n",
      "                      '_shards': {'failed': 0, 'successful': 1, 'total': 2},\n",
      "                      '_version': 1,\n",
      "                      'result': 'created',\n",
      "                      'status': 201}},\n",
      "           {'index': {'_id': 'Qm4p35MBGBT6DZrpGjd5',\n",
      "                      '_index': 'my_index',\n",
      "                      '_primary_term': 1,\n",
      "                      '_seq_no': 22,\n",
      "                      '_shards': {'failed': 0, 'successful': 1, 'total': 2},\n",
      "                      '_version': 1,\n",
      "                      'result': 'created',\n",
      "                      'status': 201}},\n",
      "           {'index': {'_id': 'Q24p35MBGBT6DZrpGjd5',\n",
      "                      '_index': 'my_index',\n",
      "                      '_primary_term': 1,\n",
      "                      '_seq_no': 23,\n",
      "                      '_shards': {'failed': 0, 'successful': 1, 'total': 2},\n",
      "                      '_version': 1,\n",
      "                      'result': 'created',\n",
      "                      'status': 201}},\n",
      "           {'index': {'_id': 'RG4p35MBGBT6DZrpGjd5',\n",
      "                      '_index': 'my_index',\n",
      "                      '_primary_term': 1,\n",
      "                      '_seq_no': 24,\n",
      "                      '_shards': {'failed': 0, 'successful': 1, 'total': 2},\n",
      "                      '_version': 1,\n",
      "                      'result': 'created',\n",
      "                      'status': 201}},\n",
      "           {'index': {'_id': 'RW4p35MBGBT6DZrpGjd5',\n",
      "                      '_index': 'my_index',\n",
      "                      '_primary_term': 1,\n",
      "                      '_seq_no': 25,\n",
      "                      '_shards': {'failed': 0, 'successful': 1, 'total': 2},\n",
      "                      '_version': 1,\n",
      "                      'result': 'created',\n",
      "                      'status': 201}},\n",
      "           {'index': {'_id': 'Rm4p35MBGBT6DZrpGjd5',\n",
      "                      '_index': 'my_index',\n",
      "                      '_primary_term': 1,\n",
      "                      '_seq_no': 26,\n",
      "                      '_shards': {'failed': 0, 'successful': 1, 'total': 2},\n",
      "                      '_version': 1,\n",
      "                      'result': 'created',\n",
      "                      'status': 201}},\n",
      "           {'index': {'_id': 'R24p35MBGBT6DZrpGjd5',\n",
      "                      '_index': 'my_index',\n",
      "                      '_primary_term': 1,\n",
      "                      '_seq_no': 27,\n",
      "                      '_shards': {'failed': 0, 'successful': 1, 'total': 2},\n",
      "                      '_version': 1,\n",
      "                      'result': 'created',\n",
      "                      'status': 201}},\n",
      "           {'index': {'_id': 'SG4p35MBGBT6DZrpGjd5',\n",
      "                      '_index': 'my_index',\n",
      "                      '_primary_term': 1,\n",
      "                      '_seq_no': 28,\n",
      "                      '_shards': {'failed': 0, 'successful': 1, 'total': 2},\n",
      "                      '_version': 1,\n",
      "                      'result': 'created',\n",
      "                      'status': 201}},\n",
      "           {'index': {'_id': 'SW4p35MBGBT6DZrpGjd5',\n",
      "                      '_index': 'my_index',\n",
      "                      '_primary_term': 1,\n",
      "                      '_seq_no': 29,\n",
      "                      '_shards': {'failed': 0, 'successful': 1, 'total': 2},\n",
      "                      '_version': 1,\n",
      "                      'result': 'created',\n",
      "                      'status': 201}},\n",
      "           {'index': {'_id': 'Sm4p35MBGBT6DZrpGjd5',\n",
      "                      '_index': 'my_index',\n",
      "                      '_primary_term': 1,\n",
      "                      '_seq_no': 30,\n",
      "                      '_shards': {'failed': 0, 'successful': 1, 'total': 2},\n",
      "                      '_version': 1,\n",
      "                      'result': 'created',\n",
      "                      'status': 201}},\n",
      "           {'index': {'_id': 'S24p35MBGBT6DZrpGjd5',\n",
      "                      '_index': 'my_index',\n",
      "                      '_primary_term': 1,\n",
      "                      '_seq_no': 31,\n",
      "                      '_shards': {'failed': 0, 'successful': 1, 'total': 2},\n",
      "                      '_version': 1,\n",
      "                      'result': 'created',\n",
      "                      'status': 201}},\n",
      "           {'index': {'_id': 'TG4p35MBGBT6DZrpGjd5',\n",
      "                      '_index': 'my_index',\n",
      "                      '_primary_term': 1,\n",
      "                      '_seq_no': 32,\n",
      "                      '_shards': {'failed': 0, 'successful': 1, 'total': 2},\n",
      "                      '_version': 1,\n",
      "                      'result': 'created',\n",
      "                      'status': 201}},\n",
      "           {'index': {'_id': 'TW4p35MBGBT6DZrpGjd5',\n",
      "                      '_index': 'my_index',\n",
      "                      '_primary_term': 1,\n",
      "                      '_seq_no': 33,\n",
      "                      '_shards': {'failed': 0, 'successful': 1, 'total': 2},\n",
      "                      '_version': 1,\n",
      "                      'result': 'created',\n",
      "                      'status': 201}},\n",
      "           {'index': {'_id': 'Tm4p35MBGBT6DZrpGjd5',\n",
      "                      '_index': 'my_index',\n",
      "                      '_primary_term': 1,\n",
      "                      '_seq_no': 34,\n",
      "                      '_shards': {'failed': 0, 'successful': 1, 'total': 2},\n",
      "                      '_version': 1,\n",
      "                      'result': 'created',\n",
      "                      'status': 201}},\n",
      "           {'index': {'_id': 'T24p35MBGBT6DZrpGjd5',\n",
      "                      '_index': 'my_index',\n",
      "                      '_primary_term': 1,\n",
      "                      '_seq_no': 35,\n",
      "                      '_shards': {'failed': 0, 'successful': 1, 'total': 2},\n",
      "                      '_version': 1,\n",
      "                      'result': 'created',\n",
      "                      'status': 201}},\n",
      "           {'index': {'_id': 'UG4p35MBGBT6DZrpGjd5',\n",
      "                      '_index': 'my_index',\n",
      "                      '_primary_term': 1,\n",
      "                      '_seq_no': 36,\n",
      "                      '_shards': {'failed': 0, 'successful': 1, 'total': 2},\n",
      "                      '_version': 1,\n",
      "                      'result': 'created',\n",
      "                      'status': 201}},\n",
      "           {'index': {'_id': 'UW4p35MBGBT6DZrpGjd5',\n",
      "                      '_index': 'my_index',\n",
      "                      '_primary_term': 1,\n",
      "                      '_seq_no': 37,\n",
      "                      '_shards': {'failed': 0, 'successful': 1, 'total': 2},\n",
      "                      '_version': 1,\n",
      "                      'result': 'created',\n",
      "                      'status': 201}},\n",
      "           {'index': {'_id': 'Um4p35MBGBT6DZrpGjd5',\n",
      "                      '_index': 'my_index',\n",
      "                      '_primary_term': 1,\n",
      "                      '_seq_no': 38,\n",
      "                      '_shards': {'failed': 0, 'successful': 1, 'total': 2},\n",
      "                      '_version': 1,\n",
      "                      'result': 'created',\n",
      "                      'status': 201}},\n",
      "           {'index': {'_id': 'U24p35MBGBT6DZrpGjd5',\n",
      "                      '_index': 'my_index',\n",
      "                      '_primary_term': 1,\n",
      "                      '_seq_no': 39,\n",
      "                      '_shards': {'failed': 0, 'successful': 1, 'total': 2},\n",
      "                      '_version': 1,\n",
      "                      'result': 'created',\n",
      "                      'status': 201}},\n",
      "           {'index': {'_id': 'VG4p35MBGBT6DZrpGjd5',\n",
      "                      '_index': 'my_index',\n",
      "                      '_primary_term': 1,\n",
      "                      '_seq_no': 40,\n",
      "                      '_shards': {'failed': 0, 'successful': 1, 'total': 2},\n",
      "                      '_version': 1,\n",
      "                      'result': 'created',\n",
      "                      'status': 201}},\n",
      "           {'index': {'_id': 'VW4p35MBGBT6DZrpGjd5',\n",
      "                      '_index': 'my_index',\n",
      "                      '_primary_term': 1,\n",
      "                      '_seq_no': 41,\n",
      "                      '_shards': {'failed': 0, 'successful': 1, 'total': 2},\n",
      "                      '_version': 1,\n",
      "                      'result': 'created',\n",
      "                      'status': 201}},\n",
      "           {'index': {'_id': 'Vm4p35MBGBT6DZrpGjd5',\n",
      "                      '_index': 'my_index',\n",
      "                      '_primary_term': 1,\n",
      "                      '_seq_no': 42,\n",
      "                      '_shards': {'failed': 0, 'successful': 1, 'total': 2},\n",
      "                      '_version': 1,\n",
      "                      'result': 'created',\n",
      "                      'status': 201}},\n",
      "           {'index': {'_id': 'V24p35MBGBT6DZrpGjd5',\n",
      "                      '_index': 'my_index',\n",
      "                      '_primary_term': 1,\n",
      "                      '_seq_no': 43,\n",
      "                      '_shards': {'failed': 0, 'successful': 1, 'total': 2},\n",
      "                      '_version': 1,\n",
      "                      'result': 'created',\n",
      "                      'status': 201}},\n",
      "           {'index': {'_id': 'WG4p35MBGBT6DZrpGjd5',\n",
      "                      '_index': 'my_index',\n",
      "                      '_primary_term': 1,\n",
      "                      '_seq_no': 44,\n",
      "                      '_shards': {'failed': 0, 'successful': 1, 'total': 2},\n",
      "                      '_version': 1,\n",
      "                      'result': 'created',\n",
      "                      'status': 201}},\n",
      "           {'index': {'_id': 'WW4p35MBGBT6DZrpGjd5',\n",
      "                      '_index': 'my_index',\n",
      "                      '_primary_term': 1,\n",
      "                      '_seq_no': 45,\n",
      "                      '_shards': {'failed': 0, 'successful': 1, 'total': 2},\n",
      "                      '_version': 1,\n",
      "                      'result': 'created',\n",
      "                      'status': 201}},\n",
      "           {'index': {'_id': 'Wm4p35MBGBT6DZrpGjd5',\n",
      "                      '_index': 'my_index',\n",
      "                      '_primary_term': 1,\n",
      "                      '_seq_no': 46,\n",
      "                      '_shards': {'failed': 0, 'successful': 1, 'total': 2},\n",
      "                      '_version': 1,\n",
      "                      'result': 'created',\n",
      "                      'status': 201}},\n",
      "           {'index': {'_id': 'W24p35MBGBT6DZrpGjd5',\n",
      "                      '_index': 'my_index',\n",
      "                      '_primary_term': 1,\n",
      "                      '_seq_no': 47,\n",
      "                      '_shards': {'failed': 0, 'successful': 1, 'total': 2},\n",
      "                      '_version': 1,\n",
      "                      'result': 'created',\n",
      "                      'status': 201}},\n",
      "           {'index': {'_id': 'XG4p35MBGBT6DZrpGjd5',\n",
      "                      '_index': 'my_index',\n",
      "                      '_primary_term': 1,\n",
      "                      '_seq_no': 48,\n",
      "                      '_shards': {'failed': 0, 'successful': 1, 'total': 2},\n",
      "                      '_version': 1,\n",
      "                      'result': 'created',\n",
      "                      'status': 201}},\n",
      "           {'index': {'_id': 'XW4p35MBGBT6DZrpGjd5',\n",
      "                      '_index': 'my_index',\n",
      "                      '_primary_term': 1,\n",
      "                      '_seq_no': 49,\n",
      "                      '_shards': {'failed': 0, 'successful': 1, 'total': 2},\n",
      "                      '_version': 1,\n",
      "                      'result': 'created',\n",
      "                      'status': 201}},\n",
      "           {'index': {'_id': 'Xm4p35MBGBT6DZrpGjd5',\n",
      "                      '_index': 'my_index',\n",
      "                      '_primary_term': 1,\n",
      "                      '_seq_no': 50,\n",
      "                      '_shards': {'failed': 0, 'successful': 1, 'total': 2},\n",
      "                      '_version': 1,\n",
      "                      'result': 'created',\n",
      "                      'status': 201}},\n",
      "           {'index': {'_id': 'X24p35MBGBT6DZrpGjd5',\n",
      "                      '_index': 'my_index',\n",
      "                      '_primary_term': 1,\n",
      "                      '_seq_no': 51,\n",
      "                      '_shards': {'failed': 0, 'successful': 1, 'total': 2},\n",
      "                      '_version': 1,\n",
      "                      'result': 'created',\n",
      "                      'status': 201}},\n",
      "           {'index': {'_id': 'YG4p35MBGBT6DZrpGjd5',\n",
      "                      '_index': 'my_index',\n",
      "                      '_primary_term': 1,\n",
      "                      '_seq_no': 52,\n",
      "                      '_shards': {'failed': 0, 'successful': 1, 'total': 2},\n",
      "                      '_version': 1,\n",
      "                      'result': 'created',\n",
      "                      'status': 201}},\n",
      "           {'index': {'_id': 'YW4p35MBGBT6DZrpGjd5',\n",
      "                      '_index': 'my_index',\n",
      "                      '_primary_term': 1,\n",
      "                      '_seq_no': 53,\n",
      "                      '_shards': {'failed': 0, 'successful': 1, 'total': 2},\n",
      "                      '_version': 1,\n",
      "                      'result': 'created',\n",
      "                      'status': 201}},\n",
      "           {'index': {'_id': 'Ym4p35MBGBT6DZrpGjd5',\n",
      "                      '_index': 'my_index',\n",
      "                      '_primary_term': 1,\n",
      "                      '_seq_no': 54,\n",
      "                      '_shards': {'failed': 0, 'successful': 1, 'total': 2},\n",
      "                      '_version': 1,\n",
      "                      'result': 'created',\n",
      "                      'status': 201}},\n",
      "           {'index': {'_id': 'Y24p35MBGBT6DZrpGjd5',\n",
      "                      '_index': 'my_index',\n",
      "                      '_primary_term': 1,\n",
      "                      '_seq_no': 55,\n",
      "                      '_shards': {'failed': 0, 'successful': 1, 'total': 2},\n",
      "                      '_version': 1,\n",
      "                      'result': 'created',\n",
      "                      'status': 201}},\n",
      "           {'index': {'_id': 'ZG4p35MBGBT6DZrpGjd5',\n",
      "                      '_index': 'my_index',\n",
      "                      '_primary_term': 1,\n",
      "                      '_seq_no': 56,\n",
      "                      '_shards': {'failed': 0, 'successful': 1, 'total': 2},\n",
      "                      '_version': 1,\n",
      "                      'result': 'created',\n",
      "                      'status': 201}},\n",
      "           {'index': {'_id': 'ZW4p35MBGBT6DZrpGjd5',\n",
      "                      '_index': 'my_index',\n",
      "                      '_primary_term': 1,\n",
      "                      '_seq_no': 57,\n",
      "                      '_shards': {'failed': 0, 'successful': 1, 'total': 2},\n",
      "                      '_version': 1,\n",
      "                      'result': 'created',\n",
      "                      'status': 201}},\n",
      "           {'index': {'_id': 'Zm4p35MBGBT6DZrpGjd5',\n",
      "                      '_index': 'my_index',\n",
      "                      '_primary_term': 1,\n",
      "                      '_seq_no': 58,\n",
      "                      '_shards': {'failed': 0, 'successful': 1, 'total': 2},\n",
      "                      '_version': 1,\n",
      "                      'result': 'created',\n",
      "                      'status': 201}},\n",
      "           {'index': {'_id': 'Z24p35MBGBT6DZrpGjd5',\n",
      "                      '_index': 'my_index',\n",
      "                      '_primary_term': 1,\n",
      "                      '_seq_no': 59,\n",
      "                      '_shards': {'failed': 0, 'successful': 1, 'total': 2},\n",
      "                      '_version': 1,\n",
      "                      'result': 'created',\n",
      "                      'status': 201}},\n",
      "           {'index': {'_id': 'aG4p35MBGBT6DZrpGjd5',\n",
      "                      '_index': 'my_index',\n",
      "                      '_primary_term': 1,\n",
      "                      '_seq_no': 60,\n",
      "                      '_shards': {'failed': 0, 'successful': 1, 'total': 2},\n",
      "                      '_version': 1,\n",
      "                      'result': 'created',\n",
      "                      'status': 201}},\n",
      "           {'index': {'_id': 'aW4p35MBGBT6DZrpGjd5',\n",
      "                      '_index': 'my_index',\n",
      "                      '_primary_term': 1,\n",
      "                      '_seq_no': 61,\n",
      "                      '_shards': {'failed': 0, 'successful': 1, 'total': 2},\n",
      "                      '_version': 1,\n",
      "                      'result': 'created',\n",
      "                      'status': 201}},\n",
      "           {'index': {'_id': 'am4p35MBGBT6DZrpGjd5',\n",
      "                      '_index': 'my_index',\n",
      "                      '_primary_term': 1,\n",
      "                      '_seq_no': 62,\n",
      "                      '_shards': {'failed': 0, 'successful': 1, 'total': 2},\n",
      "                      '_version': 1,\n",
      "                      'result': 'created',\n",
      "                      'status': 201}},\n",
      "           {'index': {'_id': 'a24p35MBGBT6DZrpGjd5',\n",
      "                      '_index': 'my_index',\n",
      "                      '_primary_term': 1,\n",
      "                      '_seq_no': 63,\n",
      "                      '_shards': {'failed': 0, 'successful': 1, 'total': 2},\n",
      "                      '_version': 1,\n",
      "                      'result': 'created',\n",
      "                      'status': 201}},\n",
      "           {'index': {'_id': 'bG4p35MBGBT6DZrpGjd5',\n",
      "                      '_index': 'my_index',\n",
      "                      '_primary_term': 1,\n",
      "                      '_seq_no': 64,\n",
      "                      '_shards': {'failed': 0, 'successful': 1, 'total': 2},\n",
      "                      '_version': 1,\n",
      "                      'result': 'created',\n",
      "                      'status': 201}},\n",
      "           {'index': {'_id': 'bW4p35MBGBT6DZrpGjd5',\n",
      "                      '_index': 'my_index',\n",
      "                      '_primary_term': 1,\n",
      "                      '_seq_no': 65,\n",
      "                      '_shards': {'failed': 0, 'successful': 1, 'total': 2},\n",
      "                      '_version': 1,\n",
      "                      'result': 'created',\n",
      "                      'status': 201}},\n",
      "           {'index': {'_id': 'bm4p35MBGBT6DZrpGjd5',\n",
      "                      '_index': 'my_index',\n",
      "                      '_primary_term': 1,\n",
      "                      '_seq_no': 66,\n",
      "                      '_shards': {'failed': 0, 'successful': 1, 'total': 2},\n",
      "                      '_version': 1,\n",
      "                      'result': 'created',\n",
      "                      'status': 201}},\n",
      "           {'index': {'_id': 'b24p35MBGBT6DZrpGjd5',\n",
      "                      '_index': 'my_index',\n",
      "                      '_primary_term': 1,\n",
      "                      '_seq_no': 67,\n",
      "                      '_shards': {'failed': 0, 'successful': 1, 'total': 2},\n",
      "                      '_version': 1,\n",
      "                      'result': 'created',\n",
      "                      'status': 201}},\n",
      "           {'index': {'_id': 'cG4p35MBGBT6DZrpGjd5',\n",
      "                      '_index': 'my_index',\n",
      "                      '_primary_term': 1,\n",
      "                      '_seq_no': 68,\n",
      "                      '_shards': {'failed': 0, 'successful': 1, 'total': 2},\n",
      "                      '_version': 1,\n",
      "                      'result': 'created',\n",
      "                      'status': 201}},\n",
      "           {'index': {'_id': 'cW4p35MBGBT6DZrpGjd5',\n",
      "                      '_index': 'my_index',\n",
      "                      '_primary_term': 1,\n",
      "                      '_seq_no': 69,\n",
      "                      '_shards': {'failed': 0, 'successful': 1, 'total': 2},\n",
      "                      '_version': 1,\n",
      "                      'result': 'created',\n",
      "                      'status': 201}},\n",
      "           {'index': {'_id': 'cm4p35MBGBT6DZrpGjd5',\n",
      "                      '_index': 'my_index',\n",
      "                      '_primary_term': 1,\n",
      "                      '_seq_no': 70,\n",
      "                      '_shards': {'failed': 0, 'successful': 1, 'total': 2},\n",
      "                      '_version': 1,\n",
      "                      'result': 'created',\n",
      "                      'status': 201}},\n",
      "           {'index': {'_id': 'c24p35MBGBT6DZrpGjd5',\n",
      "                      '_index': 'my_index',\n",
      "                      '_primary_term': 1,\n",
      "                      '_seq_no': 71,\n",
      "                      '_shards': {'failed': 0, 'successful': 1, 'total': 2},\n",
      "                      '_version': 1,\n",
      "                      'result': 'created',\n",
      "                      'status': 201}},\n",
      "           {'index': {'_id': 'dG4p35MBGBT6DZrpGjd5',\n",
      "                      '_index': 'my_index',\n",
      "                      '_primary_term': 1,\n",
      "                      '_seq_no': 72,\n",
      "                      '_shards': {'failed': 0, 'successful': 1, 'total': 2},\n",
      "                      '_version': 1,\n",
      "                      'result': 'created',\n",
      "                      'status': 201}},\n",
      "           {'index': {'_id': 'dW4p35MBGBT6DZrpGjd5',\n",
      "                      '_index': 'my_index',\n",
      "                      '_primary_term': 1,\n",
      "                      '_seq_no': 73,\n",
      "                      '_shards': {'failed': 0, 'successful': 1, 'total': 2},\n",
      "                      '_version': 1,\n",
      "                      'result': 'created',\n",
      "                      'status': 201}},\n",
      "           {'index': {'_id': 'dm4p35MBGBT6DZrpGjd5',\n",
      "                      '_index': 'my_index',\n",
      "                      '_primary_term': 1,\n",
      "                      '_seq_no': 74,\n",
      "                      '_shards': {'failed': 0, 'successful': 1, 'total': 2},\n",
      "                      '_version': 1,\n",
      "                      'result': 'created',\n",
      "                      'status': 201}},\n",
      "           {'index': {'_id': 'd24p35MBGBT6DZrpGjd5',\n",
      "                      '_index': 'my_index',\n",
      "                      '_primary_term': 1,\n",
      "                      '_seq_no': 75,\n",
      "                      '_shards': {'failed': 0, 'successful': 1, 'total': 2},\n",
      "                      '_version': 1,\n",
      "                      'result': 'created',\n",
      "                      'status': 201}},\n",
      "           {'index': {'_id': 'eG4p35MBGBT6DZrpGjd5',\n",
      "                      '_index': 'my_index',\n",
      "                      '_primary_term': 1,\n",
      "                      '_seq_no': 76,\n",
      "                      '_shards': {'failed': 0, 'successful': 1, 'total': 2},\n",
      "                      '_version': 1,\n",
      "                      'result': 'created',\n",
      "                      'status': 201}},\n",
      "           {'index': {'_id': 'eW4p35MBGBT6DZrpGjd5',\n",
      "                      '_index': 'my_index',\n",
      "                      '_primary_term': 1,\n",
      "                      '_seq_no': 77,\n",
      "                      '_shards': {'failed': 0, 'successful': 1, 'total': 2},\n",
      "                      '_version': 1,\n",
      "                      'result': 'created',\n",
      "                      'status': 201}},\n",
      "           {'index': {'_id': 'em4p35MBGBT6DZrpGjd5',\n",
      "                      '_index': 'my_index',\n",
      "                      '_primary_term': 1,\n",
      "                      '_seq_no': 78,\n",
      "                      '_shards': {'failed': 0, 'successful': 1, 'total': 2},\n",
      "                      '_version': 1,\n",
      "                      'result': 'created',\n",
      "                      'status': 201}},\n",
      "           {'index': {'_id': 'e24p35MBGBT6DZrpGjd5',\n",
      "                      '_index': 'my_index',\n",
      "                      '_primary_term': 1,\n",
      "                      '_seq_no': 79,\n",
      "                      '_shards': {'failed': 0, 'successful': 1, 'total': 2},\n",
      "                      '_version': 1,\n",
      "                      'result': 'created',\n",
      "                      'status': 201}},\n",
      "           {'index': {'_id': 'fG4p35MBGBT6DZrpGjd5',\n",
      "                      '_index': 'my_index',\n",
      "                      '_primary_term': 1,\n",
      "                      '_seq_no': 80,\n",
      "                      '_shards': {'failed': 0, 'successful': 1, 'total': 2},\n",
      "                      '_version': 1,\n",
      "                      'result': 'created',\n",
      "                      'status': 201}},\n",
      "           {'index': {'_id': 'fW4p35MBGBT6DZrpGjd5',\n",
      "                      '_index': 'my_index',\n",
      "                      '_primary_term': 1,\n",
      "                      '_seq_no': 81,\n",
      "                      '_shards': {'failed': 0, 'successful': 1, 'total': 2},\n",
      "                      '_version': 1,\n",
      "                      'result': 'created',\n",
      "                      'status': 201}},\n",
      "           {'index': {'_id': 'fm4p35MBGBT6DZrpGjd5',\n",
      "                      '_index': 'my_index',\n",
      "                      '_primary_term': 1,\n",
      "                      '_seq_no': 82,\n",
      "                      '_shards': {'failed': 0, 'successful': 1, 'total': 2},\n",
      "                      '_version': 1,\n",
      "                      'result': 'created',\n",
      "                      'status': 201}},\n",
      "           {'index': {'_id': 'f24p35MBGBT6DZrpGjd5',\n",
      "                      '_index': 'my_index',\n",
      "                      '_primary_term': 1,\n",
      "                      '_seq_no': 83,\n",
      "                      '_shards': {'failed': 0, 'successful': 1, 'total': 2},\n",
      "                      '_version': 1,\n",
      "                      'result': 'created',\n",
      "                      'status': 201}},\n",
      "           {'index': {'_id': 'gG4p35MBGBT6DZrpGjd5',\n",
      "                      '_index': 'my_index',\n",
      "                      '_primary_term': 1,\n",
      "                      '_seq_no': 84,\n",
      "                      '_shards': {'failed': 0, 'successful': 1, 'total': 2},\n",
      "                      '_version': 1,\n",
      "                      'result': 'created',\n",
      "                      'status': 201}},\n",
      "           {'index': {'_id': 'gW4p35MBGBT6DZrpGjd5',\n",
      "                      '_index': 'my_index',\n",
      "                      '_primary_term': 1,\n",
      "                      '_seq_no': 85,\n",
      "                      '_shards': {'failed': 0, 'successful': 1, 'total': 2},\n",
      "                      '_version': 1,\n",
      "                      'result': 'created',\n",
      "                      'status': 201}},\n",
      "           {'index': {'_id': 'gm4p35MBGBT6DZrpGjd5',\n",
      "                      '_index': 'my_index',\n",
      "                      '_primary_term': 1,\n",
      "                      '_seq_no': 86,\n",
      "                      '_shards': {'failed': 0, 'successful': 1, 'total': 2},\n",
      "                      '_version': 1,\n",
      "                      'result': 'created',\n",
      "                      'status': 201}},\n",
      "           {'index': {'_id': 'g24p35MBGBT6DZrpGjd5',\n",
      "                      '_index': 'my_index',\n",
      "                      '_primary_term': 1,\n",
      "                      '_seq_no': 87,\n",
      "                      '_shards': {'failed': 0, 'successful': 1, 'total': 2},\n",
      "                      '_version': 1,\n",
      "                      'result': 'created',\n",
      "                      'status': 201}},\n",
      "           {'index': {'_id': 'hG4p35MBGBT6DZrpGjd5',\n",
      "                      '_index': 'my_index',\n",
      "                      '_primary_term': 1,\n",
      "                      '_seq_no': 88,\n",
      "                      '_shards': {'failed': 0, 'successful': 1, 'total': 2},\n",
      "                      '_version': 1,\n",
      "                      'result': 'created',\n",
      "                      'status': 201}},\n",
      "           {'index': {'_id': 'hW4p35MBGBT6DZrpGjd5',\n",
      "                      '_index': 'my_index',\n",
      "                      '_primary_term': 1,\n",
      "                      '_seq_no': 89,\n",
      "                      '_shards': {'failed': 0, 'successful': 1, 'total': 2},\n",
      "                      '_version': 1,\n",
      "                      'result': 'created',\n",
      "                      'status': 201}},\n",
      "           {'index': {'_id': 'hm4p35MBGBT6DZrpGjd5',\n",
      "                      '_index': 'my_index',\n",
      "                      '_primary_term': 1,\n",
      "                      '_seq_no': 90,\n",
      "                      '_shards': {'failed': 0, 'successful': 1, 'total': 2},\n",
      "                      '_version': 1,\n",
      "                      'result': 'created',\n",
      "                      'status': 201}},\n",
      "           {'index': {'_id': 'h24p35MBGBT6DZrpGjd5',\n",
      "                      '_index': 'my_index',\n",
      "                      '_primary_term': 1,\n",
      "                      '_seq_no': 91,\n",
      "                      '_shards': {'failed': 0, 'successful': 1, 'total': 2},\n",
      "                      '_version': 1,\n",
      "                      'result': 'created',\n",
      "                      'status': 201}},\n",
      "           {'index': {'_id': 'iG4p35MBGBT6DZrpGjd5',\n",
      "                      '_index': 'my_index',\n",
      "                      '_primary_term': 1,\n",
      "                      '_seq_no': 92,\n",
      "                      '_shards': {'failed': 0, 'successful': 1, 'total': 2},\n",
      "                      '_version': 1,\n",
      "                      'result': 'created',\n",
      "                      'status': 201}},\n",
      "           {'index': {'_id': 'iW4p35MBGBT6DZrpGjd5',\n",
      "                      '_index': 'my_index',\n",
      "                      '_primary_term': 1,\n",
      "                      '_seq_no': 93,\n",
      "                      '_shards': {'failed': 0, 'successful': 1, 'total': 2},\n",
      "                      '_version': 1,\n",
      "                      'result': 'created',\n",
      "                      'status': 201}},\n",
      "           {'index': {'_id': 'im4p35MBGBT6DZrpGjd5',\n",
      "                      '_index': 'my_index',\n",
      "                      '_primary_term': 1,\n",
      "                      '_seq_no': 94,\n",
      "                      '_shards': {'failed': 0, 'successful': 1, 'total': 2},\n",
      "                      '_version': 1,\n",
      "                      'result': 'created',\n",
      "                      'status': 201}},\n",
      "           {'index': {'_id': 'i24p35MBGBT6DZrpGjd5',\n",
      "                      '_index': 'my_index',\n",
      "                      '_primary_term': 1,\n",
      "                      '_seq_no': 95,\n",
      "                      '_shards': {'failed': 0, 'successful': 1, 'total': 2},\n",
      "                      '_version': 1,\n",
      "                      'result': 'created',\n",
      "                      'status': 201}},\n",
      "           {'index': {'_id': 'jG4p35MBGBT6DZrpGjd5',\n",
      "                      '_index': 'my_index',\n",
      "                      '_primary_term': 1,\n",
      "                      '_seq_no': 96,\n",
      "                      '_shards': {'failed': 0, 'successful': 1, 'total': 2},\n",
      "                      '_version': 1,\n",
      "                      'result': 'created',\n",
      "                      'status': 201}},\n",
      "           {'index': {'_id': 'jW4p35MBGBT6DZrpGjd5',\n",
      "                      '_index': 'my_index',\n",
      "                      '_primary_term': 1,\n",
      "                      '_seq_no': 97,\n",
      "                      '_shards': {'failed': 0, 'successful': 1, 'total': 2},\n",
      "                      '_version': 1,\n",
      "                      'result': 'created',\n",
      "                      'status': 201}},\n",
      "           {'index': {'_id': 'jm4p35MBGBT6DZrpGjd5',\n",
      "                      '_index': 'my_index',\n",
      "                      '_primary_term': 1,\n",
      "                      '_seq_no': 98,\n",
      "                      '_shards': {'failed': 0, 'successful': 1, 'total': 2},\n",
      "                      '_version': 1,\n",
      "                      'result': 'created',\n",
      "                      'status': 201}},\n",
      "           {'index': {'_id': 'j24p35MBGBT6DZrpGjd5',\n",
      "                      '_index': 'my_index',\n",
      "                      '_primary_term': 1,\n",
      "                      '_seq_no': 99,\n",
      "                      '_shards': {'failed': 0, 'successful': 1, 'total': 2},\n",
      "                      '_version': 1,\n",
      "                      'result': 'created',\n",
      "                      'status': 201}}],\n",
      " 'took': 21077988}\n"
     ]
    }
   ],
   "source": [
    "es.indices.delete(index=\"my_index\", ignore_unavailable=True)\n",
    "es.indices.create(index=\"my_index\")\n",
    "\n",
    "operations = []\n",
    "for document in clothes_documents:\n",
    "    operations.append({\"index\":{\"_index\":\"my_index\"}})\n",
    "    operations.append(document)\n",
    "\n",
    "response = es.bulk(operations=operations)\n",
    "pprint(response.body)"
   ]
  },
  {
   "cell_type": "code",
   "execution_count": 113,
   "metadata": {},
   "outputs": [
    {
     "name": "stdout",
     "output_type": "stream",
     "text": [
      "'Found 0 documents'\n"
     ]
    }
   ],
   "source": [
    "response = es.search(\n",
    "    index=\"my_index\",\n",
    "    body={\n",
    "        \"query\": {\n",
    "            \"bool\":{\n",
    "                \"filter\": [\n",
    "                    {\n",
    "                        \"term\":{\n",
    "                            \"brand\":\"gucci\"\n",
    "                        }\n",
    "                    }\n",
    "                ]\n",
    "            }\n",
    "        },\n",
    "        \"aggs\":{\n",
    "            \"colors\":{\n",
    "                \"terms\":{\n",
    "                    \"field\":\"color.keyword\"\n",
    "                }\n",
    "            },\n",
    "            \"color_red\":{\n",
    "                \"filter\":{\n",
    "                    \"term\":{\n",
    "                        \"color.keyword\": \"red\"\n",
    "                    }\n",
    "                },\n",
    "                \"aggs\":{\n",
    "                    \"models\":{\n",
    "                        \"terms\":{\n",
    "                            \"field\":\"model.keyword\"\n",
    "                        }\n",
    "                    }\n",
    "                }\n",
    "            }\n",
    "        },\n",
    "        \"post_filter\":{\n",
    "            \"term\":{\n",
    "                \"color\":\"red\"\n",
    "            }\n",
    "        },\n",
    "        \"size\":20\n",
    "    }\n",
    ")\n",
    "\n",
    "hits = response.body['hits']['hits']\n",
    "pprint(f\"Found {len(hits)} documents\")"
   ]
  },
  {
   "cell_type": "code",
   "execution_count": 114,
   "metadata": {},
   "outputs": [
    {
     "data": {
      "text/plain": [
       "[]"
      ]
     },
     "execution_count": 114,
     "metadata": {},
     "output_type": "execute_result"
    }
   ],
   "source": [
    "response.body['aggregations']['color_red']['models']['buckets']"
   ]
  },
  {
   "cell_type": "code",
   "execution_count": 115,
   "metadata": {},
   "outputs": [
    {
     "data": {
      "text/plain": [
       "[]"
      ]
     },
     "execution_count": 115,
     "metadata": {},
     "output_type": "execute_result"
    }
   ],
   "source": [
    "response.body['aggregations']['colors']['buckets']"
   ]
  },
  {
   "cell_type": "code",
   "execution_count": 116,
   "metadata": {},
   "outputs": [],
   "source": [
    "query = {\n",
    "    \"query\": \"SELECT model FROM my_index ORDER BY brand LIMIT 5\"\n",
    "}\n",
    "\n",
    "response = es.sql.query(body=query)\n",
    "for row in response['rows']:\n",
    "    print(row)"
   ]
  },
  {
   "cell_type": "code",
   "execution_count": 117,
   "metadata": {},
   "outputs": [
    {
     "name": "stdout",
     "output_type": "stream",
     "text": [
      "('     brand     |     color     |     model     \\n'\n",
      " '---------------+---------------+---------------\\n')\n"
     ]
    }
   ],
   "source": [
    "query = {\n",
    "    \"query\": \"SELECT * FROM my_index\"\n",
    "}\n",
    "\n",
    "response = es.sql.query(body=query, format=\"txt\")\n",
    "pprint(response.body)"
   ]
  },
  {
   "cell_type": "code",
   "execution_count": 118,
   "metadata": {},
   "outputs": [
    {
     "name": "stdout",
     "output_type": "stream",
     "text": [
      "('     brand     |     color     |     model     \\n'\n",
      " '---------------+---------------+---------------\\n')\n"
     ]
    }
   ],
   "source": [
    "query = {\n",
    "    \"query\": \"SELECT * FROM my_index ORDER BY color DESC LIMIT 5\",\n",
    "    \"filter\":{\n",
    "        \"term\": {\"brand.keyword\": \"gucci\"}\n",
    "    }\n",
    "}\n",
    "\n",
    "response = es.sql.query(\n",
    "    body=query,\n",
    "    format=\"txt\",\n",
    "    \n",
    ")\n",
    "pprint(response.body)"
   ]
  },
  {
   "cell_type": "code",
   "execution_count": 119,
   "metadata": {},
   "outputs": [
    {
     "name": "stdout",
     "output_type": "stream",
     "text": [
      "{'_source': False,\n",
      " 'fields': [{'field': 'brand'}, {'field': 'color'}, {'field': 'model'}],\n",
      " 'query': {'wildcard': {'color.keyword': {'boost': 1.0, 'wildcard': '*red*'}}},\n",
      " 'size': 10,\n",
      " 'sort': [{'brand.keyword': {'missing': '_first',\n",
      "                             'order': 'desc',\n",
      "                             'unmapped_type': 'keyword'}}],\n",
      " 'track_total_hits': -1}\n"
     ]
    }
   ],
   "source": [
    "translate_query = {\n",
    "    \"query\": \"SELECT * FROM my_index WHERE color LIKE '%red%' ORDER BY brand DESC LIMIT 10\",\n",
    "}\n",
    "\n",
    "translate_query = es.sql.translate(body=translate_query)\n",
    "pprint(translate_query.body)"
   ]
  },
  {
   "cell_type": "code",
   "execution_count": 120,
   "metadata": {},
   "outputs": [
    {
     "name": "stdout",
     "output_type": "stream",
     "text": [
      "{'acknowledged': True}\n"
     ]
    }
   ],
   "source": [
    "policy = {\n",
    "    \"phases\":{\n",
    "        \"hot\":{\n",
    "            \"actions\":{\n",
    "                \"rollover\":{\n",
    "                    \"max_age\":\"5m\"\n",
    "                }\n",
    "            }\n",
    "        },\n",
    "        \"delete\":{\n",
    "            \"min_age\":\"20m\",\n",
    "            \"actions\":{\n",
    "                \"delete\":{}\n",
    "            }\n",
    "        }\n",
    "    }\n",
    "}\n",
    "\n",
    "response = es.ilm.put_lifecycle(name=\"cpu_usage_policy_2\", policy=policy)\n",
    "print(response.body)"
   ]
  },
  {
   "cell_type": "code",
   "execution_count": 121,
   "metadata": {},
   "outputs": [
    {
     "data": {
      "text/plain": [
       "ObjectApiResponse({'acknowledged': True, 'shards_acknowledged': True, 'index': 'cpu_usage_template'})"
      ]
     },
     "execution_count": 121,
     "metadata": {},
     "output_type": "execute_result"
    }
   ],
   "source": [
    "es.indices.delete(index=\"cpu_usage_template\",ignore_unavailable=True)\n",
    "es.indices.create(index=\"cpu_usage_template\")"
   ]
  },
  {
   "cell_type": "code",
   "execution_count": 122,
   "metadata": {},
   "outputs": [
    {
     "name": "stdout",
     "output_type": "stream",
     "text": [
      "{'acknowledged': True}\n"
     ]
    }
   ],
   "source": [
    "es.indices.delete_index_template(name=\"cpu_usage_template\")\n",
    "response = es.indices.put_index_template(\n",
    "    name=\"cpu_usage_template\",\n",
    "    index_patterns=[\n",
    "        \"cpu_example_template*\",\n",
    "    ],\n",
    "    data_stream={},\n",
    "    template={\n",
    "        \"settings\": {\n",
    "            \"index.mode\":\"time_series\",\n",
    "            \"index.lifecycle.name\": \"cpu_usage_policy_2\"\n",
    "        },\n",
    "        \"mappings\": {\n",
    "            \"properties\": {\n",
    "                \"@timestamp\":{\n",
    "                    \"type\":\"date\"\n",
    "                },\n",
    "                \"cpu_usage\":{\n",
    "                    \"type\":\"float\",\n",
    "                    \"time_series_metric\": \"gauge\"\n",
    "                },\n",
    "                \"cpu_name\":{\n",
    "                    \"type\":\"keyword\",\n",
    "                    \"time_series_dimension\": True\n",
    "                }\n",
    "            }\n",
    "        }\n",
    "    },\n",
    "    priority=200,\n",
    "    meta={\n",
    "        \"description\": \"Template for CPU usage data\"\n",
    "    },\n",
    "    allow_auto_create=True\n",
    ")\n",
    "pprint(response.body)"
   ]
  },
  {
   "cell_type": "code",
   "execution_count": 123,
   "metadata": {},
   "outputs": [
    {
     "name": "stdout",
     "output_type": "stream",
     "text": [
      "{'_shards': {'failed': 0, 'skipped': 0, 'successful': 1, 'total': 1},\n",
      " 'count': 0}\n"
     ]
    }
   ],
   "source": [
    "count = es.count(index=\"cpu_usage_template\")\n",
    "pprint(count.body)"
   ]
  },
  {
   "cell_type": "code",
   "execution_count": 124,
   "metadata": {},
   "outputs": [],
   "source": [
    "response = es.search(\n",
    "    index=\"cpu_example_template\",\n",
    "    body={\n",
    "        \"query\": {\n",
    "            \"match_all\": {}\n",
    "        },\n",
    "        \"size\":1000\n",
    "    }\n",
    ")\n",
    "\n",
    "hits = response.body['hits']['hits']"
   ]
  },
  {
   "cell_type": "code",
   "execution_count": null,
   "metadata": {},
   "outputs": [],
   "source": [
    "import matplotlib.pyplot as plt\n",
    "\n",
    "cpu_usage_values = [hit[\"_source\"][\"cpu_usage\"] for hit in hits]\n",
    "timestamp_values = [hit[\"_source\"][\"@timestamp\"] for hit in hits]\n",
    "\n",
    "plt.figure(figsize=(12,6))\n",
    "plt.plot(timestamp_values, cpu_usage_values)\n",
    "plt.xticks([])\n",
    "plt.xlabel(\"Timestamp\")\n",
    "plt.ylabel(\"CPU Usage (%)\")\n",
    "plt.title(\"CPU Usage Over Time\")\n",
    "plt.grid(True)\n",
    "plt.show()"
   ]
  },
  {
   "cell_type": "code",
   "execution_count": 126,
   "metadata": {},
   "outputs": [
    {
     "name": "stdout",
     "output_type": "stream",
     "text": [
      "'Average CPU usage: 4.650533107353776%'\n"
     ]
    }
   ],
   "source": [
    "response = es.search(\n",
    "    index=\"cpu_example_templates\",\n",
    "    body={\n",
    "        \"aggs\":{\n",
    "            \"avg_cpu_usage\":{\n",
    "                \"avg\": {\n",
    "                    \"field\": \"cpu_usage\"\n",
    "                }\n",
    "            }\n",
    "        }\n",
    "    }\n",
    ")\n",
    "\n",
    "pprint(f\"Average CPU usage: {response.body['aggregations']['avg_cpu_usage']['value']}%\")"
   ]
  },
  {
   "cell_type": "code",
   "execution_count": 127,
   "metadata": {},
   "outputs": [
    {
     "name": "stdout",
     "output_type": "stream",
     "text": [
      "'Max time CPU usage: Nones'\n"
     ]
    }
   ],
   "source": [
    "response = es.search(\n",
    "    index=\"cpu_example_template\",\n",
    "    body={\n",
    "        \"aggs\":{\n",
    "            \"max_cpu_usage\":{\n",
    "                \"max\": {\n",
    "                    \"field\": \"cpu_usage\"\n",
    "                }\n",
    "            }\n",
    "        }\n",
    "    }\n",
    ")\n",
    "\n",
    "pprint(f\"Max time CPU usage: {response.body['aggregations']['max_cpu_usage']['value']}s\")"
   ]
  },
  {
   "cell_type": "code",
   "execution_count": 135,
   "metadata": {},
   "outputs": [
    {
     "name": "stdout",
     "output_type": "stream",
     "text": [
      "{'data_streams': [{'_meta': {'description': 'Template for CPU usage data'},\n",
      "                   'allow_custom_routing': False,\n",
      "                   'generation': 1,\n",
      "                   'hidden': False,\n",
      "                   'ilm_policy': 'cpu_usage_policy_2',\n",
      "                   'indices': [{'ilm_policy': 'cpu_usage_policy_2',\n",
      "                                'index_name': '.ds-cpu_example_template-2024.12.19-000001',\n",
      "                                'index_uuid': '5Hy2wUsdQsKbQKxyTUzXWA',\n",
      "                                'managed_by': 'Index Lifecycle Management',\n",
      "                                'prefer_ilm': True}],\n",
      "                   'name': 'cpu_example_template',\n",
      "                   'next_generation_managed_by': 'Index Lifecycle Management',\n",
      "                   'prefer_ilm': True,\n",
      "                   'replicated': False,\n",
      "                   'rollover_on_write': False,\n",
      "                   'status': 'YELLOW',\n",
      "                   'system': False,\n",
      "                   'template': 'cpu_example_template',\n",
      "                   'time_series': {'temporal_ranges': [{'end': '2024-12-19T14:30:16.000Z',\n",
      "                                                        'start': '2024-12-19T09:11:17.000Z'}]},\n",
      "                   'timestamp_field': {'name': '@timestamp'}}]}\n"
     ]
    }
   ],
   "source": [
    "response = es.indices.get_data_stream()\n",
    "pprint(response.body)"
   ]
  },
  {
   "cell_type": "code",
   "execution_count": 136,
   "metadata": {},
   "outputs": [
    {
     "name": "stdout",
     "output_type": "stream",
     "text": [
      "{'cpu_usage_policy_2': {'in_use_by': {'composable_templates': ['cpu_usage_template',\n",
      "                                                               'cpu_example_template'],\n",
      "                                      'data_streams': ['cpu_example_template'],\n",
      "                                      'indices': ['.ds-cpu_example_template-2024.12.19-000001']},\n",
      "                        'modified_date': '2024-12-19T08:14:10.820Z',\n",
      "                        'policy': {'phases': {'delete': {'actions': {'delete': {'delete_searchable_snapshot': True}},\n",
      "                                                         'min_age': '20m'},\n",
      "                                              'hot': {'actions': {'rollover': {'max_age': '5m'}},\n",
      "                                                      'min_age': '0ms'}}},\n",
      "                        'version': 1}}\n"
     ]
    }
   ],
   "source": [
    "ilm_status = es.ilm.get_lifecycle(name=\"cpu_usage_policy_2\")\n",
    "pprint(ilm_status.body)"
   ]
  },
  {
   "cell_type": "code",
   "execution_count": 137,
   "metadata": {},
   "outputs": [
    {
     "name": "stdout",
     "output_type": "stream",
     "text": [
      "{'indices': {'.ds-cpu_example_template-2024.12.19-000001': {'action': 'rollover',\n",
      "                                                            'action_time_millis': 1734606678257,\n",
      "                                                            'age': '2.75h',\n",
      "                                                            'index': '.ds-cpu_example_template-2024.12.19-000001',\n",
      "                                                            'index_creation_date_millis': 1734606677581,\n",
      "                                                            'lifecycle_date_millis': 1734606677581,\n",
      "                                                            'managed': True,\n",
      "                                                            'phase': 'hot',\n",
      "                                                            'phase_execution': {'modified_date_in_millis': 1734596050820,\n",
      "                                                                                'phase_definition': {'actions': {'rollover': {'max_age': '5m',\n",
      "                                                                                                                              'max_primary_shard_docs': 200000000,\n",
      "                                                                                                                              'min_docs': 1}},\n",
      "                                                                                                     'min_age': '0ms'},\n",
      "                                                                                'policy': 'cpu_usage_policy_2',\n",
      "                                                                                'version': 1},\n",
      "                                                            'phase_time_millis': 1734606678257,\n",
      "                                                            'policy': 'cpu_usage_policy_2',\n",
      "                                                            'step': 'check-rollover-ready',\n",
      "                                                            'step_time_millis': 1734606678257,\n",
      "                                                            'time_since_index_creation': '2.75h'}}}\n"
     ]
    }
   ],
   "source": [
    "response = es.ilm.explain_lifecycle(\n",
    "    index=\".ds-cpu_example_template-2024.12.19-000001\"\n",
    ")\n",
    "pprint(response.body)"
   ]
  },
  {
   "cell_type": "code",
   "execution_count": 138,
   "metadata": {},
   "outputs": [
    {
     "name": "stdout",
     "output_type": "stream",
     "text": [
      "{'tokens': [{'end_offset': 25,\n",
      "             'position': 0,\n",
      "             'start_offset': 0,\n",
      "             'token': \"I'm so happy</>!\\n\",\n",
      "             'type': 'word'}]}\n"
     ]
    }
   ],
   "source": [
    "response = es.indices.analyze(\n",
    "    char_filter=[\n",
    "        \"html_strip\"\n",
    "    ],\n",
    "    text=\"I&apos;m so happy</>!</p>\"\n",
    " )\n",
    "\n",
    "pprint(response.body)"
   ]
  },
  {
   "cell_type": "code",
   "execution_count": 139,
   "metadata": {},
   "outputs": [
    {
     "name": "stdout",
     "output_type": "stream",
     "text": [
      "{'tokens': [{'end_offset': 37,\n",
      "             'position': 0,\n",
      "             'start_offset': 0,\n",
      "             'token': 'I saw comet Tsuchinshan Atlas in 2024',\n",
      "             'type': 'word'}]}\n"
     ]
    }
   ],
   "source": [
    "response = es.indices.analyze(\n",
    "    tokenizer=\"keyword\",\n",
    "    char_filter=[\n",
    "        {\n",
    "            \"type\": \"mapping\",\n",
    "            \"mappings\": [\n",
    "                \"٠ => 0\",\n",
    "                \"١ => 1\",\n",
    "                \"٢ => 2\",\n",
    "                \"٣ => 3\",\n",
    "                \"٤ => 4\",\n",
    "                \"٥ => 5\",\n",
    "                \"٦ => 6\",\n",
    "                \"٧ => 7\",\n",
    "                \"٨ => 8\",\n",
    "                \"٩ => 9\"\n",
    "            ]\n",
    "        }\n",
    "    ],\n",
    "    text=\"I saw comet Tsuchinshan Atlas in ٢٠٢٤\",\n",
    ")\n",
    "pprint(response.body)"
   ]
  },
  {
   "cell_type": "code",
   "execution_count": 142,
   "metadata": {},
   "outputs": [
    {
     "name": "stdout",
     "output_type": "stream",
     "text": [
      "Token: the, Type: word\n",
      "Token: quick, Type: word\n",
      "Token: brown, Type: word\n",
      "Token: foxes, Type: word\n",
      "Token: jumped, Type: word\n",
      "Token: over, Type: word\n",
      "Token: the, Type: word\n",
      "Token: lazy, Type: word\n",
      "Token: dogs, Type: word\n"
     ]
    }
   ],
   "source": [
    "response = es.indices.analyze(\n",
    "    tokenizer=\"lowercase\",\n",
    "    text=\"The 2 QUICK Brown-Foxes jumped over the 3 lazy dog's\",\n",
    ")\n",
    "\n",
    "tokens = response.body[\"tokens\"]\n",
    "for token in tokens:\n",
    "    print(f\"Token: {token['token']}, Type: {token['type']}\")"
   ]
  },
  {
   "cell_type": "code",
   "execution_count": 145,
   "metadata": {},
   "outputs": [
    {
     "name": "stdout",
     "output_type": "stream",
     "text": [
      "Token: The, Type: <ALPHANUM>\n",
      "Token: 2, Type: <NUM>\n",
      "Token: QUICK, Type: <ALPHANUM>\n",
      "Token: Brown, Type: <ALPHANUM>\n",
      "Token: Foxes, Type: <ALPHANUM>\n",
      "Token: jumped, Type: <ALPHANUM>\n",
      "Token: over, Type: <ALPHANUM>\n",
      "Token: the, Type: <ALPHANUM>\n",
      "Token: 3, Type: <NUM>\n",
      "Token: lazy, Type: <ALPHANUM>\n",
      "Token: dog, Type: <ALPHANUM>\n"
     ]
    }
   ],
   "source": [
    "response = es.indices.analyze(\n",
    "    tokenizer=\"standard\",\n",
    "    filter=[\"apostrophe\"],\n",
    "    text=\"The 2 QUICK Brown-Foxes jumped over the 3 lazy dog's\",\n",
    ")\n",
    "\n",
    "tokens = response.body[\"tokens\"]\n",
    "for token in tokens:\n",
    "    print(f\"Token: {token['token']}, Type: {token['type']}\")"
   ]
  },
  {
   "cell_type": "code",
   "execution_count": 146,
   "metadata": {},
   "outputs": [
    {
     "name": "stdout",
     "output_type": "stream",
     "text": [
      "Token: I\n",
      "Token: saw\n",
      "Token: comet\n",
      "Token: Tsuchinshan\n",
      "Token: Atlas\n",
      "Token: in\n",
      "Token: 2024\n"
     ]
    }
   ],
   "source": [
    "response = es.indices.analyze(\n",
    "    tokenizer=\"standard\",\n",
    "    filter=[\n",
    "        \"decimal_digit\"\n",
    "    ],\n",
    "    text=\"I saw comet Tsuchinshan Atlas in ٢٠٢٤\"\n",
    ")\n",
    "\n",
    "tokens = response.body['tokens']\n",
    "\n",
    "for token in tokens:\n",
    "    print(f\"Token: {token['token']}\")"
   ]
  },
  {
   "cell_type": "code",
   "execution_count": 147,
   "metadata": {},
   "outputs": [
    {
     "name": "stdout",
     "output_type": "stream",
     "text": [
      "Token: i\n",
      "Token: saw\n",
      "Token: comet\n",
      "Token: tsuchinshan\n",
      "Token: atlas\n",
      "Token: in\n",
      "Token: ٢٠٢٤\n"
     ]
    }
   ],
   "source": [
    "response = es.indices.analyze(\n",
    "    analyzer=\"standard\",\n",
    "    text=\"I saw comet Tsuchinshan Atlas in ٢٠٢٤\",\n",
    "\n",
    ")\n",
    "\n",
    "tokens = response.body['tokens']\n",
    "for token in tokens:\n",
    "    print(f\"Token: {token['token']}\")"
   ]
  },
  {
   "cell_type": "code",
   "execution_count": 148,
   "metadata": {},
   "outputs": [
    {
     "name": "stdout",
     "output_type": "stream",
     "text": [
      "Token: i\n",
      "Token: saw\n",
      "Token: comet\n",
      "Token: tsuchinshan\n",
      "Token: atlas\n"
     ]
    }
   ],
   "source": [
    "response = es.indices.analyze(\n",
    "    analyzer=\"stop\",\n",
    "    text=\"I saw comet Tsuchinshan Atlas in ٢٠٢٤\",\n",
    "\n",
    ")\n",
    "\n",
    "tokens = response.body['tokens']\n",
    "for token in tokens:\n",
    "    print(f\"Token: {token['token']}\")"
   ]
  },
  {
   "cell_type": "code",
   "execution_count": 149,
   "metadata": {},
   "outputs": [
    {
     "name": "stdout",
     "output_type": "stream",
     "text": [
      "Token : I saw comet Tsuchinshan Atlas in ٢٠٢٤\n"
     ]
    }
   ],
   "source": [
    "response = es.indices.analyze(\n",
    "    analyzer=\"keyword\",\n",
    "    text=\"I saw comet Tsuchinshan Atlas in ٢٠٢٤\"\n",
    ")\n",
    "\n",
    "tokens = response.body['tokens']\n",
    "for token in tokens:\n",
    "    print(f\"Token : {token['token']}\")"
   ]
  },
  {
   "cell_type": "code",
   "execution_count": 151,
   "metadata": {},
   "outputs": [
    {
     "name": "stdout",
     "output_type": "stream",
     "text": [
      "{'_id': '1',\n",
      " '_index': 'index_time_example',\n",
      " '_primary_term': 1,\n",
      " '_seq_no': 0,\n",
      " '_shards': {'failed': 0, 'successful': 1, 'total': 2},\n",
      " '_version': 1,\n",
      " 'result': 'created'}\n"
     ]
    }
   ],
   "source": [
    "index_name = \"index_time_example\"\n",
    "settings = {\n",
    "    \"settings\":{\n",
    "        \"analysis\":{\n",
    "            \"char_filter\":{\n",
    "                \"ampersand_replacement\":{\n",
    "                    \"type\":\"mapping\",\n",
    "                    \"mappings\":[\"& => and\"]\n",
    "                }\n",
    "            },\n",
    "            \"analyzer\":{\n",
    "                \"custom_index_analyzer\":{\n",
    "                    \"type\":\"custom\",\n",
    "                    \"char_filter\":[\"html_strip\",\"ampersand_replacement\"],\n",
    "                    \"tokenizer\":\"standard\",\n",
    "                    \"filter\":[\"lowercase\"]\n",
    "                }\n",
    "            }\n",
    "        }\n",
    "    },\n",
    "    \"mappings\":{\n",
    "        \"properties\":{\n",
    "            \"content\":{\n",
    "                \"type\":\"text\",\n",
    "                \"analyzer\":\"custom_index_analyzer\"\n",
    "            }\n",
    "        }\n",
    "    }\n",
    "}\n",
    "\n",
    "es.indices.delete(index=index_name,ignore_unavailable=True)\n",
    "es.indices.create(index=index_name,body=settings)\n",
    "\n",
    "document = {\n",
    "    \"content\": \"Visit my website https://myuniversehub.com/ & like some images!\"\n",
    "}\n",
    "\n",
    "response = es.index(index=index_name, id=1, document=document)\n",
    "pprint(response.body)"
   ]
  },
  {
   "cell_type": "code",
   "execution_count": 152,
   "metadata": {},
   "outputs": [
    {
     "name": "stdout",
     "output_type": "stream",
     "text": [
      "{'content': 'Visit my website https://myuniversehub.com/ & like some images!'}\n"
     ]
    }
   ],
   "source": [
    "response = es.search(index=index_name, body={\"query\": {\"match_all\": {}}})\n",
    "hits = response.body['hits']['hits']\n",
    "\n",
    "for hit in hits:\n",
    "    print(hit['_source'])"
   ]
  },
  {
   "cell_type": "code",
   "execution_count": null,
   "metadata": {},
   "outputs": [],
   "source": []
  }
 ],
 "metadata": {
  "kernelspec": {
   "display_name": "venv",
   "language": "python",
   "name": "python3"
  },
  "language_info": {
   "codemirror_mode": {
    "name": "ipython",
    "version": 3
   },
   "file_extension": ".py",
   "mimetype": "text/x-python",
   "name": "python",
   "nbconvert_exporter": "python",
   "pygments_lexer": "ipython3",
   "version": "3.11.11"
  }
 },
 "nbformat": 4,
 "nbformat_minor": 2
}
